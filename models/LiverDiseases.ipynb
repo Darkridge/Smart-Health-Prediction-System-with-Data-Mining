{
 "cells": [
  {
   "cell_type": "markdown",
   "metadata": {},
   "source": [
    "# Reading the Data"
   ]
  },
  {
   "cell_type": "markdown",
   "metadata": {},
   "source": [
    "The dataset for this problem is the ILPD (Indian Liver Patient Dataset) taken from the UCI Machine Learning Repository (URL https://archive.ics.uci.edu/ml/datasets/ILPD+(Indian+Liver+Patient+Dataset) ). The Number of instances that are in this dataset are in total of 583. It is a multivariate data set, containing 10 variables that are age, gender, total Bilirubin, Direct Bilirubin, Total Proteins, Albumin, A/G ratio, SGPT, SGOT and Alkphos. All values are real integers. This data set contains 416 liver patient records and 167 non liver patient records. The data set was collected from north east of Andhra Pradesh, India. Selector is a class label used to divide into groups(liver patient or not). This data set contains 441 male patient records and 142 female patient records. Any patient whose age exceeded 89 is listed as being of age \"90\"."
   ]
  },
  {
   "cell_type": "code",
   "execution_count": 1,
   "metadata": {},
   "outputs": [],
   "source": [
    "import pandas as pd #dataframes\n",
    "import numpy as np #numeral computing\n",
    "import seaborn as sns #visualization\n",
    "from matplotlib import pyplot as plt #visualization (scatter plots)\n",
    "from sklearn.model_selection import train_test_split #splitting train and test datasets\n",
    "from sklearn.metrics import roc_curve, auc, roc_auc_score, confusion_matrix #Display AUC-ROC graph and score"
   ]
  },
  {
   "cell_type": "code",
   "execution_count": 2,
   "metadata": {
    "scrolled": true
   },
   "outputs": [],
   "source": [
    "data = pd.read_csv(r\"F:\\A.P.U\\Final Year Project\\indian_liver_patient.csv\")"
   ]
  },
  {
   "cell_type": "code",
   "execution_count": 3,
   "metadata": {},
   "outputs": [
    {
     "data": {
      "text/html": [
       "<div>\n",
       "<style scoped>\n",
       "    .dataframe tbody tr th:only-of-type {\n",
       "        vertical-align: middle;\n",
       "    }\n",
       "\n",
       "    .dataframe tbody tr th {\n",
       "        vertical-align: top;\n",
       "    }\n",
       "\n",
       "    .dataframe thead th {\n",
       "        text-align: right;\n",
       "    }\n",
       "</style>\n",
       "<table border=\"1\" class=\"dataframe\">\n",
       "  <thead>\n",
       "    <tr style=\"text-align: right;\">\n",
       "      <th></th>\n",
       "      <th>Age</th>\n",
       "      <th>Gender</th>\n",
       "      <th>Total_Bilirubin</th>\n",
       "      <th>Direct_Bilirubin</th>\n",
       "      <th>Alkaline_Phosphotase</th>\n",
       "      <th>Alamine_Aminotransferase</th>\n",
       "      <th>Aspartate_Aminotransferase</th>\n",
       "      <th>Total_Protiens</th>\n",
       "      <th>Albumin</th>\n",
       "      <th>Albumin_and_Globulin_Ratio</th>\n",
       "      <th>Dataset</th>\n",
       "    </tr>\n",
       "  </thead>\n",
       "  <tbody>\n",
       "    <tr>\n",
       "      <th>0</th>\n",
       "      <td>65</td>\n",
       "      <td>Female</td>\n",
       "      <td>0.7</td>\n",
       "      <td>0.1</td>\n",
       "      <td>187</td>\n",
       "      <td>16</td>\n",
       "      <td>18</td>\n",
       "      <td>6.8</td>\n",
       "      <td>3.3</td>\n",
       "      <td>0.90</td>\n",
       "      <td>1</td>\n",
       "    </tr>\n",
       "    <tr>\n",
       "      <th>1</th>\n",
       "      <td>62</td>\n",
       "      <td>Male</td>\n",
       "      <td>10.9</td>\n",
       "      <td>5.5</td>\n",
       "      <td>699</td>\n",
       "      <td>64</td>\n",
       "      <td>100</td>\n",
       "      <td>7.5</td>\n",
       "      <td>3.2</td>\n",
       "      <td>0.74</td>\n",
       "      <td>1</td>\n",
       "    </tr>\n",
       "    <tr>\n",
       "      <th>2</th>\n",
       "      <td>62</td>\n",
       "      <td>Male</td>\n",
       "      <td>7.3</td>\n",
       "      <td>4.1</td>\n",
       "      <td>490</td>\n",
       "      <td>60</td>\n",
       "      <td>68</td>\n",
       "      <td>7.0</td>\n",
       "      <td>3.3</td>\n",
       "      <td>0.89</td>\n",
       "      <td>1</td>\n",
       "    </tr>\n",
       "    <tr>\n",
       "      <th>3</th>\n",
       "      <td>58</td>\n",
       "      <td>Male</td>\n",
       "      <td>1.0</td>\n",
       "      <td>0.4</td>\n",
       "      <td>182</td>\n",
       "      <td>14</td>\n",
       "      <td>20</td>\n",
       "      <td>6.8</td>\n",
       "      <td>3.4</td>\n",
       "      <td>1.00</td>\n",
       "      <td>1</td>\n",
       "    </tr>\n",
       "    <tr>\n",
       "      <th>4</th>\n",
       "      <td>72</td>\n",
       "      <td>Male</td>\n",
       "      <td>3.9</td>\n",
       "      <td>2.0</td>\n",
       "      <td>195</td>\n",
       "      <td>27</td>\n",
       "      <td>59</td>\n",
       "      <td>7.3</td>\n",
       "      <td>2.4</td>\n",
       "      <td>0.40</td>\n",
       "      <td>1</td>\n",
       "    </tr>\n",
       "  </tbody>\n",
       "</table>\n",
       "</div>"
      ],
      "text/plain": [
       "   Age  Gender  Total_Bilirubin  Direct_Bilirubin  Alkaline_Phosphotase  \\\n",
       "0   65  Female              0.7               0.1                   187   \n",
       "1   62    Male             10.9               5.5                   699   \n",
       "2   62    Male              7.3               4.1                   490   \n",
       "3   58    Male              1.0               0.4                   182   \n",
       "4   72    Male              3.9               2.0                   195   \n",
       "\n",
       "   Alamine_Aminotransferase  Aspartate_Aminotransferase  Total_Protiens  \\\n",
       "0                        16                          18             6.8   \n",
       "1                        64                         100             7.5   \n",
       "2                        60                          68             7.0   \n",
       "3                        14                          20             6.8   \n",
       "4                        27                          59             7.3   \n",
       "\n",
       "   Albumin  Albumin_and_Globulin_Ratio  Dataset  \n",
       "0      3.3                        0.90        1  \n",
       "1      3.2                        0.74        1  \n",
       "2      3.3                        0.89        1  \n",
       "3      3.4                        1.00        1  \n",
       "4      2.4                        0.40        1  "
      ]
     },
     "execution_count": 3,
     "metadata": {},
     "output_type": "execute_result"
    }
   ],
   "source": [
    "data.head()"
   ]
  },
  {
   "cell_type": "code",
   "execution_count": 4,
   "metadata": {},
   "outputs": [
    {
     "data": {
      "text/html": [
       "<div>\n",
       "<style scoped>\n",
       "    .dataframe tbody tr th:only-of-type {\n",
       "        vertical-align: middle;\n",
       "    }\n",
       "\n",
       "    .dataframe tbody tr th {\n",
       "        vertical-align: top;\n",
       "    }\n",
       "\n",
       "    .dataframe thead th {\n",
       "        text-align: right;\n",
       "    }\n",
       "</style>\n",
       "<table border=\"1\" class=\"dataframe\">\n",
       "  <thead>\n",
       "    <tr style=\"text-align: right;\">\n",
       "      <th></th>\n",
       "      <th>Age</th>\n",
       "      <th>Gender</th>\n",
       "      <th>Total_Bilirubin</th>\n",
       "      <th>Direct_Bilirubin</th>\n",
       "      <th>Alkaline_Phosphotase</th>\n",
       "      <th>Alamine_Aminotransferase</th>\n",
       "      <th>Aspartate_Aminotransferase</th>\n",
       "      <th>Total_Protiens</th>\n",
       "      <th>Albumin</th>\n",
       "      <th>Albumin_and_Globulin_Ratio</th>\n",
       "      <th>Dataset</th>\n",
       "    </tr>\n",
       "  </thead>\n",
       "  <tbody>\n",
       "    <tr>\n",
       "      <th>71</th>\n",
       "      <td>75</td>\n",
       "      <td>Female</td>\n",
       "      <td>0.8</td>\n",
       "      <td>0.2</td>\n",
       "      <td>188</td>\n",
       "      <td>20</td>\n",
       "      <td>29</td>\n",
       "      <td>4.4</td>\n",
       "      <td>1.8</td>\n",
       "      <td>0.60</td>\n",
       "      <td>1</td>\n",
       "    </tr>\n",
       "    <tr>\n",
       "      <th>487</th>\n",
       "      <td>32</td>\n",
       "      <td>Male</td>\n",
       "      <td>0.7</td>\n",
       "      <td>0.2</td>\n",
       "      <td>276</td>\n",
       "      <td>102</td>\n",
       "      <td>190</td>\n",
       "      <td>6.0</td>\n",
       "      <td>2.9</td>\n",
       "      <td>0.93</td>\n",
       "      <td>1</td>\n",
       "    </tr>\n",
       "    <tr>\n",
       "      <th>360</th>\n",
       "      <td>24</td>\n",
       "      <td>Male</td>\n",
       "      <td>0.7</td>\n",
       "      <td>0.2</td>\n",
       "      <td>218</td>\n",
       "      <td>47</td>\n",
       "      <td>26</td>\n",
       "      <td>6.6</td>\n",
       "      <td>3.3</td>\n",
       "      <td>1.00</td>\n",
       "      <td>1</td>\n",
       "    </tr>\n",
       "    <tr>\n",
       "      <th>93</th>\n",
       "      <td>60</td>\n",
       "      <td>Male</td>\n",
       "      <td>5.8</td>\n",
       "      <td>2.7</td>\n",
       "      <td>204</td>\n",
       "      <td>220</td>\n",
       "      <td>400</td>\n",
       "      <td>7.0</td>\n",
       "      <td>3.0</td>\n",
       "      <td>0.70</td>\n",
       "      <td>1</td>\n",
       "    </tr>\n",
       "    <tr>\n",
       "      <th>393</th>\n",
       "      <td>41</td>\n",
       "      <td>Male</td>\n",
       "      <td>2.7</td>\n",
       "      <td>1.3</td>\n",
       "      <td>580</td>\n",
       "      <td>142</td>\n",
       "      <td>68</td>\n",
       "      <td>8.0</td>\n",
       "      <td>4.0</td>\n",
       "      <td>1.00</td>\n",
       "      <td>1</td>\n",
       "    </tr>\n",
       "  </tbody>\n",
       "</table>\n",
       "</div>"
      ],
      "text/plain": [
       "     Age  Gender  Total_Bilirubin  Direct_Bilirubin  Alkaline_Phosphotase  \\\n",
       "71    75  Female              0.8               0.2                   188   \n",
       "487   32    Male              0.7               0.2                   276   \n",
       "360   24    Male              0.7               0.2                   218   \n",
       "93    60    Male              5.8               2.7                   204   \n",
       "393   41    Male              2.7               1.3                   580   \n",
       "\n",
       "     Alamine_Aminotransferase  Aspartate_Aminotransferase  Total_Protiens  \\\n",
       "71                         20                          29             4.4   \n",
       "487                       102                         190             6.0   \n",
       "360                        47                          26             6.6   \n",
       "93                        220                         400             7.0   \n",
       "393                       142                          68             8.0   \n",
       "\n",
       "     Albumin  Albumin_and_Globulin_Ratio  Dataset  \n",
       "71       1.8                        0.60        1  \n",
       "487      2.9                        0.93        1  \n",
       "360      3.3                        1.00        1  \n",
       "93       3.0                        0.70        1  \n",
       "393      4.0                        1.00        1  "
      ]
     },
     "execution_count": 4,
     "metadata": {},
     "output_type": "execute_result"
    }
   ],
   "source": [
    "data.sample(5)"
   ]
  },
  {
   "cell_type": "code",
   "execution_count": 5,
   "metadata": {},
   "outputs": [
    {
     "name": "stdout",
     "output_type": "stream",
     "text": [
      "<class 'pandas.core.frame.DataFrame'>\n",
      "RangeIndex: 583 entries, 0 to 582\n",
      "Data columns (total 11 columns):\n",
      " #   Column                      Non-Null Count  Dtype  \n",
      "---  ------                      --------------  -----  \n",
      " 0   Age                         583 non-null    int64  \n",
      " 1   Gender                      583 non-null    object \n",
      " 2   Total_Bilirubin             583 non-null    float64\n",
      " 3   Direct_Bilirubin            583 non-null    float64\n",
      " 4   Alkaline_Phosphotase        583 non-null    int64  \n",
      " 5   Alamine_Aminotransferase    583 non-null    int64  \n",
      " 6   Aspartate_Aminotransferase  583 non-null    int64  \n",
      " 7   Total_Protiens              583 non-null    float64\n",
      " 8   Albumin                     583 non-null    float64\n",
      " 9   Albumin_and_Globulin_Ratio  583 non-null    float64\n",
      " 10  Dataset                     583 non-null    int64  \n",
      "dtypes: float64(5), int64(5), object(1)\n",
      "memory usage: 50.2+ KB\n"
     ]
    }
   ],
   "source": [
    "data.info()"
   ]
  },
  {
   "cell_type": "code",
   "execution_count": 6,
   "metadata": {},
   "outputs": [
    {
     "name": "stdout",
     "output_type": "stream",
     "text": [
      "Age:\t\tAge of the patient\n",
      "Gender:\t\tGender of the patient\n",
      "Total_Bilirubin:\t\tTotal Bilirubin\n",
      "Direct_Bilirubin:\t\tDirect Bilirubin\n",
      "Alkaline_Phosphotase:\t\tAlkaline Phosphotase\n",
      "Alamine_Aminotransferase:\t\tAlamine Aminotransferase\n",
      "Aspartate_Aminotransferase:\t\tAspartate Aminotransferase\n",
      "Total_Protiens:\t\tTotal Protiens\n",
      "Albumin:\t\tAlbumin\n",
      "Albumin_and_Globulin_Ratio:\t\tAlbumin and Globulin Ratio\n",
      "Dataset:\t\tpatient with liver disease, or no disease\n"
     ]
    }
   ],
   "source": [
    "info = [\"Age of the patient\",\"Gender of the patient\",\"Total Bilirubin\",\"Direct Bilirubin\",\"Alkaline Phosphotase\",\"Alamine Aminotransferase\",\"Aspartate Aminotransferase\",\"Total Protiens\",\"Albumin\",\"Albumin and Globulin Ratio\",\"patient with liver disease, or no disease\"]\n",
    "\n",
    "\n",
    "for i in range(len(info)):\n",
    "    print(data.columns[i]+\":\\t\\t\"+info[i])"
   ]
  },
  {
   "cell_type": "markdown",
   "metadata": {},
   "source": [
    "# Removing Duplicates from the Dataset"
   ]
  },
  {
   "cell_type": "code",
   "execution_count": 7,
   "metadata": {},
   "outputs": [
    {
     "data": {
      "text/plain": [
       "(583, 11)"
      ]
     },
     "execution_count": 7,
     "metadata": {},
     "output_type": "execute_result"
    }
   ],
   "source": [
    "data.shape # rows, columns of original dataset"
   ]
  },
  {
   "cell_type": "code",
   "execution_count": 8,
   "metadata": {},
   "outputs": [
    {
     "data": {
      "text/html": [
       "<div>\n",
       "<style scoped>\n",
       "    .dataframe tbody tr th:only-of-type {\n",
       "        vertical-align: middle;\n",
       "    }\n",
       "\n",
       "    .dataframe tbody tr th {\n",
       "        vertical-align: top;\n",
       "    }\n",
       "\n",
       "    .dataframe thead th {\n",
       "        text-align: right;\n",
       "    }\n",
       "</style>\n",
       "<table border=\"1\" class=\"dataframe\">\n",
       "  <thead>\n",
       "    <tr style=\"text-align: right;\">\n",
       "      <th></th>\n",
       "      <th>Age</th>\n",
       "      <th>Gender</th>\n",
       "      <th>Total_Bilirubin</th>\n",
       "      <th>Direct_Bilirubin</th>\n",
       "      <th>Alkaline_Phosphotase</th>\n",
       "      <th>Alamine_Aminotransferase</th>\n",
       "      <th>Aspartate_Aminotransferase</th>\n",
       "      <th>Total_Protiens</th>\n",
       "      <th>Albumin</th>\n",
       "      <th>Albumin_and_Globulin_Ratio</th>\n",
       "      <th>Dataset</th>\n",
       "    </tr>\n",
       "  </thead>\n",
       "  <tbody>\n",
       "    <tr>\n",
       "      <th>18</th>\n",
       "      <td>40</td>\n",
       "      <td>Female</td>\n",
       "      <td>0.9</td>\n",
       "      <td>0.3</td>\n",
       "      <td>293</td>\n",
       "      <td>232</td>\n",
       "      <td>245</td>\n",
       "      <td>6.8</td>\n",
       "      <td>3.1</td>\n",
       "      <td>0.80</td>\n",
       "      <td>1</td>\n",
       "    </tr>\n",
       "    <tr>\n",
       "      <th>19</th>\n",
       "      <td>40</td>\n",
       "      <td>Female</td>\n",
       "      <td>0.9</td>\n",
       "      <td>0.3</td>\n",
       "      <td>293</td>\n",
       "      <td>232</td>\n",
       "      <td>245</td>\n",
       "      <td>6.8</td>\n",
       "      <td>3.1</td>\n",
       "      <td>0.80</td>\n",
       "      <td>1</td>\n",
       "    </tr>\n",
       "    <tr>\n",
       "      <th>25</th>\n",
       "      <td>34</td>\n",
       "      <td>Male</td>\n",
       "      <td>4.1</td>\n",
       "      <td>2.0</td>\n",
       "      <td>289</td>\n",
       "      <td>875</td>\n",
       "      <td>731</td>\n",
       "      <td>5.0</td>\n",
       "      <td>2.7</td>\n",
       "      <td>1.10</td>\n",
       "      <td>1</td>\n",
       "    </tr>\n",
       "    <tr>\n",
       "      <th>26</th>\n",
       "      <td>34</td>\n",
       "      <td>Male</td>\n",
       "      <td>4.1</td>\n",
       "      <td>2.0</td>\n",
       "      <td>289</td>\n",
       "      <td>875</td>\n",
       "      <td>731</td>\n",
       "      <td>5.0</td>\n",
       "      <td>2.7</td>\n",
       "      <td>1.10</td>\n",
       "      <td>1</td>\n",
       "    </tr>\n",
       "    <tr>\n",
       "      <th>33</th>\n",
       "      <td>38</td>\n",
       "      <td>Female</td>\n",
       "      <td>2.6</td>\n",
       "      <td>1.2</td>\n",
       "      <td>410</td>\n",
       "      <td>59</td>\n",
       "      <td>57</td>\n",
       "      <td>5.6</td>\n",
       "      <td>3.0</td>\n",
       "      <td>0.80</td>\n",
       "      <td>2</td>\n",
       "    </tr>\n",
       "    <tr>\n",
       "      <th>34</th>\n",
       "      <td>38</td>\n",
       "      <td>Female</td>\n",
       "      <td>2.6</td>\n",
       "      <td>1.2</td>\n",
       "      <td>410</td>\n",
       "      <td>59</td>\n",
       "      <td>57</td>\n",
       "      <td>5.6</td>\n",
       "      <td>3.0</td>\n",
       "      <td>0.80</td>\n",
       "      <td>2</td>\n",
       "    </tr>\n",
       "    <tr>\n",
       "      <th>54</th>\n",
       "      <td>42</td>\n",
       "      <td>Male</td>\n",
       "      <td>8.9</td>\n",
       "      <td>4.5</td>\n",
       "      <td>272</td>\n",
       "      <td>31</td>\n",
       "      <td>61</td>\n",
       "      <td>5.8</td>\n",
       "      <td>2.0</td>\n",
       "      <td>0.50</td>\n",
       "      <td>1</td>\n",
       "    </tr>\n",
       "    <tr>\n",
       "      <th>55</th>\n",
       "      <td>42</td>\n",
       "      <td>Male</td>\n",
       "      <td>8.9</td>\n",
       "      <td>4.5</td>\n",
       "      <td>272</td>\n",
       "      <td>31</td>\n",
       "      <td>61</td>\n",
       "      <td>5.8</td>\n",
       "      <td>2.0</td>\n",
       "      <td>0.50</td>\n",
       "      <td>1</td>\n",
       "    </tr>\n",
       "    <tr>\n",
       "      <th>61</th>\n",
       "      <td>58</td>\n",
       "      <td>Male</td>\n",
       "      <td>1.0</td>\n",
       "      <td>0.5</td>\n",
       "      <td>158</td>\n",
       "      <td>37</td>\n",
       "      <td>43</td>\n",
       "      <td>7.2</td>\n",
       "      <td>3.6</td>\n",
       "      <td>1.00</td>\n",
       "      <td>1</td>\n",
       "    </tr>\n",
       "    <tr>\n",
       "      <th>62</th>\n",
       "      <td>58</td>\n",
       "      <td>Male</td>\n",
       "      <td>1.0</td>\n",
       "      <td>0.5</td>\n",
       "      <td>158</td>\n",
       "      <td>37</td>\n",
       "      <td>43</td>\n",
       "      <td>7.2</td>\n",
       "      <td>3.6</td>\n",
       "      <td>1.00</td>\n",
       "      <td>1</td>\n",
       "    </tr>\n",
       "    <tr>\n",
       "      <th>105</th>\n",
       "      <td>36</td>\n",
       "      <td>Male</td>\n",
       "      <td>5.3</td>\n",
       "      <td>2.3</td>\n",
       "      <td>145</td>\n",
       "      <td>32</td>\n",
       "      <td>92</td>\n",
       "      <td>5.1</td>\n",
       "      <td>2.6</td>\n",
       "      <td>1.00</td>\n",
       "      <td>2</td>\n",
       "    </tr>\n",
       "    <tr>\n",
       "      <th>106</th>\n",
       "      <td>36</td>\n",
       "      <td>Male</td>\n",
       "      <td>5.3</td>\n",
       "      <td>2.3</td>\n",
       "      <td>145</td>\n",
       "      <td>32</td>\n",
       "      <td>92</td>\n",
       "      <td>5.1</td>\n",
       "      <td>2.6</td>\n",
       "      <td>1.00</td>\n",
       "      <td>2</td>\n",
       "    </tr>\n",
       "    <tr>\n",
       "      <th>107</th>\n",
       "      <td>36</td>\n",
       "      <td>Male</td>\n",
       "      <td>0.8</td>\n",
       "      <td>0.2</td>\n",
       "      <td>158</td>\n",
       "      <td>29</td>\n",
       "      <td>39</td>\n",
       "      <td>6.0</td>\n",
       "      <td>2.2</td>\n",
       "      <td>0.50</td>\n",
       "      <td>2</td>\n",
       "    </tr>\n",
       "    <tr>\n",
       "      <th>108</th>\n",
       "      <td>36</td>\n",
       "      <td>Male</td>\n",
       "      <td>0.8</td>\n",
       "      <td>0.2</td>\n",
       "      <td>158</td>\n",
       "      <td>29</td>\n",
       "      <td>39</td>\n",
       "      <td>6.0</td>\n",
       "      <td>2.2</td>\n",
       "      <td>0.50</td>\n",
       "      <td>2</td>\n",
       "    </tr>\n",
       "    <tr>\n",
       "      <th>137</th>\n",
       "      <td>18</td>\n",
       "      <td>Male</td>\n",
       "      <td>0.8</td>\n",
       "      <td>0.2</td>\n",
       "      <td>282</td>\n",
       "      <td>72</td>\n",
       "      <td>140</td>\n",
       "      <td>5.5</td>\n",
       "      <td>2.5</td>\n",
       "      <td>0.80</td>\n",
       "      <td>1</td>\n",
       "    </tr>\n",
       "    <tr>\n",
       "      <th>138</th>\n",
       "      <td>18</td>\n",
       "      <td>Male</td>\n",
       "      <td>0.8</td>\n",
       "      <td>0.2</td>\n",
       "      <td>282</td>\n",
       "      <td>72</td>\n",
       "      <td>140</td>\n",
       "      <td>5.5</td>\n",
       "      <td>2.5</td>\n",
       "      <td>0.80</td>\n",
       "      <td>1</td>\n",
       "    </tr>\n",
       "    <tr>\n",
       "      <th>142</th>\n",
       "      <td>30</td>\n",
       "      <td>Male</td>\n",
       "      <td>1.6</td>\n",
       "      <td>0.4</td>\n",
       "      <td>332</td>\n",
       "      <td>84</td>\n",
       "      <td>139</td>\n",
       "      <td>5.6</td>\n",
       "      <td>2.7</td>\n",
       "      <td>0.90</td>\n",
       "      <td>1</td>\n",
       "    </tr>\n",
       "    <tr>\n",
       "      <th>143</th>\n",
       "      <td>30</td>\n",
       "      <td>Male</td>\n",
       "      <td>1.6</td>\n",
       "      <td>0.4</td>\n",
       "      <td>332</td>\n",
       "      <td>84</td>\n",
       "      <td>139</td>\n",
       "      <td>5.6</td>\n",
       "      <td>2.7</td>\n",
       "      <td>0.90</td>\n",
       "      <td>1</td>\n",
       "    </tr>\n",
       "    <tr>\n",
       "      <th>157</th>\n",
       "      <td>72</td>\n",
       "      <td>Male</td>\n",
       "      <td>0.7</td>\n",
       "      <td>0.1</td>\n",
       "      <td>196</td>\n",
       "      <td>20</td>\n",
       "      <td>35</td>\n",
       "      <td>5.8</td>\n",
       "      <td>2.0</td>\n",
       "      <td>0.50</td>\n",
       "      <td>1</td>\n",
       "    </tr>\n",
       "    <tr>\n",
       "      <th>158</th>\n",
       "      <td>72</td>\n",
       "      <td>Male</td>\n",
       "      <td>0.7</td>\n",
       "      <td>0.1</td>\n",
       "      <td>196</td>\n",
       "      <td>20</td>\n",
       "      <td>35</td>\n",
       "      <td>5.8</td>\n",
       "      <td>2.0</td>\n",
       "      <td>0.50</td>\n",
       "      <td>1</td>\n",
       "    </tr>\n",
       "    <tr>\n",
       "      <th>163</th>\n",
       "      <td>39</td>\n",
       "      <td>Male</td>\n",
       "      <td>1.9</td>\n",
       "      <td>0.9</td>\n",
       "      <td>180</td>\n",
       "      <td>42</td>\n",
       "      <td>62</td>\n",
       "      <td>7.4</td>\n",
       "      <td>4.3</td>\n",
       "      <td>1.38</td>\n",
       "      <td>1</td>\n",
       "    </tr>\n",
       "    <tr>\n",
       "      <th>164</th>\n",
       "      <td>39</td>\n",
       "      <td>Male</td>\n",
       "      <td>1.9</td>\n",
       "      <td>0.9</td>\n",
       "      <td>180</td>\n",
       "      <td>42</td>\n",
       "      <td>62</td>\n",
       "      <td>7.4</td>\n",
       "      <td>4.3</td>\n",
       "      <td>1.38</td>\n",
       "      <td>1</td>\n",
       "    </tr>\n",
       "    <tr>\n",
       "      <th>173</th>\n",
       "      <td>31</td>\n",
       "      <td>Male</td>\n",
       "      <td>0.6</td>\n",
       "      <td>0.1</td>\n",
       "      <td>175</td>\n",
       "      <td>48</td>\n",
       "      <td>34</td>\n",
       "      <td>6.0</td>\n",
       "      <td>3.7</td>\n",
       "      <td>1.60</td>\n",
       "      <td>1</td>\n",
       "    </tr>\n",
       "    <tr>\n",
       "      <th>174</th>\n",
       "      <td>31</td>\n",
       "      <td>Male</td>\n",
       "      <td>0.6</td>\n",
       "      <td>0.1</td>\n",
       "      <td>175</td>\n",
       "      <td>48</td>\n",
       "      <td>34</td>\n",
       "      <td>6.0</td>\n",
       "      <td>3.7</td>\n",
       "      <td>1.60</td>\n",
       "      <td>1</td>\n",
       "    </tr>\n",
       "    <tr>\n",
       "      <th>200</th>\n",
       "      <td>49</td>\n",
       "      <td>Male</td>\n",
       "      <td>0.6</td>\n",
       "      <td>0.1</td>\n",
       "      <td>218</td>\n",
       "      <td>50</td>\n",
       "      <td>53</td>\n",
       "      <td>5.0</td>\n",
       "      <td>2.4</td>\n",
       "      <td>0.90</td>\n",
       "      <td>1</td>\n",
       "    </tr>\n",
       "    <tr>\n",
       "      <th>201</th>\n",
       "      <td>49</td>\n",
       "      <td>Male</td>\n",
       "      <td>0.6</td>\n",
       "      <td>0.1</td>\n",
       "      <td>218</td>\n",
       "      <td>50</td>\n",
       "      <td>53</td>\n",
       "      <td>5.0</td>\n",
       "      <td>2.4</td>\n",
       "      <td>0.90</td>\n",
       "      <td>1</td>\n",
       "    </tr>\n",
       "  </tbody>\n",
       "</table>\n",
       "</div>"
      ],
      "text/plain": [
       "     Age  Gender  Total_Bilirubin  Direct_Bilirubin  Alkaline_Phosphotase  \\\n",
       "18    40  Female              0.9               0.3                   293   \n",
       "19    40  Female              0.9               0.3                   293   \n",
       "25    34    Male              4.1               2.0                   289   \n",
       "26    34    Male              4.1               2.0                   289   \n",
       "33    38  Female              2.6               1.2                   410   \n",
       "34    38  Female              2.6               1.2                   410   \n",
       "54    42    Male              8.9               4.5                   272   \n",
       "55    42    Male              8.9               4.5                   272   \n",
       "61    58    Male              1.0               0.5                   158   \n",
       "62    58    Male              1.0               0.5                   158   \n",
       "105   36    Male              5.3               2.3                   145   \n",
       "106   36    Male              5.3               2.3                   145   \n",
       "107   36    Male              0.8               0.2                   158   \n",
       "108   36    Male              0.8               0.2                   158   \n",
       "137   18    Male              0.8               0.2                   282   \n",
       "138   18    Male              0.8               0.2                   282   \n",
       "142   30    Male              1.6               0.4                   332   \n",
       "143   30    Male              1.6               0.4                   332   \n",
       "157   72    Male              0.7               0.1                   196   \n",
       "158   72    Male              0.7               0.1                   196   \n",
       "163   39    Male              1.9               0.9                   180   \n",
       "164   39    Male              1.9               0.9                   180   \n",
       "173   31    Male              0.6               0.1                   175   \n",
       "174   31    Male              0.6               0.1                   175   \n",
       "200   49    Male              0.6               0.1                   218   \n",
       "201   49    Male              0.6               0.1                   218   \n",
       "\n",
       "     Alamine_Aminotransferase  Aspartate_Aminotransferase  Total_Protiens  \\\n",
       "18                        232                         245             6.8   \n",
       "19                        232                         245             6.8   \n",
       "25                        875                         731             5.0   \n",
       "26                        875                         731             5.0   \n",
       "33                         59                          57             5.6   \n",
       "34                         59                          57             5.6   \n",
       "54                         31                          61             5.8   \n",
       "55                         31                          61             5.8   \n",
       "61                         37                          43             7.2   \n",
       "62                         37                          43             7.2   \n",
       "105                        32                          92             5.1   \n",
       "106                        32                          92             5.1   \n",
       "107                        29                          39             6.0   \n",
       "108                        29                          39             6.0   \n",
       "137                        72                         140             5.5   \n",
       "138                        72                         140             5.5   \n",
       "142                        84                         139             5.6   \n",
       "143                        84                         139             5.6   \n",
       "157                        20                          35             5.8   \n",
       "158                        20                          35             5.8   \n",
       "163                        42                          62             7.4   \n",
       "164                        42                          62             7.4   \n",
       "173                        48                          34             6.0   \n",
       "174                        48                          34             6.0   \n",
       "200                        50                          53             5.0   \n",
       "201                        50                          53             5.0   \n",
       "\n",
       "     Albumin  Albumin_and_Globulin_Ratio  Dataset  \n",
       "18       3.1                        0.80        1  \n",
       "19       3.1                        0.80        1  \n",
       "25       2.7                        1.10        1  \n",
       "26       2.7                        1.10        1  \n",
       "33       3.0                        0.80        2  \n",
       "34       3.0                        0.80        2  \n",
       "54       2.0                        0.50        1  \n",
       "55       2.0                        0.50        1  \n",
       "61       3.6                        1.00        1  \n",
       "62       3.6                        1.00        1  \n",
       "105      2.6                        1.00        2  \n",
       "106      2.6                        1.00        2  \n",
       "107      2.2                        0.50        2  \n",
       "108      2.2                        0.50        2  \n",
       "137      2.5                        0.80        1  \n",
       "138      2.5                        0.80        1  \n",
       "142      2.7                        0.90        1  \n",
       "143      2.7                        0.90        1  \n",
       "157      2.0                        0.50        1  \n",
       "158      2.0                        0.50        1  \n",
       "163      4.3                        1.38        1  \n",
       "164      4.3                        1.38        1  \n",
       "173      3.7                        1.60        1  \n",
       "174      3.7                        1.60        1  \n",
       "200      2.4                        0.90        1  \n",
       "201      2.4                        0.90        1  "
      ]
     },
     "execution_count": 8,
     "metadata": {},
     "output_type": "execute_result"
    }
   ],
   "source": [
    "data_duplicate = data[data.duplicated(keep = False)] # keep = False gives you all rows with duplicate entries\n",
    "data_duplicate"
   ]
  },
  {
   "cell_type": "code",
   "execution_count": 9,
   "metadata": {},
   "outputs": [
    {
     "data": {
      "text/plain": [
       "(570, 11)"
      ]
     },
     "execution_count": 9,
     "metadata": {},
     "output_type": "execute_result"
    }
   ],
   "source": [
    "data = data[~data.duplicated(subset = None, keep = 'first')]\n",
    "# Here, keep = 'first' ensures that only the first row is taken into the final dataset.\n",
    "# The '~' sign tells pandas to keep all values except the 13 duplicate values\n",
    "data.shape"
   ]
  },
  {
   "cell_type": "markdown",
   "metadata": {},
   "source": [
    "# Managing the Null Values in the Dataset"
   ]
  },
  {
   "cell_type": "code",
   "execution_count": 10,
   "metadata": {},
   "outputs": [
    {
     "data": {
      "text/plain": [
       "pandas.core.frame.DataFrame"
      ]
     },
     "execution_count": 10,
     "metadata": {},
     "output_type": "execute_result"
    }
   ],
   "source": [
    "type(data)"
   ]
  },
  {
   "cell_type": "code",
   "execution_count": 11,
   "metadata": {},
   "outputs": [
    {
     "data": {
      "text/plain": [
       "Age                           0\n",
       "Gender                        0\n",
       "Total_Bilirubin               0\n",
       "Direct_Bilirubin              0\n",
       "Alkaline_Phosphotase          0\n",
       "Alamine_Aminotransferase      0\n",
       "Aspartate_Aminotransferase    0\n",
       "Total_Protiens                0\n",
       "Albumin                       0\n",
       "Albumin_and_Globulin_Ratio    0\n",
       "Dataset                       0\n",
       "dtype: int64"
      ]
     },
     "execution_count": 11,
     "metadata": {},
     "output_type": "execute_result"
    }
   ],
   "source": [
    "data.isnull().sum()"
   ]
  },
  {
   "cell_type": "markdown",
   "metadata": {},
   "source": [
    "# Explotary Data Analysis"
   ]
  },
  {
   "cell_type": "code",
   "execution_count": 12,
   "metadata": {},
   "outputs": [
    {
     "name": "stdout",
     "output_type": "stream",
     "text": [
      "1    406\n",
      "2    164\n",
      "Name: Dataset, dtype: int64\n"
     ]
    },
    {
     "data": {
      "image/png": "[encoded data removed]",
      "text/plain": [
       "<Figure size 432x288 with 1 Axes>"
      ]
     },
     "metadata": {
      "needs_background": "light"
     },
     "output_type": "display_data"
    }
   ],
   "source": [
    "y = data[\"Dataset\"]\n",
    "sns.countplot(y)\n",
    "target_temp = data.Dataset.value_counts()\n",
    "print(target_temp)"
   ]
  },
  {
   "cell_type": "code",
   "execution_count": 13,
   "metadata": {
    "scrolled": true
   },
   "outputs": [
    {
     "data": {
      "text/plain": [
       "<AxesSubplot:xlabel='Gender', ylabel='Dataset'>"
      ]
     },
     "execution_count": 13,
     "metadata": {},
     "output_type": "execute_result"
    },
    {
     "data": {
      "image/png": "[encoded data removed]",
      "text/plain": [
       "<Figure size 432x288 with 1 Axes>"
      ]
     },
     "metadata": {
      "needs_background": "light"
     },
     "output_type": "display_data"
    }
   ],
   "source": [
    "sns.barplot(data[\"Gender\"],data[\"Dataset\"])"
   ]
  },
  {
   "cell_type": "markdown",
   "metadata": {},
   "source": [
    "# Female are more likely to suffer from liver disease than male"
   ]
  },
  {
   "cell_type": "code",
   "execution_count": 14,
   "metadata": {},
   "outputs": [],
   "source": [
    "## if score==negative, mark 0 ;else 1 \n",
    "def partition(x):\n",
    "    if x == 2:\n",
    "        return 0\n",
    "    else:\n",
    "        return 1\n",
    "\n",
    "data['Dataset'] = data['Dataset'].map(partition)"
   ]
  },
  {
   "cell_type": "code",
   "execution_count": 15,
   "metadata": {},
   "outputs": [
    {
     "name": "stdout",
     "output_type": "stream",
     "text": [
      "1    406\n",
      "0    164\n",
      "Name: Dataset, dtype: int64\n"
     ]
    },
    {
     "data": {
      "image/png": "[encoded data removed]",
      "text/plain": [
       "<Figure size 432x288 with 1 Axes>"
      ]
     },
     "metadata": {
      "needs_background": "light"
     },
     "output_type": "display_data"
    }
   ],
   "source": [
    "y = data[\"Dataset\"]\n",
    "sns.countplot(y)\n",
    "target_temp = data.Dataset.value_counts()\n",
    "print(target_temp)"
   ]
  },
  {
   "cell_type": "code",
   "execution_count": 16,
   "metadata": {},
   "outputs": [
    {
     "data": {
      "text/plain": [
       "Gender    object\n",
       "dtype: object"
      ]
     },
     "execution_count": 16,
     "metadata": {},
     "output_type": "execute_result"
    }
   ],
   "source": [
    "data.dtypes[data.dtypes=='object']"
   ]
  },
  {
   "cell_type": "code",
   "execution_count": 17,
   "metadata": {},
   "outputs": [
    {
     "data": {
      "text/plain": [
       "array([[<AxesSubplot:title={'center':'Age'}>,\n",
       "        <AxesSubplot:title={'center':'Total_Bilirubin'}>,\n",
       "        <AxesSubplot:title={'center':'Direct_Bilirubin'}>],\n",
       "       [<AxesSubplot:title={'center':'Alkaline_Phosphotase'}>,\n",
       "        <AxesSubplot:title={'center':'Alamine_Aminotransferase'}>,\n",
       "        <AxesSubplot:title={'center':'Aspartate_Aminotransferase'}>],\n",
       "       [<AxesSubplot:title={'center':'Total_Protiens'}>,\n",
       "        <AxesSubplot:title={'center':'Albumin'}>,\n",
       "        <AxesSubplot:title={'center':'Albumin_and_Globulin_Ratio'}>],\n",
       "       [<AxesSubplot:title={'center':'Dataset'}>, <AxesSubplot:>,\n",
       "        <AxesSubplot:>]], dtype=object)"
      ]
     },
     "execution_count": 17,
     "metadata": {},
     "output_type": "execute_result"
    },
    {
     "data": {
      "image/png": "[encoded data removed]",
      "text/plain": [
       "<Figure size 1080x1080 with 12 Axes>"
      ]
     },
     "metadata": {
      "needs_background": "light"
     },
     "output_type": "display_data"
    }
   ],
   "source": [
    "# Plot histogram grid\n",
    "skewed = ['Total_Bilirubin', 'Direct_Bilirubin', 'Alkaline_Phosphotase', 'Alamine_Aminotransferase', 'Aspartate_Aminotransferase', 'Albumin_and_Globulin_Ratio']\n",
    "features = pd.DataFrame(data = data)\n",
    "features[skewed] = data[skewed].apply(lambda x: np.log(x + 1))\n",
    "# Visualize the new log distributions\n",
    "data.hist(figsize=(15,15))"
   ]
  },
  {
   "cell_type": "code",
   "execution_count": 18,
   "metadata": {
    "scrolled": true
   },
   "outputs": [
    {
     "data": {
      "text/html": [
       "<div>\n",
       "<style scoped>\n",
       "    .dataframe tbody tr th:only-of-type {\n",
       "        vertical-align: middle;\n",
       "    }\n",
       "\n",
       "    .dataframe tbody tr th {\n",
       "        vertical-align: top;\n",
       "    }\n",
       "\n",
       "    .dataframe thead th {\n",
       "        text-align: right;\n",
       "    }\n",
       "</style>\n",
       "<table border=\"1\" class=\"dataframe\">\n",
       "  <thead>\n",
       "    <tr style=\"text-align: right;\">\n",
       "      <th></th>\n",
       "      <th>Age</th>\n",
       "      <th>Total_Bilirubin</th>\n",
       "      <th>Direct_Bilirubin</th>\n",
       "      <th>Alkaline_Phosphotase</th>\n",
       "      <th>Alamine_Aminotransferase</th>\n",
       "      <th>Aspartate_Aminotransferase</th>\n",
       "      <th>Total_Protiens</th>\n",
       "      <th>Albumin</th>\n",
       "      <th>Albumin_and_Globulin_Ratio</th>\n",
       "      <th>Dataset</th>\n",
       "    </tr>\n",
       "  </thead>\n",
       "  <tbody>\n",
       "    <tr>\n",
       "      <th>count</th>\n",
       "      <td>570.000000</td>\n",
       "      <td>570.000000</td>\n",
       "      <td>570.000000</td>\n",
       "      <td>570.000000</td>\n",
       "      <td>570.000000</td>\n",
       "      <td>570.000000</td>\n",
       "      <td>570.000000</td>\n",
       "      <td>570.000000</td>\n",
       "      <td>570.000000</td>\n",
       "      <td>570.000000</td>\n",
       "    </tr>\n",
       "    <tr>\n",
       "      <th>mean</th>\n",
       "      <td>44.849123</td>\n",
       "      <td>1.054750</td>\n",
       "      <td>0.609359</td>\n",
       "      <td>5.499551</td>\n",
       "      <td>3.774517</td>\n",
       "      <td>3.973537</td>\n",
       "      <td>6.496316</td>\n",
       "      <td>3.148947</td>\n",
       "      <td>0.654700</td>\n",
       "      <td>0.712281</td>\n",
       "    </tr>\n",
       "    <tr>\n",
       "      <th>std</th>\n",
       "      <td>16.242182</td>\n",
       "      <td>0.742371</td>\n",
       "      <td>0.659892</td>\n",
       "      <td>0.530062</td>\n",
       "      <td>0.880264</td>\n",
       "      <td>0.981827</td>\n",
       "      <td>1.088300</td>\n",
       "      <td>0.796813</td>\n",
       "      <td>0.158912</td>\n",
       "      <td>0.453097</td>\n",
       "    </tr>\n",
       "    <tr>\n",
       "      <th>min</th>\n",
       "      <td>4.000000</td>\n",
       "      <td>0.336472</td>\n",
       "      <td>0.095310</td>\n",
       "      <td>4.158883</td>\n",
       "      <td>2.397895</td>\n",
       "      <td>2.397895</td>\n",
       "      <td>2.700000</td>\n",
       "      <td>0.900000</td>\n",
       "      <td>0.262364</td>\n",
       "      <td>0.000000</td>\n",
       "    </tr>\n",
       "    <tr>\n",
       "      <th>25%</th>\n",
       "      <td>33.000000</td>\n",
       "      <td>0.587787</td>\n",
       "      <td>0.182322</td>\n",
       "      <td>5.176150</td>\n",
       "      <td>3.178054</td>\n",
       "      <td>3.258097</td>\n",
       "      <td>5.800000</td>\n",
       "      <td>2.600000</td>\n",
       "      <td>0.530628</td>\n",
       "      <td>0.000000</td>\n",
       "    </tr>\n",
       "    <tr>\n",
       "      <th>50%</th>\n",
       "      <td>45.000000</td>\n",
       "      <td>0.693147</td>\n",
       "      <td>0.262364</td>\n",
       "      <td>5.342334</td>\n",
       "      <td>3.583519</td>\n",
       "      <td>3.737670</td>\n",
       "      <td>6.600000</td>\n",
       "      <td>3.100000</td>\n",
       "      <td>0.667829</td>\n",
       "      <td>1.000000</td>\n",
       "    </tr>\n",
       "    <tr>\n",
       "      <th>75%</th>\n",
       "      <td>58.000000</td>\n",
       "      <td>1.280934</td>\n",
       "      <td>0.832909</td>\n",
       "      <td>5.700444</td>\n",
       "      <td>4.110874</td>\n",
       "      <td>4.474480</td>\n",
       "      <td>7.200000</td>\n",
       "      <td>3.800000</td>\n",
       "      <td>0.741937</td>\n",
       "      <td>1.000000</td>\n",
       "    </tr>\n",
       "    <tr>\n",
       "      <th>max</th>\n",
       "      <td>90.000000</td>\n",
       "      <td>4.330733</td>\n",
       "      <td>3.030134</td>\n",
       "      <td>7.654917</td>\n",
       "      <td>7.601402</td>\n",
       "      <td>8.503094</td>\n",
       "      <td>9.600000</td>\n",
       "      <td>5.500000</td>\n",
       "      <td>1.335001</td>\n",
       "      <td>1.000000</td>\n",
       "    </tr>\n",
       "  </tbody>\n",
       "</table>\n",
       "</div>"
      ],
      "text/plain": [
       "              Age  Total_Bilirubin  Direct_Bilirubin  Alkaline_Phosphotase  \\\n",
       "count  570.000000       570.000000        570.000000            570.000000   \n",
       "mean    44.849123         1.054750          0.609359              5.499551   \n",
       "std     16.242182         0.742371          0.659892              0.530062   \n",
       "min      4.000000         0.336472          0.095310              4.158883   \n",
       "25%     33.000000         0.587787          0.182322              5.176150   \n",
       "50%     45.000000         0.693147          0.262364              5.342334   \n",
       "75%     58.000000         1.280934          0.832909              5.700444   \n",
       "max     90.000000         4.330733          3.030134              7.654917   \n",
       "\n",
       "       Alamine_Aminotransferase  Aspartate_Aminotransferase  Total_Protiens  \\\n",
       "count                570.000000                  570.000000      570.000000   \n",
       "mean                   3.774517                    3.973537        6.496316   \n",
       "std                    0.880264                    0.981827        1.088300   \n",
       "min                    2.397895                    2.397895        2.700000   \n",
       "25%                    3.178054                    3.258097        5.800000   \n",
       "50%                    3.583519                    3.737670        6.600000   \n",
       "75%                    4.110874                    4.474480        7.200000   \n",
       "max                    7.601402                    8.503094        9.600000   \n",
       "\n",
       "          Albumin  Albumin_and_Globulin_Ratio     Dataset  \n",
       "count  570.000000                  570.000000  570.000000  \n",
       "mean     3.148947                    0.654700    0.712281  \n",
       "std      0.796813                    0.158912    0.453097  \n",
       "min      0.900000                    0.262364    0.000000  \n",
       "25%      2.600000                    0.530628    0.000000  \n",
       "50%      3.100000                    0.667829    1.000000  \n",
       "75%      3.800000                    0.741937    1.000000  \n",
       "max      5.500000                    1.335001    1.000000  "
      ]
     },
     "execution_count": 18,
     "metadata": {},
     "output_type": "execute_result"
    }
   ],
   "source": [
    "data.describe()"
   ]
  },
  {
   "cell_type": "code",
   "execution_count": 19,
   "metadata": {},
   "outputs": [
    {
     "data": {
      "text/html": [
       "<div>\n",
       "<style scoped>\n",
       "    .dataframe tbody tr th:only-of-type {\n",
       "        vertical-align: middle;\n",
       "    }\n",
       "\n",
       "    .dataframe tbody tr th {\n",
       "        vertical-align: top;\n",
       "    }\n",
       "\n",
       "    .dataframe thead th {\n",
       "        text-align: right;\n",
       "    }\n",
       "</style>\n",
       "<table border=\"1\" class=\"dataframe\">\n",
       "  <thead>\n",
       "    <tr style=\"text-align: right;\">\n",
       "      <th></th>\n",
       "      <th>Gender</th>\n",
       "    </tr>\n",
       "  </thead>\n",
       "  <tbody>\n",
       "    <tr>\n",
       "      <th>count</th>\n",
       "      <td>570</td>\n",
       "    </tr>\n",
       "    <tr>\n",
       "      <th>unique</th>\n",
       "      <td>2</td>\n",
       "    </tr>\n",
       "    <tr>\n",
       "      <th>top</th>\n",
       "      <td>Male</td>\n",
       "    </tr>\n",
       "    <tr>\n",
       "      <th>freq</th>\n",
       "      <td>430</td>\n",
       "    </tr>\n",
       "  </tbody>\n",
       "</table>\n",
       "</div>"
      ],
      "text/plain": [
       "       Gender\n",
       "count     570\n",
       "unique      2\n",
       "top      Male\n",
       "freq      430"
      ]
     },
     "execution_count": 19,
     "metadata": {},
     "output_type": "execute_result"
    }
   ],
   "source": [
    "data.describe(include=['object'])"
   ]
  },
  {
   "cell_type": "code",
   "execution_count": 20,
   "metadata": {},
   "outputs": [
    {
     "data": {
      "text/html": [
       "<div>\n",
       "<style scoped>\n",
       "    .dataframe tbody tr th:only-of-type {\n",
       "        vertical-align: middle;\n",
       "    }\n",
       "\n",
       "    .dataframe tbody tr th {\n",
       "        vertical-align: top;\n",
       "    }\n",
       "\n",
       "    .dataframe thead th {\n",
       "        text-align: right;\n",
       "    }\n",
       "</style>\n",
       "<table border=\"1\" class=\"dataframe\">\n",
       "  <thead>\n",
       "    <tr style=\"text-align: right;\">\n",
       "      <th></th>\n",
       "      <th>Age</th>\n",
       "      <th>Gender</th>\n",
       "      <th>Total_Bilirubin</th>\n",
       "      <th>Direct_Bilirubin</th>\n",
       "      <th>Alkaline_Phosphotase</th>\n",
       "      <th>Alamine_Aminotransferase</th>\n",
       "      <th>Aspartate_Aminotransferase</th>\n",
       "      <th>Total_Protiens</th>\n",
       "      <th>Albumin</th>\n",
       "      <th>Albumin_and_Globulin_Ratio</th>\n",
       "      <th>Dataset</th>\n",
       "    </tr>\n",
       "  </thead>\n",
       "  <tbody>\n",
       "    <tr>\n",
       "      <th>0</th>\n",
       "      <td>0.709302</td>\n",
       "      <td>Female</td>\n",
       "      <td>0.048609</td>\n",
       "      <td>0.000000</td>\n",
       "      <td>0.308223</td>\n",
       "      <td>0.083659</td>\n",
       "      <td>0.089521</td>\n",
       "      <td>0.594203</td>\n",
       "      <td>0.521739</td>\n",
       "      <td>0.353791</td>\n",
       "      <td>1</td>\n",
       "    </tr>\n",
       "    <tr>\n",
       "      <th>1</th>\n",
       "      <td>0.674419</td>\n",
       "      <td>Male</td>\n",
       "      <td>0.535785</td>\n",
       "      <td>0.605315</td>\n",
       "      <td>0.684260</td>\n",
       "      <td>0.341403</td>\n",
       "      <td>0.363170</td>\n",
       "      <td>0.695652</td>\n",
       "      <td>0.500000</td>\n",
       "      <td>0.271780</td>\n",
       "      <td>1</td>\n",
       "    </tr>\n",
       "    <tr>\n",
       "      <th>2</th>\n",
       "      <td>0.674419</td>\n",
       "      <td>Male</td>\n",
       "      <td>0.445585</td>\n",
       "      <td>0.522665</td>\n",
       "      <td>0.582821</td>\n",
       "      <td>0.329197</td>\n",
       "      <td>0.300762</td>\n",
       "      <td>0.623188</td>\n",
       "      <td>0.521739</td>\n",
       "      <td>0.348872</td>\n",
       "      <td>1</td>\n",
       "    </tr>\n",
       "    <tr>\n",
       "      <th>3</th>\n",
       "      <td>0.627907</td>\n",
       "      <td>Male</td>\n",
       "      <td>0.089297</td>\n",
       "      <td>0.082173</td>\n",
       "      <td>0.300513</td>\n",
       "      <td>0.059605</td>\n",
       "      <td>0.105914</td>\n",
       "      <td>0.594203</td>\n",
       "      <td>0.543478</td>\n",
       "      <td>0.401611</td>\n",
       "      <td>1</td>\n",
       "    </tr>\n",
       "    <tr>\n",
       "      <th>4</th>\n",
       "      <td>0.790698</td>\n",
       "      <td>Male</td>\n",
       "      <td>0.313641</td>\n",
       "      <td>0.341861</td>\n",
       "      <td>0.320143</td>\n",
       "      <td>0.179554</td>\n",
       "      <td>0.277870</td>\n",
       "      <td>0.666667</td>\n",
       "      <td>0.326087</td>\n",
       "      <td>0.069090</td>\n",
       "      <td>1</td>\n",
       "    </tr>\n",
       "  </tbody>\n",
       "</table>\n",
       "</div>"
      ],
      "text/plain": [
       "        Age  Gender  Total_Bilirubin  Direct_Bilirubin  Alkaline_Phosphotase  \\\n",
       "0  0.709302  Female         0.048609          0.000000              0.308223   \n",
       "1  0.674419    Male         0.535785          0.605315              0.684260   \n",
       "2  0.674419    Male         0.445585          0.522665              0.582821   \n",
       "3  0.627907    Male         0.089297          0.082173              0.300513   \n",
       "4  0.790698    Male         0.313641          0.341861              0.320143   \n",
       "\n",
       "   Alamine_Aminotransferase  Aspartate_Aminotransferase  Total_Protiens  \\\n",
       "0                  0.083659                    0.089521        0.594203   \n",
       "1                  0.341403                    0.363170        0.695652   \n",
       "2                  0.329197                    0.300762        0.623188   \n",
       "3                  0.059605                    0.105914        0.594203   \n",
       "4                  0.179554                    0.277870        0.666667   \n",
       "\n",
       "    Albumin  Albumin_and_Globulin_Ratio  Dataset  \n",
       "0  0.521739                    0.353791        1  \n",
       "1  0.500000                    0.271780        1  \n",
       "2  0.521739                    0.348872        1  \n",
       "3  0.543478                    0.401611        1  \n",
       "4  0.326087                    0.069090        1  "
      ]
     },
     "metadata": {},
     "output_type": "display_data"
    }
   ],
   "source": [
    "#Scaling\n",
    "from sklearn.preprocessing import MinMaxScaler\n",
    "\n",
    "scaler = MinMaxScaler()\n",
    "numerical = ['Age', 'Total_Bilirubin', 'Direct_Bilirubin', 'Alkaline_Phosphotase', 'Alamine_Aminotransferase',\n",
    "             'Aspartate_Aminotransferase', 'Total_Protiens', 'Albumin', 'Albumin_and_Globulin_Ratio']\n",
    "\n",
    "data_transform = pd.DataFrame(data = features)\n",
    "data_transform[numerical] = scaler.fit_transform(features[numerical])\n",
    "\n",
    "display(data_transform.head(n = 5))"
   ]
  },
  {
   "cell_type": "code",
   "execution_count": 21,
   "metadata": {},
   "outputs": [
    {
     "name": "stderr",
     "output_type": "stream",
     "text": [
      "D:\\anaconda3\\lib\\site-packages\\seaborn\\categorical.py:3666: UserWarning: The `factorplot` function has been renamed to `catplot`. The original name will be removed in a future release. Please update your code. Note that the default `kind` in `factorplot` (`'point'`) has changed `'strip'` in `catplot`.\n",
      "  warnings.warn(msg)\n"
     ]
    },
    {
     "data": {
      "image/png": "[encoded data removed]",
      "text/plain": [
       "<Figure size 407.125x360 with 1 Axes>"
      ]
     },
     "metadata": {
      "needs_background": "light"
     },
     "output_type": "display_data"
    }
   ],
   "source": [
    "sns.factorplot (x=\"Age\", y=\"Gender\", hue=\"Dataset\", data=data);"
   ]
  },
  {
   "cell_type": "markdown",
   "metadata": {},
   "source": [
    "Age seems to be a factor for liver disease for both male and female genders\n",
    "\n",
    "Females in the age of 42 till 50 are most likely to suffer liver disease, while for males have a range between the age of 48 and more"
   ]
  },
  {
   "cell_type": "code",
   "execution_count": 22,
   "metadata": {},
   "outputs": [
    {
     "name": "stdout",
     "output_type": "stream",
     "text": [
      "Number of patients that are male:  430\n",
      "Number of patients that are female:  140\n"
     ]
    },
    {
     "data": {
      "image/png": "[encoded data removed]",
      "text/plain": [
       "<Figure size 432x288 with 1 Axes>"
      ]
     },
     "metadata": {
      "needs_background": "light"
     },
     "output_type": "display_data"
    }
   ],
   "source": [
    "sns.countplot(data=data, x = 'Gender', label='Count')\n",
    "\n",
    "M, F = data['Gender'].value_counts()\n",
    "print('Number of patients that are male: ',M)\n",
    "print('Number of patients that are female: ',F)"
   ]
  },
  {
   "cell_type": "markdown",
   "metadata": {},
   "source": [
    "There are more males than females in the dataset"
   ]
  },
  {
   "cell_type": "markdown",
   "metadata": {},
   "source": [
    "Converting the Gender into numerical values, males and females to 0 and 1"
   ]
  },
  {
   "cell_type": "code",
   "execution_count": 23,
   "metadata": {},
   "outputs": [
    {
     "data": {
      "text/html": [
       "<div>\n",
       "<style scoped>\n",
       "    .dataframe tbody tr th:only-of-type {\n",
       "        vertical-align: middle;\n",
       "    }\n",
       "\n",
       "    .dataframe tbody tr th {\n",
       "        vertical-align: top;\n",
       "    }\n",
       "\n",
       "    .dataframe thead th {\n",
       "        text-align: right;\n",
       "    }\n",
       "</style>\n",
       "<table border=\"1\" class=\"dataframe\">\n",
       "  <thead>\n",
       "    <tr style=\"text-align: right;\">\n",
       "      <th></th>\n",
       "      <th>Age</th>\n",
       "      <th>Gender</th>\n",
       "      <th>Total_Bilirubin</th>\n",
       "      <th>Direct_Bilirubin</th>\n",
       "      <th>Alkaline_Phosphotase</th>\n",
       "      <th>Alamine_Aminotransferase</th>\n",
       "      <th>Aspartate_Aminotransferase</th>\n",
       "      <th>Total_Protiens</th>\n",
       "      <th>Albumin</th>\n",
       "      <th>Albumin_and_Globulin_Ratio</th>\n",
       "      <th>Dataset</th>\n",
       "    </tr>\n",
       "  </thead>\n",
       "  <tbody>\n",
       "    <tr>\n",
       "      <th>0</th>\n",
       "      <td>0.709302</td>\n",
       "      <td>1</td>\n",
       "      <td>0.048609</td>\n",
       "      <td>0.000000</td>\n",
       "      <td>0.308223</td>\n",
       "      <td>0.083659</td>\n",
       "      <td>0.089521</td>\n",
       "      <td>0.594203</td>\n",
       "      <td>0.521739</td>\n",
       "      <td>0.353791</td>\n",
       "      <td>1</td>\n",
       "    </tr>\n",
       "    <tr>\n",
       "      <th>1</th>\n",
       "      <td>0.674419</td>\n",
       "      <td>0</td>\n",
       "      <td>0.535785</td>\n",
       "      <td>0.605315</td>\n",
       "      <td>0.684260</td>\n",
       "      <td>0.341403</td>\n",
       "      <td>0.363170</td>\n",
       "      <td>0.695652</td>\n",
       "      <td>0.500000</td>\n",
       "      <td>0.271780</td>\n",
       "      <td>1</td>\n",
       "    </tr>\n",
       "    <tr>\n",
       "      <th>2</th>\n",
       "      <td>0.674419</td>\n",
       "      <td>0</td>\n",
       "      <td>0.445585</td>\n",
       "      <td>0.522665</td>\n",
       "      <td>0.582821</td>\n",
       "      <td>0.329197</td>\n",
       "      <td>0.300762</td>\n",
       "      <td>0.623188</td>\n",
       "      <td>0.521739</td>\n",
       "      <td>0.348872</td>\n",
       "      <td>1</td>\n",
       "    </tr>\n",
       "    <tr>\n",
       "      <th>3</th>\n",
       "      <td>0.627907</td>\n",
       "      <td>0</td>\n",
       "      <td>0.089297</td>\n",
       "      <td>0.082173</td>\n",
       "      <td>0.300513</td>\n",
       "      <td>0.059605</td>\n",
       "      <td>0.105914</td>\n",
       "      <td>0.594203</td>\n",
       "      <td>0.543478</td>\n",
       "      <td>0.401611</td>\n",
       "      <td>1</td>\n",
       "    </tr>\n",
       "    <tr>\n",
       "      <th>4</th>\n",
       "      <td>0.790698</td>\n",
       "      <td>0</td>\n",
       "      <td>0.313641</td>\n",
       "      <td>0.341861</td>\n",
       "      <td>0.320143</td>\n",
       "      <td>0.179554</td>\n",
       "      <td>0.277870</td>\n",
       "      <td>0.666667</td>\n",
       "      <td>0.326087</td>\n",
       "      <td>0.069090</td>\n",
       "      <td>1</td>\n",
       "    </tr>\n",
       "  </tbody>\n",
       "</table>\n",
       "</div>"
      ],
      "text/plain": [
       "        Age  Gender  Total_Bilirubin  Direct_Bilirubin  Alkaline_Phosphotase  \\\n",
       "0  0.709302       1         0.048609          0.000000              0.308223   \n",
       "1  0.674419       0         0.535785          0.605315              0.684260   \n",
       "2  0.674419       0         0.445585          0.522665              0.582821   \n",
       "3  0.627907       0         0.089297          0.082173              0.300513   \n",
       "4  0.790698       0         0.313641          0.341861              0.320143   \n",
       "\n",
       "   Alamine_Aminotransferase  Aspartate_Aminotransferase  Total_Protiens  \\\n",
       "0                  0.083659                    0.089521        0.594203   \n",
       "1                  0.341403                    0.363170        0.695652   \n",
       "2                  0.329197                    0.300762        0.623188   \n",
       "3                  0.059605                    0.105914        0.594203   \n",
       "4                  0.179554                    0.277870        0.666667   \n",
       "\n",
       "    Albumin  Albumin_and_Globulin_Ratio  Dataset  \n",
       "0  0.521739                    0.353791        1  \n",
       "1  0.500000                    0.271780        1  \n",
       "2  0.521739                    0.348872        1  \n",
       "3  0.543478                    0.401611        1  \n",
       "4  0.326087                    0.069090        1  "
      ]
     },
     "execution_count": 23,
     "metadata": {},
     "output_type": "execute_result"
    }
   ],
   "source": [
    "data['Gender'].replace(to_replace=['Male','Female'], value=[0,1],inplace=True)\n",
    "data.head()"
   ]
  },
  {
   "cell_type": "markdown",
   "metadata": {},
   "source": [
    "# 2D Scatter Plots"
   ]
  },
  {
   "cell_type": "markdown",
   "metadata": {},
   "source": [
    "Scatter plot for Direct Bilirubin and Total Bilirubin"
   ]
  },
  {
   "cell_type": "code",
   "execution_count": 24,
   "metadata": {},
   "outputs": [
    {
     "data": {
      "text/plain": [
       "<seaborn.axisgrid.FacetGrid at 0x265e4374788>"
      ]
     },
     "execution_count": 24,
     "metadata": {},
     "output_type": "execute_result"
    },
    {
     "data": {
      "image/png": "[encoded data removed]",
      "text/plain": [
       "<Figure size 402.75x360 with 1 Axes>"
      ]
     },
     "metadata": {},
     "output_type": "display_data"
    }
   ],
   "source": [
    "sns.set_style('whitegrid')   ## Background Grid\n",
    "sns.FacetGrid(data, hue = 'Dataset', height = 5).map(plt.scatter, 'Total_Bilirubin', 'Direct_Bilirubin').add_legend()"
   ]
  },
  {
   "cell_type": "markdown",
   "metadata": {},
   "source": [
    "Scatter plot for Albumin and Total Bilirubin"
   ]
  },
  {
   "cell_type": "code",
   "execution_count": 25,
   "metadata": {},
   "outputs": [
    {
     "name": "stderr",
     "output_type": "stream",
     "text": [
      "D:\\anaconda3\\lib\\site-packages\\seaborn\\axisgrid.py:243: UserWarning: The `size` parameter has been renamed to `height`; please update your code.\n",
      "  warnings.warn(msg, UserWarning)\n"
     ]
    },
    {
     "data": {
      "text/plain": [
       "<seaborn.axisgrid.FacetGrid at 0x265e46cfb88>"
      ]
     },
     "execution_count": 25,
     "metadata": {},
     "output_type": "execute_result"
    },
    {
     "data": {
      "image/png": "[encoded data removed]",
      "text/plain": [
       "<Figure size 402.75x360 with 1 Axes>"
      ]
     },
     "metadata": {},
     "output_type": "display_data"
    }
   ],
   "source": [
    "sns.set_style('whitegrid')   ## Background Grid\n",
    "sns.FacetGrid(data, hue = 'Dataset', size = 5).map(plt.scatter, 'Total_Bilirubin', 'Albumin').add_legend()"
   ]
  },
  {
   "cell_type": "markdown",
   "metadata": {},
   "source": [
    "Scatter plot for Albumin & Globulin Ratio and Total Proteins"
   ]
  },
  {
   "cell_type": "code",
   "execution_count": 26,
   "metadata": {},
   "outputs": [
    {
     "name": "stderr",
     "output_type": "stream",
     "text": [
      "D:\\anaconda3\\lib\\site-packages\\seaborn\\axisgrid.py:243: UserWarning: The `size` parameter has been renamed to `height`; please update your code.\n",
      "  warnings.warn(msg, UserWarning)\n"
     ]
    },
    {
     "data": {
      "text/plain": [
       "<seaborn.axisgrid.FacetGrid at 0x265e4dfc508>"
      ]
     },
     "execution_count": 26,
     "metadata": {},
     "output_type": "execute_result"
    },
    {
     "data": {
      "image/png": "[encoded data removed]",
      "text/plain": [
       "<Figure size 402.75x360 with 1 Axes>"
      ]
     },
     "metadata": {},
     "output_type": "display_data"
    }
   ],
   "source": [
    "sns.set_style('whitegrid')   ## Background Grid\n",
    "sns.FacetGrid(data, hue = 'Dataset', size = 5).map(plt.scatter, 'Total_Protiens', 'Albumin_and_Globulin_Ratio').add_legend()"
   ]
  },
  {
   "cell_type": "markdown",
   "metadata": {},
   "source": [
    "# Correlations of variables between one another"
   ]
  },
  {
   "cell_type": "code",
   "execution_count": 27,
   "metadata": {},
   "outputs": [
    {
     "data": {
      "text/html": [
       "<div>\n",
       "<style scoped>\n",
       "    .dataframe tbody tr th:only-of-type {\n",
       "        vertical-align: middle;\n",
       "    }\n",
       "\n",
       "    .dataframe tbody tr th {\n",
       "        vertical-align: top;\n",
       "    }\n",
       "\n",
       "    .dataframe thead th {\n",
       "        text-align: right;\n",
       "    }\n",
       "</style>\n",
       "<table border=\"1\" class=\"dataframe\">\n",
       "  <thead>\n",
       "    <tr style=\"text-align: right;\">\n",
       "      <th></th>\n",
       "      <th>Age</th>\n",
       "      <th>Gender</th>\n",
       "      <th>Total_Bilirubin</th>\n",
       "      <th>Direct_Bilirubin</th>\n",
       "      <th>Alkaline_Phosphotase</th>\n",
       "      <th>Alamine_Aminotransferase</th>\n",
       "      <th>Aspartate_Aminotransferase</th>\n",
       "      <th>Total_Protiens</th>\n",
       "      <th>Albumin</th>\n",
       "      <th>Albumin_and_Globulin_Ratio</th>\n",
       "      <th>Dataset</th>\n",
       "    </tr>\n",
       "  </thead>\n",
       "  <tbody>\n",
       "    <tr>\n",
       "      <th>Age</th>\n",
       "      <td>1.000000</td>\n",
       "      <td>-0.058237</td>\n",
       "      <td>0.070525</td>\n",
       "      <td>0.065632</td>\n",
       "      <td>0.069352</td>\n",
       "      <td>-0.079007</td>\n",
       "      <td>-0.031180</td>\n",
       "      <td>-0.197052</td>\n",
       "      <td>-0.271170</td>\n",
       "      <td>-0.229023</td>\n",
       "      <td>0.138093</td>\n",
       "    </tr>\n",
       "    <tr>\n",
       "      <th>Gender</th>\n",
       "      <td>-0.058237</td>\n",
       "      <td>1.000000</td>\n",
       "      <td>-0.158507</td>\n",
       "      <td>-0.160020</td>\n",
       "      <td>-0.025452</td>\n",
       "      <td>-0.170008</td>\n",
       "      <td>-0.184981</td>\n",
       "      <td>0.085895</td>\n",
       "      <td>0.091369</td>\n",
       "      <td>0.016545</td>\n",
       "      <td>-0.078501</td>\n",
       "    </tr>\n",
       "    <tr>\n",
       "      <th>Total_Bilirubin</th>\n",
       "      <td>0.070525</td>\n",
       "      <td>-0.158507</td>\n",
       "      <td>1.000000</td>\n",
       "      <td>0.974863</td>\n",
       "      <td>0.347042</td>\n",
       "      <td>0.438496</td>\n",
       "      <td>0.534824</td>\n",
       "      <td>-0.045697</td>\n",
       "      <td>-0.292082</td>\n",
       "      <td>-0.313942</td>\n",
       "      <td>0.309298</td>\n",
       "    </tr>\n",
       "    <tr>\n",
       "      <th>Direct_Bilirubin</th>\n",
       "      <td>0.065632</td>\n",
       "      <td>-0.160020</td>\n",
       "      <td>0.974863</td>\n",
       "      <td>1.000000</td>\n",
       "      <td>0.346357</td>\n",
       "      <td>0.428902</td>\n",
       "      <td>0.529067</td>\n",
       "      <td>-0.033507</td>\n",
       "      <td>-0.281609</td>\n",
       "      <td>-0.305363</td>\n",
       "      <td>0.312174</td>\n",
       "    </tr>\n",
       "    <tr>\n",
       "      <th>Alkaline_Phosphotase</th>\n",
       "      <td>0.069352</td>\n",
       "      <td>-0.025452</td>\n",
       "      <td>0.347042</td>\n",
       "      <td>0.346357</td>\n",
       "      <td>1.000000</td>\n",
       "      <td>0.340468</td>\n",
       "      <td>0.318850</td>\n",
       "      <td>-0.001003</td>\n",
       "      <td>-0.174067</td>\n",
       "      <td>-0.298037</td>\n",
       "      <td>0.234744</td>\n",
       "    </tr>\n",
       "    <tr>\n",
       "      <th>Alamine_Aminotransferase</th>\n",
       "      <td>-0.079007</td>\n",
       "      <td>-0.170008</td>\n",
       "      <td>0.438496</td>\n",
       "      <td>0.428902</td>\n",
       "      <td>0.340468</td>\n",
       "      <td>1.000000</td>\n",
       "      <td>0.841198</td>\n",
       "      <td>-0.004560</td>\n",
       "      <td>-0.042939</td>\n",
       "      <td>-0.072553</td>\n",
       "      <td>0.286356</td>\n",
       "    </tr>\n",
       "    <tr>\n",
       "      <th>Aspartate_Aminotransferase</th>\n",
       "      <td>-0.031180</td>\n",
       "      <td>-0.184981</td>\n",
       "      <td>0.534824</td>\n",
       "      <td>0.529067</td>\n",
       "      <td>0.318850</td>\n",
       "      <td>0.841198</td>\n",
       "      <td>1.000000</td>\n",
       "      <td>-0.052380</td>\n",
       "      <td>-0.174324</td>\n",
       "      <td>-0.171987</td>\n",
       "      <td>0.302103</td>\n",
       "    </tr>\n",
       "    <tr>\n",
       "      <th>Total_Protiens</th>\n",
       "      <td>-0.197052</td>\n",
       "      <td>0.085895</td>\n",
       "      <td>-0.045697</td>\n",
       "      <td>-0.033507</td>\n",
       "      <td>-0.001003</td>\n",
       "      <td>-0.004560</td>\n",
       "      <td>-0.052380</td>\n",
       "      <td>1.000000</td>\n",
       "      <td>0.784731</td>\n",
       "      <td>0.250186</td>\n",
       "      <td>-0.037794</td>\n",
       "    </tr>\n",
       "    <tr>\n",
       "      <th>Albumin</th>\n",
       "      <td>-0.271170</td>\n",
       "      <td>0.091369</td>\n",
       "      <td>-0.292082</td>\n",
       "      <td>-0.281609</td>\n",
       "      <td>-0.174067</td>\n",
       "      <td>-0.042939</td>\n",
       "      <td>-0.174324</td>\n",
       "      <td>0.784731</td>\n",
       "      <td>1.000000</td>\n",
       "      <td>0.727622</td>\n",
       "      <td>-0.166835</td>\n",
       "    </tr>\n",
       "    <tr>\n",
       "      <th>Albumin_and_Globulin_Ratio</th>\n",
       "      <td>-0.229023</td>\n",
       "      <td>0.016545</td>\n",
       "      <td>-0.313942</td>\n",
       "      <td>-0.305363</td>\n",
       "      <td>-0.298037</td>\n",
       "      <td>-0.072553</td>\n",
       "      <td>-0.171987</td>\n",
       "      <td>0.250186</td>\n",
       "      <td>0.727622</td>\n",
       "      <td>1.000000</td>\n",
       "      <td>-0.185379</td>\n",
       "    </tr>\n",
       "    <tr>\n",
       "      <th>Dataset</th>\n",
       "      <td>0.138093</td>\n",
       "      <td>-0.078501</td>\n",
       "      <td>0.309298</td>\n",
       "      <td>0.312174</td>\n",
       "      <td>0.234744</td>\n",
       "      <td>0.286356</td>\n",
       "      <td>0.302103</td>\n",
       "      <td>-0.037794</td>\n",
       "      <td>-0.166835</td>\n",
       "      <td>-0.185379</td>\n",
       "      <td>1.000000</td>\n",
       "    </tr>\n",
       "  </tbody>\n",
       "</table>\n",
       "</div>"
      ],
      "text/plain": [
       "                                 Age    Gender  Total_Bilirubin  \\\n",
       "Age                         1.000000 -0.058237         0.070525   \n",
       "Gender                     -0.058237  1.000000        -0.158507   \n",
       "Total_Bilirubin             0.070525 -0.158507         1.000000   \n",
       "Direct_Bilirubin            0.065632 -0.160020         0.974863   \n",
       "Alkaline_Phosphotase        0.069352 -0.025452         0.347042   \n",
       "Alamine_Aminotransferase   -0.079007 -0.170008         0.438496   \n",
       "Aspartate_Aminotransferase -0.031180 -0.184981         0.534824   \n",
       "Total_Protiens             -0.197052  0.085895        -0.045697   \n",
       "Albumin                    -0.271170  0.091369        -0.292082   \n",
       "Albumin_and_Globulin_Ratio -0.229023  0.016545        -0.313942   \n",
       "Dataset                     0.138093 -0.078501         0.309298   \n",
       "\n",
       "                            Direct_Bilirubin  Alkaline_Phosphotase  \\\n",
       "Age                                 0.065632              0.069352   \n",
       "Gender                             -0.160020             -0.025452   \n",
       "Total_Bilirubin                     0.974863              0.347042   \n",
       "Direct_Bilirubin                    1.000000              0.346357   \n",
       "Alkaline_Phosphotase                0.346357              1.000000   \n",
       "Alamine_Aminotransferase            0.428902              0.340468   \n",
       "Aspartate_Aminotransferase          0.529067              0.318850   \n",
       "Total_Protiens                     -0.033507             -0.001003   \n",
       "Albumin                            -0.281609             -0.174067   \n",
       "Albumin_and_Globulin_Ratio         -0.305363             -0.298037   \n",
       "Dataset                             0.312174              0.234744   \n",
       "\n",
       "                            Alamine_Aminotransferase  \\\n",
       "Age                                        -0.079007   \n",
       "Gender                                     -0.170008   \n",
       "Total_Bilirubin                             0.438496   \n",
       "Direct_Bilirubin                            0.428902   \n",
       "Alkaline_Phosphotase                        0.340468   \n",
       "Alamine_Aminotransferase                    1.000000   \n",
       "Aspartate_Aminotransferase                  0.841198   \n",
       "Total_Protiens                             -0.004560   \n",
       "Albumin                                    -0.042939   \n",
       "Albumin_and_Globulin_Ratio                 -0.072553   \n",
       "Dataset                                     0.286356   \n",
       "\n",
       "                            Aspartate_Aminotransferase  Total_Protiens  \\\n",
       "Age                                          -0.031180       -0.197052   \n",
       "Gender                                       -0.184981        0.085895   \n",
       "Total_Bilirubin                               0.534824       -0.045697   \n",
       "Direct_Bilirubin                              0.529067       -0.033507   \n",
       "Alkaline_Phosphotase                          0.318850       -0.001003   \n",
       "Alamine_Aminotransferase                      0.841198       -0.004560   \n",
       "Aspartate_Aminotransferase                    1.000000       -0.052380   \n",
       "Total_Protiens                               -0.052380        1.000000   \n",
       "Albumin                                      -0.174324        0.784731   \n",
       "Albumin_and_Globulin_Ratio                   -0.171987        0.250186   \n",
       "Dataset                                       0.302103       -0.037794   \n",
       "\n",
       "                             Albumin  Albumin_and_Globulin_Ratio   Dataset  \n",
       "Age                        -0.271170                   -0.229023  0.138093  \n",
       "Gender                      0.091369                    0.016545 -0.078501  \n",
       "Total_Bilirubin            -0.292082                   -0.313942  0.309298  \n",
       "Direct_Bilirubin           -0.281609                   -0.305363  0.312174  \n",
       "Alkaline_Phosphotase       -0.174067                   -0.298037  0.234744  \n",
       "Alamine_Aminotransferase   -0.042939                   -0.072553  0.286356  \n",
       "Aspartate_Aminotransferase -0.174324                   -0.171987  0.302103  \n",
       "Total_Protiens              0.784731                    0.250186 -0.037794  \n",
       "Albumin                     1.000000                    0.727622 -0.166835  \n",
       "Albumin_and_Globulin_Ratio  0.727622                    1.000000 -0.185379  \n",
       "Dataset                    -0.166835                   -0.185379  1.000000  "
      ]
     },
     "execution_count": 27,
     "metadata": {},
     "output_type": "execute_result"
    }
   ],
   "source": [
    "data.corr()"
   ]
  },
  {
   "cell_type": "markdown",
   "metadata": {},
   "source": [
    "Correlations shows the relationship between a numeric feature with another. It has a value between -1 and 1 that represents how closely two values are.\n",
    "\n",
    "Positive correlation indicate the extent to which those variables either increases or decreases in parallel.\n",
    "\n",
    "Negative correlation indicate the extent to which one variable increases and the other one decreases.\n",
    "\n",
    "Should the value goes exactly 0, it means it has no relationship at all.\n"
   ]
  },
  {
   "cell_type": "code",
   "execution_count": 28,
   "metadata": {},
   "outputs": [
    {
     "data": {
      "text/plain": [
       "<AxesSubplot:>"
      ]
     },
     "execution_count": 28,
     "metadata": {},
     "output_type": "execute_result"
    },
    {
     "data": {
      "image/png": "[encoded data removed]",
      "text/plain": [
       "<Figure size 720x720 with 2 Axes>"
      ]
     },
     "metadata": {},
     "output_type": "display_data"
    }
   ],
   "source": [
    "plt.figure(figsize=(10,10))\n",
    "sns.heatmap(data.corr(), cbar = True, square = True, annot=True, fmt= '.2f', annot_kws={'size': 10})"
   ]
  },
  {
   "cell_type": "markdown",
   "metadata": {},
   "source": [
    "# Machine Learning Models"
   ]
  },
  {
   "cell_type": "markdown",
   "metadata": {},
   "source": [
    "## Data Preparation"
   ]
  },
  {
   "cell_type": "code",
   "execution_count": 29,
   "metadata": {},
   "outputs": [],
   "source": [
    "# Create separate object for target variable\n",
    "y = data.Dataset\n",
    "\n",
    "# Create separate object for input features\n",
    "X = data.drop('Dataset', axis=1)"
   ]
  },
  {
   "cell_type": "code",
   "execution_count": 30,
   "metadata": {},
   "outputs": [],
   "source": [
    "# Split X and y into train and test sets\n",
    "X_train, X_test, y_train, y_test = train_test_split(X, y, \n",
    "                                                    test_size=0.2, \n",
    "                                                    random_state=1234,\n",
    "                                                    stratify=data.Dataset)"
   ]
  },
  {
   "cell_type": "code",
   "execution_count": 31,
   "metadata": {},
   "outputs": [
    {
     "name": "stdout",
     "output_type": "stream",
     "text": [
      "(456, 10) (114, 10) (456,) (114,)\n"
     ]
    }
   ],
   "source": [
    "# Print number of observations in X_train, X_test, y_train, and y_test\n",
    "print(X_train.shape, X_test.shape, y_train.shape, y_test.shape)"
   ]
  },
  {
   "cell_type": "code",
   "execution_count": 32,
   "metadata": {},
   "outputs": [
    {
     "name": "stdout",
     "output_type": "stream",
     "text": [
      "1    406\n",
      "0    164\n",
      "Name: Dataset, dtype: int64\n"
     ]
    },
    {
     "data": {
      "image/png": "[encoded data removed]",
      "text/plain": [
       "<Figure size 432x288 with 1 Axes>"
      ]
     },
     "metadata": {},
     "output_type": "display_data"
    }
   ],
   "source": [
    "ax=sns.countplot(x='Dataset',data=data)\n",
    "print(data['Dataset'].value_counts())"
   ]
  },
  {
   "cell_type": "markdown",
   "metadata": {},
   "source": [
    "## Undersampling data"
   ]
  },
  {
   "cell_type": "code",
   "execution_count": 33,
   "metadata": {},
   "outputs": [],
   "source": [
    "#minority_class_len = len(data[data['Dataset'] == 0])\n",
    "#print(minority_class_len)"
   ]
  },
  {
   "cell_type": "code",
   "execution_count": 34,
   "metadata": {},
   "outputs": [],
   "source": [
    "#majority_class_indices = data[data['Dataset'] == 1].index\n",
    "#print(majority_class_indices)"
   ]
  },
  {
   "cell_type": "code",
   "execution_count": 35,
   "metadata": {},
   "outputs": [],
   "source": [
    "#random_majority_indices = np.random.choice(majority_class_indices,minority_class_len,replace=False)\n",
    "#print(len(random_majority_indices))"
   ]
  },
  {
   "cell_type": "code",
   "execution_count": 36,
   "metadata": {},
   "outputs": [],
   "source": [
    "#minority_class_indices = data[data['Dataset'] == 0].index\n",
    "#print(minority_class_indices)"
   ]
  },
  {
   "cell_type": "code",
   "execution_count": 37,
   "metadata": {},
   "outputs": [],
   "source": [
    "#under_sample_indices=np.concatenate([minority_class_indices,random_majority_indices])"
   ]
  },
  {
   "cell_type": "code",
   "execution_count": 38,
   "metadata": {},
   "outputs": [],
   "source": [
    "#under_sample=data.loc[under_sample_indices]"
   ]
  },
  {
   "cell_type": "code",
   "execution_count": 39,
   "metadata": {},
   "outputs": [],
   "source": [
    "#sns.countplot(x='Dataset',data=under_sample)"
   ]
  },
  {
   "cell_type": "code",
   "execution_count": 40,
   "metadata": {},
   "outputs": [],
   "source": [
    "#X = under_sample.loc[:, data.columns!='Dataset']\n",
    "#y = under_sample.loc[:, data.columns=='Dataset']\n",
    "#X_train, X_test, y_train, y_test = train_test_split(X, y, test_size=0.33, random_state=42)"
   ]
  },
  {
   "cell_type": "markdown",
   "metadata": {},
   "source": [
    "## Oversampling data"
   ]
  },
  {
   "cell_type": "code",
   "execution_count": 41,
   "metadata": {},
   "outputs": [
    {
     "name": "stdout",
     "output_type": "stream",
     "text": [
      "406\n"
     ]
    }
   ],
   "source": [
    "majority_class_len = len(data[data['Dataset'] == 1])\n",
    "print(majority_class_len)"
   ]
  },
  {
   "cell_type": "code",
   "execution_count": 42,
   "metadata": {},
   "outputs": [
    {
     "name": "stdout",
     "output_type": "stream",
     "text": [
      "Int64Index([  8,  12,  15,  17,  24,  28,  29,  32,  33,  36,\n",
      "            ...\n",
      "            539, 540, 541, 542, 545, 551, 564, 566, 578, 582],\n",
      "           dtype='int64', length=164)\n"
     ]
    }
   ],
   "source": [
    "minority_class_indices = data[data['Dataset'] == 0].index\n",
    "print(minority_class_indices)"
   ]
  },
  {
   "cell_type": "code",
   "execution_count": 43,
   "metadata": {},
   "outputs": [
    {
     "name": "stdout",
     "output_type": "stream",
     "text": [
      "406\n"
     ]
    }
   ],
   "source": [
    "random_minority_indices = np.random.choice(minority_class_indices,\n",
    "                                          majority_class_len,\n",
    "                                          replace=True)\n",
    "print(len(random_minority_indices))"
   ]
  },
  {
   "cell_type": "code",
   "execution_count": 44,
   "metadata": {},
   "outputs": [
    {
     "name": "stdout",
     "output_type": "stream",
     "text": [
      "Int64Index([  0,   1,   2,   3,   4,   5,   6,   7,   9,  10,\n",
      "            ...\n",
      "            571, 572, 573, 574, 575, 576, 577, 579, 580, 581],\n",
      "           dtype='int64', length=406)\n"
     ]
    }
   ],
   "source": [
    "majority_class_indices = data[data['Dataset'] == 1].index\n",
    "print(majority_class_indices)"
   ]
  },
  {
   "cell_type": "code",
   "execution_count": 45,
   "metadata": {},
   "outputs": [],
   "source": [
    "over_sample_indices=np.concatenate([majority_class_indices,random_minority_indices])"
   ]
  },
  {
   "cell_type": "code",
   "execution_count": 46,
   "metadata": {},
   "outputs": [],
   "source": [
    "over_sample=data.loc[over_sample_indices]"
   ]
  },
  {
   "cell_type": "code",
   "execution_count": 47,
   "metadata": {},
   "outputs": [
    {
     "data": {
      "text/plain": [
       "<AxesSubplot:xlabel='Dataset', ylabel='count'>"
      ]
     },
     "execution_count": 47,
     "metadata": {},
     "output_type": "execute_result"
    },
    {
     "data": {
      "image/png": "[encoded data removed]",
      "text/plain": [
       "<Figure size 432x288 with 1 Axes>"
      ]
     },
     "metadata": {},
     "output_type": "display_data"
    }
   ],
   "source": [
    "sns.countplot(x='Dataset',data=over_sample)"
   ]
  },
  {
   "cell_type": "code",
   "execution_count": 48,
   "metadata": {},
   "outputs": [],
   "source": [
    "X = over_sample.loc[:, data.columns!='Dataset']\n",
    "y = over_sample.loc[:, data.columns=='Dataset']\n",
    "X_train, X_test, y_train, y_test = train_test_split(X, y, test_size=0.33, random_state=42)"
   ]
  },
  {
   "cell_type": "markdown",
   "metadata": {},
   "source": [
    "## 1. Decision Tree"
   ]
  },
  {
   "cell_type": "code",
   "execution_count": 49,
   "metadata": {},
   "outputs": [],
   "source": [
    "def ConfusionMatrixToDataFrame (actual, predicted):\n",
    "    tn, fp, fn, tp = confusion_matrix(actual, predicted).ravel()\n",
    "    values = {'positive':{'true': tp, 'false': fp}, 'negative':{'true': tn, 'false': fn}}\n",
    "    output_cm = pd.DataFrame(columns = [\"true\", \"false\"])\n",
    "    for key, value in values.items():\n",
    "        output_cm = output_cm.append(pd.Series(value, name = key))\n",
    "    return output_cm"
   ]
  },
  {
   "cell_type": "code",
   "execution_count": 50,
   "metadata": {},
   "outputs": [
    {
     "data": {
      "text/plain": [
       "RandomizedSearchCV(estimator=DecisionTreeClassifier(), n_iter=15, n_jobs=-1,\n",
       "                   param_distributions={'max_depth': [2, 3, 4, 5, 6, 7],\n",
       "                                        'min_samples_leaf': [1, 2, 3, 4, 6],\n",
       "                                        'min_samples_split': [2, 3, 4, 5, 7]},\n",
       "                   scoring='roc_auc')"
      ]
     },
     "execution_count": 50,
     "metadata": {},
     "output_type": "execute_result"
    }
   ],
   "source": [
    "from sklearn.tree import DecisionTreeClassifier #Decision Tree\n",
    "from sklearn import tree #Decision Tree\n",
    "from sklearn.metrics import accuracy_score, recall_score, precision_score, f1_score #Accuracy score\n",
    "from sklearn.model_selection import RandomizedSearchCV # Perform hyperparameter tuning\n",
    "tuned_params = {'min_samples_split': [2, 3, 4, 5, 7], 'min_samples_leaf': [1, 2, 3, 4, 6], 'max_depth': [2, 3, 4, 5, 6, 7]}\n",
    "model = RandomizedSearchCV(DecisionTreeClassifier(), tuned_params, n_iter=15, scoring = 'roc_auc', n_jobs=-1)\n",
    "model.fit(X_train, y_train)"
   ]
  },
  {
   "cell_type": "code",
   "execution_count": 51,
   "metadata": {},
   "outputs": [
    {
     "data": {
      "text/plain": [
       "DecisionTreeClassifier(max_depth=6, min_samples_leaf=3)"
      ]
     },
     "execution_count": 51,
     "metadata": {},
     "output_type": "execute_result"
    }
   ],
   "source": [
    "DTmodel = model.best_estimator_\n",
    "DTmodel"
   ]
  },
  {
   "cell_type": "code",
   "execution_count": 100,
   "metadata": {},
   "outputs": [
    {
     "name": "stdout",
     "output_type": "stream",
     "text": [
      "Accuracy on training set:  0.9393382352941176 \n",
      "\n",
      "Precision on training set:  0.898876404494382 \n",
      "\n",
      "Recall on training set:  0.975609756097561 \n",
      "\n",
      "F1 score on training set:  0.935672514619883 \n",
      "\n",
      "Accuracy on testing set:  0.7835820895522388 \n",
      "\n",
      "Precision on testing set:  0.6690647482014388 \n",
      "\n",
      "Recall on testing set:  0.8857142857142857 \n",
      "\n",
      "F1 score on testing set:  0.7622950819672131 \n",
      "\n"
     ]
    }
   ],
   "source": [
    "DT_y_train_preds = model.predict(X_train)\n",
    "print(\"Accuracy on training set: \", accuracy_score(DT_y_train_preds, y_train),\"\\n\")\n",
    "\n",
    "print(\"Precision on training set: \", precision_score(DT_y_train_preds, y_train),\"\\n\")\n",
    "\n",
    "print(\"Recall on training set: \", recall_score(DT_y_train_preds, y_train),\"\\n\")\n",
    "\n",
    "print(\"F1 score on training set: \", f1_score(DT_y_train_preds, y_train),\"\\n\")\n",
    "\n",
    "DT_y_test_preds = model.predict(X_test)\n",
    "\n",
    "DT_accuracy = accuracy_score(DT_y_test_preds, y_test)\n",
    "\n",
    "print(\"Accuracy on testing set: \", DT_accuracy,\"\\n\")\n",
    "\n",
    "print(\"Precision on testing set: \", precision_score(DT_y_test_preds, y_test),\"\\n\")\n",
    "\n",
    "print(\"Recall on testing set: \", recall_score(DT_y_test_preds, y_test),\"\\n\")\n",
    "\n",
    "print(\"F1 score on testing set: \", f1_score(DT_y_test_preds, y_test),\"\\n\")"
   ]
  },
  {
   "cell_type": "code",
   "execution_count": 53,
   "metadata": {},
   "outputs": [],
   "source": [
    "from sklearn.model_selection import StratifiedKFold #Cross Validation\n",
    "cv = StratifiedKFold(n_splits=3)"
   ]
  },
  {
   "cell_type": "code",
   "execution_count": 54,
   "metadata": {},
   "outputs": [
    {
     "name": "stdout",
     "output_type": "stream",
     "text": [
      "[0.73800738 0.62361624 0.72962963]\n"
     ]
    },
    {
     "data": {
      "text/plain": [
       "0.6970844152885972"
      ]
     },
     "execution_count": 54,
     "metadata": {},
     "output_type": "execute_result"
    }
   ],
   "source": [
    "from sklearn.model_selection import cross_val_score #Cross Validation\n",
    "crossDT = cross_val_score(DTmodel,X,y,cv=cv,scoring = \"accuracy\")\n",
    "print(crossDT)\n",
    "np.mean(crossDT)"
   ]
  },
  {
   "cell_type": "code",
   "execution_count": 55,
   "metadata": {},
   "outputs": [
    {
     "data": {
      "text/plain": [
       "array([0.24669604, 0.24669604, 1.        , 0.9375    , 0.24669604,\n",
       "       0.24669604, 0.64285714, 0.24669604, 0.64285714, 0.24669604])"
      ]
     },
     "execution_count": 55,
     "metadata": {},
     "output_type": "execute_result"
    }
   ],
   "source": [
    "DT_y_pred_proba = model.predict_proba(X_test)[:,1]\n",
    "DT_y_pred_proba[:10]"
   ]
  },
  {
   "cell_type": "code",
   "execution_count": 56,
   "metadata": {},
   "outputs": [
    {
     "data": {
      "text/plain": [
       "array([[116,  13],\n",
       "       [ 53,  86]], dtype=int64)"
      ]
     },
     "execution_count": 56,
     "metadata": {},
     "output_type": "execute_result"
    }
   ],
   "source": [
    "confusion_matrix(y_test, DT_y_test_preds)"
   ]
  },
  {
   "cell_type": "code",
   "execution_count": 57,
   "metadata": {},
   "outputs": [
    {
     "name": "stdout",
     "output_type": "stream",
     "text": [
      "              precision    recall  f1-score   support\n",
      "\n",
      "           0       0.73      0.96      0.83       277\n",
      "           1       0.94      0.64      0.76       267\n",
      "\n",
      "    accuracy                           0.80       544\n",
      "   macro avg       0.84      0.80      0.80       544\n",
      "weighted avg       0.83      0.80      0.80       544\n",
      "\n",
      "              precision    recall  f1-score   support\n",
      "\n",
      "           0       0.69      0.90      0.78       129\n",
      "           1       0.87      0.62      0.72       139\n",
      "\n",
      "    accuracy                           0.75       268\n",
      "   macro avg       0.78      0.76      0.75       268\n",
      "weighted avg       0.78      0.75      0.75       268\n",
      "\n"
     ]
    }
   ],
   "source": [
    "from sklearn.metrics import classification_report\n",
    "print(classification_report(y_train, DT_y_train_preds))\n",
    "print(classification_report(y_test,DT_y_test_preds))"
   ]
  },
  {
   "cell_type": "code",
   "execution_count": 58,
   "metadata": {},
   "outputs": [],
   "source": [
    "fpr, tpr, thresholds = roc_curve(y_test, DT_y_pred_proba)"
   ]
  },
  {
   "cell_type": "code",
   "execution_count": 59,
   "metadata": {},
   "outputs": [
    {
     "data": {
      "image/png": "[encoded data removed]",
      "text/plain": [
       "<Figure size 576x576 with 1 Axes>"
      ]
     },
     "metadata": {},
     "output_type": "display_data"
    }
   ],
   "source": [
    "# Plot the ROC curve\n",
    "fig = plt.figure(figsize=(8,8))\n",
    "plt.title('Receiver Operating Characteristic')\n",
    "\n",
    "# Plot ROC curve\n",
    "plt.plot(fpr, tpr, label='l1')\n",
    "plt.legend(loc='lower right')\n",
    "\n",
    "# Diagonal 45 degree line\n",
    "plt.plot([0,1],[0,1],'k--')\n",
    "\n",
    "# Axes limits and labels\n",
    "plt.xlim([-0.1,1.1])\n",
    "plt.ylim([-0.1,1.1])\n",
    "plt.ylabel('True Positive Rate')\n",
    "plt.xlabel('False Positive Rate')\n",
    "plt.show()"
   ]
  },
  {
   "cell_type": "code",
   "execution_count": 60,
   "metadata": {},
   "outputs": [
    {
     "data": {
      "text/plain": [
       "0.7984964642572236"
      ]
     },
     "execution_count": 60,
     "metadata": {},
     "output_type": "execute_result"
    }
   ],
   "source": [
    "# Calculate AUC for Train\n",
    "roc_auc_score(y_train, DT_y_train_preds)"
   ]
  },
  {
   "cell_type": "code",
   "execution_count": 61,
   "metadata": {},
   "outputs": [
    {
     "name": "stdout",
     "output_type": "stream",
     "text": [
      "0.7805476548993364\n"
     ]
    }
   ],
   "source": [
    "# Calculate AUC for Test set\n",
    "DT_auc = auc(fpr, tpr)\n",
    "print(DT_auc)"
   ]
  },
  {
   "cell_type": "markdown",
   "metadata": {},
   "source": [
    "### Feature Importance"
   ]
  },
  {
   "cell_type": "code",
   "execution_count": 62,
   "metadata": {},
   "outputs": [
    {
     "name": "stdout",
     "output_type": "stream",
     "text": [
      "The features in order of importance are:\n",
      "--------------------------------------------------\n",
      "Direct_Bilirubin\n",
      "Alamine_Aminotransferase\n",
      "Age\n",
      "Alkaline_Phosphotase\n",
      "Aspartate_Aminotransferase\n",
      "Albumin\n",
      "Total_Protiens\n",
      "Albumin_and_Globulin_Ratio\n",
      "Gender\n",
      "Total_Bilirubin\n"
     ]
    }
   ],
   "source": [
    "indices = np.argsort(-model.best_estimator_.feature_importances_)\n",
    "print(\"The features in order of importance are:\")\n",
    "print(50*'-')\n",
    "for feature in X.columns[indices]:\n",
    "    print(feature)"
   ]
  },
  {
   "cell_type": "code",
   "execution_count": 63,
   "metadata": {},
   "outputs": [
    {
     "name": "stdout",
     "output_type": "stream",
     "text": [
      "Requirement already satisfied: graphviz in d:\\anaconda3\\lib\\site-packages (0.14)\n"
     ]
    },
    {
     "data": {
      "image/svg+xml": [
       "<?xml version=\"1.0\" encoding=\"UTF-8\" standalone=\"no\"?>\r\n",
       "<!DOCTYPE svg PUBLIC \"-//W3C//DTD SVG 1.1//EN\"\r\n",
       " \"http://www.w3.org/Graphics/SVG/1.1/DTD/svg11.dtd\">\r\n",
       "<!-- Generated by graphviz version 2.38.0 (20140413.2041)\r\n",
       " -->\r\n",
       "<!-- Title: Tree Pages: 1 -->\r\n",
       "<svg width=\"2044pt\" height=\"661pt\"\r\n",
       " viewBox=\"0.00 0.00 2044.00 661.00\" xmlns=\"http://www.w3.org/2000/svg\" xmlns:xlink=\"http://www.w3.org/1999/xlink\">\r\n",
       "<g id=\"graph0\" class=\"graph\" transform=\"scale(1 1) rotate(0) translate(4 657)\">\r\n",
       "<title>Tree</title>\r\n",
       "<polygon fill=\"white\" stroke=\"none\" points=\"-4,4 -4,-657 2040,-657 2040,4 -4,4\"/>\r\n",
       "<!-- 0 -->\r\n",
       "<g id=\"node1\" class=\"node\"><title>0</title>\r\n",
       "<path fill=\"#fefaf8\" stroke=\"black\" d=\"M1353.5,-653C1353.5,-653 1247.5,-653 1247.5,-653 1241.5,-653 1235.5,-647 1235.5,-641 1235.5,-641 1235.5,-601 1235.5,-601 1235.5,-595 1241.5,-589 1247.5,-589 1247.5,-589 1353.5,-589 1353.5,-589 1359.5,-589 1365.5,-595 1365.5,-601 1365.5,-601 1365.5,-641 1365.5,-641 1365.5,-647 1359.5,-653 1353.5,-653\"/>\r\n",
       "<text text-anchor=\"start\" x=\"1266\" y=\"-638.8\" font-family=\"Helvetica,sans-Serif\" font-size=\"14.00\">X</text>\r\n",
       "<text text-anchor=\"start\" x=\"1276\" y=\"-638.8\" font-family=\"Helvetica,sans-Serif\" baseline-shift=\"sub\" font-size=\"14.00\">3</text>\r\n",
       "<text text-anchor=\"start\" x=\"1283\" y=\"-638.8\" font-family=\"Helvetica,sans-Serif\" font-size=\"14.00\"> ≤ 0.177</text>\r\n",
       "<text text-anchor=\"start\" x=\"1271.5\" y=\"-624.8\" font-family=\"Helvetica,sans-Serif\" font-size=\"14.00\">gini = 0.5</text>\r\n",
       "<text text-anchor=\"start\" x=\"1253\" y=\"-610.8\" font-family=\"Helvetica,sans-Serif\" font-size=\"14.00\">samples = 544</text>\r\n",
       "<text text-anchor=\"start\" x=\"1243.5\" y=\"-596.8\" font-family=\"Helvetica,sans-Serif\" font-size=\"14.00\">value = [277, 267]</text>\r\n",
       "</g>\r\n",
       "<!-- 1 -->\r\n",
       "<g id=\"node2\" class=\"node\"><title>1</title>\r\n",
       "<path fill=\"#f4cbae\" stroke=\"black\" d=\"M1121.5,-553C1121.5,-553 1015.5,-553 1015.5,-553 1009.5,-553 1003.5,-547 1003.5,-541 1003.5,-541 1003.5,-501 1003.5,-501 1003.5,-495 1009.5,-489 1015.5,-489 1015.5,-489 1121.5,-489 1121.5,-489 1127.5,-489 1133.5,-495 1133.5,-501 1133.5,-501 1133.5,-541 1133.5,-541 1133.5,-547 1127.5,-553 1121.5,-553\"/>\r\n",
       "<text text-anchor=\"start\" x=\"1034\" y=\"-538.8\" font-family=\"Helvetica,sans-Serif\" font-size=\"14.00\">X</text>\r\n",
       "<text text-anchor=\"start\" x=\"1044\" y=\"-538.8\" font-family=\"Helvetica,sans-Serif\" baseline-shift=\"sub\" font-size=\"14.00\">5</text>\r\n",
       "<text text-anchor=\"start\" x=\"1051\" y=\"-538.8\" font-family=\"Helvetica,sans-Serif\" font-size=\"14.00\"> ≤ 0.349</text>\r\n",
       "<text text-anchor=\"start\" x=\"1031\" y=\"-524.8\" font-family=\"Helvetica,sans-Serif\" font-size=\"14.00\">gini = 0.467</text>\r\n",
       "<text text-anchor=\"start\" x=\"1021\" y=\"-510.8\" font-family=\"Helvetica,sans-Serif\" font-size=\"14.00\">samples = 418</text>\r\n",
       "<text text-anchor=\"start\" x=\"1011.5\" y=\"-496.8\" font-family=\"Helvetica,sans-Serif\" font-size=\"14.00\">value = [263, 155]</text>\r\n",
       "</g>\r\n",
       "<!-- 0&#45;&gt;1 -->\r\n",
       "<g id=\"edge1\" class=\"edge\"><title>0&#45;&gt;1</title>\r\n",
       "<path fill=\"none\" stroke=\"black\" d=\"M1235.26,-592.441C1206.6,-580.334 1172.78,-566.051 1143.13,-553.523\"/>\r\n",
       "<polygon fill=\"black\" stroke=\"black\" points=\"1144.23,-550.189 1133.65,-549.522 1141.5,-556.637 1144.23,-550.189\"/>\r\n",
       "<text text-anchor=\"middle\" x=\"1143.06\" y=\"-568.985\" font-family=\"Helvetica,sans-Serif\" font-size=\"14.00\">True</text>\r\n",
       "</g>\r\n",
       "<!-- 28 -->\r\n",
       "<g id=\"node29\" class=\"node\"><title>28</title>\r\n",
       "<path fill=\"#52a9e8\" stroke=\"black\" d=\"M1625.5,-553C1625.5,-553 1527.5,-553 1527.5,-553 1521.5,-553 1515.5,-547 1515.5,-541 1515.5,-541 1515.5,-501 1515.5,-501 1515.5,-495 1521.5,-489 1527.5,-489 1527.5,-489 1625.5,-489 1625.5,-489 1631.5,-489 1637.5,-495 1637.5,-501 1637.5,-501 1637.5,-541 1637.5,-541 1637.5,-547 1631.5,-553 1625.5,-553\"/>\r\n",
       "<text text-anchor=\"start\" x=\"1546\" y=\"-538.8\" font-family=\"Helvetica,sans-Serif\" font-size=\"14.00\">X</text>\r\n",
       "<text text-anchor=\"start\" x=\"1556\" y=\"-538.8\" font-family=\"Helvetica,sans-Serif\" baseline-shift=\"sub\" font-size=\"14.00\">4</text>\r\n",
       "<text text-anchor=\"start\" x=\"1563\" y=\"-538.8\" font-family=\"Helvetica,sans-Serif\" font-size=\"14.00\"> ≤ 0.65</text>\r\n",
       "<text text-anchor=\"start\" x=\"1539\" y=\"-524.8\" font-family=\"Helvetica,sans-Serif\" font-size=\"14.00\">gini = 0.198</text>\r\n",
       "<text text-anchor=\"start\" x=\"1529\" y=\"-510.8\" font-family=\"Helvetica,sans-Serif\" font-size=\"14.00\">samples = 126</text>\r\n",
       "<text text-anchor=\"start\" x=\"1523.5\" y=\"-496.8\" font-family=\"Helvetica,sans-Serif\" font-size=\"14.00\">value = [14, 112]</text>\r\n",
       "</g>\r\n",
       "<!-- 0&#45;&gt;28 -->\r\n",
       "<g id=\"edge28\" class=\"edge\"><title>0&#45;&gt;28</title>\r\n",
       "<path fill=\"none\" stroke=\"black\" d=\"M1365.56,-596.899C1407.64,-581.958 1462.41,-562.509 1505.6,-547.174\"/>\r\n",
       "<polygon fill=\"black\" stroke=\"black\" points=\"1506.94,-550.414 1515.19,-543.769 1504.6,-543.817 1506.94,-550.414\"/>\r\n",
       "<text text-anchor=\"middle\" x=\"1504.45\" y=\"-562.643\" font-family=\"Helvetica,sans-Serif\" font-size=\"14.00\">False</text>\r\n",
       "</g>\r\n",
       "<!-- 2 -->\r\n",
       "<g id=\"node3\" class=\"node\"><title>2</title>\r\n",
       "<path fill=\"#f2c19d\" stroke=\"black\" d=\"M875.5,-453C875.5,-453 769.5,-453 769.5,-453 763.5,-453 757.5,-447 757.5,-441 757.5,-441 757.5,-401 757.5,-401 757.5,-395 763.5,-389 769.5,-389 769.5,-389 875.5,-389 875.5,-389 881.5,-389 887.5,-395 887.5,-401 887.5,-401 887.5,-441 887.5,-441 887.5,-447 881.5,-453 875.5,-453\"/>\r\n",
       "<text text-anchor=\"start\" x=\"788\" y=\"-438.8\" font-family=\"Helvetica,sans-Serif\" font-size=\"14.00\">X</text>\r\n",
       "<text text-anchor=\"start\" x=\"798\" y=\"-438.8\" font-family=\"Helvetica,sans-Serif\" baseline-shift=\"sub\" font-size=\"14.00\">6</text>\r\n",
       "<text text-anchor=\"start\" x=\"805\" y=\"-438.8\" font-family=\"Helvetica,sans-Serif\" font-size=\"14.00\"> ≤ 0.346</text>\r\n",
       "<text text-anchor=\"start\" x=\"785\" y=\"-424.8\" font-family=\"Helvetica,sans-Serif\" font-size=\"14.00\">gini = 0.446</text>\r\n",
       "<text text-anchor=\"start\" x=\"775\" y=\"-410.8\" font-family=\"Helvetica,sans-Serif\" font-size=\"14.00\">samples = 384</text>\r\n",
       "<text text-anchor=\"start\" x=\"765.5\" y=\"-396.8\" font-family=\"Helvetica,sans-Serif\" font-size=\"14.00\">value = [255, 129]</text>\r\n",
       "</g>\r\n",
       "<!-- 1&#45;&gt;2 -->\r\n",
       "<g id=\"edge2\" class=\"edge\"><title>1&#45;&gt;2</title>\r\n",
       "<path fill=\"none\" stroke=\"black\" d=\"M1003.22,-493.995C970.565,-480.985 930.887,-465.179 897.037,-451.694\"/>\r\n",
       "<polygon fill=\"black\" stroke=\"black\" points=\"898.241,-448.406 887.655,-447.956 895.65,-454.909 898.241,-448.406\"/>\r\n",
       "</g>\r\n",
       "<!-- 19 -->\r\n",
       "<g id=\"node20\" class=\"node\"><title>19</title>\r\n",
       "<path fill=\"#76bbed\" stroke=\"black\" d=\"M1109,-453C1109,-453 1028,-453 1028,-453 1022,-453 1016,-447 1016,-441 1016,-441 1016,-401 1016,-401 1016,-395 1022,-389 1028,-389 1028,-389 1109,-389 1109,-389 1115,-389 1121,-395 1121,-401 1121,-401 1121,-441 1121,-441 1121,-447 1115,-453 1109,-453\"/>\r\n",
       "<text text-anchor=\"start\" x=\"1034\" y=\"-438.8\" font-family=\"Helvetica,sans-Serif\" font-size=\"14.00\">X</text>\r\n",
       "<text text-anchor=\"start\" x=\"1044\" y=\"-438.8\" font-family=\"Helvetica,sans-Serif\" baseline-shift=\"sub\" font-size=\"14.00\">0</text>\r\n",
       "<text text-anchor=\"start\" x=\"1051\" y=\"-438.8\" font-family=\"Helvetica,sans-Serif\" font-size=\"14.00\"> ≤ 0.047</text>\r\n",
       "<text text-anchor=\"start\" x=\"1035\" y=\"-424.8\" font-family=\"Helvetica,sans-Serif\" font-size=\"14.00\">gini = 0.36</text>\r\n",
       "<text text-anchor=\"start\" x=\"1025\" y=\"-410.8\" font-family=\"Helvetica,sans-Serif\" font-size=\"14.00\">samples = 34</text>\r\n",
       "<text text-anchor=\"start\" x=\"1024\" y=\"-396.8\" font-family=\"Helvetica,sans-Serif\" font-size=\"14.00\">value = [8, 26]</text>\r\n",
       "</g>\r\n",
       "<!-- 1&#45;&gt;19 -->\r\n",
       "<g id=\"edge19\" class=\"edge\"><title>1&#45;&gt;19</title>\r\n",
       "<path fill=\"none\" stroke=\"black\" d=\"M1068.5,-488.992C1068.5,-480.859 1068.5,-471.959 1068.5,-463.378\"/>\r\n",
       "<polygon fill=\"black\" stroke=\"black\" points=\"1072,-463.142 1068.5,-453.142 1065,-463.142 1072,-463.142\"/>\r\n",
       "</g>\r\n",
       "<!-- 3 -->\r\n",
       "<g id=\"node4\" class=\"node\"><title>3</title>\r\n",
       "<path fill=\"#f3c6a5\" stroke=\"black\" d=\"M731.5,-353C731.5,-353 625.5,-353 625.5,-353 619.5,-353 613.5,-347 613.5,-341 613.5,-341 613.5,-301 613.5,-301 613.5,-295 619.5,-289 625.5,-289 625.5,-289 731.5,-289 731.5,-289 737.5,-289 743.5,-295 743.5,-301 743.5,-301 743.5,-341 743.5,-341 743.5,-347 737.5,-353 731.5,-353\"/>\r\n",
       "<text text-anchor=\"start\" x=\"644\" y=\"-338.8\" font-family=\"Helvetica,sans-Serif\" font-size=\"14.00\">X</text>\r\n",
       "<text text-anchor=\"start\" x=\"654\" y=\"-338.8\" font-family=\"Helvetica,sans-Serif\" baseline-shift=\"sub\" font-size=\"14.00\">4</text>\r\n",
       "<text text-anchor=\"start\" x=\"661\" y=\"-338.8\" font-family=\"Helvetica,sans-Serif\" font-size=\"14.00\"> ≤ 0.341</text>\r\n",
       "<text text-anchor=\"start\" x=\"641\" y=\"-324.8\" font-family=\"Helvetica,sans-Serif\" font-size=\"14.00\">gini = 0.456</text>\r\n",
       "<text text-anchor=\"start\" x=\"631\" y=\"-310.8\" font-family=\"Helvetica,sans-Serif\" font-size=\"14.00\">samples = 366</text>\r\n",
       "<text text-anchor=\"start\" x=\"621.5\" y=\"-296.8\" font-family=\"Helvetica,sans-Serif\" font-size=\"14.00\">value = [237, 129]</text>\r\n",
       "</g>\r\n",
       "<!-- 2&#45;&gt;3 -->\r\n",
       "<g id=\"edge3\" class=\"edge\"><title>2&#45;&gt;3</title>\r\n",
       "<path fill=\"none\" stroke=\"black\" d=\"M776.938,-388.992C762.886,-379.429 747.275,-368.805 732.701,-358.887\"/>\r\n",
       "<polygon fill=\"black\" stroke=\"black\" points=\"734.497,-355.875 724.26,-353.142 730.558,-361.662 734.497,-355.875\"/>\r\n",
       "</g>\r\n",
       "<!-- 18 -->\r\n",
       "<g id=\"node19\" class=\"node\"><title>18</title>\r\n",
       "<path fill=\"#e58139\" stroke=\"black\" d=\"M863,-347.5C863,-347.5 782,-347.5 782,-347.5 776,-347.5 770,-341.5 770,-335.5 770,-335.5 770,-306.5 770,-306.5 770,-300.5 776,-294.5 782,-294.5 782,-294.5 863,-294.5 863,-294.5 869,-294.5 875,-300.5 875,-306.5 875,-306.5 875,-335.5 875,-335.5 875,-341.5 869,-347.5 863,-347.5\"/>\r\n",
       "<text text-anchor=\"start\" x=\"793.5\" y=\"-332.3\" font-family=\"Helvetica,sans-Serif\" font-size=\"14.00\">gini = 0.0</text>\r\n",
       "<text text-anchor=\"start\" x=\"779\" y=\"-317.3\" font-family=\"Helvetica,sans-Serif\" font-size=\"14.00\">samples = 18</text>\r\n",
       "<text text-anchor=\"start\" x=\"778\" y=\"-302.3\" font-family=\"Helvetica,sans-Serif\" font-size=\"14.00\">value = [18, 0]</text>\r\n",
       "</g>\r\n",
       "<!-- 2&#45;&gt;18 -->\r\n",
       "<g id=\"edge18\" class=\"edge\"><title>2&#45;&gt;18</title>\r\n",
       "<path fill=\"none\" stroke=\"black\" d=\"M822.5,-388.992C822.5,-379.087 822.5,-368.042 822.5,-357.824\"/>\r\n",
       "<polygon fill=\"black\" stroke=\"black\" points=\"826,-357.556 822.5,-347.556 819,-357.556 826,-357.556\"/>\r\n",
       "</g>\r\n",
       "<!-- 4 -->\r\n",
       "<g id=\"node5\" class=\"node\"><title>4</title>\r\n",
       "<path fill=\"#f0b68c\" stroke=\"black\" d=\"M421.5,-253C421.5,-253 323.5,-253 323.5,-253 317.5,-253 311.5,-247 311.5,-241 311.5,-241 311.5,-201 311.5,-201 311.5,-195 317.5,-189 323.5,-189 323.5,-189 421.5,-189 421.5,-189 427.5,-189 433.5,-195 433.5,-201 433.5,-201 433.5,-241 433.5,-241 433.5,-247 427.5,-253 421.5,-253\"/>\r\n",
       "<text text-anchor=\"start\" x=\"338\" y=\"-238.8\" font-family=\"Helvetica,sans-Serif\" font-size=\"14.00\">X</text>\r\n",
       "<text text-anchor=\"start\" x=\"348\" y=\"-238.8\" font-family=\"Helvetica,sans-Serif\" baseline-shift=\"sub\" font-size=\"14.00\">0</text>\r\n",
       "<text text-anchor=\"start\" x=\"355\" y=\"-238.8\" font-family=\"Helvetica,sans-Serif\" font-size=\"14.00\"> ≤ 0.715</text>\r\n",
       "<text text-anchor=\"start\" x=\"335\" y=\"-224.8\" font-family=\"Helvetica,sans-Serif\" font-size=\"14.00\">gini = 0.416</text>\r\n",
       "<text text-anchor=\"start\" x=\"325\" y=\"-210.8\" font-family=\"Helvetica,sans-Serif\" font-size=\"14.00\">samples = 261</text>\r\n",
       "<text text-anchor=\"start\" x=\"319.5\" y=\"-196.8\" font-family=\"Helvetica,sans-Serif\" font-size=\"14.00\">value = [184, 77]</text>\r\n",
       "</g>\r\n",
       "<!-- 3&#45;&gt;4 -->\r\n",
       "<g id=\"edge4\" class=\"edge\"><title>3&#45;&gt;4</title>\r\n",
       "<path fill=\"none\" stroke=\"black\" d=\"M613.231,-299.097C563.267,-283.095 494.45,-261.056 443.187,-244.638\"/>\r\n",
       "<polygon fill=\"black\" stroke=\"black\" points=\"444.095,-241.254 433.504,-241.537 441.96,-247.921 444.095,-241.254\"/>\r\n",
       "</g>\r\n",
       "<!-- 11 -->\r\n",
       "<g id=\"node12\" class=\"node\"><title>11</title>\r\n",
       "<path fill=\"#fffdfb\" stroke=\"black\" d=\"M723,-253C723,-253 634,-253 634,-253 628,-253 622,-247 622,-241 622,-241 622,-201 622,-201 622,-195 628,-189 634,-189 634,-189 723,-189 723,-189 729,-189 735,-195 735,-201 735,-201 735,-241 735,-241 735,-247 729,-253 723,-253\"/>\r\n",
       "<text text-anchor=\"start\" x=\"644\" y=\"-238.8\" font-family=\"Helvetica,sans-Serif\" font-size=\"14.00\">X</text>\r\n",
       "<text text-anchor=\"start\" x=\"654\" y=\"-238.8\" font-family=\"Helvetica,sans-Serif\" baseline-shift=\"sub\" font-size=\"14.00\">0</text>\r\n",
       "<text text-anchor=\"start\" x=\"661\" y=\"-238.8\" font-family=\"Helvetica,sans-Serif\" font-size=\"14.00\"> ≤ 0.227</text>\r\n",
       "<text text-anchor=\"start\" x=\"649.5\" y=\"-224.8\" font-family=\"Helvetica,sans-Serif\" font-size=\"14.00\">gini = 0.5</text>\r\n",
       "<text text-anchor=\"start\" x=\"631\" y=\"-210.8\" font-family=\"Helvetica,sans-Serif\" font-size=\"14.00\">samples = 105</text>\r\n",
       "<text text-anchor=\"start\" x=\"630\" y=\"-196.8\" font-family=\"Helvetica,sans-Serif\" font-size=\"14.00\">value = [53, 52]</text>\r\n",
       "</g>\r\n",
       "<!-- 3&#45;&gt;11 -->\r\n",
       "<g id=\"edge11\" class=\"edge\"><title>3&#45;&gt;11</title>\r\n",
       "<path fill=\"none\" stroke=\"black\" d=\"M678.5,-288.992C678.5,-280.859 678.5,-271.959 678.5,-263.378\"/>\r\n",
       "<polygon fill=\"black\" stroke=\"black\" points=\"682,-263.142 678.5,-253.142 675,-263.142 682,-263.142\"/>\r\n",
       "</g>\r\n",
       "<!-- 5 -->\r\n",
       "<g id=\"node6\" class=\"node\"><title>5</title>\r\n",
       "<path fill=\"#efb082\" stroke=\"black\" d=\"M231.5,-153C231.5,-153 133.5,-153 133.5,-153 127.5,-153 121.5,-147 121.5,-141 121.5,-141 121.5,-101 121.5,-101 121.5,-95 127.5,-89 133.5,-89 133.5,-89 231.5,-89 231.5,-89 237.5,-89 243.5,-95 243.5,-101 243.5,-101 243.5,-141 243.5,-141 243.5,-147 237.5,-153 231.5,-153\"/>\r\n",
       "<text text-anchor=\"start\" x=\"152\" y=\"-138.8\" font-family=\"Helvetica,sans-Serif\" font-size=\"14.00\">X</text>\r\n",
       "<text text-anchor=\"start\" x=\"162\" y=\"-138.8\" font-family=\"Helvetica,sans-Serif\" baseline-shift=\"sub\" font-size=\"14.00\">4</text>\r\n",
       "<text text-anchor=\"start\" x=\"169\" y=\"-138.8\" font-family=\"Helvetica,sans-Serif\" font-size=\"14.00\"> ≤ 0.21</text>\r\n",
       "<text text-anchor=\"start\" x=\"145\" y=\"-124.8\" font-family=\"Helvetica,sans-Serif\" font-size=\"14.00\">gini = 0.394</text>\r\n",
       "<text text-anchor=\"start\" x=\"135\" y=\"-110.8\" font-family=\"Helvetica,sans-Serif\" font-size=\"14.00\">samples = 241</text>\r\n",
       "<text text-anchor=\"start\" x=\"129.5\" y=\"-96.8\" font-family=\"Helvetica,sans-Serif\" font-size=\"14.00\">value = [176, 65]</text>\r\n",
       "</g>\r\n",
       "<!-- 4&#45;&gt;5 -->\r\n",
       "<g id=\"edge5\" class=\"edge\"><title>4&#45;&gt;5</title>\r\n",
       "<path fill=\"none\" stroke=\"black\" d=\"M312.383,-188.992C293.15,-179.072 271.702,-168.009 251.865,-157.778\"/>\r\n",
       "<polygon fill=\"black\" stroke=\"black\" points=\"253.37,-154.616 242.878,-153.142 250.161,-160.837 253.37,-154.616\"/>\r\n",
       "</g>\r\n",
       "<!-- 8 -->\r\n",
       "<g id=\"node9\" class=\"node\"><title>8</title>\r\n",
       "<path fill=\"#bddef6\" stroke=\"black\" d=\"M413,-153C413,-153 332,-153 332,-153 326,-153 320,-147 320,-141 320,-141 320,-101 320,-101 320,-95 326,-89 332,-89 332,-89 413,-89 413,-89 419,-89 425,-95 425,-101 425,-101 425,-141 425,-141 425,-147 419,-153 413,-153\"/>\r\n",
       "<text text-anchor=\"start\" x=\"346\" y=\"-138.8\" font-family=\"Helvetica,sans-Serif\" font-size=\"14.00\">X</text>\r\n",
       "<text text-anchor=\"start\" x=\"356\" y=\"-138.8\" font-family=\"Helvetica,sans-Serif\" baseline-shift=\"sub\" font-size=\"14.00\">5</text>\r\n",
       "<text text-anchor=\"start\" x=\"363\" y=\"-138.8\" font-family=\"Helvetica,sans-Serif\" font-size=\"14.00\"> ≤ 0.1</text>\r\n",
       "<text text-anchor=\"start\" x=\"339\" y=\"-124.8\" font-family=\"Helvetica,sans-Serif\" font-size=\"14.00\">gini = 0.48</text>\r\n",
       "<text text-anchor=\"start\" x=\"329\" y=\"-110.8\" font-family=\"Helvetica,sans-Serif\" font-size=\"14.00\">samples = 20</text>\r\n",
       "<text text-anchor=\"start\" x=\"328\" y=\"-96.8\" font-family=\"Helvetica,sans-Serif\" font-size=\"14.00\">value = [8, 12]</text>\r\n",
       "</g>\r\n",
       "<!-- 4&#45;&gt;8 -->\r\n",
       "<g id=\"edge8\" class=\"edge\"><title>4&#45;&gt;8</title>\r\n",
       "<path fill=\"none\" stroke=\"black\" d=\"M372.5,-188.992C372.5,-180.859 372.5,-171.959 372.5,-163.378\"/>\r\n",
       "<polygon fill=\"black\" stroke=\"black\" points=\"376,-163.142 372.5,-153.142 369,-163.142 376,-163.142\"/>\r\n",
       "</g>\r\n",
       "<!-- 6 -->\r\n",
       "<g id=\"node7\" class=\"node\"><title>6</title>\r\n",
       "<path fill=\"#a7d3f3\" stroke=\"black\" d=\"M91,-53C91,-53 12,-53 12,-53 6,-53 0,-47 0,-41 0,-41 0,-12 0,-12 0,-6 6,-0 12,-0 12,-0 91,-0 91,-0 97,-0 103,-6 103,-12 103,-12 103,-41 103,-41 103,-47 97,-53 91,-53\"/>\r\n",
       "<text text-anchor=\"start\" x=\"14\" y=\"-37.8\" font-family=\"Helvetica,sans-Serif\" font-size=\"14.00\">gini = 0.459</text>\r\n",
       "<text text-anchor=\"start\" x=\"8\" y=\"-22.8\" font-family=\"Helvetica,sans-Serif\" font-size=\"14.00\">samples = 14</text>\r\n",
       "<text text-anchor=\"start\" x=\"11\" y=\"-7.8\" font-family=\"Helvetica,sans-Serif\" font-size=\"14.00\">value = [5, 9]</text>\r\n",
       "</g>\r\n",
       "<!-- 5&#45;&gt;6 -->\r\n",
       "<g id=\"edge6\" class=\"edge\"><title>5&#45;&gt;6</title>\r\n",
       "<path fill=\"none\" stroke=\"black\" d=\"M138.514,-88.9415C124.849,-79.2925 109.779,-68.6511 96.0741,-58.9741\"/>\r\n",
       "<polygon fill=\"black\" stroke=\"black\" points=\"97.9298,-55.9998 87.7422,-53.0908 93.8922,-61.718 97.9298,-55.9998\"/>\r\n",
       "</g>\r\n",
       "<!-- 7 -->\r\n",
       "<g id=\"node8\" class=\"node\"><title>7</title>\r\n",
       "<path fill=\"#eeaa7a\" stroke=\"black\" d=\"M231.5,-53C231.5,-53 133.5,-53 133.5,-53 127.5,-53 121.5,-47 121.5,-41 121.5,-41 121.5,-12 121.5,-12 121.5,-6 127.5,-0 133.5,-0 133.5,-0 231.5,-0 231.5,-0 237.5,-0 243.5,-6 243.5,-12 243.5,-12 243.5,-41 243.5,-41 243.5,-47 237.5,-53 231.5,-53\"/>\r\n",
       "<text text-anchor=\"start\" x=\"145\" y=\"-37.8\" font-family=\"Helvetica,sans-Serif\" font-size=\"14.00\">gini = 0.372</text>\r\n",
       "<text text-anchor=\"start\" x=\"135\" y=\"-22.8\" font-family=\"Helvetica,sans-Serif\" font-size=\"14.00\">samples = 227</text>\r\n",
       "<text text-anchor=\"start\" x=\"129.5\" y=\"-7.8\" font-family=\"Helvetica,sans-Serif\" font-size=\"14.00\">value = [171, 56]</text>\r\n",
       "</g>\r\n",
       "<!-- 5&#45;&gt;7 -->\r\n",
       "<g id=\"edge7\" class=\"edge\"><title>5&#45;&gt;7</title>\r\n",
       "<path fill=\"none\" stroke=\"black\" d=\"M182.5,-88.9415C182.5,-80.6579 182.5,-71.643 182.5,-63.1346\"/>\r\n",
       "<polygon fill=\"black\" stroke=\"black\" points=\"186,-63.0908 182.5,-53.0908 179,-63.0909 186,-63.0908\"/>\r\n",
       "</g>\r\n",
       "<!-- 9 -->\r\n",
       "<g id=\"node10\" class=\"node\"><title>9</title>\r\n",
       "<path fill=\"#e9965a\" stroke=\"black\" d=\"M347,-53C347,-53 274,-53 274,-53 268,-53 262,-47 262,-41 262,-41 262,-12 262,-12 262,-6 268,-0 274,-0 274,-0 347,-0 347,-0 353,-0 359,-6 359,-12 359,-12 359,-41 359,-41 359,-47 353,-53 347,-53\"/>\r\n",
       "<text text-anchor=\"start\" x=\"273\" y=\"-37.8\" font-family=\"Helvetica,sans-Serif\" font-size=\"14.00\">gini = 0.245</text>\r\n",
       "<text text-anchor=\"start\" x=\"271\" y=\"-22.8\" font-family=\"Helvetica,sans-Serif\" font-size=\"14.00\">samples = 7</text>\r\n",
       "<text text-anchor=\"start\" x=\"270\" y=\"-7.8\" font-family=\"Helvetica,sans-Serif\" font-size=\"14.00\">value = [6, 1]</text>\r\n",
       "</g>\r\n",
       "<!-- 8&#45;&gt;9 -->\r\n",
       "<g id=\"edge9\" class=\"edge\"><title>8&#45;&gt;9</title>\r\n",
       "<path fill=\"none\" stroke=\"black\" d=\"M351.682,-88.9415C345.764,-80.1118 339.289,-70.451 333.261,-61.4586\"/>\r\n",
       "<polygon fill=\"black\" stroke=\"black\" points=\"336.128,-59.4488 327.653,-53.0908 330.313,-63.3462 336.128,-59.4488\"/>\r\n",
       "</g>\r\n",
       "<!-- 10 -->\r\n",
       "<g id=\"node11\" class=\"node\"><title>10</title>\r\n",
       "<path fill=\"#5dafea\" stroke=\"black\" d=\"M470,-53C470,-53 389,-53 389,-53 383,-53 377,-47 377,-41 377,-41 377,-12 377,-12 377,-6 383,-0 389,-0 389,-0 470,-0 470,-0 476,-0 482,-6 482,-12 482,-12 482,-41 482,-41 482,-47 476,-53 470,-53\"/>\r\n",
       "<text text-anchor=\"start\" x=\"396\" y=\"-37.8\" font-family=\"Helvetica,sans-Serif\" font-size=\"14.00\">gini = 0.26</text>\r\n",
       "<text text-anchor=\"start\" x=\"386\" y=\"-22.8\" font-family=\"Helvetica,sans-Serif\" font-size=\"14.00\">samples = 13</text>\r\n",
       "<text text-anchor=\"start\" x=\"385\" y=\"-7.8\" font-family=\"Helvetica,sans-Serif\" font-size=\"14.00\">value = [2, 11]</text>\r\n",
       "</g>\r\n",
       "<!-- 8&#45;&gt;10 -->\r\n",
       "<g id=\"edge10\" class=\"edge\"><title>8&#45;&gt;10</title>\r\n",
       "<path fill=\"none\" stroke=\"black\" d=\"M391.639,-88.9415C397.024,-80.2028 402.91,-70.6501 408.403,-61.737\"/>\r\n",
       "<polygon fill=\"black\" stroke=\"black\" points=\"411.464,-63.4404 413.731,-53.0908 405.505,-59.7681 411.464,-63.4404\"/>\r\n",
       "</g>\r\n",
       "<!-- 12 -->\r\n",
       "<g id=\"node13\" class=\"node\"><title>12</title>\r\n",
       "<path fill=\"#f0b58b\" stroke=\"black\" d=\"M716,-153C716,-153 627,-153 627,-153 621,-153 615,-147 615,-141 615,-141 615,-101 615,-101 615,-95 621,-89 627,-89 627,-89 716,-89 716,-89 722,-89 728,-95 728,-101 728,-101 728,-141 728,-141 728,-147 722,-153 716,-153\"/>\r\n",
       "<text text-anchor=\"start\" x=\"637\" y=\"-138.8\" font-family=\"Helvetica,sans-Serif\" font-size=\"14.00\">X</text>\r\n",
       "<text text-anchor=\"start\" x=\"647\" y=\"-138.8\" font-family=\"Helvetica,sans-Serif\" baseline-shift=\"sub\" font-size=\"14.00\">8</text>\r\n",
       "<text text-anchor=\"start\" x=\"654\" y=\"-138.8\" font-family=\"Helvetica,sans-Serif\" font-size=\"14.00\"> ≤ 0.457</text>\r\n",
       "<text text-anchor=\"start\" x=\"634\" y=\"-124.8\" font-family=\"Helvetica,sans-Serif\" font-size=\"14.00\">gini = 0.415</text>\r\n",
       "<text text-anchor=\"start\" x=\"628\" y=\"-110.8\" font-family=\"Helvetica,sans-Serif\" font-size=\"14.00\">samples = 34</text>\r\n",
       "<text text-anchor=\"start\" x=\"623\" y=\"-96.8\" font-family=\"Helvetica,sans-Serif\" font-size=\"14.00\">value = [24, 10]</text>\r\n",
       "</g>\r\n",
       "<!-- 11&#45;&gt;12 -->\r\n",
       "<g id=\"edge12\" class=\"edge\"><title>11&#45;&gt;12</title>\r\n",
       "<path fill=\"none\" stroke=\"black\" d=\"M676.285,-188.992C675.704,-180.859 675.068,-171.959 674.456,-163.378\"/>\r\n",
       "<polygon fill=\"black\" stroke=\"black\" points=\"677.928,-162.868 673.724,-153.142 670.946,-163.366 677.928,-162.868\"/>\r\n",
       "</g>\r\n",
       "<!-- 15 -->\r\n",
       "<g id=\"node16\" class=\"node\"><title>15</title>\r\n",
       "<path fill=\"#c2e1f7\" stroke=\"black\" d=\"M847,-153C847,-153 758,-153 758,-153 752,-153 746,-147 746,-141 746,-141 746,-101 746,-101 746,-95 752,-89 758,-89 758,-89 847,-89 847,-89 853,-89 859,-95 859,-101 859,-101 859,-141 859,-141 859,-147 853,-153 847,-153\"/>\r\n",
       "<text text-anchor=\"start\" x=\"772\" y=\"-138.8\" font-family=\"Helvetica,sans-Serif\" font-size=\"14.00\">X</text>\r\n",
       "<text text-anchor=\"start\" x=\"782\" y=\"-138.8\" font-family=\"Helvetica,sans-Serif\" baseline-shift=\"sub\" font-size=\"14.00\">3</text>\r\n",
       "<text text-anchor=\"start\" x=\"789\" y=\"-138.8\" font-family=\"Helvetica,sans-Serif\" font-size=\"14.00\"> ≤ 0.07</text>\r\n",
       "<text text-anchor=\"start\" x=\"765\" y=\"-124.8\" font-family=\"Helvetica,sans-Serif\" font-size=\"14.00\">gini = 0.483</text>\r\n",
       "<text text-anchor=\"start\" x=\"759\" y=\"-110.8\" font-family=\"Helvetica,sans-Serif\" font-size=\"14.00\">samples = 71</text>\r\n",
       "<text text-anchor=\"start\" x=\"754\" y=\"-96.8\" font-family=\"Helvetica,sans-Serif\" font-size=\"14.00\">value = [29, 42]</text>\r\n",
       "</g>\r\n",
       "<!-- 11&#45;&gt;15 -->\r\n",
       "<g id=\"edge15\" class=\"edge\"><title>11&#45;&gt;15</title>\r\n",
       "<path fill=\"none\" stroke=\"black\" d=\"M717.734,-188.992C729.608,-179.608 742.775,-169.202 755.122,-159.444\"/>\r\n",
       "<polygon fill=\"black\" stroke=\"black\" points=\"757.42,-162.089 763.095,-153.142 753.079,-156.597 757.42,-162.089\"/>\r\n",
       "</g>\r\n",
       "<!-- 13 -->\r\n",
       "<g id=\"node14\" class=\"node\"><title>13</title>\r\n",
       "<path fill=\"#e58139\" stroke=\"black\" d=\"M585,-53C585,-53 512,-53 512,-53 506,-53 500,-47 500,-41 500,-41 500,-12 500,-12 500,-6 506,-0 512,-0 512,-0 585,-0 585,-0 591,-0 597,-6 597,-12 597,-12 597,-41 597,-41 597,-47 591,-53 585,-53\"/>\r\n",
       "<text text-anchor=\"start\" x=\"519.5\" y=\"-37.8\" font-family=\"Helvetica,sans-Serif\" font-size=\"14.00\">gini = 0.0</text>\r\n",
       "<text text-anchor=\"start\" x=\"509\" y=\"-22.8\" font-family=\"Helvetica,sans-Serif\" font-size=\"14.00\">samples = 9</text>\r\n",
       "<text text-anchor=\"start\" x=\"508\" y=\"-7.8\" font-family=\"Helvetica,sans-Serif\" font-size=\"14.00\">value = [9, 0]</text>\r\n",
       "</g>\r\n",
       "<!-- 12&#45;&gt;13 -->\r\n",
       "<g id=\"edge13\" class=\"edge\"><title>12&#45;&gt;13</title>\r\n",
       "<path fill=\"none\" stroke=\"black\" d=\"M630.201,-88.9415C617.491,-79.3835 603.487,-68.8518 590.717,-59.2482\"/>\r\n",
       "<polygon fill=\"black\" stroke=\"black\" points=\"592.625,-56.304 582.529,-53.0908 588.417,-61.8985 592.625,-56.304\"/>\r\n",
       "</g>\r\n",
       "<!-- 14 -->\r\n",
       "<g id=\"node15\" class=\"node\"><title>14</title>\r\n",
       "<path fill=\"#f6d5bd\" stroke=\"black\" d=\"M716,-53C716,-53 627,-53 627,-53 621,-53 615,-47 615,-41 615,-41 615,-12 615,-12 615,-6 621,-0 627,-0 627,-0 716,-0 716,-0 722,-0 728,-6 728,-12 728,-12 728,-41 728,-41 728,-47 722,-53 716,-53\"/>\r\n",
       "<text text-anchor=\"start\" x=\"638\" y=\"-37.8\" font-family=\"Helvetica,sans-Serif\" font-size=\"14.00\">gini = 0.48</text>\r\n",
       "<text text-anchor=\"start\" x=\"628\" y=\"-22.8\" font-family=\"Helvetica,sans-Serif\" font-size=\"14.00\">samples = 25</text>\r\n",
       "<text text-anchor=\"start\" x=\"623\" y=\"-7.8\" font-family=\"Helvetica,sans-Serif\" font-size=\"14.00\">value = [15, 10]</text>\r\n",
       "</g>\r\n",
       "<!-- 12&#45;&gt;14 -->\r\n",
       "<g id=\"edge14\" class=\"edge\"><title>12&#45;&gt;14</title>\r\n",
       "<path fill=\"none\" stroke=\"black\" d=\"M671.5,-88.9415C671.5,-80.6579 671.5,-71.643 671.5,-63.1346\"/>\r\n",
       "<polygon fill=\"black\" stroke=\"black\" points=\"675,-63.0908 671.5,-53.0908 668,-63.0909 675,-63.0908\"/>\r\n",
       "</g>\r\n",
       "<!-- 16 -->\r\n",
       "<g id=\"node17\" class=\"node\"><title>16</title>\r\n",
       "<path fill=\"#fefaf8\" stroke=\"black\" d=\"M847,-53C847,-53 758,-53 758,-53 752,-53 746,-47 746,-41 746,-41 746,-12 746,-12 746,-6 752,-0 758,-0 758,-0 847,-0 847,-0 853,-0 859,-6 859,-12 859,-12 859,-41 859,-41 859,-47 853,-53 847,-53\"/>\r\n",
       "<text text-anchor=\"start\" x=\"773.5\" y=\"-37.8\" font-family=\"Helvetica,sans-Serif\" font-size=\"14.00\">gini = 0.5</text>\r\n",
       "<text text-anchor=\"start\" x=\"759\" y=\"-22.8\" font-family=\"Helvetica,sans-Serif\" font-size=\"14.00\">samples = 55</text>\r\n",
       "<text text-anchor=\"start\" x=\"754\" y=\"-7.8\" font-family=\"Helvetica,sans-Serif\" font-size=\"14.00\">value = [28, 27]</text>\r\n",
       "</g>\r\n",
       "<!-- 15&#45;&gt;16 -->\r\n",
       "<g id=\"edge16\" class=\"edge\"><title>15&#45;&gt;16</title>\r\n",
       "<path fill=\"none\" stroke=\"black\" d=\"M802.5,-88.9415C802.5,-80.6579 802.5,-71.643 802.5,-63.1346\"/>\r\n",
       "<polygon fill=\"black\" stroke=\"black\" points=\"806,-63.0908 802.5,-53.0908 799,-63.0909 806,-63.0908\"/>\r\n",
       "</g>\r\n",
       "<!-- 17 -->\r\n",
       "<g id=\"node18\" class=\"node\"><title>17</title>\r\n",
       "<path fill=\"#46a4e7\" stroke=\"black\" d=\"M970,-53C970,-53 889,-53 889,-53 883,-53 877,-47 877,-41 877,-41 877,-12 877,-12 877,-6 883,-0 889,-0 889,-0 970,-0 970,-0 976,-0 982,-6 982,-12 982,-12 982,-41 982,-41 982,-47 976,-53 970,-53\"/>\r\n",
       "<text text-anchor=\"start\" x=\"892\" y=\"-37.8\" font-family=\"Helvetica,sans-Serif\" font-size=\"14.00\">gini = 0.117</text>\r\n",
       "<text text-anchor=\"start\" x=\"886\" y=\"-22.8\" font-family=\"Helvetica,sans-Serif\" font-size=\"14.00\">samples = 16</text>\r\n",
       "<text text-anchor=\"start\" x=\"885\" y=\"-7.8\" font-family=\"Helvetica,sans-Serif\" font-size=\"14.00\">value = [1, 15]</text>\r\n",
       "</g>\r\n",
       "<!-- 15&#45;&gt;17 -->\r\n",
       "<g id=\"edge17\" class=\"edge\"><title>15&#45;&gt;17</title>\r\n",
       "<path fill=\"none\" stroke=\"black\" d=\"M845.142,-88.9415C858.265,-79.3835 872.725,-68.8518 885.911,-59.2482\"/>\r\n",
       "<polygon fill=\"black\" stroke=\"black\" points=\"888.342,-61.8074 894.364,-53.0908 884.221,-56.1491 888.342,-61.8074\"/>\r\n",
       "</g>\r\n",
       "<!-- 20 -->\r\n",
       "<g id=\"node21\" class=\"node\"><title>20</title>\r\n",
       "<path fill=\"#e58139\" stroke=\"black\" d=\"M1037,-347.5C1037,-347.5 964,-347.5 964,-347.5 958,-347.5 952,-341.5 952,-335.5 952,-335.5 952,-306.5 952,-306.5 952,-300.5 958,-294.5 964,-294.5 964,-294.5 1037,-294.5 1037,-294.5 1043,-294.5 1049,-300.5 1049,-306.5 1049,-306.5 1049,-335.5 1049,-335.5 1049,-341.5 1043,-347.5 1037,-347.5\"/>\r\n",
       "<text text-anchor=\"start\" x=\"971.5\" y=\"-332.3\" font-family=\"Helvetica,sans-Serif\" font-size=\"14.00\">gini = 0.0</text>\r\n",
       "<text text-anchor=\"start\" x=\"961\" y=\"-317.3\" font-family=\"Helvetica,sans-Serif\" font-size=\"14.00\">samples = 3</text>\r\n",
       "<text text-anchor=\"start\" x=\"960\" y=\"-302.3\" font-family=\"Helvetica,sans-Serif\" font-size=\"14.00\">value = [3, 0]</text>\r\n",
       "</g>\r\n",
       "<!-- 19&#45;&gt;20 -->\r\n",
       "<g id=\"edge20\" class=\"edge\"><title>19&#45;&gt;20</title>\r\n",
       "<path fill=\"none\" stroke=\"black\" d=\"M1046.98,-388.992C1039.68,-378.461 1031.48,-366.643 1024.02,-355.898\"/>\r\n",
       "<polygon fill=\"black\" stroke=\"black\" points=\"1026.81,-353.777 1018.23,-347.556 1021.06,-357.768 1026.81,-353.777\"/>\r\n",
       "</g>\r\n",
       "<!-- 21 -->\r\n",
       "<g id=\"node22\" class=\"node\"><title>21</title>\r\n",
       "<path fill=\"#5fb0ea\" stroke=\"black\" d=\"M1160,-353C1160,-353 1079,-353 1079,-353 1073,-353 1067,-347 1067,-341 1067,-341 1067,-301 1067,-301 1067,-295 1073,-289 1079,-289 1079,-289 1160,-289 1160,-289 1166,-289 1172,-295 1172,-301 1172,-301 1172,-341 1172,-341 1172,-347 1166,-353 1160,-353\"/>\r\n",
       "<text text-anchor=\"start\" x=\"1085\" y=\"-338.8\" font-family=\"Helvetica,sans-Serif\" font-size=\"14.00\">X</text>\r\n",
       "<text text-anchor=\"start\" x=\"1095\" y=\"-338.8\" font-family=\"Helvetica,sans-Serif\" baseline-shift=\"sub\" font-size=\"14.00\">8</text>\r\n",
       "<text text-anchor=\"start\" x=\"1102\" y=\"-338.8\" font-family=\"Helvetica,sans-Serif\" font-size=\"14.00\"> ≤ 0.663</text>\r\n",
       "<text text-anchor=\"start\" x=\"1082\" y=\"-324.8\" font-family=\"Helvetica,sans-Serif\" font-size=\"14.00\">gini = 0.271</text>\r\n",
       "<text text-anchor=\"start\" x=\"1076\" y=\"-310.8\" font-family=\"Helvetica,sans-Serif\" font-size=\"14.00\">samples = 31</text>\r\n",
       "<text text-anchor=\"start\" x=\"1075\" y=\"-296.8\" font-family=\"Helvetica,sans-Serif\" font-size=\"14.00\">value = [5, 26]</text>\r\n",
       "</g>\r\n",
       "<!-- 19&#45;&gt;21 -->\r\n",
       "<g id=\"edge21\" class=\"edge\"><title>19&#45;&gt;21</title>\r\n",
       "<path fill=\"none\" stroke=\"black\" d=\"M1084.64,-388.992C1089.06,-380.502 1093.91,-371.175 1098.55,-362.248\"/>\r\n",
       "<polygon fill=\"black\" stroke=\"black\" points=\"1101.78,-363.629 1103.29,-353.142 1095.57,-360.397 1101.78,-363.629\"/>\r\n",
       "</g>\r\n",
       "<!-- 22 -->\r\n",
       "<g id=\"node23\" class=\"node\"><title>22</title>\r\n",
       "<path fill=\"#399de5\" stroke=\"black\" d=\"M1067,-247.5C1067,-247.5 986,-247.5 986,-247.5 980,-247.5 974,-241.5 974,-235.5 974,-235.5 974,-206.5 974,-206.5 974,-200.5 980,-194.5 986,-194.5 986,-194.5 1067,-194.5 1067,-194.5 1073,-194.5 1079,-200.5 1079,-206.5 1079,-206.5 1079,-235.5 1079,-235.5 1079,-241.5 1073,-247.5 1067,-247.5\"/>\r\n",
       "<text text-anchor=\"start\" x=\"997.5\" y=\"-232.3\" font-family=\"Helvetica,sans-Serif\" font-size=\"14.00\">gini = 0.0</text>\r\n",
       "<text text-anchor=\"start\" x=\"983\" y=\"-217.3\" font-family=\"Helvetica,sans-Serif\" font-size=\"14.00\">samples = 21</text>\r\n",
       "<text text-anchor=\"start\" x=\"982\" y=\"-202.3\" font-family=\"Helvetica,sans-Serif\" font-size=\"14.00\">value = [0, 21]</text>\r\n",
       "</g>\r\n",
       "<!-- 21&#45;&gt;22 -->\r\n",
       "<g id=\"edge22\" class=\"edge\"><title>21&#45;&gt;22</title>\r\n",
       "<path fill=\"none\" stroke=\"black\" d=\"M1090.07,-288.992C1079.78,-278.148 1068.2,-265.94 1057.76,-254.944\"/>\r\n",
       "<polygon fill=\"black\" stroke=\"black\" points=\"1060.17,-252.401 1050.75,-247.556 1055.1,-257.219 1060.17,-252.401\"/>\r\n",
       "</g>\r\n",
       "<!-- 23 -->\r\n",
       "<g id=\"node24\" class=\"node\"><title>23</title>\r\n",
       "<path fill=\"#ffffff\" stroke=\"black\" d=\"M1188,-253C1188,-253 1109,-253 1109,-253 1103,-253 1097,-247 1097,-241 1097,-241 1097,-201 1097,-201 1097,-195 1103,-189 1109,-189 1109,-189 1188,-189 1188,-189 1194,-189 1200,-195 1200,-201 1200,-201 1200,-241 1200,-241 1200,-247 1194,-253 1188,-253\"/>\r\n",
       "<text text-anchor=\"start\" x=\"1114\" y=\"-238.8\" font-family=\"Helvetica,sans-Serif\" font-size=\"14.00\">X</text>\r\n",
       "<text text-anchor=\"start\" x=\"1124\" y=\"-238.8\" font-family=\"Helvetica,sans-Serif\" baseline-shift=\"sub\" font-size=\"14.00\">6</text>\r\n",
       "<text text-anchor=\"start\" x=\"1131\" y=\"-238.8\" font-family=\"Helvetica,sans-Serif\" font-size=\"14.00\"> ≤ 0.361</text>\r\n",
       "<text text-anchor=\"start\" x=\"1119.5\" y=\"-224.8\" font-family=\"Helvetica,sans-Serif\" font-size=\"14.00\">gini = 0.5</text>\r\n",
       "<text text-anchor=\"start\" x=\"1105\" y=\"-210.8\" font-family=\"Helvetica,sans-Serif\" font-size=\"14.00\">samples = 10</text>\r\n",
       "<text text-anchor=\"start\" x=\"1108\" y=\"-196.8\" font-family=\"Helvetica,sans-Serif\" font-size=\"14.00\">value = [5, 5]</text>\r\n",
       "</g>\r\n",
       "<!-- 21&#45;&gt;23 -->\r\n",
       "<g id=\"edge23\" class=\"edge\"><title>21&#45;&gt;23</title>\r\n",
       "<path fill=\"none\" stroke=\"black\" d=\"M1128.68,-288.992C1131.14,-280.681 1133.83,-271.567 1136.42,-262.812\"/>\r\n",
       "<polygon fill=\"black\" stroke=\"black\" points=\"1139.8,-263.725 1139.28,-253.142 1133.09,-261.738 1139.8,-263.725\"/>\r\n",
       "</g>\r\n",
       "<!-- 24 -->\r\n",
       "<g id=\"node25\" class=\"node\"><title>24</title>\r\n",
       "<path fill=\"#ea9a61\" stroke=\"black\" d=\"M1085,-153C1085,-153 1012,-153 1012,-153 1006,-153 1000,-147 1000,-141 1000,-141 1000,-101 1000,-101 1000,-95 1006,-89 1012,-89 1012,-89 1085,-89 1085,-89 1091,-89 1097,-95 1097,-101 1097,-101 1097,-141 1097,-141 1097,-147 1091,-153 1085,-153\"/>\r\n",
       "<text text-anchor=\"start\" x=\"1018\" y=\"-138.8\" font-family=\"Helvetica,sans-Serif\" font-size=\"14.00\">X</text>\r\n",
       "<text text-anchor=\"start\" x=\"1028\" y=\"-138.8\" font-family=\"Helvetica,sans-Serif\" baseline-shift=\"sub\" font-size=\"14.00\">4</text>\r\n",
       "<text text-anchor=\"start\" x=\"1035\" y=\"-138.8\" font-family=\"Helvetica,sans-Serif\" font-size=\"14.00\"> ≤ 0.37</text>\r\n",
       "<text text-anchor=\"start\" x=\"1011\" y=\"-124.8\" font-family=\"Helvetica,sans-Serif\" font-size=\"14.00\">gini = 0.278</text>\r\n",
       "<text text-anchor=\"start\" x=\"1009\" y=\"-110.8\" font-family=\"Helvetica,sans-Serif\" font-size=\"14.00\">samples = 6</text>\r\n",
       "<text text-anchor=\"start\" x=\"1008\" y=\"-96.8\" font-family=\"Helvetica,sans-Serif\" font-size=\"14.00\">value = [5, 1]</text>\r\n",
       "</g>\r\n",
       "<!-- 23&#45;&gt;24 -->\r\n",
       "<g id=\"edge24\" class=\"edge\"><title>23&#45;&gt;24</title>\r\n",
       "<path fill=\"none\" stroke=\"black\" d=\"M1116.86,-188.992C1107.56,-179.876 1097.27,-169.796 1087.56,-160.282\"/>\r\n",
       "<polygon fill=\"black\" stroke=\"black\" points=\"1089.87,-157.642 1080.28,-153.142 1084.97,-162.642 1089.87,-157.642\"/>\r\n",
       "</g>\r\n",
       "<!-- 27 -->\r\n",
       "<g id=\"node28\" class=\"node\"><title>27</title>\r\n",
       "<path fill=\"#399de5\" stroke=\"black\" d=\"M1200,-147.5C1200,-147.5 1127,-147.5 1127,-147.5 1121,-147.5 1115,-141.5 1115,-135.5 1115,-135.5 1115,-106.5 1115,-106.5 1115,-100.5 1121,-94.5 1127,-94.5 1127,-94.5 1200,-94.5 1200,-94.5 1206,-94.5 1212,-100.5 1212,-106.5 1212,-106.5 1212,-135.5 1212,-135.5 1212,-141.5 1206,-147.5 1200,-147.5\"/>\r\n",
       "<text text-anchor=\"start\" x=\"1134.5\" y=\"-132.3\" font-family=\"Helvetica,sans-Serif\" font-size=\"14.00\">gini = 0.0</text>\r\n",
       "<text text-anchor=\"start\" x=\"1124\" y=\"-117.3\" font-family=\"Helvetica,sans-Serif\" font-size=\"14.00\">samples = 4</text>\r\n",
       "<text text-anchor=\"start\" x=\"1123\" y=\"-102.3\" font-family=\"Helvetica,sans-Serif\" font-size=\"14.00\">value = [0, 4]</text>\r\n",
       "</g>\r\n",
       "<!-- 23&#45;&gt;27 -->\r\n",
       "<g id=\"edge27\" class=\"edge\"><title>23&#45;&gt;27</title>\r\n",
       "<path fill=\"none\" stroke=\"black\" d=\"M1153.25,-188.992C1154.78,-178.983 1156.49,-167.81 1158.07,-157.501\"/>\r\n",
       "<polygon fill=\"black\" stroke=\"black\" points=\"1161.53,-157.971 1159.59,-147.556 1154.62,-156.912 1161.53,-157.971\"/>\r\n",
       "</g>\r\n",
       "<!-- 25 -->\r\n",
       "<g id=\"node26\" class=\"node\"><title>25</title>\r\n",
       "<path fill=\"#e58139\" stroke=\"black\" d=\"M1085,-53C1085,-53 1012,-53 1012,-53 1006,-53 1000,-47 1000,-41 1000,-41 1000,-12 1000,-12 1000,-6 1006,-0 1012,-0 1012,-0 1085,-0 1085,-0 1091,-0 1097,-6 1097,-12 1097,-12 1097,-41 1097,-41 1097,-47 1091,-53 1085,-53\"/>\r\n",
       "<text text-anchor=\"start\" x=\"1019.5\" y=\"-37.8\" font-family=\"Helvetica,sans-Serif\" font-size=\"14.00\">gini = 0.0</text>\r\n",
       "<text text-anchor=\"start\" x=\"1009\" y=\"-22.8\" font-family=\"Helvetica,sans-Serif\" font-size=\"14.00\">samples = 3</text>\r\n",
       "<text text-anchor=\"start\" x=\"1008\" y=\"-7.8\" font-family=\"Helvetica,sans-Serif\" font-size=\"14.00\">value = [3, 0]</text>\r\n",
       "</g>\r\n",
       "<!-- 24&#45;&gt;25 -->\r\n",
       "<g id=\"edge25\" class=\"edge\"><title>24&#45;&gt;25</title>\r\n",
       "<path fill=\"none\" stroke=\"black\" d=\"M1048.5,-88.9415C1048.5,-80.6579 1048.5,-71.643 1048.5,-63.1346\"/>\r\n",
       "<polygon fill=\"black\" stroke=\"black\" points=\"1052,-63.0908 1048.5,-53.0908 1045,-63.0909 1052,-63.0908\"/>\r\n",
       "</g>\r\n",
       "<!-- 26 -->\r\n",
       "<g id=\"node27\" class=\"node\"><title>26</title>\r\n",
       "<path fill=\"#f2c09c\" stroke=\"black\" d=\"M1200,-53C1200,-53 1127,-53 1127,-53 1121,-53 1115,-47 1115,-41 1115,-41 1115,-12 1115,-12 1115,-6 1121,-0 1127,-0 1127,-0 1200,-0 1200,-0 1206,-0 1212,-6 1212,-12 1212,-12 1212,-41 1212,-41 1212,-47 1206,-53 1200,-53\"/>\r\n",
       "<text text-anchor=\"start\" x=\"1126\" y=\"-37.8\" font-family=\"Helvetica,sans-Serif\" font-size=\"14.00\">gini = 0.444</text>\r\n",
       "<text text-anchor=\"start\" x=\"1124\" y=\"-22.8\" font-family=\"Helvetica,sans-Serif\" font-size=\"14.00\">samples = 3</text>\r\n",
       "<text text-anchor=\"start\" x=\"1123\" y=\"-7.8\" font-family=\"Helvetica,sans-Serif\" font-size=\"14.00\">value = [2, 1]</text>\r\n",
       "</g>\r\n",
       "<!-- 24&#45;&gt;26 -->\r\n",
       "<g id=\"edge26\" class=\"edge\"><title>24&#45;&gt;26</title>\r\n",
       "<path fill=\"none\" stroke=\"black\" d=\"M1087.11,-88.9415C1098.88,-79.4746 1111.84,-69.0523 1123.69,-59.5228\"/>\r\n",
       "<polygon fill=\"black\" stroke=\"black\" points=\"1126.09,-62.0857 1131.68,-53.0908 1121.7,-56.6312 1126.09,-62.0857\"/>\r\n",
       "</g>\r\n",
       "<!-- 29 -->\r\n",
       "<g id=\"node30\" class=\"node\"><title>29</title>\r\n",
       "<path fill=\"#49a5e7\" stroke=\"black\" d=\"M1621,-453C1621,-453 1532,-453 1532,-453 1526,-453 1520,-447 1520,-441 1520,-441 1520,-401 1520,-401 1520,-395 1526,-389 1532,-389 1532,-389 1621,-389 1621,-389 1627,-389 1633,-395 1633,-401 1633,-401 1633,-441 1633,-441 1633,-447 1627,-453 1621,-453\"/>\r\n",
       "<text text-anchor=\"start\" x=\"1542\" y=\"-438.8\" font-family=\"Helvetica,sans-Serif\" font-size=\"14.00\">X</text>\r\n",
       "<text text-anchor=\"start\" x=\"1552\" y=\"-438.8\" font-family=\"Helvetica,sans-Serif\" baseline-shift=\"sub\" font-size=\"14.00\">0</text>\r\n",
       "<text text-anchor=\"start\" x=\"1559\" y=\"-438.8\" font-family=\"Helvetica,sans-Serif\" font-size=\"14.00\"> ≤ 0.401</text>\r\n",
       "<text text-anchor=\"start\" x=\"1539\" y=\"-424.8\" font-family=\"Helvetica,sans-Serif\" font-size=\"14.00\">gini = 0.135</text>\r\n",
       "<text text-anchor=\"start\" x=\"1529\" y=\"-410.8\" font-family=\"Helvetica,sans-Serif\" font-size=\"14.00\">samples = 110</text>\r\n",
       "<text text-anchor=\"start\" x=\"1528\" y=\"-396.8\" font-family=\"Helvetica,sans-Serif\" font-size=\"14.00\">value = [8, 102]</text>\r\n",
       "</g>\r\n",
       "<!-- 28&#45;&gt;29 -->\r\n",
       "<g id=\"edge29\" class=\"edge\"><title>28&#45;&gt;29</title>\r\n",
       "<path fill=\"none\" stroke=\"black\" d=\"M1576.5,-488.992C1576.5,-480.859 1576.5,-471.959 1576.5,-463.378\"/>\r\n",
       "<polygon fill=\"black\" stroke=\"black\" points=\"1580,-463.142 1576.5,-453.142 1573,-463.142 1580,-463.142\"/>\r\n",
       "</g>\r\n",
       "<!-- 42 -->\r\n",
       "<g id=\"node43\" class=\"node\"><title>42</title>\r\n",
       "<path fill=\"#b0d8f5\" stroke=\"black\" d=\"M1913,-453C1913,-453 1832,-453 1832,-453 1826,-453 1820,-447 1820,-441 1820,-441 1820,-401 1820,-401 1820,-395 1826,-389 1832,-389 1832,-389 1913,-389 1913,-389 1919,-389 1925,-395 1925,-401 1925,-401 1925,-441 1925,-441 1925,-447 1919,-453 1913,-453\"/>\r\n",
       "<text text-anchor=\"start\" x=\"1846\" y=\"-438.8\" font-family=\"Helvetica,sans-Serif\" font-size=\"14.00\">X</text>\r\n",
       "<text text-anchor=\"start\" x=\"1856\" y=\"-438.8\" font-family=\"Helvetica,sans-Serif\" baseline-shift=\"sub\" font-size=\"14.00\">7</text>\r\n",
       "<text text-anchor=\"start\" x=\"1863\" y=\"-438.8\" font-family=\"Helvetica,sans-Serif\" font-size=\"14.00\"> ≤ 0.5</text>\r\n",
       "<text text-anchor=\"start\" x=\"1835\" y=\"-424.8\" font-family=\"Helvetica,sans-Serif\" font-size=\"14.00\">gini = 0.469</text>\r\n",
       "<text text-anchor=\"start\" x=\"1829\" y=\"-410.8\" font-family=\"Helvetica,sans-Serif\" font-size=\"14.00\">samples = 16</text>\r\n",
       "<text text-anchor=\"start\" x=\"1828\" y=\"-396.8\" font-family=\"Helvetica,sans-Serif\" font-size=\"14.00\">value = [6, 10]</text>\r\n",
       "</g>\r\n",
       "<!-- 28&#45;&gt;42 -->\r\n",
       "<g id=\"edge42\" class=\"edge\"><title>28&#45;&gt;42</title>\r\n",
       "<path fill=\"none\" stroke=\"black\" d=\"M1637.83,-499.694C1688.26,-482.998 1759.42,-459.439 1810.13,-442.65\"/>\r\n",
       "<polygon fill=\"black\" stroke=\"black\" points=\"1811.28,-445.957 1819.67,-439.491 1809.08,-439.312 1811.28,-445.957\"/>\r\n",
       "</g>\r\n",
       "<!-- 30 -->\r\n",
       "<g id=\"node31\" class=\"node\"><title>30</title>\r\n",
       "<path fill=\"#70b8ec\" stroke=\"black\" d=\"M1556,-353C1556,-353 1475,-353 1475,-353 1469,-353 1463,-347 1463,-341 1463,-341 1463,-301 1463,-301 1463,-295 1469,-289 1475,-289 1475,-289 1556,-289 1556,-289 1562,-289 1568,-295 1568,-301 1568,-301 1568,-341 1568,-341 1568,-347 1562,-353 1556,-353\"/>\r\n",
       "<text text-anchor=\"start\" x=\"1481\" y=\"-338.8\" font-family=\"Helvetica,sans-Serif\" font-size=\"14.00\">X</text>\r\n",
       "<text text-anchor=\"start\" x=\"1491\" y=\"-338.8\" font-family=\"Helvetica,sans-Serif\" baseline-shift=\"sub\" font-size=\"14.00\">0</text>\r\n",
       "<text text-anchor=\"start\" x=\"1498\" y=\"-338.8\" font-family=\"Helvetica,sans-Serif\" font-size=\"14.00\"> ≤ 0.355</text>\r\n",
       "<text text-anchor=\"start\" x=\"1478\" y=\"-324.8\" font-family=\"Helvetica,sans-Serif\" font-size=\"14.00\">gini = 0.342</text>\r\n",
       "<text text-anchor=\"start\" x=\"1472\" y=\"-310.8\" font-family=\"Helvetica,sans-Serif\" font-size=\"14.00\">samples = 32</text>\r\n",
       "<text text-anchor=\"start\" x=\"1471\" y=\"-296.8\" font-family=\"Helvetica,sans-Serif\" font-size=\"14.00\">value = [7, 25]</text>\r\n",
       "</g>\r\n",
       "<!-- 29&#45;&gt;30 -->\r\n",
       "<g id=\"edge30\" class=\"edge\"><title>29&#45;&gt;30</title>\r\n",
       "<path fill=\"none\" stroke=\"black\" d=\"M1557.2,-388.992C1551.8,-380.323 1545.86,-370.782 1540.2,-361.685\"/>\r\n",
       "<polygon fill=\"black\" stroke=\"black\" points=\"1543.14,-359.783 1534.88,-353.142 1537.2,-363.482 1543.14,-359.783\"/>\r\n",
       "</g>\r\n",
       "<!-- 39 -->\r\n",
       "<g id=\"node40\" class=\"node\"><title>39</title>\r\n",
       "<path fill=\"#3c9ee5\" stroke=\"black\" d=\"M1679,-353C1679,-353 1598,-353 1598,-353 1592,-353 1586,-347 1586,-341 1586,-341 1586,-301 1586,-301 1586,-295 1592,-289 1598,-289 1598,-289 1679,-289 1679,-289 1685,-289 1691,-295 1691,-301 1691,-301 1691,-341 1691,-341 1691,-347 1685,-353 1679,-353\"/>\r\n",
       "<text text-anchor=\"start\" x=\"1604\" y=\"-338.8\" font-family=\"Helvetica,sans-Serif\" font-size=\"14.00\">X</text>\r\n",
       "<text text-anchor=\"start\" x=\"1614\" y=\"-338.8\" font-family=\"Helvetica,sans-Serif\" baseline-shift=\"sub\" font-size=\"14.00\">9</text>\r\n",
       "<text text-anchor=\"start\" x=\"1621\" y=\"-338.8\" font-family=\"Helvetica,sans-Serif\" font-size=\"14.00\"> ≤ 0.548</text>\r\n",
       "<text text-anchor=\"start\" x=\"1601\" y=\"-324.8\" font-family=\"Helvetica,sans-Serif\" font-size=\"14.00\">gini = 0.025</text>\r\n",
       "<text text-anchor=\"start\" x=\"1595\" y=\"-310.8\" font-family=\"Helvetica,sans-Serif\" font-size=\"14.00\">samples = 78</text>\r\n",
       "<text text-anchor=\"start\" x=\"1594\" y=\"-296.8\" font-family=\"Helvetica,sans-Serif\" font-size=\"14.00\">value = [1, 77]</text>\r\n",
       "</g>\r\n",
       "<!-- 29&#45;&gt;39 -->\r\n",
       "<g id=\"edge39\" class=\"edge\"><title>29&#45;&gt;39</title>\r\n",
       "<path fill=\"none\" stroke=\"black\" d=\"M1596.12,-388.992C1601.6,-380.323 1607.64,-370.782 1613.39,-361.685\"/>\r\n",
       "<polygon fill=\"black\" stroke=\"black\" points=\"1616.41,-363.465 1618.8,-353.142 1610.49,-359.722 1616.41,-363.465\"/>\r\n",
       "</g>\r\n",
       "<!-- 31 -->\r\n",
       "<g id=\"node32\" class=\"node\"><title>31</title>\r\n",
       "<path fill=\"#43a2e6\" stroke=\"black\" d=\"M1435,-253C1435,-253 1354,-253 1354,-253 1348,-253 1342,-247 1342,-241 1342,-241 1342,-201 1342,-201 1342,-195 1348,-189 1354,-189 1354,-189 1435,-189 1435,-189 1441,-189 1447,-195 1447,-201 1447,-201 1447,-241 1447,-241 1447,-247 1441,-253 1435,-253\"/>\r\n",
       "<text text-anchor=\"start\" x=\"1360\" y=\"-238.8\" font-family=\"Helvetica,sans-Serif\" font-size=\"14.00\">X</text>\r\n",
       "<text text-anchor=\"start\" x=\"1370\" y=\"-238.8\" font-family=\"Helvetica,sans-Serif\" baseline-shift=\"sub\" font-size=\"14.00\">6</text>\r\n",
       "<text text-anchor=\"start\" x=\"1377\" y=\"-238.8\" font-family=\"Helvetica,sans-Serif\" font-size=\"14.00\"> ≤ 0.213</text>\r\n",
       "<text text-anchor=\"start\" x=\"1357\" y=\"-224.8\" font-family=\"Helvetica,sans-Serif\" font-size=\"14.00\">gini = 0.091</text>\r\n",
       "<text text-anchor=\"start\" x=\"1351\" y=\"-210.8\" font-family=\"Helvetica,sans-Serif\" font-size=\"14.00\">samples = 21</text>\r\n",
       "<text text-anchor=\"start\" x=\"1350\" y=\"-196.8\" font-family=\"Helvetica,sans-Serif\" font-size=\"14.00\">value = [1, 20]</text>\r\n",
       "</g>\r\n",
       "<!-- 30&#45;&gt;31 -->\r\n",
       "<g id=\"edge31\" class=\"edge\"><title>30&#45;&gt;31</title>\r\n",
       "<path fill=\"none\" stroke=\"black\" d=\"M1477.21,-288.992C1465.63,-279.608 1452.78,-269.202 1440.73,-259.444\"/>\r\n",
       "<polygon fill=\"black\" stroke=\"black\" points=\"1442.93,-256.716 1432.95,-253.142 1438.52,-262.156 1442.93,-256.716\"/>\r\n",
       "</g>\r\n",
       "<!-- 34 -->\r\n",
       "<g id=\"node35\" class=\"node\"><title>34</title>\r\n",
       "<path fill=\"#fbeade\" stroke=\"black\" d=\"M1556,-253C1556,-253 1477,-253 1477,-253 1471,-253 1465,-247 1465,-241 1465,-241 1465,-201 1465,-201 1465,-195 1471,-189 1477,-189 1477,-189 1556,-189 1556,-189 1562,-189 1568,-195 1568,-201 1568,-201 1568,-241 1568,-241 1568,-247 1562,-253 1556,-253\"/>\r\n",
       "<text text-anchor=\"start\" x=\"1482\" y=\"-238.8\" font-family=\"Helvetica,sans-Serif\" font-size=\"14.00\">X</text>\r\n",
       "<text text-anchor=\"start\" x=\"1492\" y=\"-238.8\" font-family=\"Helvetica,sans-Serif\" baseline-shift=\"sub\" font-size=\"14.00\">6</text>\r\n",
       "<text text-anchor=\"start\" x=\"1499\" y=\"-238.8\" font-family=\"Helvetica,sans-Serif\" font-size=\"14.00\"> ≤ 0.456</text>\r\n",
       "<text text-anchor=\"start\" x=\"1479\" y=\"-224.8\" font-family=\"Helvetica,sans-Serif\" font-size=\"14.00\">gini = 0.496</text>\r\n",
       "<text text-anchor=\"start\" x=\"1473\" y=\"-210.8\" font-family=\"Helvetica,sans-Serif\" font-size=\"14.00\">samples = 11</text>\r\n",
       "<text text-anchor=\"start\" x=\"1476\" y=\"-196.8\" font-family=\"Helvetica,sans-Serif\" font-size=\"14.00\">value = [6, 5]</text>\r\n",
       "</g>\r\n",
       "<!-- 30&#45;&gt;34 -->\r\n",
       "<g id=\"edge34\" class=\"edge\"><title>30&#45;&gt;34</title>\r\n",
       "<path fill=\"none\" stroke=\"black\" d=\"M1515.82,-288.992C1515.9,-280.859 1515.99,-271.959 1516.08,-263.378\"/>\r\n",
       "<polygon fill=\"black\" stroke=\"black\" points=\"1519.58,-263.178 1516.18,-253.142 1512.58,-263.106 1519.58,-263.178\"/>\r\n",
       "</g>\r\n",
       "<!-- 32 -->\r\n",
       "<g id=\"node33\" class=\"node\"><title>32</title>\r\n",
       "<path fill=\"#9ccef2\" stroke=\"black\" d=\"M1315,-147.5C1315,-147.5 1242,-147.5 1242,-147.5 1236,-147.5 1230,-141.5 1230,-135.5 1230,-135.5 1230,-106.5 1230,-106.5 1230,-100.5 1236,-94.5 1242,-94.5 1242,-94.5 1315,-94.5 1315,-94.5 1321,-94.5 1327,-100.5 1327,-106.5 1327,-106.5 1327,-135.5 1327,-135.5 1327,-141.5 1321,-147.5 1315,-147.5\"/>\r\n",
       "<text text-anchor=\"start\" x=\"1241\" y=\"-132.3\" font-family=\"Helvetica,sans-Serif\" font-size=\"14.00\">gini = 0.444</text>\r\n",
       "<text text-anchor=\"start\" x=\"1239\" y=\"-117.3\" font-family=\"Helvetica,sans-Serif\" font-size=\"14.00\">samples = 3</text>\r\n",
       "<text text-anchor=\"start\" x=\"1238\" y=\"-102.3\" font-family=\"Helvetica,sans-Serif\" font-size=\"14.00\">value = [1, 2]</text>\r\n",
       "</g>\r\n",
       "<!-- 31&#45;&gt;32 -->\r\n",
       "<g id=\"edge32\" class=\"edge\"><title>31&#45;&gt;32</title>\r\n",
       "<path fill=\"none\" stroke=\"black\" d=\"M1357.8,-188.992C1344.71,-177.94 1329.95,-165.47 1316.75,-154.311\"/>\r\n",
       "<polygon fill=\"black\" stroke=\"black\" points=\"1318.65,-151.336 1308.75,-147.556 1314.13,-156.684 1318.65,-151.336\"/>\r\n",
       "</g>\r\n",
       "<!-- 33 -->\r\n",
       "<g id=\"node34\" class=\"node\"><title>33</title>\r\n",
       "<path fill=\"#399de5\" stroke=\"black\" d=\"M1438,-147.5C1438,-147.5 1357,-147.5 1357,-147.5 1351,-147.5 1345,-141.5 1345,-135.5 1345,-135.5 1345,-106.5 1345,-106.5 1345,-100.5 1351,-94.5 1357,-94.5 1357,-94.5 1438,-94.5 1438,-94.5 1444,-94.5 1450,-100.5 1450,-106.5 1450,-106.5 1450,-135.5 1450,-135.5 1450,-141.5 1444,-147.5 1438,-147.5\"/>\r\n",
       "<text text-anchor=\"start\" x=\"1368.5\" y=\"-132.3\" font-family=\"Helvetica,sans-Serif\" font-size=\"14.00\">gini = 0.0</text>\r\n",
       "<text text-anchor=\"start\" x=\"1354\" y=\"-117.3\" font-family=\"Helvetica,sans-Serif\" font-size=\"14.00\">samples = 18</text>\r\n",
       "<text text-anchor=\"start\" x=\"1353\" y=\"-102.3\" font-family=\"Helvetica,sans-Serif\" font-size=\"14.00\">value = [0, 18]</text>\r\n",
       "</g>\r\n",
       "<!-- 31&#45;&gt;33 -->\r\n",
       "<g id=\"edge33\" class=\"edge\"><title>31&#45;&gt;33</title>\r\n",
       "<path fill=\"none\" stroke=\"black\" d=\"M1395.45,-188.992C1395.75,-179.087 1396.09,-168.042 1396.4,-157.824\"/>\r\n",
       "<polygon fill=\"black\" stroke=\"black\" points=\"1399.91,-157.659 1396.72,-147.556 1392.91,-157.445 1399.91,-157.659\"/>\r\n",
       "</g>\r\n",
       "<!-- 35 -->\r\n",
       "<g id=\"node36\" class=\"node\"><title>35</title>\r\n",
       "<path fill=\"#eeab7b\" stroke=\"black\" d=\"M1553,-153C1553,-153 1480,-153 1480,-153 1474,-153 1468,-147 1468,-141 1468,-141 1468,-101 1468,-101 1468,-95 1474,-89 1480,-89 1480,-89 1553,-89 1553,-89 1559,-89 1565,-95 1565,-101 1565,-101 1565,-141 1565,-141 1565,-147 1559,-153 1553,-153\"/>\r\n",
       "<text text-anchor=\"start\" x=\"1482\" y=\"-138.8\" font-family=\"Helvetica,sans-Serif\" font-size=\"14.00\">X</text>\r\n",
       "<text text-anchor=\"start\" x=\"1492\" y=\"-138.8\" font-family=\"Helvetica,sans-Serif\" baseline-shift=\"sub\" font-size=\"14.00\">5</text>\r\n",
       "<text text-anchor=\"start\" x=\"1499\" y=\"-138.8\" font-family=\"Helvetica,sans-Serif\" font-size=\"14.00\"> ≤ 0.214</text>\r\n",
       "<text text-anchor=\"start\" x=\"1479\" y=\"-124.8\" font-family=\"Helvetica,sans-Serif\" font-size=\"14.00\">gini = 0.375</text>\r\n",
       "<text text-anchor=\"start\" x=\"1477\" y=\"-110.8\" font-family=\"Helvetica,sans-Serif\" font-size=\"14.00\">samples = 8</text>\r\n",
       "<text text-anchor=\"start\" x=\"1476\" y=\"-96.8\" font-family=\"Helvetica,sans-Serif\" font-size=\"14.00\">value = [6, 2]</text>\r\n",
       "</g>\r\n",
       "<!-- 34&#45;&gt;35 -->\r\n",
       "<g id=\"edge35\" class=\"edge\"><title>34&#45;&gt;35</title>\r\n",
       "<path fill=\"none\" stroke=\"black\" d=\"M1516.5,-188.992C1516.5,-180.859 1516.5,-171.959 1516.5,-163.378\"/>\r\n",
       "<polygon fill=\"black\" stroke=\"black\" points=\"1520,-163.142 1516.5,-153.142 1513,-163.142 1520,-163.142\"/>\r\n",
       "</g>\r\n",
       "<!-- 38 -->\r\n",
       "<g id=\"node39\" class=\"node\"><title>38</title>\r\n",
       "<path fill=\"#399de5\" stroke=\"black\" d=\"M1668,-147.5C1668,-147.5 1595,-147.5 1595,-147.5 1589,-147.5 1583,-141.5 1583,-135.5 1583,-135.5 1583,-106.5 1583,-106.5 1583,-100.5 1589,-94.5 1595,-94.5 1595,-94.5 1668,-94.5 1668,-94.5 1674,-94.5 1680,-100.5 1680,-106.5 1680,-106.5 1680,-135.5 1680,-135.5 1680,-141.5 1674,-147.5 1668,-147.5\"/>\r\n",
       "<text text-anchor=\"start\" x=\"1602.5\" y=\"-132.3\" font-family=\"Helvetica,sans-Serif\" font-size=\"14.00\">gini = 0.0</text>\r\n",
       "<text text-anchor=\"start\" x=\"1592\" y=\"-117.3\" font-family=\"Helvetica,sans-Serif\" font-size=\"14.00\">samples = 3</text>\r\n",
       "<text text-anchor=\"start\" x=\"1591\" y=\"-102.3\" font-family=\"Helvetica,sans-Serif\" font-size=\"14.00\">value = [0, 3]</text>\r\n",
       "</g>\r\n",
       "<!-- 34&#45;&gt;38 -->\r\n",
       "<g id=\"edge38\" class=\"edge\"><title>34&#45;&gt;38</title>\r\n",
       "<path fill=\"none\" stroke=\"black\" d=\"M1552.89,-188.992C1565.86,-177.94 1580.49,-165.47 1593.58,-154.311\"/>\r\n",
       "<polygon fill=\"black\" stroke=\"black\" points=\"1596.17,-156.706 1601.51,-147.556 1591.63,-151.379 1596.17,-156.706\"/>\r\n",
       "</g>\r\n",
       "<!-- 36 -->\r\n",
       "<g id=\"node37\" class=\"node\"><title>36</title>\r\n",
       "<path fill=\"#ffffff\" stroke=\"black\" d=\"M1495,-53C1495,-53 1422,-53 1422,-53 1416,-53 1410,-47 1410,-41 1410,-41 1410,-12 1410,-12 1410,-6 1416,-0 1422,-0 1422,-0 1495,-0 1495,-0 1501,-0 1507,-6 1507,-12 1507,-12 1507,-41 1507,-41 1507,-47 1501,-53 1495,-53\"/>\r\n",
       "<text text-anchor=\"start\" x=\"1429.5\" y=\"-37.8\" font-family=\"Helvetica,sans-Serif\" font-size=\"14.00\">gini = 0.5</text>\r\n",
       "<text text-anchor=\"start\" x=\"1419\" y=\"-22.8\" font-family=\"Helvetica,sans-Serif\" font-size=\"14.00\">samples = 4</text>\r\n",
       "<text text-anchor=\"start\" x=\"1418\" y=\"-7.8\" font-family=\"Helvetica,sans-Serif\" font-size=\"14.00\">value = [2, 2]</text>\r\n",
       "</g>\r\n",
       "<!-- 35&#45;&gt;36 -->\r\n",
       "<g id=\"edge36\" class=\"edge\"><title>35&#45;&gt;36</title>\r\n",
       "<path fill=\"none\" stroke=\"black\" d=\"M1497.03,-88.9415C1491.55,-80.2028 1485.56,-70.6501 1479.97,-61.737\"/>\r\n",
       "<polygon fill=\"black\" stroke=\"black\" points=\"1482.82,-59.7038 1474.55,-53.0908 1476.89,-63.4224 1482.82,-59.7038\"/>\r\n",
       "</g>\r\n",
       "<!-- 37 -->\r\n",
       "<g id=\"node38\" class=\"node\"><title>37</title>\r\n",
       "<path fill=\"#e58139\" stroke=\"black\" d=\"M1610,-53C1610,-53 1537,-53 1537,-53 1531,-53 1525,-47 1525,-41 1525,-41 1525,-12 1525,-12 1525,-6 1531,-0 1537,-0 1537,-0 1610,-0 1610,-0 1616,-0 1622,-6 1622,-12 1622,-12 1622,-41 1622,-41 1622,-47 1616,-53 1610,-53\"/>\r\n",
       "<text text-anchor=\"start\" x=\"1544.5\" y=\"-37.8\" font-family=\"Helvetica,sans-Serif\" font-size=\"14.00\">gini = 0.0</text>\r\n",
       "<text text-anchor=\"start\" x=\"1534\" y=\"-22.8\" font-family=\"Helvetica,sans-Serif\" font-size=\"14.00\">samples = 4</text>\r\n",
       "<text text-anchor=\"start\" x=\"1533\" y=\"-7.8\" font-family=\"Helvetica,sans-Serif\" font-size=\"14.00\">value = [4, 0]</text>\r\n",
       "</g>\r\n",
       "<!-- 35&#45;&gt;37 -->\r\n",
       "<g id=\"edge37\" class=\"edge\"><title>35&#45;&gt;37</title>\r\n",
       "<path fill=\"none\" stroke=\"black\" d=\"M1535.64,-88.9415C1541.02,-80.2028 1546.91,-70.6501 1552.4,-61.737\"/>\r\n",
       "<polygon fill=\"black\" stroke=\"black\" points=\"1555.46,-63.4404 1557.73,-53.0908 1549.5,-59.7681 1555.46,-63.4404\"/>\r\n",
       "</g>\r\n",
       "<!-- 40 -->\r\n",
       "<g id=\"node41\" class=\"node\"><title>40</title>\r\n",
       "<path fill=\"#399de5\" stroke=\"black\" d=\"M1679,-247.5C1679,-247.5 1598,-247.5 1598,-247.5 1592,-247.5 1586,-241.5 1586,-235.5 1586,-235.5 1586,-206.5 1586,-206.5 1586,-200.5 1592,-194.5 1598,-194.5 1598,-194.5 1679,-194.5 1679,-194.5 1685,-194.5 1691,-200.5 1691,-206.5 1691,-206.5 1691,-235.5 1691,-235.5 1691,-241.5 1685,-247.5 1679,-247.5\"/>\r\n",
       "<text text-anchor=\"start\" x=\"1609.5\" y=\"-232.3\" font-family=\"Helvetica,sans-Serif\" font-size=\"14.00\">gini = 0.0</text>\r\n",
       "<text text-anchor=\"start\" x=\"1595\" y=\"-217.3\" font-family=\"Helvetica,sans-Serif\" font-size=\"14.00\">samples = 75</text>\r\n",
       "<text text-anchor=\"start\" x=\"1594\" y=\"-202.3\" font-family=\"Helvetica,sans-Serif\" font-size=\"14.00\">value = [0, 75]</text>\r\n",
       "</g>\r\n",
       "<!-- 39&#45;&gt;40 -->\r\n",
       "<g id=\"edge40\" class=\"edge\"><title>39&#45;&gt;40</title>\r\n",
       "<path fill=\"none\" stroke=\"black\" d=\"M1638.5,-288.992C1638.5,-279.087 1638.5,-268.042 1638.5,-257.824\"/>\r\n",
       "<polygon fill=\"black\" stroke=\"black\" points=\"1642,-257.556 1638.5,-247.556 1635,-257.556 1642,-257.556\"/>\r\n",
       "</g>\r\n",
       "<!-- 41 -->\r\n",
       "<g id=\"node42\" class=\"node\"><title>41</title>\r\n",
       "<path fill=\"#9ccef2\" stroke=\"black\" d=\"M1794,-247.5C1794,-247.5 1721,-247.5 1721,-247.5 1715,-247.5 1709,-241.5 1709,-235.5 1709,-235.5 1709,-206.5 1709,-206.5 1709,-200.5 1715,-194.5 1721,-194.5 1721,-194.5 1794,-194.5 1794,-194.5 1800,-194.5 1806,-200.5 1806,-206.5 1806,-206.5 1806,-235.5 1806,-235.5 1806,-241.5 1800,-247.5 1794,-247.5\"/>\r\n",
       "<text text-anchor=\"start\" x=\"1720\" y=\"-232.3\" font-family=\"Helvetica,sans-Serif\" font-size=\"14.00\">gini = 0.444</text>\r\n",
       "<text text-anchor=\"start\" x=\"1718\" y=\"-217.3\" font-family=\"Helvetica,sans-Serif\" font-size=\"14.00\">samples = 3</text>\r\n",
       "<text text-anchor=\"start\" x=\"1717\" y=\"-202.3\" font-family=\"Helvetica,sans-Serif\" font-size=\"14.00\">value = [1, 2]</text>\r\n",
       "</g>\r\n",
       "<!-- 39&#45;&gt;41 -->\r\n",
       "<g id=\"edge41\" class=\"edge\"><title>39&#45;&gt;41</title>\r\n",
       "<path fill=\"none\" stroke=\"black\" d=\"M1676.15,-288.992C1689.7,-277.836 1705,-265.234 1718.65,-253.995\"/>\r\n",
       "<polygon fill=\"black\" stroke=\"black\" points=\"1720.97,-256.615 1726.47,-247.556 1716.52,-251.212 1720.97,-256.615\"/>\r\n",
       "</g>\r\n",
       "<!-- 43 -->\r\n",
       "<g id=\"node44\" class=\"node\"><title>43</title>\r\n",
       "<path fill=\"#eeab7b\" stroke=\"black\" d=\"M1909,-353C1909,-353 1836,-353 1836,-353 1830,-353 1824,-347 1824,-341 1824,-341 1824,-301 1824,-301 1824,-295 1830,-289 1836,-289 1836,-289 1909,-289 1909,-289 1915,-289 1921,-295 1921,-301 1921,-301 1921,-341 1921,-341 1921,-347 1915,-353 1909,-353\"/>\r\n",
       "<text text-anchor=\"start\" x=\"1838\" y=\"-338.8\" font-family=\"Helvetica,sans-Serif\" font-size=\"14.00\">X</text>\r\n",
       "<text text-anchor=\"start\" x=\"1848\" y=\"-338.8\" font-family=\"Helvetica,sans-Serif\" baseline-shift=\"sub\" font-size=\"14.00\">5</text>\r\n",
       "<text text-anchor=\"start\" x=\"1855\" y=\"-338.8\" font-family=\"Helvetica,sans-Serif\" font-size=\"14.00\"> ≤ 0.381</text>\r\n",
       "<text text-anchor=\"start\" x=\"1835\" y=\"-324.8\" font-family=\"Helvetica,sans-Serif\" font-size=\"14.00\">gini = 0.375</text>\r\n",
       "<text text-anchor=\"start\" x=\"1833\" y=\"-310.8\" font-family=\"Helvetica,sans-Serif\" font-size=\"14.00\">samples = 8</text>\r\n",
       "<text text-anchor=\"start\" x=\"1832\" y=\"-296.8\" font-family=\"Helvetica,sans-Serif\" font-size=\"14.00\">value = [6, 2]</text>\r\n",
       "</g>\r\n",
       "<!-- 42&#45;&gt;43 -->\r\n",
       "<g id=\"edge43\" class=\"edge\"><title>42&#45;&gt;43</title>\r\n",
       "<path fill=\"none\" stroke=\"black\" d=\"M1872.5,-388.992C1872.5,-380.859 1872.5,-371.959 1872.5,-363.378\"/>\r\n",
       "<polygon fill=\"black\" stroke=\"black\" points=\"1876,-363.142 1872.5,-353.142 1869,-363.142 1876,-363.142\"/>\r\n",
       "</g>\r\n",
       "<!-- 46 -->\r\n",
       "<g id=\"node47\" class=\"node\"><title>46</title>\r\n",
       "<path fill=\"#399de5\" stroke=\"black\" d=\"M2024,-347.5C2024,-347.5 1951,-347.5 1951,-347.5 1945,-347.5 1939,-341.5 1939,-335.5 1939,-335.5 1939,-306.5 1939,-306.5 1939,-300.5 1945,-294.5 1951,-294.5 1951,-294.5 2024,-294.5 2024,-294.5 2030,-294.5 2036,-300.5 2036,-306.5 2036,-306.5 2036,-335.5 2036,-335.5 2036,-341.5 2030,-347.5 2024,-347.5\"/>\r\n",
       "<text text-anchor=\"start\" x=\"1958.5\" y=\"-332.3\" font-family=\"Helvetica,sans-Serif\" font-size=\"14.00\">gini = 0.0</text>\r\n",
       "<text text-anchor=\"start\" x=\"1948\" y=\"-317.3\" font-family=\"Helvetica,sans-Serif\" font-size=\"14.00\">samples = 8</text>\r\n",
       "<text text-anchor=\"start\" x=\"1947\" y=\"-302.3\" font-family=\"Helvetica,sans-Serif\" font-size=\"14.00\">value = [0, 8]</text>\r\n",
       "</g>\r\n",
       "<!-- 42&#45;&gt;46 -->\r\n",
       "<g id=\"edge46\" class=\"edge\"><title>42&#45;&gt;46</title>\r\n",
       "<path fill=\"none\" stroke=\"black\" d=\"M1908.89,-388.992C1921.86,-377.94 1936.49,-365.47 1949.58,-354.311\"/>\r\n",
       "<polygon fill=\"black\" stroke=\"black\" points=\"1952.17,-356.706 1957.51,-347.556 1947.63,-351.379 1952.17,-356.706\"/>\r\n",
       "</g>\r\n",
       "<!-- 44 -->\r\n",
       "<g id=\"node45\" class=\"node\"><title>44</title>\r\n",
       "<path fill=\"#9ccef2\" stroke=\"black\" d=\"M1909,-247.5C1909,-247.5 1836,-247.5 1836,-247.5 1830,-247.5 1824,-241.5 1824,-235.5 1824,-235.5 1824,-206.5 1824,-206.5 1824,-200.5 1830,-194.5 1836,-194.5 1836,-194.5 1909,-194.5 1909,-194.5 1915,-194.5 1921,-200.5 1921,-206.5 1921,-206.5 1921,-235.5 1921,-235.5 1921,-241.5 1915,-247.5 1909,-247.5\"/>\r\n",
       "<text text-anchor=\"start\" x=\"1835\" y=\"-232.3\" font-family=\"Helvetica,sans-Serif\" font-size=\"14.00\">gini = 0.444</text>\r\n",
       "<text text-anchor=\"start\" x=\"1833\" y=\"-217.3\" font-family=\"Helvetica,sans-Serif\" font-size=\"14.00\">samples = 3</text>\r\n",
       "<text text-anchor=\"start\" x=\"1832\" y=\"-202.3\" font-family=\"Helvetica,sans-Serif\" font-size=\"14.00\">value = [1, 2]</text>\r\n",
       "</g>\r\n",
       "<!-- 43&#45;&gt;44 -->\r\n",
       "<g id=\"edge44\" class=\"edge\"><title>43&#45;&gt;44</title>\r\n",
       "<path fill=\"none\" stroke=\"black\" d=\"M1872.5,-288.992C1872.5,-279.087 1872.5,-268.042 1872.5,-257.824\"/>\r\n",
       "<polygon fill=\"black\" stroke=\"black\" points=\"1876,-257.556 1872.5,-247.556 1869,-257.556 1876,-257.556\"/>\r\n",
       "</g>\r\n",
       "<!-- 45 -->\r\n",
       "<g id=\"node46\" class=\"node\"><title>45</title>\r\n",
       "<path fill=\"#e58139\" stroke=\"black\" d=\"M2024,-247.5C2024,-247.5 1951,-247.5 1951,-247.5 1945,-247.5 1939,-241.5 1939,-235.5 1939,-235.5 1939,-206.5 1939,-206.5 1939,-200.5 1945,-194.5 1951,-194.5 1951,-194.5 2024,-194.5 2024,-194.5 2030,-194.5 2036,-200.5 2036,-206.5 2036,-206.5 2036,-235.5 2036,-235.5 2036,-241.5 2030,-247.5 2024,-247.5\"/>\r\n",
       "<text text-anchor=\"start\" x=\"1958.5\" y=\"-232.3\" font-family=\"Helvetica,sans-Serif\" font-size=\"14.00\">gini = 0.0</text>\r\n",
       "<text text-anchor=\"start\" x=\"1948\" y=\"-217.3\" font-family=\"Helvetica,sans-Serif\" font-size=\"14.00\">samples = 5</text>\r\n",
       "<text text-anchor=\"start\" x=\"1947\" y=\"-202.3\" font-family=\"Helvetica,sans-Serif\" font-size=\"14.00\">value = [5, 0]</text>\r\n",
       "</g>\r\n",
       "<!-- 43&#45;&gt;45 -->\r\n",
       "<g id=\"edge45\" class=\"edge\"><title>43&#45;&gt;45</title>\r\n",
       "<path fill=\"none\" stroke=\"black\" d=\"M1908.89,-288.992C1921.86,-277.94 1936.49,-265.47 1949.58,-254.311\"/>\r\n",
       "<polygon fill=\"black\" stroke=\"black\" points=\"1952.17,-256.706 1957.51,-247.556 1947.63,-251.379 1952.17,-256.706\"/>\r\n",
       "</g>\r\n",
       "</g>\r\n",
       "</svg>\r\n"
      ],
      "text/plain": [
       "<graphviz.files.Source at 0x265e694a8c8>"
      ]
     },
     "execution_count": 63,
     "metadata": {},
     "output_type": "execute_result"
    }
   ],
   "source": [
    "!pip install graphviz\n",
    "import graphviz\n",
    "import os\n",
    "os.environ[\"PATH\"] += os.pathsep + r\"D:\\anaconda3\\Library\\bin\\graphviz\"\n",
    "#from sklearn.externals.six import StringIO  \n",
    "from IPython.display import Image  \n",
    "from sklearn.tree import export_graphviz\n",
    "from sklearn import tree\n",
    "import pydotplus\n",
    "dot_data = tree.export_graphviz(DTmodel, out_file=None,  \n",
    "                 filled=True, rounded=True,\n",
    "                 special_characters=True)\n",
    "#graph = pydotplus.graph_from_dot_data(dot_data.getvalue()) \n",
    "graph = graphviz.Source(dot_data)\n",
    "graph\n",
    "# In case an image needs to be export\n",
    "#graph.format = \"png\"\n",
    "#graph.render(\"Liver Decision Tree\")"
   ]
  },
  {
   "cell_type": "markdown",
   "metadata": {},
   "source": [
    "## 2. Logistic Regression"
   ]
  },
  {
   "cell_type": "code",
   "execution_count": 64,
   "metadata": {},
   "outputs": [
    {
     "name": "stderr",
     "output_type": "stream",
     "text": [
      "D:\\anaconda3\\lib\\site-packages\\sklearn\\utils\\validation.py:72: DataConversionWarning: A column-vector y was passed when a 1d array was expected. Please change the shape of y to (n_samples, ), for example using ravel().\n",
      "  return f(**kwargs)\n"
     ]
    },
    {
     "data": {
      "text/plain": [
       "RandomizedSearchCV(estimator=LogisticRegression(), n_iter=15, n_jobs=-1,\n",
       "                   param_distributions={'C': [0.0001, 0.001, 0.01, 0.1, 1, 10,\n",
       "                                              100, 1000, 10000],\n",
       "                                        'penalty': ['l1', 'l2']},\n",
       "                   scoring='roc_auc')"
      ]
     },
     "execution_count": 64,
     "metadata": {},
     "output_type": "execute_result"
    }
   ],
   "source": [
    "from sklearn.linear_model import LogisticRegression\n",
    "tuned_params = {'C': [0.0001, 0.001, 0.01, 0.1, 1, 10, 100, 1000, 10000], 'penalty': ['l1', 'l2']}\n",
    "model = RandomizedSearchCV(LogisticRegression(), tuned_params,n_iter=15, scoring = 'roc_auc', n_jobs=-1)\n",
    "model.fit(X_train, y_train)"
   ]
  },
  {
   "cell_type": "code",
   "execution_count": 65,
   "metadata": {},
   "outputs": [
    {
     "data": {
      "text/plain": [
       "LogisticRegression(C=10000)"
      ]
     },
     "execution_count": 65,
     "metadata": {},
     "output_type": "execute_result"
    }
   ],
   "source": [
    "LRmodel = model.best_estimator_\n",
    "LRmodel"
   ]
  },
  {
   "cell_type": "code",
   "execution_count": 66,
   "metadata": {},
   "outputs": [
    {
     "name": "stdout",
     "output_type": "stream",
     "text": [
      "Accuracy on training set:  0.6985294117647058 \n",
      "\n",
      "Precision on training set:  0.5580524344569289 \n",
      "\n",
      "Recall on training set:  0.764102564102564 \n",
      "\n",
      "F1 score on training set:  0.6450216450216449 \n",
      "\n",
      "Accuracy on testing set:  0.6940298507462687 \n",
      "\n",
      "Precision on testing set:  0.5827338129496403 \n",
      "\n",
      "Recall on testing set:  0.7714285714285715 \n",
      "\n",
      "F1 score on testing set:  0.6639344262295083 \n",
      "\n"
     ]
    }
   ],
   "source": [
    "LR_y_train_preds = model.predict(X_train)\n",
    "print(\"Accuracy on training set: \", accuracy_score(LR_y_train_preds, y_train),\"\\n\")\n",
    "\n",
    "print(\"Precision on training set: \", precision_score(LR_y_train_preds, y_train),\"\\n\")\n",
    "\n",
    "print(\"Recall on training set: \", recall_score(LR_y_train_preds, y_train),\"\\n\")\n",
    "\n",
    "print(\"F1 score on training set: \", f1_score(LR_y_train_preds, y_train),\"\\n\")\n",
    "\n",
    "LR_y_test_preds = model.predict(X_test)\n",
    "\n",
    "LR_accuracy =  accuracy_score(LR_y_test_preds, y_test)\n",
    "\n",
    "print(\"Accuracy on testing set: \", LR_accuracy,\"\\n\")\n",
    "\n",
    "print(\"Precision on testing set: \", precision_score(LR_y_test_preds, y_test),\"\\n\")\n",
    "\n",
    "print(\"Recall on testing set: \", recall_score(LR_y_test_preds, y_test),\"\\n\")\n",
    "\n",
    "print(\"F1 score on testing set: \", f1_score(LR_y_test_preds, y_test),\"\\n\")"
   ]
  },
  {
   "cell_type": "code",
   "execution_count": 67,
   "metadata": {},
   "outputs": [
    {
     "name": "stdout",
     "output_type": "stream",
     "text": [
      "              precision    recall  f1-score   support\n",
      "\n",
      "           0       0.66      0.83      0.74       277\n",
      "           1       0.76      0.56      0.65       267\n",
      "\n",
      "    accuracy                           0.70       544\n",
      "   macro avg       0.71      0.70      0.69       544\n",
      "weighted avg       0.71      0.70      0.69       544\n",
      "\n",
      "              precision    recall  f1-score   support\n",
      "\n",
      "           0       0.64      0.81      0.72       129\n",
      "           1       0.77      0.58      0.66       139\n",
      "\n",
      "    accuracy                           0.69       268\n",
      "   macro avg       0.71      0.70      0.69       268\n",
      "weighted avg       0.71      0.69      0.69       268\n",
      "\n"
     ]
    }
   ],
   "source": [
    "print(classification_report(y_train, LR_y_train_preds))\n",
    "print(classification_report(y_test,LR_y_test_preds))"
   ]
  },
  {
   "cell_type": "code",
   "execution_count": 68,
   "metadata": {},
   "outputs": [
    {
     "name": "stderr",
     "output_type": "stream",
     "text": [
      "D:\\anaconda3\\lib\\site-packages\\sklearn\\utils\\validation.py:72: DataConversionWarning: A column-vector y was passed when a 1d array was expected. Please change the shape of y to (n_samples, ), for example using ravel().\n",
      "  return f(**kwargs)\n"
     ]
    },
    {
     "name": "stdout",
     "output_type": "stream",
     "text": [
      "[0.70479705 0.56457565 0.71851852]\n"
     ]
    },
    {
     "name": "stderr",
     "output_type": "stream",
     "text": [
      "D:\\anaconda3\\lib\\site-packages\\sklearn\\utils\\validation.py:72: DataConversionWarning: A column-vector y was passed when a 1d array was expected. Please change the shape of y to (n_samples, ), for example using ravel().\n",
      "  return f(**kwargs)\n",
      "D:\\anaconda3\\lib\\site-packages\\sklearn\\utils\\validation.py:72: DataConversionWarning: A column-vector y was passed when a 1d array was expected. Please change the shape of y to (n_samples, ), for example using ravel().\n",
      "  return f(**kwargs)\n"
     ]
    },
    {
     "data": {
      "text/plain": [
       "0.6626304040818186"
      ]
     },
     "execution_count": 68,
     "metadata": {},
     "output_type": "execute_result"
    }
   ],
   "source": [
    "crossLR = cross_val_score(LRmodel,X,y,cv=cv,scoring = \"accuracy\")\n",
    "print(crossLR)\n",
    "np.mean(crossLR)"
   ]
  },
  {
   "cell_type": "code",
   "execution_count": 69,
   "metadata": {},
   "outputs": [
    {
     "data": {
      "text/plain": [
       "array([0.26873016, 0.55592704, 0.59690046, 0.50582829, 0.24399046,\n",
       "       0.22669742, 0.47654319, 0.21910042, 0.23252324, 0.41248595])"
      ]
     },
     "execution_count": 69,
     "metadata": {},
     "output_type": "execute_result"
    }
   ],
   "source": [
    "LRy_test_prob = model.predict_proba(X_test)[:,1]\n",
    "LRy_test_prob [:10]"
   ]
  },
  {
   "cell_type": "code",
   "execution_count": 70,
   "metadata": {},
   "outputs": [
    {
     "data": {
      "text/html": [
       "<div>\n",
       "<style scoped>\n",
       "    .dataframe tbody tr th:only-of-type {\n",
       "        vertical-align: middle;\n",
       "    }\n",
       "\n",
       "    .dataframe tbody tr th {\n",
       "        vertical-align: top;\n",
       "    }\n",
       "\n",
       "    .dataframe thead th {\n",
       "        text-align: right;\n",
       "    }\n",
       "</style>\n",
       "<table border=\"1\" class=\"dataframe\">\n",
       "  <thead>\n",
       "    <tr style=\"text-align: right;\">\n",
       "      <th></th>\n",
       "      <th>true</th>\n",
       "      <th>false</th>\n",
       "    </tr>\n",
       "  </thead>\n",
       "  <tbody>\n",
       "    <tr>\n",
       "      <th>positive</th>\n",
       "      <td>81</td>\n",
       "      <td>24</td>\n",
       "    </tr>\n",
       "    <tr>\n",
       "      <th>negative</th>\n",
       "      <td>105</td>\n",
       "      <td>58</td>\n",
       "    </tr>\n",
       "  </tbody>\n",
       "</table>\n",
       "</div>"
      ],
      "text/plain": [
       "         true false\n",
       "positive   81    24\n",
       "negative  105    58"
      ]
     },
     "execution_count": 70,
     "metadata": {},
     "output_type": "execute_result"
    }
   ],
   "source": [
    "ConfusionMatrixToDataFrame(y_test,LR_y_test_preds)"
   ]
  },
  {
   "cell_type": "code",
   "execution_count": 71,
   "metadata": {},
   "outputs": [],
   "source": [
    "# Calculate ROC curve from y_test and pred\n",
    "fpr, tpr, thresholds = roc_curve(y_test, LRy_test_prob)"
   ]
  },
  {
   "cell_type": "code",
   "execution_count": 72,
   "metadata": {},
   "outputs": [
    {
     "data": {
      "image/png": "[encoded data removed]",
      "text/plain": [
       "<Figure size 576x576 with 1 Axes>"
      ]
     },
     "metadata": {},
     "output_type": "display_data"
    }
   ],
   "source": [
    "# Plot the ROC curve\n",
    "fig = plt.figure(figsize=(8,8))\n",
    "plt.title('Receiver Operating Characteristic')\n",
    "\n",
    "# Plot ROC curve\n",
    "plt.plot(fpr, tpr, label='l1')\n",
    "plt.legend(loc='lower right')\n",
    "\n",
    "# Diagonal 45 degree line\n",
    "plt.plot([0,1],[0,1],'k--')\n",
    "\n",
    "# Axes limits and labels\n",
    "plt.xlim([-0.1,1.1])\n",
    "plt.ylim([-0.1,1.1])\n",
    "plt.ylabel('True Positive Rate')\n",
    "plt.xlabel('False Positive Rate')\n",
    "plt.show()"
   ]
  },
  {
   "cell_type": "code",
   "execution_count": 73,
   "metadata": {},
   "outputs": [
    {
     "name": "stdout",
     "output_type": "stream",
     "text": [
      "0.6983436506608666\n"
     ]
    }
   ],
   "source": [
    "# Calculate AUC for Train set\n",
    "print(roc_auc_score(y_test,LR_y_test_preds))"
   ]
  },
  {
   "cell_type": "code",
   "execution_count": 74,
   "metadata": {},
   "outputs": [
    {
     "name": "stdout",
     "output_type": "stream",
     "text": [
      "0.7453014332719871\n"
     ]
    }
   ],
   "source": [
    "# Calculate AUC for Test set\n",
    "LR_auc = auc(fpr, tpr)\n",
    "print(LR_auc)"
   ]
  },
  {
   "cell_type": "markdown",
   "metadata": {},
   "source": [
    "### Feature Importance"
   ]
  },
  {
   "cell_type": "code",
   "execution_count": 75,
   "metadata": {},
   "outputs": [
    {
     "name": "stdout",
     "output_type": "stream",
     "text": [
      "The features in order of importance are:\n",
      "--------------------------------------------------\n",
      "Albumin\n",
      "Total_Protiens\n",
      "Direct_Bilirubin\n",
      "Albumin_and_Globulin_Ratio\n",
      "Total_Bilirubin\n",
      "Alamine_Aminotransferase\n",
      "Age\n",
      "Alkaline_Phosphotase\n",
      "Aspartate_Aminotransferase\n",
      "Gender\n"
     ]
    }
   ],
   "source": [
    "indices = np.argsort(-abs(LRmodel.coef_[0,:]))\n",
    "print(\"The features in order of importance are:\")\n",
    "print(50*'-')\n",
    "for feature in X.columns[indices]:\n",
    "    print(feature)"
   ]
  },
  {
   "cell_type": "markdown",
   "metadata": {},
   "source": [
    "## 3. Random Forest"
   ]
  },
  {
   "cell_type": "code",
   "execution_count": 76,
   "metadata": {},
   "outputs": [
    {
     "name": "stderr",
     "output_type": "stream",
     "text": [
      "D:\\anaconda3\\lib\\site-packages\\sklearn\\model_selection\\_search.py:765: DataConversionWarning: A column-vector y was passed when a 1d array was expected. Please change the shape of y to (n_samples,), for example using ravel().\n",
      "  self.best_estimator_.fit(X, y, **fit_params)\n"
     ]
    },
    {
     "data": {
      "text/plain": [
       "RandomizedSearchCV(estimator=RandomForestClassifier(), n_iter=15, n_jobs=-1,\n",
       "                   param_distributions={'max_depth': [3, 10, 15],\n",
       "                                        'max_features': ['auto', None],\n",
       "                                        'min_samples_leaf': [1, 2, 4],\n",
       "                                        'min_samples_split': [2, 5, 10],\n",
       "                                        'n_estimators': [3, 10, 15]},\n",
       "                   scoring='roc_auc')"
      ]
     },
     "execution_count": 76,
     "metadata": {},
     "output_type": "execute_result"
    }
   ],
   "source": [
    "from sklearn.ensemble import RandomForestClassifier\n",
    "tuned_params = {'n_estimators':[3,10,15],'max_depth':[3,10,15], 'max_features':['auto',None], 'min_samples_split': [2, 5, 10], 'min_samples_leaf': [1, 2, 4]}\n",
    "model = RandomizedSearchCV(RandomForestClassifier(), tuned_params, n_iter=15, scoring = 'roc_auc', n_jobs=-1)\n",
    "model.fit(X_train, y_train)"
   ]
  },
  {
   "cell_type": "code",
   "execution_count": 77,
   "metadata": {},
   "outputs": [
    {
     "data": {
      "text/plain": [
       "RandomForestClassifier(max_depth=15, max_features=None, min_samples_leaf=2,\n",
       "                       min_samples_split=5, n_estimators=15)"
      ]
     },
     "execution_count": 77,
     "metadata": {},
     "output_type": "execute_result"
    }
   ],
   "source": [
    "RFmodel = model.best_estimator_\n",
    "RFmodel"
   ]
  },
  {
   "cell_type": "code",
   "execution_count": 78,
   "metadata": {},
   "outputs": [
    {
     "name": "stdout",
     "output_type": "stream",
     "text": [
      "Accuracy on training set:  0.9797794117647058 \n",
      "\n",
      "Precision on training set:  0.9812734082397003 \n",
      "\n",
      "Recall on training set:  0.9776119402985075 \n",
      "\n",
      "F1 score on training set:  0.9794392523364486 \n",
      "\n",
      "Accuracy on testing set:  0.7835820895522388 \n",
      "\n",
      "Precision on testing set:  0.697841726618705 \n",
      "\n",
      "Recall on testing set:  0.8584070796460177 \n",
      "\n",
      "F1 score on testing set:  0.7698412698412699 \n",
      "\n"
     ]
    }
   ],
   "source": [
    "RF_y_train_preds = model.predict(X_train)\n",
    "print(\"Accuracy on training set: \", accuracy_score(RF_y_train_preds, y_train),\"\\n\")\n",
    "\n",
    "print(\"Precision on training set: \", precision_score(RF_y_train_preds, y_train),\"\\n\")\n",
    "\n",
    "print(\"Recall on training set: \", recall_score(RF_y_train_preds, y_train),\"\\n\")\n",
    "\n",
    "print(\"F1 score on training set: \", f1_score(RF_y_train_preds, y_train),\"\\n\")\n",
    "\n",
    "RF_y_test_preds = model.predict(X_test)\n",
    "\n",
    "RF_accuracy = accuracy_score(RF_y_test_preds, y_test)\n",
    "\n",
    "print(\"Accuracy on testing set: \", RF_accuracy,\"\\n\")\n",
    "\n",
    "print(\"Precision on testing set: \", precision_score(RF_y_test_preds, y_test),\"\\n\")\n",
    "\n",
    "print(\"Recall on testing set: \", recall_score(RF_y_test_preds, y_test),\"\\n\")\n",
    "\n",
    "print(\"F1 score on testing set: \", f1_score(RF_y_test_preds, y_test),\"\\n\")"
   ]
  },
  {
   "cell_type": "code",
   "execution_count": 79,
   "metadata": {},
   "outputs": [
    {
     "name": "stdout",
     "output_type": "stream",
     "text": [
      "              precision    recall  f1-score   support\n",
      "\n",
      "           0       0.98      0.98      0.98       277\n",
      "           1       0.98      0.98      0.98       267\n",
      "\n",
      "    accuracy                           0.98       544\n",
      "   macro avg       0.98      0.98      0.98       544\n",
      "weighted avg       0.98      0.98      0.98       544\n",
      "\n",
      "              precision    recall  f1-score   support\n",
      "\n",
      "           0       0.73      0.88      0.80       129\n",
      "           1       0.86      0.70      0.77       139\n",
      "\n",
      "    accuracy                           0.78       268\n",
      "   macro avg       0.79      0.79      0.78       268\n",
      "weighted avg       0.80      0.78      0.78       268\n",
      "\n"
     ]
    }
   ],
   "source": [
    "print(classification_report(y_train, RF_y_train_preds))\n",
    "print(classification_report(y_test,RF_y_test_preds))"
   ]
  },
  {
   "cell_type": "code",
   "execution_count": 80,
   "metadata": {},
   "outputs": [
    {
     "name": "stderr",
     "output_type": "stream",
     "text": [
      "D:\\anaconda3\\lib\\site-packages\\sklearn\\model_selection\\_validation.py:531: DataConversionWarning: A column-vector y was passed when a 1d array was expected. Please change the shape of y to (n_samples,), for example using ravel().\n",
      "  estimator.fit(X_train, y_train, **fit_params)\n",
      "D:\\anaconda3\\lib\\site-packages\\sklearn\\model_selection\\_validation.py:531: DataConversionWarning: A column-vector y was passed when a 1d array was expected. Please change the shape of y to (n_samples,), for example using ravel().\n",
      "  estimator.fit(X_train, y_train, **fit_params)\n",
      "D:\\anaconda3\\lib\\site-packages\\sklearn\\model_selection\\_validation.py:531: DataConversionWarning: A column-vector y was passed when a 1d array was expected. Please change the shape of y to (n_samples,), for example using ravel().\n",
      "  estimator.fit(X_train, y_train, **fit_params)\n"
     ]
    },
    {
     "name": "stdout",
     "output_type": "stream",
     "text": [
      "[0.82656827 0.7195572  0.81481481]\n"
     ]
    },
    {
     "data": {
      "text/plain": [
       "0.7869800920231426"
      ]
     },
     "execution_count": 80,
     "metadata": {},
     "output_type": "execute_result"
    }
   ],
   "source": [
    "crossRF = cross_val_score(RFmodel,X,y,cv=cv,scoring = \"accuracy\")\n",
    "print(crossRF)\n",
    "np.mean(crossRF)"
   ]
  },
  {
   "cell_type": "code",
   "execution_count": 81,
   "metadata": {},
   "outputs": [
    {
     "data": {
      "text/plain": [
       "array([0.34333333, 0.06161616, 0.50666667, 0.63298653, 0.33444444,\n",
       "       0.39729037, 0.74      , 0.61454311, 0.59444444, 0.20846154])"
      ]
     },
     "execution_count": 81,
     "metadata": {},
     "output_type": "execute_result"
    }
   ],
   "source": [
    "RFy_test_prob = model.predict_proba(X_test)[:,1]\n",
    "RFy_test_prob [:10]"
   ]
  },
  {
   "cell_type": "code",
   "execution_count": 82,
   "metadata": {},
   "outputs": [
    {
     "data": {
      "text/html": [
       "<div>\n",
       "<style scoped>\n",
       "    .dataframe tbody tr th:only-of-type {\n",
       "        vertical-align: middle;\n",
       "    }\n",
       "\n",
       "    .dataframe tbody tr th {\n",
       "        vertical-align: top;\n",
       "    }\n",
       "\n",
       "    .dataframe thead th {\n",
       "        text-align: right;\n",
       "    }\n",
       "</style>\n",
       "<table border=\"1\" class=\"dataframe\">\n",
       "  <thead>\n",
       "    <tr style=\"text-align: right;\">\n",
       "      <th></th>\n",
       "      <th>true</th>\n",
       "      <th>false</th>\n",
       "    </tr>\n",
       "  </thead>\n",
       "  <tbody>\n",
       "    <tr>\n",
       "      <th>positive</th>\n",
       "      <td>97</td>\n",
       "      <td>16</td>\n",
       "    </tr>\n",
       "    <tr>\n",
       "      <th>negative</th>\n",
       "      <td>113</td>\n",
       "      <td>42</td>\n",
       "    </tr>\n",
       "  </tbody>\n",
       "</table>\n",
       "</div>"
      ],
      "text/plain": [
       "         true false\n",
       "positive   97    16\n",
       "negative  113    42"
      ]
     },
     "execution_count": 82,
     "metadata": {},
     "output_type": "execute_result"
    }
   ],
   "source": [
    "ConfusionMatrixToDataFrame(y_test,RF_y_test_preds)"
   ]
  },
  {
   "cell_type": "code",
   "execution_count": 83,
   "metadata": {},
   "outputs": [],
   "source": [
    "# Calculate ROC curve from y_test and pred\n",
    "fpr, tpr, thresholds = roc_curve(y_test, RFy_test_prob)"
   ]
  },
  {
   "cell_type": "code",
   "execution_count": 84,
   "metadata": {},
   "outputs": [
    {
     "data": {
      "image/png": "[encoded data removed]",
      "text/plain": [
       "<Figure size 576x576 with 1 Axes>"
      ]
     },
     "metadata": {},
     "output_type": "display_data"
    }
   ],
   "source": [
    "# Plot the ROC curve\n",
    "fig = plt.figure(figsize=(8,8))\n",
    "plt.title('Receiver Operating Characteristic')\n",
    "\n",
    "# Plot ROC curve\n",
    "plt.plot(fpr, tpr, label='l1')\n",
    "plt.legend(loc='lower right')\n",
    "\n",
    "# Diagonal 45 degree line\n",
    "plt.plot([0,1],[0,1],'k--')\n",
    "\n",
    "# Axes limits and labels\n",
    "plt.xlim([-0.1,1.1])\n",
    "plt.ylim([-0.1,1.1])\n",
    "plt.ylabel('True Positive Rate')\n",
    "plt.xlabel('False Positive Rate')\n",
    "plt.show()"
   ]
  },
  {
   "cell_type": "code",
   "execution_count": 85,
   "metadata": {},
   "outputs": [
    {
     "name": "stdout",
     "output_type": "stream",
     "text": [
      "0.7869053594333836\n"
     ]
    }
   ],
   "source": [
    "# Calculate AUC for Train set\n",
    "print(roc_auc_score(y_test,RF_y_test_preds))"
   ]
  },
  {
   "cell_type": "code",
   "execution_count": 86,
   "metadata": {},
   "outputs": [
    {
     "name": "stdout",
     "output_type": "stream",
     "text": [
      "0.8872343985276895\n"
     ]
    }
   ],
   "source": [
    "# Calculate AUC for Test set\n",
    "RF_auc = auc(fpr, tpr)\n",
    "print(RF_auc)"
   ]
  },
  {
   "cell_type": "markdown",
   "metadata": {},
   "source": [
    "## Feature Importance"
   ]
  },
  {
   "cell_type": "code",
   "execution_count": 87,
   "metadata": {},
   "outputs": [
    {
     "name": "stdout",
     "output_type": "stream",
     "text": [
      "The features in order of importance are:\n",
      "--------------------------------------------------\n",
      "Direct_Bilirubin\n",
      "Alkaline_Phosphotase\n",
      "Age\n",
      "Alamine_Aminotransferase\n",
      "Aspartate_Aminotransferase\n",
      "Total_Protiens\n",
      "Albumin\n",
      "Albumin_and_Globulin_Ratio\n",
      "Total_Bilirubin\n",
      "Gender\n"
     ]
    }
   ],
   "source": [
    "indices = np.argsort(-RFmodel.feature_importances_)\n",
    "print(\"The features in order of importance are:\")\n",
    "print(50*'-')\n",
    "for feature in X.columns[indices]:\n",
    "    print(feature)"
   ]
  },
  {
   "cell_type": "markdown",
   "metadata": {},
   "source": [
    "## 4. Support Vector Machine"
   ]
  },
  {
   "cell_type": "code",
   "execution_count": 88,
   "metadata": {},
   "outputs": [
    {
     "name": "stderr",
     "output_type": "stream",
     "text": [
      "D:\\anaconda3\\lib\\site-packages\\sklearn\\utils\\validation.py:72: DataConversionWarning: A column-vector y was passed when a 1d array was expected. Please change the shape of y to (n_samples, ), for example using ravel().\n",
      "  return f(**kwargs)\n"
     ]
    },
    {
     "data": {
      "text/plain": [
       "RandomizedSearchCV(estimator=SVC(), n_iter=9, n_jobs=-1,\n",
       "                   param_distributions={'C': [0.001, 1, 1000],\n",
       "                                        'kernel': ['poly', 'rbf', 'linear'],\n",
       "                                        'probability': [True]},\n",
       "                   scoring='roc_auc')"
      ]
     },
     "execution_count": 88,
     "metadata": {},
     "output_type": "execute_result"
    }
   ],
   "source": [
    "from sklearn import svm\n",
    "from sklearn.svm import SVC\n",
    "tuned_params = {'kernel':['poly','rbf','linear'], 'C':[0.001,1,1000],'probability':[True]}\n",
    "model = RandomizedSearchCV(svm.SVC(), tuned_params, n_iter=9, scoring = 'roc_auc', n_jobs=-1)\n",
    "model.fit(X_train, y_train)"
   ]
  },
  {
   "cell_type": "code",
   "execution_count": 89,
   "metadata": {},
   "outputs": [
    {
     "data": {
      "text/plain": [
       "SVC(C=1000, probability=True)"
      ]
     },
     "execution_count": 89,
     "metadata": {},
     "output_type": "execute_result"
    }
   ],
   "source": [
    "SVCmodel = model.best_estimator_\n",
    "SVCmodel"
   ]
  },
  {
   "cell_type": "code",
   "execution_count": 90,
   "metadata": {},
   "outputs": [
    {
     "name": "stdout",
     "output_type": "stream",
     "text": [
      "Accuracy on training set:  0.9393382352941176 \n",
      "\n",
      "Precision on training set:  0.898876404494382 \n",
      "\n",
      "Recall on training set:  0.975609756097561 \n",
      "\n",
      "F1 score on training set:  0.935672514619883 \n",
      "\n",
      "Accuracy on testing set:  0.7835820895522388 \n",
      "\n",
      "Precision on testing set:  0.6690647482014388 \n",
      "\n",
      "Recall on testing set:  0.8857142857142857 \n",
      "\n",
      "F1 score on testing set:  0.7622950819672131 \n",
      "\n"
     ]
    }
   ],
   "source": [
    "SVC_y_train_preds = model.predict(X_train)\n",
    "print(\"Accuracy on training set: \", accuracy_score(SVC_y_train_preds, y_train),\"\\n\")\n",
    "\n",
    "print(\"Precision on training set: \", precision_score(SVC_y_train_preds, y_train),\"\\n\")\n",
    "\n",
    "print(\"Recall on training set: \", recall_score(SVC_y_train_preds, y_train),\"\\n\")\n",
    "\n",
    "print(\"F1 score on training set: \", f1_score(SVC_y_train_preds, y_train),\"\\n\")\n",
    "\n",
    "SVC_y_test_preds = model.predict(X_test)\n",
    "\n",
    "SVC_accuracy = accuracy_score(SVC_y_test_preds, y_test)\n",
    "\n",
    "print(\"Accuracy on testing set: \", SVC_accuracy ,\"\\n\")\n",
    "\n",
    "print(\"Precision on testing set: \", precision_score(SVC_y_test_preds, y_test),\"\\n\")\n",
    "\n",
    "print(\"Recall on testing set: \", recall_score(SVC_y_test_preds, y_test),\"\\n\")\n",
    "\n",
    "print(\"F1 score on testing set: \", f1_score(SVC_y_test_preds, y_test),\"\\n\")"
   ]
  },
  {
   "cell_type": "code",
   "execution_count": 91,
   "metadata": {},
   "outputs": [
    {
     "name": "stdout",
     "output_type": "stream",
     "text": [
      "              precision    recall  f1-score   support\n",
      "\n",
      "           0       0.91      0.98      0.94       277\n",
      "           1       0.98      0.90      0.94       267\n",
      "\n",
      "    accuracy                           0.94       544\n",
      "   macro avg       0.94      0.94      0.94       544\n",
      "weighted avg       0.94      0.94      0.94       544\n",
      "\n",
      "              precision    recall  f1-score   support\n",
      "\n",
      "           0       0.72      0.91      0.80       129\n",
      "           1       0.89      0.67      0.76       139\n",
      "\n",
      "    accuracy                           0.78       268\n",
      "   macro avg       0.80      0.79      0.78       268\n",
      "weighted avg       0.80      0.78      0.78       268\n",
      "\n"
     ]
    }
   ],
   "source": [
    "print(classification_report(y_train, SVC_y_train_preds))\n",
    "print(classification_report(y_test,SVC_y_test_preds))"
   ]
  },
  {
   "cell_type": "code",
   "execution_count": 92,
   "metadata": {},
   "outputs": [
    {
     "name": "stderr",
     "output_type": "stream",
     "text": [
      "D:\\anaconda3\\lib\\site-packages\\sklearn\\utils\\validation.py:72: DataConversionWarning: A column-vector y was passed when a 1d array was expected. Please change the shape of y to (n_samples, ), for example using ravel().\n",
      "  return f(**kwargs)\n",
      "D:\\anaconda3\\lib\\site-packages\\sklearn\\utils\\validation.py:72: DataConversionWarning: A column-vector y was passed when a 1d array was expected. Please change the shape of y to (n_samples, ), for example using ravel().\n",
      "  return f(**kwargs)\n",
      "D:\\anaconda3\\lib\\site-packages\\sklearn\\utils\\validation.py:72: DataConversionWarning: A column-vector y was passed when a 1d array was expected. Please change the shape of y to (n_samples, ), for example using ravel().\n",
      "  return f(**kwargs)\n"
     ]
    },
    {
     "name": "stdout",
     "output_type": "stream",
     "text": [
      "[0.74169742 0.76383764 0.77777778]\n"
     ]
    },
    {
     "data": {
      "text/plain": [
       "0.7611042777094438"
      ]
     },
     "execution_count": 92,
     "metadata": {},
     "output_type": "execute_result"
    }
   ],
   "source": [
    "crossSVC = cross_val_score(SVCmodel,X,y,cv=cv,scoring = \"accuracy\")\n",
    "print(crossSVC)\n",
    "np.mean(crossSVC)"
   ]
  },
  {
   "cell_type": "code",
   "execution_count": 93,
   "metadata": {},
   "outputs": [
    {
     "data": {
      "text/plain": [
       "array([0.40389076, 0.39775524, 0.47719195, 0.51506521, 0.39594868,\n",
       "       0.31797863, 0.58640525, 0.42710117, 0.29288671, 0.37102522])"
      ]
     },
     "execution_count": 93,
     "metadata": {},
     "output_type": "execute_result"
    }
   ],
   "source": [
    "SVC_y_test_prob = model.predict_proba(X_test)[:,1]\n",
    "SVC_y_test_prob [:10]"
   ]
  },
  {
   "cell_type": "code",
   "execution_count": 94,
   "metadata": {},
   "outputs": [
    {
     "data": {
      "text/html": [
       "<div>\n",
       "<style scoped>\n",
       "    .dataframe tbody tr th:only-of-type {\n",
       "        vertical-align: middle;\n",
       "    }\n",
       "\n",
       "    .dataframe tbody tr th {\n",
       "        vertical-align: top;\n",
       "    }\n",
       "\n",
       "    .dataframe thead th {\n",
       "        text-align: right;\n",
       "    }\n",
       "</style>\n",
       "<table border=\"1\" class=\"dataframe\">\n",
       "  <thead>\n",
       "    <tr style=\"text-align: right;\">\n",
       "      <th></th>\n",
       "      <th>true</th>\n",
       "      <th>false</th>\n",
       "    </tr>\n",
       "  </thead>\n",
       "  <tbody>\n",
       "    <tr>\n",
       "      <th>positive</th>\n",
       "      <td>93</td>\n",
       "      <td>12</td>\n",
       "    </tr>\n",
       "    <tr>\n",
       "      <th>negative</th>\n",
       "      <td>117</td>\n",
       "      <td>46</td>\n",
       "    </tr>\n",
       "  </tbody>\n",
       "</table>\n",
       "</div>"
      ],
      "text/plain": [
       "         true false\n",
       "positive   93    12\n",
       "negative  117    46"
      ]
     },
     "execution_count": 94,
     "metadata": {},
     "output_type": "execute_result"
    }
   ],
   "source": [
    "ConfusionMatrixToDataFrame(y_test,SVC_y_test_preds)"
   ]
  },
  {
   "cell_type": "code",
   "execution_count": 95,
   "metadata": {},
   "outputs": [],
   "source": [
    "# Calculate ROC curve from y_test and pred\n",
    "fpr, tpr, thresholds = roc_curve(y_test, SVC_y_test_prob)"
   ]
  },
  {
   "cell_type": "code",
   "execution_count": 96,
   "metadata": {},
   "outputs": [
    {
     "data": {
      "image/png": "[encoded data removed]",
      "text/plain": [
       "<Figure size 576x576 with 1 Axes>"
      ]
     },
     "metadata": {},
     "output_type": "display_data"
    }
   ],
   "source": [
    "# Plot the ROC curve\n",
    "fig = plt.figure(figsize=(8,8))\n",
    "plt.title('Receiver Operating Characteristic')\n",
    "\n",
    "# Plot ROC curve\n",
    "plt.plot(fpr, tpr, label='l1')\n",
    "plt.legend(loc='lower right')\n",
    "\n",
    "# Diagonal 45 degree line\n",
    "plt.plot([0,1],[0,1],'k--')\n",
    "\n",
    "# Axes limits and labels\n",
    "plt.xlim([-0.1,1.1])\n",
    "plt.ylim([-0.1,1.1])\n",
    "plt.ylabel('True Positive Rate')\n",
    "plt.xlabel('False Positive Rate')\n",
    "plt.show()"
   ]
  },
  {
   "cell_type": "code",
   "execution_count": 97,
   "metadata": {},
   "outputs": [
    {
     "name": "stdout",
     "output_type": "stream",
     "text": [
      "0.7880207461937426\n"
     ]
    }
   ],
   "source": [
    "# Calculate AUC for Train set\n",
    "print(roc_auc_score(y_test,SVC_y_test_preds))"
   ]
  },
  {
   "cell_type": "code",
   "execution_count": 98,
   "metadata": {},
   "outputs": [
    {
     "name": "stdout",
     "output_type": "stream",
     "text": [
      "0.8271150521443309\n"
     ]
    }
   ],
   "source": [
    "# Calculate AUC for Test set\n",
    "SVC_auc= auc(fpr, tpr)\n",
    "print(SVC_auc)"
   ]
  },
  {
   "cell_type": "markdown",
   "metadata": {},
   "source": [
    "# Accuracy Report "
   ]
  },
  {
   "cell_type": "markdown",
   "metadata": {},
   "source": [
    "Below is a report on accuracy and AUC score of each model"
   ]
  },
  {
   "cell_type": "code",
   "execution_count": 101,
   "metadata": {},
   "outputs": [
    {
     "data": {
      "text/html": [
       "<div>\n",
       "<style scoped>\n",
       "    .dataframe tbody tr th:only-of-type {\n",
       "        vertical-align: middle;\n",
       "    }\n",
       "\n",
       "    .dataframe tbody tr th {\n",
       "        vertical-align: top;\n",
       "    }\n",
       "\n",
       "    .dataframe thead th {\n",
       "        text-align: right;\n",
       "    }\n",
       "</style>\n",
       "<table border=\"1\" class=\"dataframe\">\n",
       "  <thead>\n",
       "    <tr style=\"text-align: right;\">\n",
       "      <th>Algorithm</th>\n",
       "      <th>Accuracy Score</th>\n",
       "      <th>AUC SCORE</th>\n",
       "    </tr>\n",
       "  </thead>\n",
       "  <tbody>\n",
       "    <tr>\n",
       "      <th>Decision Tree</th>\n",
       "      <td>0.783582</td>\n",
       "      <td>0.780548</td>\n",
       "    </tr>\n",
       "    <tr>\n",
       "      <th>Logistic Regression</th>\n",
       "      <td>0.694030</td>\n",
       "      <td>0.745301</td>\n",
       "    </tr>\n",
       "    <tr>\n",
       "      <th>Random Forest</th>\n",
       "      <td>0.783582</td>\n",
       "      <td>0.887234</td>\n",
       "    </tr>\n",
       "    <tr>\n",
       "      <th>SVM</th>\n",
       "      <td>0.783582</td>\n",
       "      <td>0.827115</td>\n",
       "    </tr>\n",
       "  </tbody>\n",
       "</table>\n",
       "</div>"
      ],
      "text/plain": [
       "Algorithm            Accuracy Score  AUC SCORE\n",
       "Decision Tree              0.783582   0.780548\n",
       "Logistic Regression        0.694030   0.745301\n",
       "Random Forest              0.783582   0.887234\n",
       "SVM                        0.783582   0.827115"
      ]
     },
     "execution_count": 101,
     "metadata": {},
     "output_type": "execute_result"
    }
   ],
   "source": [
    "accuracyScore = [DT_accuracy, LR_accuracy, RF_accuracy, SVC_accuracy]\n",
    "aucScore = [DT_auc, LR_auc, RF_auc, SVC_auc]\n",
    "\n",
    "accuracyReport = pd.DataFrame(accuracyScore, index=['Decision Tree','Logistic Regression','Random Forest','SVM'])\n",
    "accuracyReport.columns = ['Accuracy Score']\n",
    "accuracyReport.insert(loc=1, column='AUC SCORE',value=aucScore)\n",
    "accuracyReport.columns.name = 'Algorithm'\n",
    "accuracyReport"
   ]
  },
  {
   "cell_type": "markdown",
   "metadata": {},
   "source": [
    "The accuracy report shows the performance of each algorithm on test data"
   ]
  },
  {
   "cell_type": "markdown",
   "metadata": {},
   "source": [
    "## Saving the winning model "
   ]
  },
  {
   "cell_type": "code",
   "execution_count": 102,
   "metadata": {},
   "outputs": [],
   "source": [
    "import joblib"
   ]
  },
  {
   "cell_type": "code",
   "execution_count": 104,
   "metadata": {},
   "outputs": [
    {
     "name": "stderr",
     "output_type": "stream",
     "text": [
      "D:\\anaconda3\\lib\\site-packages\\ipykernel_launcher.py:2: DataConversionWarning: A column-vector y was passed when a 1d array was expected. Please change the shape of y to (n_samples,), for example using ravel().\n",
      "  \n"
     ]
    }
   ],
   "source": [
    "win_model = RFmodel\n",
    "win_model.fit(X_train, y_train)\n",
    "with open('LiverDisease.pkl', 'wb') as pickle_file:\n",
    "      joblib.dump(win_model, 'LiverDisease.pkl')"
   ]
  },
  {
   "cell_type": "code",
   "execution_count": null,
   "metadata": {},
   "outputs": [],
   "source": []
  }
 ],
 "metadata": {
  "kernelspec": {
   "display_name": "Python 3",
   "language": "python",
   "name": "python3"
  },
  "language_info": {
   "codemirror_mode": {
    "name": "ipython",
    "version": 3
   },
   "file_extension": ".py",
   "mimetype": "text/x-python",
   "name": "python",
   "nbconvert_exporter": "python",
   "pygments_lexer": "ipython3",
   "version": "3.7.6"
  }
 },
 "nbformat": 4,
 "nbformat_minor": 4
}
