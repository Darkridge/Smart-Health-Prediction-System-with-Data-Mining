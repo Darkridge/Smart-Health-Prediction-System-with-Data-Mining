{
 "cells": [
  {
   "cell_type": "markdown",
   "metadata": {},
   "source": [
    "# Reading the Data"
   ]
  },
  {
   "cell_type": "markdown",
   "metadata": {},
   "source": [
    "This particular dataset were consisted of four databases that dates back from early 1998, the databases were collected from hospitals in Cleveland, Hungary, Switzerland, and Long Beach VA. It contains 76 attributes, including the predicted attribute, but all published experiments refer to using a subset of 14 of them. \n",
    "\n",
    "The Number of instances that are in this dataset are in total of 303. It is a multivariate data set, containing 14 variables that are \n",
    "\n",
    "\n",
    "\n",
    "        1. Age\n",
    "        2. Sex (1 = male; 0 = female) \n",
    "        3. Chest pain type (4 values)\n",
    "        4. resting blood pressure\n",
    "        5. serum cholestoral in mg/dl\n",
    "        6. fasting blood sugar > 120 mg/dl\n",
    "        7. resting electrocardiographic results (values 0,1,2)\n",
    "        8. maximum heart rate achieved\n",
    "        9. exercise induced angina\n",
    "        10. oldpeak = ST depression induced by exercise relative to rest\n",
    "        11. the slope of the peak exercise ST segment\n",
    "        12. number of major vessels (0-3) colored by flourosopy\n",
    "        13. thal: 0 = normal; 1 = fixed defect; 2 = reversable defect\n",
    "        14. target (The presence of heart disease in the patient, 0 = no disease and 1 = disease)\n",
    "\n",
    "The source of this dataset can be tracked with the mentioned URL (https://archive.ics.uci.edu/ml/datasets/Heart+Disease)\n"
   ]
  },
  {
   "cell_type": "code",
   "execution_count": 1,
   "metadata": {},
   "outputs": [],
   "source": [
    "import pandas as pd #dataframes\n",
    "import numpy as np #numeral computing\n",
    "import seaborn as sns #visualization\n",
    "from matplotlib import pyplot as plt #visualization (scatter plots)\n",
    "from sklearn.model_selection import train_test_split #splitting train and test datasets\n",
    "from sklearn.metrics import roc_curve, auc, roc_auc_score, confusion_matrix #Display AUC-ROC graph and score"
   ]
  },
  {
   "cell_type": "code",
   "execution_count": 2,
   "metadata": {},
   "outputs": [],
   "source": [
    "data = pd.read_csv(r\"F:\\A.P.U\\Final Year Project\\Heart Disease Datasets.csv\")"
   ]
  },
  {
   "cell_type": "code",
   "execution_count": 3,
   "metadata": {},
   "outputs": [
    {
     "data": {
      "text/html": [
       "<div>\n",
       "<style scoped>\n",
       "    .dataframe tbody tr th:only-of-type {\n",
       "        vertical-align: middle;\n",
       "    }\n",
       "\n",
       "    .dataframe tbody tr th {\n",
       "        vertical-align: top;\n",
       "    }\n",
       "\n",
       "    .dataframe thead th {\n",
       "        text-align: right;\n",
       "    }\n",
       "</style>\n",
       "<table border=\"1\" class=\"dataframe\">\n",
       "  <thead>\n",
       "    <tr style=\"text-align: right;\">\n",
       "      <th></th>\n",
       "      <th>age</th>\n",
       "      <th>sex</th>\n",
       "      <th>cp</th>\n",
       "      <th>trestbps</th>\n",
       "      <th>chol</th>\n",
       "      <th>fbs</th>\n",
       "      <th>restecg</th>\n",
       "      <th>thalach</th>\n",
       "      <th>exang</th>\n",
       "      <th>oldpeak</th>\n",
       "      <th>slope</th>\n",
       "      <th>ca</th>\n",
       "      <th>thal</th>\n",
       "      <th>target</th>\n",
       "    </tr>\n",
       "  </thead>\n",
       "  <tbody>\n",
       "    <tr>\n",
       "      <th>0</th>\n",
       "      <td>63</td>\n",
       "      <td>1</td>\n",
       "      <td>3</td>\n",
       "      <td>145</td>\n",
       "      <td>233</td>\n",
       "      <td>1</td>\n",
       "      <td>0</td>\n",
       "      <td>150</td>\n",
       "      <td>0</td>\n",
       "      <td>2.3</td>\n",
       "      <td>0</td>\n",
       "      <td>0</td>\n",
       "      <td>1</td>\n",
       "      <td>1</td>\n",
       "    </tr>\n",
       "    <tr>\n",
       "      <th>1</th>\n",
       "      <td>37</td>\n",
       "      <td>1</td>\n",
       "      <td>2</td>\n",
       "      <td>130</td>\n",
       "      <td>250</td>\n",
       "      <td>0</td>\n",
       "      <td>1</td>\n",
       "      <td>187</td>\n",
       "      <td>0</td>\n",
       "      <td>3.5</td>\n",
       "      <td>0</td>\n",
       "      <td>0</td>\n",
       "      <td>2</td>\n",
       "      <td>1</td>\n",
       "    </tr>\n",
       "    <tr>\n",
       "      <th>2</th>\n",
       "      <td>41</td>\n",
       "      <td>0</td>\n",
       "      <td>1</td>\n",
       "      <td>130</td>\n",
       "      <td>204</td>\n",
       "      <td>0</td>\n",
       "      <td>0</td>\n",
       "      <td>172</td>\n",
       "      <td>0</td>\n",
       "      <td>1.4</td>\n",
       "      <td>2</td>\n",
       "      <td>0</td>\n",
       "      <td>2</td>\n",
       "      <td>1</td>\n",
       "    </tr>\n",
       "    <tr>\n",
       "      <th>3</th>\n",
       "      <td>56</td>\n",
       "      <td>1</td>\n",
       "      <td>1</td>\n",
       "      <td>120</td>\n",
       "      <td>236</td>\n",
       "      <td>0</td>\n",
       "      <td>1</td>\n",
       "      <td>178</td>\n",
       "      <td>0</td>\n",
       "      <td>0.8</td>\n",
       "      <td>2</td>\n",
       "      <td>0</td>\n",
       "      <td>2</td>\n",
       "      <td>1</td>\n",
       "    </tr>\n",
       "    <tr>\n",
       "      <th>4</th>\n",
       "      <td>57</td>\n",
       "      <td>0</td>\n",
       "      <td>0</td>\n",
       "      <td>120</td>\n",
       "      <td>354</td>\n",
       "      <td>0</td>\n",
       "      <td>1</td>\n",
       "      <td>163</td>\n",
       "      <td>1</td>\n",
       "      <td>0.6</td>\n",
       "      <td>2</td>\n",
       "      <td>0</td>\n",
       "      <td>2</td>\n",
       "      <td>1</td>\n",
       "    </tr>\n",
       "  </tbody>\n",
       "</table>\n",
       "</div>"
      ],
      "text/plain": [
       "   age  sex  cp  trestbps  chol  fbs  restecg  thalach  exang  oldpeak  slope  \\\n",
       "0   63    1   3       145   233    1        0      150      0      2.3      0   \n",
       "1   37    1   2       130   250    0        1      187      0      3.5      0   \n",
       "2   41    0   1       130   204    0        0      172      0      1.4      2   \n",
       "3   56    1   1       120   236    0        1      178      0      0.8      2   \n",
       "4   57    0   0       120   354    0        1      163      1      0.6      2   \n",
       "\n",
       "   ca  thal  target  \n",
       "0   0     1       1  \n",
       "1   0     2       1  \n",
       "2   0     2       1  \n",
       "3   0     2       1  \n",
       "4   0     2       1  "
      ]
     },
     "execution_count": 3,
     "metadata": {},
     "output_type": "execute_result"
    }
   ],
   "source": [
    "data.head()"
   ]
  },
  {
   "cell_type": "code",
   "execution_count": 4,
   "metadata": {},
   "outputs": [
    {
     "data": {
      "text/html": [
       "<div>\n",
       "<style scoped>\n",
       "    .dataframe tbody tr th:only-of-type {\n",
       "        vertical-align: middle;\n",
       "    }\n",
       "\n",
       "    .dataframe tbody tr th {\n",
       "        vertical-align: top;\n",
       "    }\n",
       "\n",
       "    .dataframe thead th {\n",
       "        text-align: right;\n",
       "    }\n",
       "</style>\n",
       "<table border=\"1\" class=\"dataframe\">\n",
       "  <thead>\n",
       "    <tr style=\"text-align: right;\">\n",
       "      <th></th>\n",
       "      <th>age</th>\n",
       "      <th>sex</th>\n",
       "      <th>cp</th>\n",
       "      <th>trestbps</th>\n",
       "      <th>chol</th>\n",
       "      <th>fbs</th>\n",
       "      <th>restecg</th>\n",
       "      <th>thalach</th>\n",
       "      <th>exang</th>\n",
       "      <th>oldpeak</th>\n",
       "      <th>slope</th>\n",
       "      <th>ca</th>\n",
       "      <th>thal</th>\n",
       "      <th>target</th>\n",
       "    </tr>\n",
       "  </thead>\n",
       "  <tbody>\n",
       "    <tr>\n",
       "      <th>48</th>\n",
       "      <td>53</td>\n",
       "      <td>0</td>\n",
       "      <td>2</td>\n",
       "      <td>128</td>\n",
       "      <td>216</td>\n",
       "      <td>0</td>\n",
       "      <td>0</td>\n",
       "      <td>115</td>\n",
       "      <td>0</td>\n",
       "      <td>0.0</td>\n",
       "      <td>2</td>\n",
       "      <td>0</td>\n",
       "      <td>0</td>\n",
       "      <td>1</td>\n",
       "    </tr>\n",
       "    <tr>\n",
       "      <th>169</th>\n",
       "      <td>53</td>\n",
       "      <td>1</td>\n",
       "      <td>0</td>\n",
       "      <td>140</td>\n",
       "      <td>203</td>\n",
       "      <td>1</td>\n",
       "      <td>0</td>\n",
       "      <td>155</td>\n",
       "      <td>1</td>\n",
       "      <td>3.1</td>\n",
       "      <td>0</td>\n",
       "      <td>0</td>\n",
       "      <td>3</td>\n",
       "      <td>0</td>\n",
       "    </tr>\n",
       "    <tr>\n",
       "      <th>275</th>\n",
       "      <td>52</td>\n",
       "      <td>1</td>\n",
       "      <td>0</td>\n",
       "      <td>125</td>\n",
       "      <td>212</td>\n",
       "      <td>0</td>\n",
       "      <td>1</td>\n",
       "      <td>168</td>\n",
       "      <td>0</td>\n",
       "      <td>1.0</td>\n",
       "      <td>2</td>\n",
       "      <td>2</td>\n",
       "      <td>3</td>\n",
       "      <td>0</td>\n",
       "    </tr>\n",
       "    <tr>\n",
       "      <th>37</th>\n",
       "      <td>54</td>\n",
       "      <td>1</td>\n",
       "      <td>2</td>\n",
       "      <td>150</td>\n",
       "      <td>232</td>\n",
       "      <td>0</td>\n",
       "      <td>0</td>\n",
       "      <td>165</td>\n",
       "      <td>0</td>\n",
       "      <td>1.6</td>\n",
       "      <td>2</td>\n",
       "      <td>0</td>\n",
       "      <td>3</td>\n",
       "      <td>1</td>\n",
       "    </tr>\n",
       "    <tr>\n",
       "      <th>89</th>\n",
       "      <td>58</td>\n",
       "      <td>0</td>\n",
       "      <td>0</td>\n",
       "      <td>100</td>\n",
       "      <td>248</td>\n",
       "      <td>0</td>\n",
       "      <td>0</td>\n",
       "      <td>122</td>\n",
       "      <td>0</td>\n",
       "      <td>1.0</td>\n",
       "      <td>1</td>\n",
       "      <td>0</td>\n",
       "      <td>2</td>\n",
       "      <td>1</td>\n",
       "    </tr>\n",
       "  </tbody>\n",
       "</table>\n",
       "</div>"
      ],
      "text/plain": [
       "     age  sex  cp  trestbps  chol  fbs  restecg  thalach  exang  oldpeak  \\\n",
       "48    53    0   2       128   216    0        0      115      0      0.0   \n",
       "169   53    1   0       140   203    1        0      155      1      3.1   \n",
       "275   52    1   0       125   212    0        1      168      0      1.0   \n",
       "37    54    1   2       150   232    0        0      165      0      1.6   \n",
       "89    58    0   0       100   248    0        0      122      0      1.0   \n",
       "\n",
       "     slope  ca  thal  target  \n",
       "48       2   0     0       1  \n",
       "169      0   0     3       0  \n",
       "275      2   2     3       0  \n",
       "37       2   0     3       1  \n",
       "89       1   0     2       1  "
      ]
     },
     "execution_count": 4,
     "metadata": {},
     "output_type": "execute_result"
    }
   ],
   "source": [
    "data.sample(5)"
   ]
  },
  {
   "cell_type": "code",
   "execution_count": 5,
   "metadata": {},
   "outputs": [
    {
     "name": "stdout",
     "output_type": "stream",
     "text": [
      "<class 'pandas.core.frame.DataFrame'>\n",
      "RangeIndex: 303 entries, 0 to 302\n",
      "Data columns (total 14 columns):\n",
      " #   Column    Non-Null Count  Dtype  \n",
      "---  ------    --------------  -----  \n",
      " 0   age       303 non-null    int64  \n",
      " 1   sex       303 non-null    int64  \n",
      " 2   cp        303 non-null    int64  \n",
      " 3   trestbps  303 non-null    int64  \n",
      " 4   chol      303 non-null    int64  \n",
      " 5   fbs       303 non-null    int64  \n",
      " 6   restecg   303 non-null    int64  \n",
      " 7   thalach   303 non-null    int64  \n",
      " 8   exang     303 non-null    int64  \n",
      " 9   oldpeak   303 non-null    float64\n",
      " 10  slope     303 non-null    int64  \n",
      " 11  ca        303 non-null    int64  \n",
      " 12  thal      303 non-null    int64  \n",
      " 13  target    303 non-null    int64  \n",
      "dtypes: float64(1), int64(13)\n",
      "memory usage: 33.3 KB\n"
     ]
    }
   ],
   "source": [
    "data.info()"
   ]
  },
  {
   "cell_type": "code",
   "execution_count": 6,
   "metadata": {},
   "outputs": [
    {
     "data": {
      "text/html": [
       "<div>\n",
       "<style scoped>\n",
       "    .dataframe tbody tr th:only-of-type {\n",
       "        vertical-align: middle;\n",
       "    }\n",
       "\n",
       "    .dataframe tbody tr th {\n",
       "        vertical-align: top;\n",
       "    }\n",
       "\n",
       "    .dataframe thead th {\n",
       "        text-align: right;\n",
       "    }\n",
       "</style>\n",
       "<table border=\"1\" class=\"dataframe\">\n",
       "  <thead>\n",
       "    <tr style=\"text-align: right;\">\n",
       "      <th></th>\n",
       "      <th>age</th>\n",
       "      <th>sex</th>\n",
       "      <th>chest_pain_type</th>\n",
       "      <th>resting_blood_pressure</th>\n",
       "      <th>cholesterol</th>\n",
       "      <th>fasting_blood_sugar</th>\n",
       "      <th>rest_ecg</th>\n",
       "      <th>max_heart_rate_achieved</th>\n",
       "      <th>exercise_induced_angina</th>\n",
       "      <th>st_depression</th>\n",
       "      <th>st_slope</th>\n",
       "      <th>num_major_vessels</th>\n",
       "      <th>thalassemia</th>\n",
       "      <th>target</th>\n",
       "    </tr>\n",
       "  </thead>\n",
       "  <tbody>\n",
       "    <tr>\n",
       "      <th>0</th>\n",
       "      <td>63</td>\n",
       "      <td>1</td>\n",
       "      <td>3</td>\n",
       "      <td>145</td>\n",
       "      <td>233</td>\n",
       "      <td>1</td>\n",
       "      <td>0</td>\n",
       "      <td>150</td>\n",
       "      <td>0</td>\n",
       "      <td>2.3</td>\n",
       "      <td>0</td>\n",
       "      <td>0</td>\n",
       "      <td>1</td>\n",
       "      <td>1</td>\n",
       "    </tr>\n",
       "    <tr>\n",
       "      <th>1</th>\n",
       "      <td>37</td>\n",
       "      <td>1</td>\n",
       "      <td>2</td>\n",
       "      <td>130</td>\n",
       "      <td>250</td>\n",
       "      <td>0</td>\n",
       "      <td>1</td>\n",
       "      <td>187</td>\n",
       "      <td>0</td>\n",
       "      <td>3.5</td>\n",
       "      <td>0</td>\n",
       "      <td>0</td>\n",
       "      <td>2</td>\n",
       "      <td>1</td>\n",
       "    </tr>\n",
       "    <tr>\n",
       "      <th>2</th>\n",
       "      <td>41</td>\n",
       "      <td>0</td>\n",
       "      <td>1</td>\n",
       "      <td>130</td>\n",
       "      <td>204</td>\n",
       "      <td>0</td>\n",
       "      <td>0</td>\n",
       "      <td>172</td>\n",
       "      <td>0</td>\n",
       "      <td>1.4</td>\n",
       "      <td>2</td>\n",
       "      <td>0</td>\n",
       "      <td>2</td>\n",
       "      <td>1</td>\n",
       "    </tr>\n",
       "    <tr>\n",
       "      <th>3</th>\n",
       "      <td>56</td>\n",
       "      <td>1</td>\n",
       "      <td>1</td>\n",
       "      <td>120</td>\n",
       "      <td>236</td>\n",
       "      <td>0</td>\n",
       "      <td>1</td>\n",
       "      <td>178</td>\n",
       "      <td>0</td>\n",
       "      <td>0.8</td>\n",
       "      <td>2</td>\n",
       "      <td>0</td>\n",
       "      <td>2</td>\n",
       "      <td>1</td>\n",
       "    </tr>\n",
       "    <tr>\n",
       "      <th>4</th>\n",
       "      <td>57</td>\n",
       "      <td>0</td>\n",
       "      <td>0</td>\n",
       "      <td>120</td>\n",
       "      <td>354</td>\n",
       "      <td>0</td>\n",
       "      <td>1</td>\n",
       "      <td>163</td>\n",
       "      <td>1</td>\n",
       "      <td>0.6</td>\n",
       "      <td>2</td>\n",
       "      <td>0</td>\n",
       "      <td>2</td>\n",
       "      <td>1</td>\n",
       "    </tr>\n",
       "  </tbody>\n",
       "</table>\n",
       "</div>"
      ],
      "text/plain": [
       "   age  sex  chest_pain_type  resting_blood_pressure  cholesterol  \\\n",
       "0   63    1                3                     145          233   \n",
       "1   37    1                2                     130          250   \n",
       "2   41    0                1                     130          204   \n",
       "3   56    1                1                     120          236   \n",
       "4   57    0                0                     120          354   \n",
       "\n",
       "   fasting_blood_sugar  rest_ecg  max_heart_rate_achieved  \\\n",
       "0                    1         0                      150   \n",
       "1                    0         1                      187   \n",
       "2                    0         0                      172   \n",
       "3                    0         1                      178   \n",
       "4                    0         1                      163   \n",
       "\n",
       "   exercise_induced_angina  st_depression  st_slope  num_major_vessels  \\\n",
       "0                        0            2.3         0                  0   \n",
       "1                        0            3.5         0                  0   \n",
       "2                        0            1.4         2                  0   \n",
       "3                        0            0.8         2                  0   \n",
       "4                        1            0.6         2                  0   \n",
       "\n",
       "   thalassemia  target  \n",
       "0            1       1  \n",
       "1            2       1  \n",
       "2            2       1  \n",
       "3            2       1  \n",
       "4            2       1  "
      ]
     },
     "execution_count": 6,
     "metadata": {},
     "output_type": "execute_result"
    }
   ],
   "source": [
    "data.columns = ['age', 'sex', 'chest_pain_type', 'resting_blood_pressure', 'cholesterol', 'fasting_blood_sugar', 'rest_ecg', 'max_heart_rate_achieved',\n",
    "       'exercise_induced_angina', 'st_depression', 'st_slope', 'num_major_vessels', 'thalassemia', 'target']\n",
    "\n",
    "data.head()"
   ]
  },
  {
   "cell_type": "markdown",
   "metadata": {},
   "source": [
    "# Removing Duplicates from the Dataset"
   ]
  },
  {
   "cell_type": "code",
   "execution_count": 7,
   "metadata": {},
   "outputs": [
    {
     "data": {
      "text/plain": [
       "(303, 14)"
      ]
     },
     "execution_count": 7,
     "metadata": {},
     "output_type": "execute_result"
    }
   ],
   "source": [
    "data.shape # rows, columns of original dataset"
   ]
  },
  {
   "cell_type": "code",
   "execution_count": 8,
   "metadata": {},
   "outputs": [
    {
     "data": {
      "text/html": [
       "<div>\n",
       "<style scoped>\n",
       "    .dataframe tbody tr th:only-of-type {\n",
       "        vertical-align: middle;\n",
       "    }\n",
       "\n",
       "    .dataframe tbody tr th {\n",
       "        vertical-align: top;\n",
       "    }\n",
       "\n",
       "    .dataframe thead th {\n",
       "        text-align: right;\n",
       "    }\n",
       "</style>\n",
       "<table border=\"1\" class=\"dataframe\">\n",
       "  <thead>\n",
       "    <tr style=\"text-align: right;\">\n",
       "      <th></th>\n",
       "      <th>age</th>\n",
       "      <th>sex</th>\n",
       "      <th>chest_pain_type</th>\n",
       "      <th>resting_blood_pressure</th>\n",
       "      <th>cholesterol</th>\n",
       "      <th>fasting_blood_sugar</th>\n",
       "      <th>rest_ecg</th>\n",
       "      <th>max_heart_rate_achieved</th>\n",
       "      <th>exercise_induced_angina</th>\n",
       "      <th>st_depression</th>\n",
       "      <th>st_slope</th>\n",
       "      <th>num_major_vessels</th>\n",
       "      <th>thalassemia</th>\n",
       "      <th>target</th>\n",
       "    </tr>\n",
       "  </thead>\n",
       "  <tbody>\n",
       "    <tr>\n",
       "      <th>163</th>\n",
       "      <td>38</td>\n",
       "      <td>1</td>\n",
       "      <td>2</td>\n",
       "      <td>138</td>\n",
       "      <td>175</td>\n",
       "      <td>0</td>\n",
       "      <td>1</td>\n",
       "      <td>173</td>\n",
       "      <td>0</td>\n",
       "      <td>0.0</td>\n",
       "      <td>2</td>\n",
       "      <td>4</td>\n",
       "      <td>2</td>\n",
       "      <td>1</td>\n",
       "    </tr>\n",
       "    <tr>\n",
       "      <th>164</th>\n",
       "      <td>38</td>\n",
       "      <td>1</td>\n",
       "      <td>2</td>\n",
       "      <td>138</td>\n",
       "      <td>175</td>\n",
       "      <td>0</td>\n",
       "      <td>1</td>\n",
       "      <td>173</td>\n",
       "      <td>0</td>\n",
       "      <td>0.0</td>\n",
       "      <td>2</td>\n",
       "      <td>4</td>\n",
       "      <td>2</td>\n",
       "      <td>1</td>\n",
       "    </tr>\n",
       "  </tbody>\n",
       "</table>\n",
       "</div>"
      ],
      "text/plain": [
       "     age  sex  chest_pain_type  resting_blood_pressure  cholesterol  \\\n",
       "163   38    1                2                     138          175   \n",
       "164   38    1                2                     138          175   \n",
       "\n",
       "     fasting_blood_sugar  rest_ecg  max_heart_rate_achieved  \\\n",
       "163                    0         1                      173   \n",
       "164                    0         1                      173   \n",
       "\n",
       "     exercise_induced_angina  st_depression  st_slope  num_major_vessels  \\\n",
       "163                        0            0.0         2                  4   \n",
       "164                        0            0.0         2                  4   \n",
       "\n",
       "     thalassemia  target  \n",
       "163            2       1  \n",
       "164            2       1  "
      ]
     },
     "execution_count": 8,
     "metadata": {},
     "output_type": "execute_result"
    }
   ],
   "source": [
    "data_duplicate = data[data.duplicated(keep = False)] # keep = False gives you all rows with duplicate entries\n",
    "data_duplicate"
   ]
  },
  {
   "cell_type": "code",
   "execution_count": 9,
   "metadata": {},
   "outputs": [
    {
     "data": {
      "text/plain": [
       "(302, 14)"
      ]
     },
     "execution_count": 9,
     "metadata": {},
     "output_type": "execute_result"
    }
   ],
   "source": [
    "data = data[~data.duplicated(subset = None, keep = 'first')]\n",
    "# Here, keep = 'first' ensures that only the first row is taken into the final dataset.\n",
    "# The '~' sign tells pandas to keep all values except the 13 duplicate values\n",
    "data.shape"
   ]
  },
  {
   "cell_type": "markdown",
   "metadata": {},
   "source": [
    "# Managing the Null Values in the Dataset"
   ]
  },
  {
   "cell_type": "code",
   "execution_count": 10,
   "metadata": {},
   "outputs": [
    {
     "data": {
      "text/plain": [
       "pandas.core.frame.DataFrame"
      ]
     },
     "execution_count": 10,
     "metadata": {},
     "output_type": "execute_result"
    }
   ],
   "source": [
    "type(data)"
   ]
  },
  {
   "cell_type": "code",
   "execution_count": 11,
   "metadata": {},
   "outputs": [
    {
     "data": {
      "text/plain": [
       "age                        0\n",
       "sex                        0\n",
       "chest_pain_type            0\n",
       "resting_blood_pressure     0\n",
       "cholesterol                0\n",
       "fasting_blood_sugar        0\n",
       "rest_ecg                   0\n",
       "max_heart_rate_achieved    0\n",
       "exercise_induced_angina    0\n",
       "st_depression              0\n",
       "st_slope                   0\n",
       "num_major_vessels          0\n",
       "thalassemia                0\n",
       "target                     0\n",
       "dtype: int64"
      ]
     },
     "execution_count": 11,
     "metadata": {},
     "output_type": "execute_result"
    }
   ],
   "source": [
    "data.isnull().sum()"
   ]
  },
  {
   "cell_type": "markdown",
   "metadata": {},
   "source": [
    "# Explotary Data Analysis"
   ]
  },
  {
   "cell_type": "code",
   "execution_count": 12,
   "metadata": {},
   "outputs": [
    {
     "name": "stdout",
     "output_type": "stream",
     "text": [
      "1    164\n",
      "0    138\n",
      "Name: target, dtype: int64\n"
     ]
    },
    {
     "data": {
      "image/png": "[encoded data removed]",
      "text/plain": [
       "<Figure size 432x288 with 1 Axes>"
      ]
     },
     "metadata": {
      "needs_background": "light"
     },
     "output_type": "display_data"
    }
   ],
   "source": [
    "y = data[\"target\"]\n",
    "sns.countplot(y)\n",
    "target_temp = data.target.value_counts()\n",
    "print(target_temp)"
   ]
  },
  {
   "cell_type": "code",
   "execution_count": 13,
   "metadata": {},
   "outputs": [
    {
     "name": "stdout",
     "output_type": "stream",
     "text": [
      "Percentage of Patients Haven't Heart Disease: 45.70%\n",
      "Percentage of Patients Have Heart Disease: 54.30%\n"
     ]
    }
   ],
   "source": [
    "countNoDisease = len(data[data.target == 0])\n",
    "countHaveDisease = len(data[data.target == 1])\n",
    "print(\"Percentage of Patients Haven't Heart Disease: {:.2f}%\".format((countNoDisease / (len(data.target))*100)))\n",
    "print(\"Percentage of Patients Have Heart Disease: {:.2f}%\".format((countHaveDisease / (len(data.target))*100)))"
   ]
  },
  {
   "cell_type": "markdown",
   "metadata": {},
   "source": [
    "In the dataset, there are more patients who have heart disease than the ones that didn't"
   ]
  },
  {
   "cell_type": "code",
   "execution_count": 14,
   "metadata": {},
   "outputs": [
    {
     "name": "stdout",
     "output_type": "stream",
     "text": [
      "Percentage of Female Patients:31.79%\n",
      "Percentage of Male Patients:68.21%\n"
     ]
    }
   ],
   "source": [
    "countFemale = len(data[data.sex == 0])\n",
    "countMale = len(data[data.sex == 1])\n",
    "print(\"Percentage of Female Patients:{:.2f}%\".format((countFemale)/(len(data.sex))*100))\n",
    "print(\"Percentage of Male Patients:{:.2f}%\".format((countMale)/(len(data.sex))*100))"
   ]
  },
  {
   "cell_type": "markdown",
   "metadata": {},
   "source": [
    "There are more male patients in the dataset"
   ]
  },
  {
   "cell_type": "code",
   "execution_count": 15,
   "metadata": {},
   "outputs": [
    {
     "data": {
      "text/plain": [
       "<AxesSubplot:xlabel='sex', ylabel='target'>"
      ]
     },
     "execution_count": 15,
     "metadata": {},
     "output_type": "execute_result"
    },
    {
     "data": {
      "image/png": "[encoded data removed]",
      "text/plain": [
       "<Figure size 432x288 with 1 Axes>"
      ]
     },
     "metadata": {
      "needs_background": "light"
     },
     "output_type": "display_data"
    }
   ],
   "source": [
    "sns.barplot(data[\"sex\"],data[\"target\"])"
   ]
  },
  {
   "cell_type": "markdown",
   "metadata": {},
   "source": [
    "Female are more likely to suffer from heart disease than male"
   ]
  },
  {
   "cell_type": "code",
   "execution_count": 16,
   "metadata": {},
   "outputs": [
    {
     "data": {
      "text/plain": [
       "array([[<AxesSubplot:title={'center':'age'}>,\n",
       "        <AxesSubplot:title={'center':'sex'}>,\n",
       "        <AxesSubplot:title={'center':'chest_pain_type'}>,\n",
       "        <AxesSubplot:title={'center':'resting_blood_pressure'}>],\n",
       "       [<AxesSubplot:title={'center':'cholesterol'}>,\n",
       "        <AxesSubplot:title={'center':'fasting_blood_sugar'}>,\n",
       "        <AxesSubplot:title={'center':'rest_ecg'}>,\n",
       "        <AxesSubplot:title={'center':'max_heart_rate_achieved'}>],\n",
       "       [<AxesSubplot:title={'center':'exercise_induced_angina'}>,\n",
       "        <AxesSubplot:title={'center':'st_depression'}>,\n",
       "        <AxesSubplot:title={'center':'st_slope'}>,\n",
       "        <AxesSubplot:title={'center':'num_major_vessels'}>],\n",
       "       [<AxesSubplot:title={'center':'thalassemia'}>,\n",
       "        <AxesSubplot:title={'center':'target'}>, <AxesSubplot:>,\n",
       "        <AxesSubplot:>]], dtype=object)"
      ]
     },
     "execution_count": 16,
     "metadata": {},
     "output_type": "execute_result"
    },
    {
     "data": {
      "image/png": "[encoded data removed]",
      "text/plain": [
       "<Figure size 1080x1080 with 16 Axes>"
      ]
     },
     "metadata": {
      "needs_background": "light"
     },
     "output_type": "display_data"
    }
   ],
   "source": [
    "data.hist(figsize=(15,15))"
   ]
  },
  {
   "cell_type": "code",
   "execution_count": 17,
   "metadata": {},
   "outputs": [
    {
     "data": {
      "text/html": [
       "<div>\n",
       "<style scoped>\n",
       "    .dataframe tbody tr th:only-of-type {\n",
       "        vertical-align: middle;\n",
       "    }\n",
       "\n",
       "    .dataframe tbody tr th {\n",
       "        vertical-align: top;\n",
       "    }\n",
       "\n",
       "    .dataframe thead th {\n",
       "        text-align: right;\n",
       "    }\n",
       "</style>\n",
       "<table border=\"1\" class=\"dataframe\">\n",
       "  <thead>\n",
       "    <tr style=\"text-align: right;\">\n",
       "      <th></th>\n",
       "      <th>age</th>\n",
       "      <th>sex</th>\n",
       "      <th>chest_pain_type</th>\n",
       "      <th>resting_blood_pressure</th>\n",
       "      <th>cholesterol</th>\n",
       "      <th>fasting_blood_sugar</th>\n",
       "      <th>rest_ecg</th>\n",
       "      <th>max_heart_rate_achieved</th>\n",
       "      <th>exercise_induced_angina</th>\n",
       "      <th>st_depression</th>\n",
       "      <th>st_slope</th>\n",
       "      <th>num_major_vessels</th>\n",
       "      <th>thalassemia</th>\n",
       "      <th>target</th>\n",
       "    </tr>\n",
       "  </thead>\n",
       "  <tbody>\n",
       "    <tr>\n",
       "      <th>count</th>\n",
       "      <td>302.00000</td>\n",
       "      <td>302.000000</td>\n",
       "      <td>302.000000</td>\n",
       "      <td>302.000000</td>\n",
       "      <td>302.000000</td>\n",
       "      <td>302.000000</td>\n",
       "      <td>302.000000</td>\n",
       "      <td>302.000000</td>\n",
       "      <td>302.000000</td>\n",
       "      <td>302.000000</td>\n",
       "      <td>302.000000</td>\n",
       "      <td>302.000000</td>\n",
       "      <td>302.000000</td>\n",
       "      <td>302.000000</td>\n",
       "    </tr>\n",
       "    <tr>\n",
       "      <th>mean</th>\n",
       "      <td>54.42053</td>\n",
       "      <td>0.682119</td>\n",
       "      <td>0.963576</td>\n",
       "      <td>131.602649</td>\n",
       "      <td>246.500000</td>\n",
       "      <td>0.149007</td>\n",
       "      <td>0.526490</td>\n",
       "      <td>149.569536</td>\n",
       "      <td>0.327815</td>\n",
       "      <td>1.043046</td>\n",
       "      <td>1.397351</td>\n",
       "      <td>0.718543</td>\n",
       "      <td>2.314570</td>\n",
       "      <td>0.543046</td>\n",
       "    </tr>\n",
       "    <tr>\n",
       "      <th>std</th>\n",
       "      <td>9.04797</td>\n",
       "      <td>0.466426</td>\n",
       "      <td>1.032044</td>\n",
       "      <td>17.563394</td>\n",
       "      <td>51.753489</td>\n",
       "      <td>0.356686</td>\n",
       "      <td>0.526027</td>\n",
       "      <td>22.903527</td>\n",
       "      <td>0.470196</td>\n",
       "      <td>1.161452</td>\n",
       "      <td>0.616274</td>\n",
       "      <td>1.006748</td>\n",
       "      <td>0.613026</td>\n",
       "      <td>0.498970</td>\n",
       "    </tr>\n",
       "    <tr>\n",
       "      <th>min</th>\n",
       "      <td>29.00000</td>\n",
       "      <td>0.000000</td>\n",
       "      <td>0.000000</td>\n",
       "      <td>94.000000</td>\n",
       "      <td>126.000000</td>\n",
       "      <td>0.000000</td>\n",
       "      <td>0.000000</td>\n",
       "      <td>71.000000</td>\n",
       "      <td>0.000000</td>\n",
       "      <td>0.000000</td>\n",
       "      <td>0.000000</td>\n",
       "      <td>0.000000</td>\n",
       "      <td>0.000000</td>\n",
       "      <td>0.000000</td>\n",
       "    </tr>\n",
       "    <tr>\n",
       "      <th>25%</th>\n",
       "      <td>48.00000</td>\n",
       "      <td>0.000000</td>\n",
       "      <td>0.000000</td>\n",
       "      <td>120.000000</td>\n",
       "      <td>211.000000</td>\n",
       "      <td>0.000000</td>\n",
       "      <td>0.000000</td>\n",
       "      <td>133.250000</td>\n",
       "      <td>0.000000</td>\n",
       "      <td>0.000000</td>\n",
       "      <td>1.000000</td>\n",
       "      <td>0.000000</td>\n",
       "      <td>2.000000</td>\n",
       "      <td>0.000000</td>\n",
       "    </tr>\n",
       "    <tr>\n",
       "      <th>50%</th>\n",
       "      <td>55.50000</td>\n",
       "      <td>1.000000</td>\n",
       "      <td>1.000000</td>\n",
       "      <td>130.000000</td>\n",
       "      <td>240.500000</td>\n",
       "      <td>0.000000</td>\n",
       "      <td>1.000000</td>\n",
       "      <td>152.500000</td>\n",
       "      <td>0.000000</td>\n",
       "      <td>0.800000</td>\n",
       "      <td>1.000000</td>\n",
       "      <td>0.000000</td>\n",
       "      <td>2.000000</td>\n",
       "      <td>1.000000</td>\n",
       "    </tr>\n",
       "    <tr>\n",
       "      <th>75%</th>\n",
       "      <td>61.00000</td>\n",
       "      <td>1.000000</td>\n",
       "      <td>2.000000</td>\n",
       "      <td>140.000000</td>\n",
       "      <td>274.750000</td>\n",
       "      <td>0.000000</td>\n",
       "      <td>1.000000</td>\n",
       "      <td>166.000000</td>\n",
       "      <td>1.000000</td>\n",
       "      <td>1.600000</td>\n",
       "      <td>2.000000</td>\n",
       "      <td>1.000000</td>\n",
       "      <td>3.000000</td>\n",
       "      <td>1.000000</td>\n",
       "    </tr>\n",
       "    <tr>\n",
       "      <th>max</th>\n",
       "      <td>77.00000</td>\n",
       "      <td>1.000000</td>\n",
       "      <td>3.000000</td>\n",
       "      <td>200.000000</td>\n",
       "      <td>564.000000</td>\n",
       "      <td>1.000000</td>\n",
       "      <td>2.000000</td>\n",
       "      <td>202.000000</td>\n",
       "      <td>1.000000</td>\n",
       "      <td>6.200000</td>\n",
       "      <td>2.000000</td>\n",
       "      <td>4.000000</td>\n",
       "      <td>3.000000</td>\n",
       "      <td>1.000000</td>\n",
       "    </tr>\n",
       "  </tbody>\n",
       "</table>\n",
       "</div>"
      ],
      "text/plain": [
       "             age         sex  chest_pain_type  resting_blood_pressure  \\\n",
       "count  302.00000  302.000000       302.000000              302.000000   \n",
       "mean    54.42053    0.682119         0.963576              131.602649   \n",
       "std      9.04797    0.466426         1.032044               17.563394   \n",
       "min     29.00000    0.000000         0.000000               94.000000   \n",
       "25%     48.00000    0.000000         0.000000              120.000000   \n",
       "50%     55.50000    1.000000         1.000000              130.000000   \n",
       "75%     61.00000    1.000000         2.000000              140.000000   \n",
       "max     77.00000    1.000000         3.000000              200.000000   \n",
       "\n",
       "       cholesterol  fasting_blood_sugar    rest_ecg  max_heart_rate_achieved  \\\n",
       "count   302.000000           302.000000  302.000000               302.000000   \n",
       "mean    246.500000             0.149007    0.526490               149.569536   \n",
       "std      51.753489             0.356686    0.526027                22.903527   \n",
       "min     126.000000             0.000000    0.000000                71.000000   \n",
       "25%     211.000000             0.000000    0.000000               133.250000   \n",
       "50%     240.500000             0.000000    1.000000               152.500000   \n",
       "75%     274.750000             0.000000    1.000000               166.000000   \n",
       "max     564.000000             1.000000    2.000000               202.000000   \n",
       "\n",
       "       exercise_induced_angina  st_depression    st_slope  num_major_vessels  \\\n",
       "count               302.000000     302.000000  302.000000         302.000000   \n",
       "mean                  0.327815       1.043046    1.397351           0.718543   \n",
       "std                   0.470196       1.161452    0.616274           1.006748   \n",
       "min                   0.000000       0.000000    0.000000           0.000000   \n",
       "25%                   0.000000       0.000000    1.000000           0.000000   \n",
       "50%                   0.000000       0.800000    1.000000           0.000000   \n",
       "75%                   1.000000       1.600000    2.000000           1.000000   \n",
       "max                   1.000000       6.200000    2.000000           4.000000   \n",
       "\n",
       "       thalassemia      target  \n",
       "count   302.000000  302.000000  \n",
       "mean      2.314570    0.543046  \n",
       "std       0.613026    0.498970  \n",
       "min       0.000000    0.000000  \n",
       "25%       2.000000    0.000000  \n",
       "50%       2.000000    1.000000  \n",
       "75%       3.000000    1.000000  \n",
       "max       3.000000    1.000000  "
      ]
     },
     "execution_count": 17,
     "metadata": {},
     "output_type": "execute_result"
    }
   ],
   "source": [
    "data.describe()"
   ]
  },
  {
   "cell_type": "code",
   "execution_count": 18,
   "metadata": {},
   "outputs": [
    {
     "data": {
      "image/png": "[encoded data removed]",
      "text/plain": [
       "<Figure size 1440x432 with 1 Axes>"
      ]
     },
     "metadata": {
      "needs_background": "light"
     },
     "output_type": "display_data"
    }
   ],
   "source": [
    "pd.crosstab(data.age,data.target).plot(kind=\"bar\",figsize=(20,6))\n",
    "plt.title('Heart Disease Frequency for Ages')\n",
    "plt.xlabel('Age')\n",
    "plt.ylabel('Frequency')\n",
    "plt.show()"
   ]
  },
  {
   "cell_type": "markdown",
   "metadata": {},
   "source": [
    "Heart Disease may affect for patients with any ages, the data shows that patients around the age of 41 to 54 are most likely to suffer from heart disease"
   ]
  },
  {
   "cell_type": "code",
   "execution_count": 19,
   "metadata": {},
   "outputs": [
    {
     "data": {
      "image/png": "[encoded data removed]",
      "text/plain": [
       "<Figure size 1080x432 with 1 Axes>"
      ]
     },
     "metadata": {
      "needs_background": "light"
     },
     "output_type": "display_data"
    }
   ],
   "source": [
    "pd.crosstab(data.sex,data.target).plot(kind=\"bar\",figsize=(15,6),color=['blue','#AA1111' ])\n",
    "plt.title('Heart Disease Frequency for Sex')\n",
    "plt.xlabel('Sex (0 = Female, 1 = Male)')\n",
    "plt.xticks(rotation=0)\n",
    "plt.legend([\"No Disease\", \"Disease\"])\n",
    "plt.ylabel('Frequency')\n",
    "plt.show()"
   ]
  },
  {
   "cell_type": "markdown",
   "metadata": {},
   "source": [
    "Heart Disease may affect patients with different gender. Though there are more male patients who dont have heart disease than the ones that does in the dataset\n",
    "\n",
    "There are more females that suffers from heart disease in the dataset, than the ones that doesn't"
   ]
  },
  {
   "cell_type": "code",
   "execution_count": 20,
   "metadata": {},
   "outputs": [
    {
     "data": {
      "text/html": [
       "<div>\n",
       "<style scoped>\n",
       "    .dataframe tbody tr th:only-of-type {\n",
       "        vertical-align: middle;\n",
       "    }\n",
       "\n",
       "    .dataframe tbody tr th {\n",
       "        vertical-align: top;\n",
       "    }\n",
       "\n",
       "    .dataframe thead th {\n",
       "        text-align: right;\n",
       "    }\n",
       "</style>\n",
       "<table border=\"1\" class=\"dataframe\">\n",
       "  <thead>\n",
       "    <tr style=\"text-align: right;\">\n",
       "      <th></th>\n",
       "      <th>age</th>\n",
       "      <th>sex</th>\n",
       "      <th>chest_pain_type</th>\n",
       "      <th>resting_blood_pressure</th>\n",
       "      <th>cholesterol</th>\n",
       "      <th>fasting_blood_sugar</th>\n",
       "      <th>rest_ecg</th>\n",
       "      <th>max_heart_rate_achieved</th>\n",
       "      <th>exercise_induced_angina</th>\n",
       "      <th>st_depression</th>\n",
       "      <th>st_slope</th>\n",
       "      <th>num_major_vessels</th>\n",
       "      <th>thalassemia</th>\n",
       "      <th>target</th>\n",
       "    </tr>\n",
       "  </thead>\n",
       "  <tbody>\n",
       "    <tr>\n",
       "      <th>0</th>\n",
       "      <td>0.708333</td>\n",
       "      <td>1</td>\n",
       "      <td>1.000000</td>\n",
       "      <td>0.481132</td>\n",
       "      <td>0.244292</td>\n",
       "      <td>1.0</td>\n",
       "      <td>0.0</td>\n",
       "      <td>0.603053</td>\n",
       "      <td>0.0</td>\n",
       "      <td>0.370968</td>\n",
       "      <td>0.0</td>\n",
       "      <td>0.0</td>\n",
       "      <td>0.333333</td>\n",
       "      <td>1</td>\n",
       "    </tr>\n",
       "    <tr>\n",
       "      <th>1</th>\n",
       "      <td>0.166667</td>\n",
       "      <td>1</td>\n",
       "      <td>0.666667</td>\n",
       "      <td>0.339623</td>\n",
       "      <td>0.283105</td>\n",
       "      <td>0.0</td>\n",
       "      <td>0.5</td>\n",
       "      <td>0.885496</td>\n",
       "      <td>0.0</td>\n",
       "      <td>0.564516</td>\n",
       "      <td>0.0</td>\n",
       "      <td>0.0</td>\n",
       "      <td>0.666667</td>\n",
       "      <td>1</td>\n",
       "    </tr>\n",
       "    <tr>\n",
       "      <th>2</th>\n",
       "      <td>0.250000</td>\n",
       "      <td>0</td>\n",
       "      <td>0.333333</td>\n",
       "      <td>0.339623</td>\n",
       "      <td>0.178082</td>\n",
       "      <td>0.0</td>\n",
       "      <td>0.0</td>\n",
       "      <td>0.770992</td>\n",
       "      <td>0.0</td>\n",
       "      <td>0.225806</td>\n",
       "      <td>1.0</td>\n",
       "      <td>0.0</td>\n",
       "      <td>0.666667</td>\n",
       "      <td>1</td>\n",
       "    </tr>\n",
       "    <tr>\n",
       "      <th>3</th>\n",
       "      <td>0.562500</td>\n",
       "      <td>1</td>\n",
       "      <td>0.333333</td>\n",
       "      <td>0.245283</td>\n",
       "      <td>0.251142</td>\n",
       "      <td>0.0</td>\n",
       "      <td>0.5</td>\n",
       "      <td>0.816794</td>\n",
       "      <td>0.0</td>\n",
       "      <td>0.129032</td>\n",
       "      <td>1.0</td>\n",
       "      <td>0.0</td>\n",
       "      <td>0.666667</td>\n",
       "      <td>1</td>\n",
       "    </tr>\n",
       "    <tr>\n",
       "      <th>4</th>\n",
       "      <td>0.583333</td>\n",
       "      <td>0</td>\n",
       "      <td>0.000000</td>\n",
       "      <td>0.245283</td>\n",
       "      <td>0.520548</td>\n",
       "      <td>0.0</td>\n",
       "      <td>0.5</td>\n",
       "      <td>0.702290</td>\n",
       "      <td>1.0</td>\n",
       "      <td>0.096774</td>\n",
       "      <td>1.0</td>\n",
       "      <td>0.0</td>\n",
       "      <td>0.666667</td>\n",
       "      <td>1</td>\n",
       "    </tr>\n",
       "  </tbody>\n",
       "</table>\n",
       "</div>"
      ],
      "text/plain": [
       "        age  sex  chest_pain_type  resting_blood_pressure  cholesterol  \\\n",
       "0  0.708333    1         1.000000                0.481132     0.244292   \n",
       "1  0.166667    1         0.666667                0.339623     0.283105   \n",
       "2  0.250000    0         0.333333                0.339623     0.178082   \n",
       "3  0.562500    1         0.333333                0.245283     0.251142   \n",
       "4  0.583333    0         0.000000                0.245283     0.520548   \n",
       "\n",
       "   fasting_blood_sugar  rest_ecg  max_heart_rate_achieved  \\\n",
       "0                  1.0       0.0                 0.603053   \n",
       "1                  0.0       0.5                 0.885496   \n",
       "2                  0.0       0.0                 0.770992   \n",
       "3                  0.0       0.5                 0.816794   \n",
       "4                  0.0       0.5                 0.702290   \n",
       "\n",
       "   exercise_induced_angina  st_depression  st_slope  num_major_vessels  \\\n",
       "0                      0.0       0.370968       0.0                0.0   \n",
       "1                      0.0       0.564516       0.0                0.0   \n",
       "2                      0.0       0.225806       1.0                0.0   \n",
       "3                      0.0       0.129032       1.0                0.0   \n",
       "4                      1.0       0.096774       1.0                0.0   \n",
       "\n",
       "   thalassemia  target  \n",
       "0     0.333333       1  \n",
       "1     0.666667       1  \n",
       "2     0.666667       1  \n",
       "3     0.666667       1  \n",
       "4     0.666667       1  "
      ]
     },
     "metadata": {},
     "output_type": "display_data"
    }
   ],
   "source": [
    "#Scaling\n",
    "from sklearn.preprocessing import MinMaxScaler\n",
    "\n",
    "scaler = MinMaxScaler()\n",
    "numerical = ['age','chest_pain_type', 'resting_blood_pressure', 'cholesterol', 'fasting_blood_sugar', 'rest_ecg', 'max_heart_rate_achieved',\n",
    "       'exercise_induced_angina', 'st_depression', 'st_slope', 'num_major_vessels', 'thalassemia']\n",
    "\n",
    "data_transform = pd.DataFrame(data = data)\n",
    "data_transform[numerical] = scaler.fit_transform(data[numerical])\n",
    "\n",
    "display(data_transform.head(n = 5))"
   ]
  },
  {
   "cell_type": "markdown",
   "metadata": {},
   "source": [
    "# 2D Scatter Plots"
   ]
  },
  {
   "cell_type": "markdown",
   "metadata": {},
   "source": [
    "Scatter plot for Thalassemia and Cholesterol  "
   ]
  },
  {
   "cell_type": "code",
   "execution_count": 21,
   "metadata": {},
   "outputs": [
    {
     "data": {
      "text/plain": [
       "<seaborn.axisgrid.FacetGrid at 0x2b76c5e3ec8>"
      ]
     },
     "execution_count": 21,
     "metadata": {},
     "output_type": "execute_result"
    },
    {
     "data": {
      "image/png": "[encoded data removed]",
      "text/plain": [
       "<Figure size 761.625x720 with 1 Axes>"
      ]
     },
     "metadata": {},
     "output_type": "display_data"
    }
   ],
   "source": [
    "sns.set_style('whitegrid')   ## Background Grid\n",
    "sns.FacetGrid(data, hue = 'target', height = 10).map(plt.scatter, 'cholesterol', 'thalassemia').add_legend()"
   ]
  },
  {
   "cell_type": "markdown",
   "metadata": {},
   "source": [
    "Scatter plot for Thalassemia and Resting Blood Pressure"
   ]
  },
  {
   "cell_type": "code",
   "execution_count": 22,
   "metadata": {},
   "outputs": [
    {
     "data": {
      "text/plain": [
       "<seaborn.axisgrid.FacetGrid at 0x2b76c40f048>"
      ]
     },
     "execution_count": 22,
     "metadata": {},
     "output_type": "execute_result"
    },
    {
     "data": {
      "image/png": "[encoded data removed]",
      "text/plain": [
       "<Figure size 761.625x720 with 1 Axes>"
      ]
     },
     "metadata": {},
     "output_type": "display_data"
    }
   ],
   "source": [
    "sns.set_style('whitegrid')   ## Background Grid\n",
    "sns.FacetGrid(data, hue = 'target', height = 10).map(plt.scatter, 'thalassemia', 'resting_blood_pressure').add_legend()"
   ]
  },
  {
   "cell_type": "code",
   "execution_count": 23,
   "metadata": {},
   "outputs": [
    {
     "data": {
      "image/png": "[encoded data removed]",
      "text/plain": [
       "<Figure size 432x288 with 1 Axes>"
      ]
     },
     "metadata": {},
     "output_type": "display_data"
    }
   ],
   "source": [
    "plt.scatter(x=data.age[data.target==1], y=data.thalassemia[(data.target==1)], c=\"green\")\n",
    "plt.scatter(x=data.age[data.target==0], y=data.thalassemia[(data.target==0)])\n",
    "plt.legend([\"Disease\", \"Not Disease\"])\n",
    "plt.xlabel(\"Age\")\n",
    "plt.ylabel(\"Maximum Heart Rate\")\n",
    "plt.show()"
   ]
  },
  {
   "cell_type": "code",
   "execution_count": 24,
   "metadata": {},
   "outputs": [
    {
     "data": {
      "image/png": "[encoded data removed]",
      "text/plain": [
       "<Figure size 1440x720 with 1 Axes>"
      ]
     },
     "metadata": {},
     "output_type": "display_data"
    }
   ],
   "source": [
    "pd.crosstab(data.fasting_blood_sugar,data.target).plot(kind=\"bar\",figsize=(20,10),color=['#4286f4','#f49242'])\n",
    "plt.title(\"Heart disease according to FBS\")\n",
    "plt.xlabel('FBS- (Fasting Blood Sugar > 120 mg/dl) (1 = true/higher; 0 = false/lower)')\n",
    "plt.xticks(rotation=90)\n",
    "plt.legend([\"No Disease\", \"Disease\"])\n",
    "plt.ylabel('Disease or not')\n",
    "plt.show()"
   ]
  },
  {
   "cell_type": "markdown",
   "metadata": {},
   "source": [
    "# Correlations of variables between one another"
   ]
  },
  {
   "cell_type": "code",
   "execution_count": 25,
   "metadata": {},
   "outputs": [
    {
     "data": {
      "text/html": [
       "<div>\n",
       "<style scoped>\n",
       "    .dataframe tbody tr th:only-of-type {\n",
       "        vertical-align: middle;\n",
       "    }\n",
       "\n",
       "    .dataframe tbody tr th {\n",
       "        vertical-align: top;\n",
       "    }\n",
       "\n",
       "    .dataframe thead th {\n",
       "        text-align: right;\n",
       "    }\n",
       "</style>\n",
       "<table border=\"1\" class=\"dataframe\">\n",
       "  <thead>\n",
       "    <tr style=\"text-align: right;\">\n",
       "      <th></th>\n",
       "      <th>age</th>\n",
       "      <th>sex</th>\n",
       "      <th>chest_pain_type</th>\n",
       "      <th>resting_blood_pressure</th>\n",
       "      <th>cholesterol</th>\n",
       "      <th>fasting_blood_sugar</th>\n",
       "      <th>rest_ecg</th>\n",
       "      <th>max_heart_rate_achieved</th>\n",
       "      <th>exercise_induced_angina</th>\n",
       "      <th>st_depression</th>\n",
       "      <th>st_slope</th>\n",
       "      <th>num_major_vessels</th>\n",
       "      <th>thalassemia</th>\n",
       "      <th>target</th>\n",
       "    </tr>\n",
       "  </thead>\n",
       "  <tbody>\n",
       "    <tr>\n",
       "      <th>age</th>\n",
       "      <td>1.000000</td>\n",
       "      <td>-0.094962</td>\n",
       "      <td>-0.063107</td>\n",
       "      <td>0.283121</td>\n",
       "      <td>0.207216</td>\n",
       "      <td>0.119492</td>\n",
       "      <td>-0.111590</td>\n",
       "      <td>-0.395235</td>\n",
       "      <td>0.093216</td>\n",
       "      <td>0.206040</td>\n",
       "      <td>-0.164124</td>\n",
       "      <td>0.302261</td>\n",
       "      <td>0.065317</td>\n",
       "      <td>-0.221476</td>\n",
       "    </tr>\n",
       "    <tr>\n",
       "      <th>sex</th>\n",
       "      <td>-0.094962</td>\n",
       "      <td>1.000000</td>\n",
       "      <td>-0.051740</td>\n",
       "      <td>-0.057647</td>\n",
       "      <td>-0.195571</td>\n",
       "      <td>0.046022</td>\n",
       "      <td>-0.060351</td>\n",
       "      <td>-0.046439</td>\n",
       "      <td>0.143460</td>\n",
       "      <td>0.098322</td>\n",
       "      <td>-0.032990</td>\n",
       "      <td>0.113060</td>\n",
       "      <td>0.211452</td>\n",
       "      <td>-0.283609</td>\n",
       "    </tr>\n",
       "    <tr>\n",
       "      <th>chest_pain_type</th>\n",
       "      <td>-0.063107</td>\n",
       "      <td>-0.051740</td>\n",
       "      <td>1.000000</td>\n",
       "      <td>0.046486</td>\n",
       "      <td>-0.072682</td>\n",
       "      <td>0.096018</td>\n",
       "      <td>0.041561</td>\n",
       "      <td>0.293367</td>\n",
       "      <td>-0.392937</td>\n",
       "      <td>-0.146692</td>\n",
       "      <td>0.116854</td>\n",
       "      <td>-0.195356</td>\n",
       "      <td>-0.160370</td>\n",
       "      <td>0.432080</td>\n",
       "    </tr>\n",
       "    <tr>\n",
       "      <th>resting_blood_pressure</th>\n",
       "      <td>0.283121</td>\n",
       "      <td>-0.057647</td>\n",
       "      <td>0.046486</td>\n",
       "      <td>1.000000</td>\n",
       "      <td>0.125256</td>\n",
       "      <td>0.178125</td>\n",
       "      <td>-0.115367</td>\n",
       "      <td>-0.048023</td>\n",
       "      <td>0.068526</td>\n",
       "      <td>0.194600</td>\n",
       "      <td>-0.122873</td>\n",
       "      <td>0.099248</td>\n",
       "      <td>0.062870</td>\n",
       "      <td>-0.146269</td>\n",
       "    </tr>\n",
       "    <tr>\n",
       "      <th>cholesterol</th>\n",
       "      <td>0.207216</td>\n",
       "      <td>-0.195571</td>\n",
       "      <td>-0.072682</td>\n",
       "      <td>0.125256</td>\n",
       "      <td>1.000000</td>\n",
       "      <td>0.011428</td>\n",
       "      <td>-0.147602</td>\n",
       "      <td>-0.005308</td>\n",
       "      <td>0.064099</td>\n",
       "      <td>0.050086</td>\n",
       "      <td>0.000417</td>\n",
       "      <td>0.086878</td>\n",
       "      <td>0.096810</td>\n",
       "      <td>-0.081437</td>\n",
       "    </tr>\n",
       "    <tr>\n",
       "      <th>fasting_blood_sugar</th>\n",
       "      <td>0.119492</td>\n",
       "      <td>0.046022</td>\n",
       "      <td>0.096018</td>\n",
       "      <td>0.178125</td>\n",
       "      <td>0.011428</td>\n",
       "      <td>1.000000</td>\n",
       "      <td>-0.083081</td>\n",
       "      <td>-0.007169</td>\n",
       "      <td>0.024729</td>\n",
       "      <td>0.004514</td>\n",
       "      <td>-0.058654</td>\n",
       "      <td>0.144935</td>\n",
       "      <td>-0.032752</td>\n",
       "      <td>-0.026826</td>\n",
       "    </tr>\n",
       "    <tr>\n",
       "      <th>rest_ecg</th>\n",
       "      <td>-0.111590</td>\n",
       "      <td>-0.060351</td>\n",
       "      <td>0.041561</td>\n",
       "      <td>-0.115367</td>\n",
       "      <td>-0.147602</td>\n",
       "      <td>-0.083081</td>\n",
       "      <td>1.000000</td>\n",
       "      <td>0.041210</td>\n",
       "      <td>-0.068807</td>\n",
       "      <td>-0.056251</td>\n",
       "      <td>0.090402</td>\n",
       "      <td>-0.083112</td>\n",
       "      <td>-0.010473</td>\n",
       "      <td>0.134874</td>\n",
       "    </tr>\n",
       "    <tr>\n",
       "      <th>max_heart_rate_achieved</th>\n",
       "      <td>-0.395235</td>\n",
       "      <td>-0.046439</td>\n",
       "      <td>0.293367</td>\n",
       "      <td>-0.048023</td>\n",
       "      <td>-0.005308</td>\n",
       "      <td>-0.007169</td>\n",
       "      <td>0.041210</td>\n",
       "      <td>1.000000</td>\n",
       "      <td>-0.377411</td>\n",
       "      <td>-0.342201</td>\n",
       "      <td>0.384754</td>\n",
       "      <td>-0.228311</td>\n",
       "      <td>-0.094910</td>\n",
       "      <td>0.419955</td>\n",
       "    </tr>\n",
       "    <tr>\n",
       "      <th>exercise_induced_angina</th>\n",
       "      <td>0.093216</td>\n",
       "      <td>0.143460</td>\n",
       "      <td>-0.392937</td>\n",
       "      <td>0.068526</td>\n",
       "      <td>0.064099</td>\n",
       "      <td>0.024729</td>\n",
       "      <td>-0.068807</td>\n",
       "      <td>-0.377411</td>\n",
       "      <td>1.000000</td>\n",
       "      <td>0.286766</td>\n",
       "      <td>-0.256106</td>\n",
       "      <td>0.125377</td>\n",
       "      <td>0.205826</td>\n",
       "      <td>-0.435601</td>\n",
       "    </tr>\n",
       "    <tr>\n",
       "      <th>st_depression</th>\n",
       "      <td>0.206040</td>\n",
       "      <td>0.098322</td>\n",
       "      <td>-0.146692</td>\n",
       "      <td>0.194600</td>\n",
       "      <td>0.050086</td>\n",
       "      <td>0.004514</td>\n",
       "      <td>-0.056251</td>\n",
       "      <td>-0.342201</td>\n",
       "      <td>0.286766</td>\n",
       "      <td>1.000000</td>\n",
       "      <td>-0.576314</td>\n",
       "      <td>0.236560</td>\n",
       "      <td>0.209090</td>\n",
       "      <td>-0.429146</td>\n",
       "    </tr>\n",
       "    <tr>\n",
       "      <th>st_slope</th>\n",
       "      <td>-0.164124</td>\n",
       "      <td>-0.032990</td>\n",
       "      <td>0.116854</td>\n",
       "      <td>-0.122873</td>\n",
       "      <td>0.000417</td>\n",
       "      <td>-0.058654</td>\n",
       "      <td>0.090402</td>\n",
       "      <td>0.384754</td>\n",
       "      <td>-0.256106</td>\n",
       "      <td>-0.576314</td>\n",
       "      <td>1.000000</td>\n",
       "      <td>-0.092236</td>\n",
       "      <td>-0.103314</td>\n",
       "      <td>0.343940</td>\n",
       "    </tr>\n",
       "    <tr>\n",
       "      <th>num_major_vessels</th>\n",
       "      <td>0.302261</td>\n",
       "      <td>0.113060</td>\n",
       "      <td>-0.195356</td>\n",
       "      <td>0.099248</td>\n",
       "      <td>0.086878</td>\n",
       "      <td>0.144935</td>\n",
       "      <td>-0.083112</td>\n",
       "      <td>-0.228311</td>\n",
       "      <td>0.125377</td>\n",
       "      <td>0.236560</td>\n",
       "      <td>-0.092236</td>\n",
       "      <td>1.000000</td>\n",
       "      <td>0.160085</td>\n",
       "      <td>-0.408992</td>\n",
       "    </tr>\n",
       "    <tr>\n",
       "      <th>thalassemia</th>\n",
       "      <td>0.065317</td>\n",
       "      <td>0.211452</td>\n",
       "      <td>-0.160370</td>\n",
       "      <td>0.062870</td>\n",
       "      <td>0.096810</td>\n",
       "      <td>-0.032752</td>\n",
       "      <td>-0.010473</td>\n",
       "      <td>-0.094910</td>\n",
       "      <td>0.205826</td>\n",
       "      <td>0.209090</td>\n",
       "      <td>-0.103314</td>\n",
       "      <td>0.160085</td>\n",
       "      <td>1.000000</td>\n",
       "      <td>-0.343101</td>\n",
       "    </tr>\n",
       "    <tr>\n",
       "      <th>target</th>\n",
       "      <td>-0.221476</td>\n",
       "      <td>-0.283609</td>\n",
       "      <td>0.432080</td>\n",
       "      <td>-0.146269</td>\n",
       "      <td>-0.081437</td>\n",
       "      <td>-0.026826</td>\n",
       "      <td>0.134874</td>\n",
       "      <td>0.419955</td>\n",
       "      <td>-0.435601</td>\n",
       "      <td>-0.429146</td>\n",
       "      <td>0.343940</td>\n",
       "      <td>-0.408992</td>\n",
       "      <td>-0.343101</td>\n",
       "      <td>1.000000</td>\n",
       "    </tr>\n",
       "  </tbody>\n",
       "</table>\n",
       "</div>"
      ],
      "text/plain": [
       "                              age       sex  chest_pain_type  \\\n",
       "age                      1.000000 -0.094962        -0.063107   \n",
       "sex                     -0.094962  1.000000        -0.051740   \n",
       "chest_pain_type         -0.063107 -0.051740         1.000000   \n",
       "resting_blood_pressure   0.283121 -0.057647         0.046486   \n",
       "cholesterol              0.207216 -0.195571        -0.072682   \n",
       "fasting_blood_sugar      0.119492  0.046022         0.096018   \n",
       "rest_ecg                -0.111590 -0.060351         0.041561   \n",
       "max_heart_rate_achieved -0.395235 -0.046439         0.293367   \n",
       "exercise_induced_angina  0.093216  0.143460        -0.392937   \n",
       "st_depression            0.206040  0.098322        -0.146692   \n",
       "st_slope                -0.164124 -0.032990         0.116854   \n",
       "num_major_vessels        0.302261  0.113060        -0.195356   \n",
       "thalassemia              0.065317  0.211452        -0.160370   \n",
       "target                  -0.221476 -0.283609         0.432080   \n",
       "\n",
       "                         resting_blood_pressure  cholesterol  \\\n",
       "age                                    0.283121     0.207216   \n",
       "sex                                   -0.057647    -0.195571   \n",
       "chest_pain_type                        0.046486    -0.072682   \n",
       "resting_blood_pressure                 1.000000     0.125256   \n",
       "cholesterol                            0.125256     1.000000   \n",
       "fasting_blood_sugar                    0.178125     0.011428   \n",
       "rest_ecg                              -0.115367    -0.147602   \n",
       "max_heart_rate_achieved               -0.048023    -0.005308   \n",
       "exercise_induced_angina                0.068526     0.064099   \n",
       "st_depression                          0.194600     0.050086   \n",
       "st_slope                              -0.122873     0.000417   \n",
       "num_major_vessels                      0.099248     0.086878   \n",
       "thalassemia                            0.062870     0.096810   \n",
       "target                                -0.146269    -0.081437   \n",
       "\n",
       "                         fasting_blood_sugar  rest_ecg  \\\n",
       "age                                 0.119492 -0.111590   \n",
       "sex                                 0.046022 -0.060351   \n",
       "chest_pain_type                     0.096018  0.041561   \n",
       "resting_blood_pressure              0.178125 -0.115367   \n",
       "cholesterol                         0.011428 -0.147602   \n",
       "fasting_blood_sugar                 1.000000 -0.083081   \n",
       "rest_ecg                           -0.083081  1.000000   \n",
       "max_heart_rate_achieved            -0.007169  0.041210   \n",
       "exercise_induced_angina             0.024729 -0.068807   \n",
       "st_depression                       0.004514 -0.056251   \n",
       "st_slope                           -0.058654  0.090402   \n",
       "num_major_vessels                   0.144935 -0.083112   \n",
       "thalassemia                        -0.032752 -0.010473   \n",
       "target                             -0.026826  0.134874   \n",
       "\n",
       "                         max_heart_rate_achieved  exercise_induced_angina  \\\n",
       "age                                    -0.395235                 0.093216   \n",
       "sex                                    -0.046439                 0.143460   \n",
       "chest_pain_type                         0.293367                -0.392937   \n",
       "resting_blood_pressure                 -0.048023                 0.068526   \n",
       "cholesterol                            -0.005308                 0.064099   \n",
       "fasting_blood_sugar                    -0.007169                 0.024729   \n",
       "rest_ecg                                0.041210                -0.068807   \n",
       "max_heart_rate_achieved                 1.000000                -0.377411   \n",
       "exercise_induced_angina                -0.377411                 1.000000   \n",
       "st_depression                          -0.342201                 0.286766   \n",
       "st_slope                                0.384754                -0.256106   \n",
       "num_major_vessels                      -0.228311                 0.125377   \n",
       "thalassemia                            -0.094910                 0.205826   \n",
       "target                                  0.419955                -0.435601   \n",
       "\n",
       "                         st_depression  st_slope  num_major_vessels  \\\n",
       "age                           0.206040 -0.164124           0.302261   \n",
       "sex                           0.098322 -0.032990           0.113060   \n",
       "chest_pain_type              -0.146692  0.116854          -0.195356   \n",
       "resting_blood_pressure        0.194600 -0.122873           0.099248   \n",
       "cholesterol                   0.050086  0.000417           0.086878   \n",
       "fasting_blood_sugar           0.004514 -0.058654           0.144935   \n",
       "rest_ecg                     -0.056251  0.090402          -0.083112   \n",
       "max_heart_rate_achieved      -0.342201  0.384754          -0.228311   \n",
       "exercise_induced_angina       0.286766 -0.256106           0.125377   \n",
       "st_depression                 1.000000 -0.576314           0.236560   \n",
       "st_slope                     -0.576314  1.000000          -0.092236   \n",
       "num_major_vessels             0.236560 -0.092236           1.000000   \n",
       "thalassemia                   0.209090 -0.103314           0.160085   \n",
       "target                       -0.429146  0.343940          -0.408992   \n",
       "\n",
       "                         thalassemia    target  \n",
       "age                         0.065317 -0.221476  \n",
       "sex                         0.211452 -0.283609  \n",
       "chest_pain_type            -0.160370  0.432080  \n",
       "resting_blood_pressure      0.062870 -0.146269  \n",
       "cholesterol                 0.096810 -0.081437  \n",
       "fasting_blood_sugar        -0.032752 -0.026826  \n",
       "rest_ecg                   -0.010473  0.134874  \n",
       "max_heart_rate_achieved    -0.094910  0.419955  \n",
       "exercise_induced_angina     0.205826 -0.435601  \n",
       "st_depression               0.209090 -0.429146  \n",
       "st_slope                   -0.103314  0.343940  \n",
       "num_major_vessels           0.160085 -0.408992  \n",
       "thalassemia                 1.000000 -0.343101  \n",
       "target                     -0.343101  1.000000  "
      ]
     },
     "execution_count": 25,
     "metadata": {},
     "output_type": "execute_result"
    }
   ],
   "source": [
    "data.corr()"
   ]
  },
  {
   "cell_type": "code",
   "execution_count": 26,
   "metadata": {},
   "outputs": [
    {
     "data": {
      "text/plain": [
       "<AxesSubplot:>"
      ]
     },
     "execution_count": 26,
     "metadata": {},
     "output_type": "execute_result"
    },
    {
     "data": {
      "image/png": "[encoded data removed]",
      "text/plain": [
       "<Figure size 720x720 with 2 Axes>"
      ]
     },
     "metadata": {},
     "output_type": "display_data"
    }
   ],
   "source": [
    "plt.figure(figsize=(10,10))\n",
    "sns.heatmap(data.corr(), cbar = True, square = True, annot=True, fmt= '.2f', annot_kws={'size': 10})"
   ]
  },
  {
   "cell_type": "markdown",
   "metadata": {},
   "source": [
    "# Machine Learning Models"
   ]
  },
  {
   "cell_type": "markdown",
   "metadata": {},
   "source": [
    "## Data Preparation"
   ]
  },
  {
   "cell_type": "code",
   "execution_count": 27,
   "metadata": {},
   "outputs": [],
   "source": [
    "# Create separate object for target variable\n",
    "y = data.target\n",
    "\n",
    "# Create separate object for input features\n",
    "X = data.drop('target', axis=1)"
   ]
  },
  {
   "cell_type": "code",
   "execution_count": 28,
   "metadata": {},
   "outputs": [],
   "source": [
    "# Split X and y into train and test sets\n",
    "X_train, X_test, y_train, y_test = train_test_split(X, y, \n",
    "                                                    test_size=0.2, \n",
    "                                                    random_state=1234,\n",
    "                                                    stratify=data.target)"
   ]
  },
  {
   "cell_type": "code",
   "execution_count": 29,
   "metadata": {},
   "outputs": [
    {
     "name": "stdout",
     "output_type": "stream",
     "text": [
      "(241, 13) (61, 13) (241,) (61,)\n"
     ]
    }
   ],
   "source": [
    "# Print number of observations in X_train, X_test, y_train, and y_test\n",
    "print(X_train.shape, X_test.shape, y_train.shape, y_test.shape)"
   ]
  },
  {
   "cell_type": "code",
   "execution_count": 30,
   "metadata": {},
   "outputs": [
    {
     "name": "stdout",
     "output_type": "stream",
     "text": [
      "1    164\n",
      "0    138\n",
      "Name: target, dtype: int64\n"
     ]
    },
    {
     "data": {
      "image/png": "[encoded data removed]",
      "text/plain": [
       "<Figure size 432x288 with 1 Axes>"
      ]
     },
     "metadata": {},
     "output_type": "display_data"
    }
   ],
   "source": [
    "ax=sns.countplot(x='target',data=data)\n",
    "print(data['target'].value_counts())"
   ]
  },
  {
   "cell_type": "markdown",
   "metadata": {},
   "source": [
    "## Oversampling data"
   ]
  },
  {
   "cell_type": "code",
   "execution_count": 31,
   "metadata": {},
   "outputs": [
    {
     "name": "stdout",
     "output_type": "stream",
     "text": [
      "164\n"
     ]
    }
   ],
   "source": [
    "majority_class_len = len(data[data['target'] == 1])\n",
    "print(majority_class_len)"
   ]
  },
  {
   "cell_type": "code",
   "execution_count": 32,
   "metadata": {},
   "outputs": [
    {
     "name": "stdout",
     "output_type": "stream",
     "text": [
      "Int64Index([165, 166, 167, 168, 169, 170, 171, 172, 173, 174,\n",
      "            ...\n",
      "            293, 294, 295, 296, 297, 298, 299, 300, 301, 302],\n",
      "           dtype='int64', length=138)\n"
     ]
    }
   ],
   "source": [
    "minority_class_indices = data[data['target'] == 0].index\n",
    "print(minority_class_indices)"
   ]
  },
  {
   "cell_type": "code",
   "execution_count": 33,
   "metadata": {},
   "outputs": [
    {
     "name": "stdout",
     "output_type": "stream",
     "text": [
      "164\n"
     ]
    }
   ],
   "source": [
    "random_minority_indices = np.random.choice(minority_class_indices,\n",
    "                                          majority_class_len,\n",
    "                                          replace=True)\n",
    "print(len(random_minority_indices))"
   ]
  },
  {
   "cell_type": "code",
   "execution_count": 34,
   "metadata": {},
   "outputs": [
    {
     "name": "stdout",
     "output_type": "stream",
     "text": [
      "Int64Index([  0,   1,   2,   3,   4,   5,   6,   7,   8,   9,\n",
      "            ...\n",
      "            154, 155, 156, 157, 158, 159, 160, 161, 162, 163],\n",
      "           dtype='int64', length=164)\n"
     ]
    }
   ],
   "source": [
    "majority_class_indices = data[data['target'] == 1].index\n",
    "print(majority_class_indices)"
   ]
  },
  {
   "cell_type": "code",
   "execution_count": 35,
   "metadata": {},
   "outputs": [],
   "source": [
    "over_sample_indices=np.concatenate([majority_class_indices,random_minority_indices])"
   ]
  },
  {
   "cell_type": "code",
   "execution_count": 36,
   "metadata": {},
   "outputs": [],
   "source": [
    "over_sample=data.loc[over_sample_indices]"
   ]
  },
  {
   "cell_type": "code",
   "execution_count": 37,
   "metadata": {},
   "outputs": [
    {
     "data": {
      "text/plain": [
       "<AxesSubplot:xlabel='target', ylabel='count'>"
      ]
     },
     "execution_count": 37,
     "metadata": {},
     "output_type": "execute_result"
    },
    {
     "data": {
      "image/png": "[encoded data removed]",
      "text/plain": [
       "<Figure size 432x288 with 1 Axes>"
      ]
     },
     "metadata": {},
     "output_type": "display_data"
    }
   ],
   "source": [
    "sns.countplot(x='target',data=over_sample)"
   ]
  },
  {
   "cell_type": "code",
   "execution_count": 38,
   "metadata": {},
   "outputs": [],
   "source": [
    "X = over_sample.loc[:, data.columns!='target']\n",
    "y = over_sample.loc[:, data.columns=='target']\n",
    "X_train, X_test, y_train, y_test = train_test_split(X, y, test_size=0.33, random_state=42)"
   ]
  },
  {
   "cell_type": "markdown",
   "metadata": {},
   "source": [
    "## 1. Decision Tree"
   ]
  },
  {
   "cell_type": "code",
   "execution_count": 39,
   "metadata": {},
   "outputs": [],
   "source": [
    "def ConfusionMatrixToDataFrame (actual, predicted):\n",
    "    tn, fp, fn, tp = confusion_matrix(actual, predicted).ravel()\n",
    "    values = {'positive':{'true': tp, 'false': fp}, 'negative':{'true': tn, 'false': fn}}\n",
    "    output_cm = pd.DataFrame(columns = [\"true\", \"false\"])\n",
    "    for key, value in values.items():\n",
    "        output_cm = output_cm.append(pd.Series(value, name = key))\n",
    "    return output_cm"
   ]
  },
  {
   "cell_type": "code",
   "execution_count": 40,
   "metadata": {},
   "outputs": [
    {
     "data": {
      "text/plain": [
       "RandomizedSearchCV(estimator=DecisionTreeClassifier(), n_iter=15, n_jobs=-1,\n",
       "                   param_distributions={'max_depth': [2, 3, 4, 5, 6, 7],\n",
       "                                        'min_samples_leaf': [1, 2, 3, 4, 6],\n",
       "                                        'min_samples_split': [2, 3, 4, 5, 7]},\n",
       "                   scoring='roc_auc')"
      ]
     },
     "execution_count": 40,
     "metadata": {},
     "output_type": "execute_result"
    }
   ],
   "source": [
    "from sklearn.tree import DecisionTreeClassifier #Decision Tree\n",
    "from sklearn import tree #Decision Tree\n",
    "from sklearn.metrics import accuracy_score, recall_score, precision_score, f1_score #Accuracy score\n",
    "from sklearn.model_selection import RandomizedSearchCV # Perform hyperparameter tuning\n",
    "tuned_params = {'min_samples_split': [2, 3, 4, 5, 7], 'min_samples_leaf': [1, 2, 3, 4, 6], 'max_depth': [2, 3, 4, 5, 6, 7]}\n",
    "model = RandomizedSearchCV(DecisionTreeClassifier(), tuned_params, n_iter=15, scoring = 'roc_auc', n_jobs=-1)\n",
    "model.fit(X_train, y_train)"
   ]
  },
  {
   "cell_type": "code",
   "execution_count": 41,
   "metadata": {},
   "outputs": [
    {
     "data": {
      "text/plain": [
       "DecisionTreeClassifier(max_depth=7, min_samples_leaf=4, min_samples_split=5)"
      ]
     },
     "execution_count": 41,
     "metadata": {},
     "output_type": "execute_result"
    }
   ],
   "source": [
    "DTmodel = model.best_estimator_\n",
    "DTmodel"
   ]
  },
  {
   "cell_type": "code",
   "execution_count": 42,
   "metadata": {},
   "outputs": [
    {
     "name": "stdout",
     "output_type": "stream",
     "text": [
      "Accuracy on training set:  0.908675799086758 \n",
      "\n",
      "Precision on training set:  0.8773584905660378 \n",
      "\n",
      "Recall on training set:  0.93 \n",
      "\n",
      "F1 score on training set:  0.9029126213592233 \n",
      "\n",
      "Accuracy on testing set:  0.8532110091743119 \n",
      "\n",
      "Precision on testing set:  0.8275862068965517 \n",
      "\n",
      "Recall on testing set:  0.8888888888888888 \n",
      "\n",
      "F1 score on testing set:  0.8571428571428572 \n",
      "\n"
     ]
    }
   ],
   "source": [
    "DT_y_train_preds = model.predict(X_train)\n",
    "print(\"Accuracy on training set: \", accuracy_score(DT_y_train_preds, y_train),\"\\n\")\n",
    "\n",
    "print(\"Precision on training set: \", precision_score(DT_y_train_preds, y_train),\"\\n\")\n",
    "\n",
    "print(\"Recall on training set: \", recall_score(DT_y_train_preds, y_train),\"\\n\")\n",
    "\n",
    "print(\"F1 score on training set: \", f1_score(DT_y_train_preds, y_train),\"\\n\")\n",
    "\n",
    "DT_y_test_preds = model.predict(X_test)\n",
    "\n",
    "DT_accuracy = accuracy_score(DT_y_test_preds, y_test)\n",
    "\n",
    "print(\"Accuracy on testing set: \", DT_accuracy,\"\\n\")\n",
    "\n",
    "print(\"Precision on testing set: \", precision_score(DT_y_test_preds, y_test),\"\\n\")\n",
    "\n",
    "print(\"Recall on testing set: \", recall_score(DT_y_test_preds, y_test),\"\\n\")\n",
    "\n",
    "print(\"F1 score on testing set: \", f1_score(DT_y_test_preds, y_test),\"\\n\")"
   ]
  },
  {
   "cell_type": "code",
   "execution_count": 43,
   "metadata": {},
   "outputs": [],
   "source": [
    "from sklearn.model_selection import StratifiedKFold #Cross Validation\n",
    "cv = StratifiedKFold(n_splits=3)"
   ]
  },
  {
   "cell_type": "code",
   "execution_count": 44,
   "metadata": {},
   "outputs": [
    {
     "name": "stdout",
     "output_type": "stream",
     "text": [
      "[0.80909091 0.85321101 0.82568807]\n"
     ]
    },
    {
     "data": {
      "text/plain": [
       "0.8293299972199054"
      ]
     },
     "execution_count": 44,
     "metadata": {},
     "output_type": "execute_result"
    }
   ],
   "source": [
    "from sklearn.model_selection import cross_val_score #Cross Validation\n",
    "crossDT = cross_val_score(DTmodel,X,y,cv=cv,scoring = \"accuracy\")\n",
    "print(crossDT)\n",
    "np.mean(crossDT)"
   ]
  },
  {
   "cell_type": "code",
   "execution_count": 45,
   "metadata": {},
   "outputs": [
    {
     "data": {
      "text/plain": [
       "array([1.        , 0.42857143, 0.        , 1.        , 1.        ,\n",
       "       0.        , 0.6       , 0.        , 0.2       , 0.        ])"
      ]
     },
     "execution_count": 45,
     "metadata": {},
     "output_type": "execute_result"
    }
   ],
   "source": [
    "DT_y_pred_proba = model.predict_proba(X_test)[:,1]\n",
    "DT_y_pred_proba[:10]"
   ]
  },
  {
   "cell_type": "code",
   "execution_count": 46,
   "metadata": {},
   "outputs": [
    {
     "data": {
      "text/html": [
       "<div>\n",
       "<style scoped>\n",
       "    .dataframe tbody tr th:only-of-type {\n",
       "        vertical-align: middle;\n",
       "    }\n",
       "\n",
       "    .dataframe tbody tr th {\n",
       "        vertical-align: top;\n",
       "    }\n",
       "\n",
       "    .dataframe thead th {\n",
       "        text-align: right;\n",
       "    }\n",
       "</style>\n",
       "<table border=\"1\" class=\"dataframe\">\n",
       "  <thead>\n",
       "    <tr style=\"text-align: right;\">\n",
       "      <th></th>\n",
       "      <th>true</th>\n",
       "      <th>false</th>\n",
       "    </tr>\n",
       "  </thead>\n",
       "  <tbody>\n",
       "    <tr>\n",
       "      <th>positive</th>\n",
       "      <td>48</td>\n",
       "      <td>6</td>\n",
       "    </tr>\n",
       "    <tr>\n",
       "      <th>negative</th>\n",
       "      <td>45</td>\n",
       "      <td>10</td>\n",
       "    </tr>\n",
       "  </tbody>\n",
       "</table>\n",
       "</div>"
      ],
      "text/plain": [
       "         true false\n",
       "positive   48     6\n",
       "negative   45    10"
      ]
     },
     "execution_count": 46,
     "metadata": {},
     "output_type": "execute_result"
    }
   ],
   "source": [
    "ConfusionMatrixToDataFrame(y_test,DT_y_test_preds)"
   ]
  },
  {
   "cell_type": "code",
   "execution_count": 47,
   "metadata": {},
   "outputs": [
    {
     "name": "stdout",
     "output_type": "stream",
     "text": [
      "              precision    recall  f1-score   support\n",
      "\n",
      "           0       0.89      0.94      0.91       113\n",
      "           1       0.93      0.88      0.90       106\n",
      "\n",
      "    accuracy                           0.91       219\n",
      "   macro avg       0.91      0.91      0.91       219\n",
      "weighted avg       0.91      0.91      0.91       219\n",
      "\n",
      "              precision    recall  f1-score   support\n",
      "\n",
      "           0       0.82      0.88      0.85        51\n",
      "           1       0.89      0.83      0.86        58\n",
      "\n",
      "    accuracy                           0.85       109\n",
      "   macro avg       0.85      0.85      0.85       109\n",
      "weighted avg       0.86      0.85      0.85       109\n",
      "\n"
     ]
    }
   ],
   "source": [
    "from sklearn.metrics import classification_report\n",
    "print(classification_report(y_train, DT_y_train_preds))\n",
    "print(classification_report(y_test,DT_y_test_preds))"
   ]
  },
  {
   "cell_type": "code",
   "execution_count": 48,
   "metadata": {},
   "outputs": [],
   "source": [
    "fpr, tpr, thresholds = roc_curve(y_test, DT_y_pred_proba)"
   ]
  },
  {
   "cell_type": "code",
   "execution_count": 49,
   "metadata": {},
   "outputs": [
    {
     "data": {
      "image/png": "[encoded data removed]",
      "text/plain": [
       "<Figure size 576x576 with 1 Axes>"
      ]
     },
     "metadata": {},
     "output_type": "display_data"
    }
   ],
   "source": [
    "# Plot the ROC curve\n",
    "fig = plt.figure(figsize=(8,8))\n",
    "plt.title('Receiver Operating Characteristic')\n",
    "\n",
    "# Plot ROC curve\n",
    "plt.plot(fpr, tpr, label='l1')\n",
    "plt.legend(loc='lower right')\n",
    "\n",
    "# Diagonal 45 degree line\n",
    "plt.plot([0,1],[0,1],'k--')\n",
    "\n",
    "# Axes limits and labels\n",
    "plt.xlim([-0.1,1.1])\n",
    "plt.ylim([-0.1,1.1])\n",
    "plt.ylabel('True Positive Rate')\n",
    "plt.xlabel('False Positive Rate')\n",
    "plt.show()"
   ]
  },
  {
   "cell_type": "code",
   "execution_count": 50,
   "metadata": {},
   "outputs": [
    {
     "data": {
      "text/plain": [
       "0.9077057939555851"
      ]
     },
     "execution_count": 50,
     "metadata": {},
     "output_type": "execute_result"
    }
   ],
   "source": [
    "# Calculate AUC for Train\n",
    "roc_auc_score(y_train, DT_y_train_preds)"
   ]
  },
  {
   "cell_type": "code",
   "execution_count": 51,
   "metadata": {},
   "outputs": [
    {
     "name": "stdout",
     "output_type": "stream",
     "text": [
      "0.9279918864097363\n"
     ]
    }
   ],
   "source": [
    "# Calculate AUC for Test set\n",
    "DT_auc = auc(fpr, tpr)\n",
    "print(DT_auc)"
   ]
  },
  {
   "cell_type": "markdown",
   "metadata": {},
   "source": [
    "### Feature Importance "
   ]
  },
  {
   "cell_type": "code",
   "execution_count": 52,
   "metadata": {},
   "outputs": [
    {
     "name": "stdout",
     "output_type": "stream",
     "text": [
      "The features in order of importance are:\n",
      "--------------------------------------------------\n",
      "chest_pain_type\n",
      "num_major_vessels\n",
      "thalassemia\n",
      "age\n",
      "cholesterol\n",
      "max_heart_rate_achieved\n",
      "sex\n",
      "exercise_induced_angina\n",
      "st_depression\n",
      "resting_blood_pressure\n",
      "fasting_blood_sugar\n",
      "rest_ecg\n",
      "st_slope\n"
     ]
    }
   ],
   "source": [
    "indices = np.argsort(-model.best_estimator_.feature_importances_)\n",
    "print(\"The features in order of importance are:\")\n",
    "print(50*'-')\n",
    "for feature in X.columns[indices]:\n",
    "    print(feature)"
   ]
  },
  {
   "cell_type": "code",
   "execution_count": 53,
   "metadata": {},
   "outputs": [
    {
     "name": "stdout",
     "output_type": "stream",
     "text": [
      "Requirement already satisfied: graphviz in d:\\anaconda3\\lib\\site-packages (0.14)\n"
     ]
    },
    {
     "data": {
      "image/svg+xml": [
       "<?xml version=\"1.0\" encoding=\"UTF-8\" standalone=\"no\"?>\r\n",
       "<!DOCTYPE svg PUBLIC \"-//W3C//DTD SVG 1.1//EN\"\r\n",
       " \"http://www.w3.org/Graphics/SVG/1.1/DTD/svg11.dtd\">\r\n",
       "<!-- Generated by graphviz version 2.38.0 (20140413.2041)\r\n",
       " -->\r\n",
       "<!-- Title: Tree Pages: 1 -->\r\n",
       "<svg width=\"1835pt\" height=\"661pt\"\r\n",
       " viewBox=\"0.00 0.00 1835.00 661.00\" xmlns=\"http://www.w3.org/2000/svg\" xmlns:xlink=\"http://www.w3.org/1999/xlink\">\r\n",
       "<g id=\"graph0\" class=\"graph\" transform=\"scale(1 1) rotate(0) translate(4 657)\">\r\n",
       "<title>Tree</title>\r\n",
       "<polygon fill=\"white\" stroke=\"none\" points=\"-4,4 -4,-657 1831,-657 1831,4 -4,4\"/>\r\n",
       "<!-- 0 -->\r\n",
       "<g id=\"node1\" class=\"node\"><title>0</title>\r\n",
       "<path fill=\"#fdf7f3\" stroke=\"black\" d=\"M874.5,-653C874.5,-653 768.5,-653 768.5,-653 762.5,-653 756.5,-647 756.5,-641 756.5,-641 756.5,-601 756.5,-601 756.5,-595 762.5,-589 768.5,-589 768.5,-589 874.5,-589 874.5,-589 880.5,-589 886.5,-595 886.5,-601 886.5,-601 886.5,-641 886.5,-641 886.5,-647 880.5,-653 874.5,-653\"/>\r\n",
       "<text text-anchor=\"start\" x=\"787\" y=\"-638.8\" font-family=\"Helvetica,sans-Serif\" font-size=\"14.00\">X</text>\r\n",
       "<text text-anchor=\"start\" x=\"797\" y=\"-638.8\" font-family=\"Helvetica,sans-Serif\" baseline-shift=\"sub\" font-size=\"14.00\">2</text>\r\n",
       "<text text-anchor=\"start\" x=\"804\" y=\"-638.8\" font-family=\"Helvetica,sans-Serif\" font-size=\"14.00\"> ≤ 0.167</text>\r\n",
       "<text text-anchor=\"start\" x=\"784\" y=\"-624.8\" font-family=\"Helvetica,sans-Serif\" font-size=\"14.00\">gini = 0.499</text>\r\n",
       "<text text-anchor=\"start\" x=\"774\" y=\"-610.8\" font-family=\"Helvetica,sans-Serif\" font-size=\"14.00\">samples = 219</text>\r\n",
       "<text text-anchor=\"start\" x=\"764.5\" y=\"-596.8\" font-family=\"Helvetica,sans-Serif\" font-size=\"14.00\">value = [113, 106]</text>\r\n",
       "</g>\r\n",
       "<!-- 1 -->\r\n",
       "<g id=\"node2\" class=\"node\"><title>1</title>\r\n",
       "<path fill=\"#eca46f\" stroke=\"black\" d=\"M693,-553C693,-553 604,-553 604,-553 598,-553 592,-547 592,-541 592,-541 592,-501 592,-501 592,-495 598,-489 604,-489 604,-489 693,-489 693,-489 699,-489 705,-495 705,-501 705,-501 705,-541 705,-541 705,-547 699,-553 693,-553\"/>\r\n",
       "<text text-anchor=\"start\" x=\"610.5\" y=\"-538.8\" font-family=\"Helvetica,sans-Serif\" font-size=\"14.00\">X</text>\r\n",
       "<text text-anchor=\"start\" x=\"620.5\" y=\"-538.8\" font-family=\"Helvetica,sans-Serif\" baseline-shift=\"sub\" font-size=\"14.00\">11</text>\r\n",
       "<text text-anchor=\"start\" x=\"634.5\" y=\"-538.8\" font-family=\"Helvetica,sans-Serif\" font-size=\"14.00\"> ≤ 0.125</text>\r\n",
       "<text text-anchor=\"start\" x=\"611\" y=\"-524.8\" font-family=\"Helvetica,sans-Serif\" font-size=\"14.00\">gini = 0.337</text>\r\n",
       "<text text-anchor=\"start\" x=\"601\" y=\"-510.8\" font-family=\"Helvetica,sans-Serif\" font-size=\"14.00\">samples = 107</text>\r\n",
       "<text text-anchor=\"start\" x=\"600\" y=\"-496.8\" font-family=\"Helvetica,sans-Serif\" font-size=\"14.00\">value = [84, 23]</text>\r\n",
       "</g>\r\n",
       "<!-- 0&#45;&gt;1 -->\r\n",
       "<g id=\"edge1\" class=\"edge\"><title>0&#45;&gt;1</title>\r\n",
       "<path fill=\"none\" stroke=\"black\" d=\"M766.762,-588.992C749.565,-579.251 730.423,-568.408 712.636,-558.332\"/>\r\n",
       "<polygon fill=\"black\" stroke=\"black\" points=\"713.902,-555.026 703.476,-553.142 710.452,-561.117 713.902,-555.026\"/>\r\n",
       "<text text-anchor=\"middle\" x=\"710.144\" y=\"-573.537\" font-family=\"Helvetica,sans-Serif\" font-size=\"14.00\">True</text>\r\n",
       "</g>\r\n",
       "<!-- 18 -->\r\n",
       "<g id=\"node19\" class=\"node\"><title>18</title>\r\n",
       "<path fill=\"#7ebfee\" stroke=\"black\" d=\"M1040,-553C1040,-553 951,-553 951,-553 945,-553 939,-547 939,-541 939,-541 939,-501 939,-501 939,-495 945,-489 951,-489 951,-489 1040,-489 1040,-489 1046,-489 1052,-495 1052,-501 1052,-501 1052,-541 1052,-541 1052,-547 1046,-553 1040,-553\"/>\r\n",
       "<text text-anchor=\"start\" x=\"961\" y=\"-538.8\" font-family=\"Helvetica,sans-Serif\" font-size=\"14.00\">X</text>\r\n",
       "<text text-anchor=\"start\" x=\"971\" y=\"-538.8\" font-family=\"Helvetica,sans-Serif\" baseline-shift=\"sub\" font-size=\"14.00\">0</text>\r\n",
       "<text text-anchor=\"start\" x=\"978\" y=\"-538.8\" font-family=\"Helvetica,sans-Serif\" font-size=\"14.00\"> ≤ 0.552</text>\r\n",
       "<text text-anchor=\"start\" x=\"958\" y=\"-524.8\" font-family=\"Helvetica,sans-Serif\" font-size=\"14.00\">gini = 0.384</text>\r\n",
       "<text text-anchor=\"start\" x=\"948\" y=\"-510.8\" font-family=\"Helvetica,sans-Serif\" font-size=\"14.00\">samples = 112</text>\r\n",
       "<text text-anchor=\"start\" x=\"947\" y=\"-496.8\" font-family=\"Helvetica,sans-Serif\" font-size=\"14.00\">value = [29, 83]</text>\r\n",
       "</g>\r\n",
       "<!-- 0&#45;&gt;18 -->\r\n",
       "<g id=\"edge18\" class=\"edge\"><title>0&#45;&gt;18</title>\r\n",
       "<path fill=\"none\" stroke=\"black\" d=\"M876.555,-588.992C894.009,-579.161 913.456,-568.208 931.485,-558.055\"/>\r\n",
       "<polygon fill=\"black\" stroke=\"black\" points=\"933.211,-561.099 940.206,-553.142 929.776,-555 933.211,-561.099\"/>\r\n",
       "<text text-anchor=\"middle\" x=\"933.479\" y=\"-573.52\" font-family=\"Helvetica,sans-Serif\" font-size=\"14.00\">False</text>\r\n",
       "</g>\r\n",
       "<!-- 2 -->\r\n",
       "<g id=\"node3\" class=\"node\"><title>2</title>\r\n",
       "<path fill=\"#fdf4ed\" stroke=\"black\" d=\"M454,-453C454,-453 365,-453 365,-453 359,-453 353,-447 353,-441 353,-441 353,-401 353,-401 353,-395 359,-389 365,-389 365,-389 454,-389 454,-389 460,-389 466,-395 466,-401 466,-401 466,-441 466,-441 466,-447 460,-453 454,-453\"/>\r\n",
       "<text text-anchor=\"start\" x=\"371.5\" y=\"-438.8\" font-family=\"Helvetica,sans-Serif\" font-size=\"14.00\">X</text>\r\n",
       "<text text-anchor=\"start\" x=\"381.5\" y=\"-438.8\" font-family=\"Helvetica,sans-Serif\" baseline-shift=\"sub\" font-size=\"14.00\">12</text>\r\n",
       "<text text-anchor=\"start\" x=\"395.5\" y=\"-438.8\" font-family=\"Helvetica,sans-Serif\" font-size=\"14.00\"> ≤ 0.833</text>\r\n",
       "<text text-anchor=\"start\" x=\"372\" y=\"-424.8\" font-family=\"Helvetica,sans-Serif\" font-size=\"14.00\">gini = 0.499</text>\r\n",
       "<text text-anchor=\"start\" x=\"366\" y=\"-410.8\" font-family=\"Helvetica,sans-Serif\" font-size=\"14.00\">samples = 42</text>\r\n",
       "<text text-anchor=\"start\" x=\"361\" y=\"-396.8\" font-family=\"Helvetica,sans-Serif\" font-size=\"14.00\">value = [22, 20]</text>\r\n",
       "</g>\r\n",
       "<!-- 1&#45;&gt;2 -->\r\n",
       "<g id=\"edge2\" class=\"edge\"><title>1&#45;&gt;2</title>\r\n",
       "<path fill=\"none\" stroke=\"black\" d=\"M591.86,-496.775C557.014,-482.487 512.198,-464.11 475.715,-449.151\"/>\r\n",
       "<polygon fill=\"black\" stroke=\"black\" points=\"476.727,-445.783 466.147,-445.228 474.071,-452.26 476.727,-445.783\"/>\r\n",
       "</g>\r\n",
       "<!-- 11 -->\r\n",
       "<g id=\"node12\" class=\"node\"><title>11</title>\r\n",
       "<path fill=\"#e68743\" stroke=\"black\" d=\"M689,-453C689,-453 608,-453 608,-453 602,-453 596,-447 596,-441 596,-441 596,-401 596,-401 596,-395 602,-389 608,-389 608,-389 689,-389 689,-389 695,-389 701,-395 701,-401 701,-401 701,-441 701,-441 701,-447 695,-453 689,-453\"/>\r\n",
       "<text text-anchor=\"start\" x=\"614\" y=\"-438.8\" font-family=\"Helvetica,sans-Serif\" font-size=\"14.00\">X</text>\r\n",
       "<text text-anchor=\"start\" x=\"624\" y=\"-438.8\" font-family=\"Helvetica,sans-Serif\" baseline-shift=\"sub\" font-size=\"14.00\">3</text>\r\n",
       "<text text-anchor=\"start\" x=\"631\" y=\"-438.8\" font-family=\"Helvetica,sans-Serif\" font-size=\"14.00\"> ≤ 0.142</text>\r\n",
       "<text text-anchor=\"start\" x=\"611\" y=\"-424.8\" font-family=\"Helvetica,sans-Serif\" font-size=\"14.00\">gini = 0.088</text>\r\n",
       "<text text-anchor=\"start\" x=\"605\" y=\"-410.8\" font-family=\"Helvetica,sans-Serif\" font-size=\"14.00\">samples = 65</text>\r\n",
       "<text text-anchor=\"start\" x=\"604\" y=\"-396.8\" font-family=\"Helvetica,sans-Serif\" font-size=\"14.00\">value = [62, 3]</text>\r\n",
       "</g>\r\n",
       "<!-- 1&#45;&gt;11 -->\r\n",
       "<g id=\"edge11\" class=\"edge\"><title>1&#45;&gt;11</title>\r\n",
       "<path fill=\"none\" stroke=\"black\" d=\"M648.5,-488.992C648.5,-480.859 648.5,-471.959 648.5,-463.378\"/>\r\n",
       "<polygon fill=\"black\" stroke=\"black\" points=\"652,-463.142 648.5,-453.142 645,-463.142 652,-463.142\"/>\r\n",
       "</g>\r\n",
       "<!-- 3 -->\r\n",
       "<g id=\"node4\" class=\"node\"><title>3</title>\r\n",
       "<path fill=\"#73baed\" stroke=\"black\" d=\"M271,-353C271,-353 190,-353 190,-353 184,-353 178,-347 178,-341 178,-341 178,-301 178,-301 178,-295 184,-289 190,-289 190,-289 271,-289 271,-289 277,-289 283,-295 283,-301 283,-301 283,-341 283,-341 283,-347 277,-353 271,-353\"/>\r\n",
       "<text text-anchor=\"start\" x=\"204\" y=\"-338.8\" font-family=\"Helvetica,sans-Serif\" font-size=\"14.00\">X</text>\r\n",
       "<text text-anchor=\"start\" x=\"214\" y=\"-338.8\" font-family=\"Helvetica,sans-Serif\" baseline-shift=\"sub\" font-size=\"14.00\">8</text>\r\n",
       "<text text-anchor=\"start\" x=\"221\" y=\"-338.8\" font-family=\"Helvetica,sans-Serif\" font-size=\"14.00\"> ≤ 0.5</text>\r\n",
       "<text text-anchor=\"start\" x=\"193\" y=\"-324.8\" font-family=\"Helvetica,sans-Serif\" font-size=\"14.00\">gini = 0.351</text>\r\n",
       "<text text-anchor=\"start\" x=\"187\" y=\"-310.8\" font-family=\"Helvetica,sans-Serif\" font-size=\"14.00\">samples = 22</text>\r\n",
       "<text text-anchor=\"start\" x=\"186\" y=\"-296.8\" font-family=\"Helvetica,sans-Serif\" font-size=\"14.00\">value = [5, 17]</text>\r\n",
       "</g>\r\n",
       "<!-- 2&#45;&gt;3 -->\r\n",
       "<g id=\"edge3\" class=\"edge\"><title>2&#45;&gt;3</title>\r\n",
       "<path fill=\"none\" stroke=\"black\" d=\"M352.863,-388.992C333.5,-378.391 311.754,-366.485 292.024,-355.684\"/>\r\n",
       "<polygon fill=\"black\" stroke=\"black\" points=\"293.569,-352.539 283.117,-350.807 290.208,-358.679 293.569,-352.539\"/>\r\n",
       "</g>\r\n",
       "<!-- 8 -->\r\n",
       "<g id=\"node9\" class=\"node\"><title>8</title>\r\n",
       "<path fill=\"#ea975c\" stroke=\"black\" d=\"M450,-353C450,-353 369,-353 369,-353 363,-353 357,-347 357,-341 357,-341 357,-301 357,-301 357,-295 363,-289 369,-289 369,-289 450,-289 450,-289 456,-289 462,-295 462,-301 462,-301 462,-341 462,-341 462,-347 456,-353 450,-353\"/>\r\n",
       "<text text-anchor=\"start\" x=\"375\" y=\"-338.8\" font-family=\"Helvetica,sans-Serif\" font-size=\"14.00\">X</text>\r\n",
       "<text text-anchor=\"start\" x=\"385\" y=\"-338.8\" font-family=\"Helvetica,sans-Serif\" baseline-shift=\"sub\" font-size=\"14.00\">9</text>\r\n",
       "<text text-anchor=\"start\" x=\"392\" y=\"-338.8\" font-family=\"Helvetica,sans-Serif\" font-size=\"14.00\"> ≤ 0.105</text>\r\n",
       "<text text-anchor=\"start\" x=\"372\" y=\"-324.8\" font-family=\"Helvetica,sans-Serif\" font-size=\"14.00\">gini = 0.255</text>\r\n",
       "<text text-anchor=\"start\" x=\"366\" y=\"-310.8\" font-family=\"Helvetica,sans-Serif\" font-size=\"14.00\">samples = 20</text>\r\n",
       "<text text-anchor=\"start\" x=\"365\" y=\"-296.8\" font-family=\"Helvetica,sans-Serif\" font-size=\"14.00\">value = [17, 3]</text>\r\n",
       "</g>\r\n",
       "<!-- 2&#45;&gt;8 -->\r\n",
       "<g id=\"edge8\" class=\"edge\"><title>2&#45;&gt;8</title>\r\n",
       "<path fill=\"none\" stroke=\"black\" d=\"M409.5,-388.992C409.5,-380.859 409.5,-371.959 409.5,-363.378\"/>\r\n",
       "<polygon fill=\"black\" stroke=\"black\" points=\"413,-363.142 409.5,-353.142 406,-363.142 413,-363.142\"/>\r\n",
       "</g>\r\n",
       "<!-- 4 -->\r\n",
       "<g id=\"node5\" class=\"node\"><title>4</title>\r\n",
       "<path fill=\"#47a4e7\" stroke=\"black\" d=\"M152,-253C152,-253 71,-253 71,-253 65,-253 59,-247 59,-241 59,-241 59,-201 59,-201 59,-195 65,-189 71,-189 71,-189 152,-189 152,-189 158,-189 164,-195 164,-201 164,-201 164,-241 164,-241 164,-247 158,-253 152,-253\"/>\r\n",
       "<text text-anchor=\"start\" x=\"77\" y=\"-238.8\" font-family=\"Helvetica,sans-Serif\" font-size=\"14.00\">X</text>\r\n",
       "<text text-anchor=\"start\" x=\"87\" y=\"-238.8\" font-family=\"Helvetica,sans-Serif\" baseline-shift=\"sub\" font-size=\"14.00\">4</text>\r\n",
       "<text text-anchor=\"start\" x=\"94\" y=\"-238.8\" font-family=\"Helvetica,sans-Serif\" font-size=\"14.00\"> ≤ 0.366</text>\r\n",
       "<text text-anchor=\"start\" x=\"74\" y=\"-224.8\" font-family=\"Helvetica,sans-Serif\" font-size=\"14.00\">gini = 0.124</text>\r\n",
       "<text text-anchor=\"start\" x=\"68\" y=\"-210.8\" font-family=\"Helvetica,sans-Serif\" font-size=\"14.00\">samples = 15</text>\r\n",
       "<text text-anchor=\"start\" x=\"67\" y=\"-196.8\" font-family=\"Helvetica,sans-Serif\" font-size=\"14.00\">value = [1, 14]</text>\r\n",
       "</g>\r\n",
       "<!-- 3&#45;&gt;4 -->\r\n",
       "<g id=\"edge4\" class=\"edge\"><title>3&#45;&gt;4</title>\r\n",
       "<path fill=\"none\" stroke=\"black\" d=\"M192.848,-288.992C181.561,-279.698 169.057,-269.4 157.306,-259.723\"/>\r\n",
       "<polygon fill=\"black\" stroke=\"black\" points=\"159.26,-256.798 149.316,-253.142 154.81,-262.201 159.26,-256.798\"/>\r\n",
       "</g>\r\n",
       "<!-- 7 -->\r\n",
       "<g id=\"node8\" class=\"node\"><title>7</title>\r\n",
       "<path fill=\"#f8e0ce\" stroke=\"black\" d=\"M267,-247.5C267,-247.5 194,-247.5 194,-247.5 188,-247.5 182,-241.5 182,-235.5 182,-235.5 182,-206.5 182,-206.5 182,-200.5 188,-194.5 194,-194.5 194,-194.5 267,-194.5 267,-194.5 273,-194.5 279,-200.5 279,-206.5 279,-206.5 279,-235.5 279,-235.5 279,-241.5 273,-247.5 267,-247.5\"/>\r\n",
       "<text text-anchor=\"start\" x=\"197\" y=\"-232.3\" font-family=\"Helvetica,sans-Serif\" font-size=\"14.00\">gini = 0.49</text>\r\n",
       "<text text-anchor=\"start\" x=\"191\" y=\"-217.3\" font-family=\"Helvetica,sans-Serif\" font-size=\"14.00\">samples = 7</text>\r\n",
       "<text text-anchor=\"start\" x=\"190\" y=\"-202.3\" font-family=\"Helvetica,sans-Serif\" font-size=\"14.00\">value = [4, 3]</text>\r\n",
       "</g>\r\n",
       "<!-- 3&#45;&gt;7 -->\r\n",
       "<g id=\"edge7\" class=\"edge\"><title>3&#45;&gt;7</title>\r\n",
       "<path fill=\"none\" stroke=\"black\" d=\"M230.5,-288.992C230.5,-279.087 230.5,-268.042 230.5,-257.824\"/>\r\n",
       "<polygon fill=\"black\" stroke=\"black\" points=\"234,-257.556 230.5,-247.556 227,-257.556 234,-257.556\"/>\r\n",
       "</g>\r\n",
       "<!-- 5 -->\r\n",
       "<g id=\"node6\" class=\"node\"><title>5</title>\r\n",
       "<path fill=\"#399de5\" stroke=\"black\" d=\"M93,-147.5C93,-147.5 12,-147.5 12,-147.5 6,-147.5 0,-141.5 0,-135.5 0,-135.5 0,-106.5 0,-106.5 0,-100.5 6,-94.5 12,-94.5 12,-94.5 93,-94.5 93,-94.5 99,-94.5 105,-100.5 105,-106.5 105,-106.5 105,-135.5 105,-135.5 105,-141.5 99,-147.5 93,-147.5\"/>\r\n",
       "<text text-anchor=\"start\" x=\"23.5\" y=\"-132.3\" font-family=\"Helvetica,sans-Serif\" font-size=\"14.00\">gini = 0.0</text>\r\n",
       "<text text-anchor=\"start\" x=\"9\" y=\"-117.3\" font-family=\"Helvetica,sans-Serif\" font-size=\"14.00\">samples = 11</text>\r\n",
       "<text text-anchor=\"start\" x=\"8\" y=\"-102.3\" font-family=\"Helvetica,sans-Serif\" font-size=\"14.00\">value = [0, 11]</text>\r\n",
       "</g>\r\n",
       "<!-- 4&#45;&gt;5 -->\r\n",
       "<g id=\"edge5\" class=\"edge\"><title>4&#45;&gt;5</title>\r\n",
       "<path fill=\"none\" stroke=\"black\" d=\"M92.832,-188.992C86.5548,-178.566 79.5176,-166.877 73.1004,-156.218\"/>\r\n",
       "<polygon fill=\"black\" stroke=\"black\" points=\"76.0424,-154.318 67.886,-147.556 70.0453,-157.929 76.0424,-154.318\"/>\r\n",
       "</g>\r\n",
       "<!-- 6 -->\r\n",
       "<g id=\"node7\" class=\"node\"><title>6</title>\r\n",
       "<path fill=\"#7bbeee\" stroke=\"black\" d=\"M208,-147.5C208,-147.5 135,-147.5 135,-147.5 129,-147.5 123,-141.5 123,-135.5 123,-135.5 123,-106.5 123,-106.5 123,-100.5 129,-94.5 135,-94.5 135,-94.5 208,-94.5 208,-94.5 214,-94.5 220,-100.5 220,-106.5 220,-106.5 220,-135.5 220,-135.5 220,-141.5 214,-147.5 208,-147.5\"/>\r\n",
       "<text text-anchor=\"start\" x=\"134\" y=\"-132.3\" font-family=\"Helvetica,sans-Serif\" font-size=\"14.00\">gini = 0.375</text>\r\n",
       "<text text-anchor=\"start\" x=\"132\" y=\"-117.3\" font-family=\"Helvetica,sans-Serif\" font-size=\"14.00\">samples = 4</text>\r\n",
       "<text text-anchor=\"start\" x=\"131\" y=\"-102.3\" font-family=\"Helvetica,sans-Serif\" font-size=\"14.00\">value = [1, 3]</text>\r\n",
       "</g>\r\n",
       "<!-- 4&#45;&gt;6 -->\r\n",
       "<g id=\"edge6\" class=\"edge\"><title>4&#45;&gt;6</title>\r\n",
       "<path fill=\"none\" stroke=\"black\" d=\"M130.484,-188.992C136.868,-178.566 144.024,-166.877 150.55,-156.218\"/>\r\n",
       "<polygon fill=\"black\" stroke=\"black\" points=\"153.617,-157.912 155.853,-147.556 147.647,-154.257 153.617,-157.912\"/>\r\n",
       "</g>\r\n",
       "<!-- 9 -->\r\n",
       "<g id=\"node10\" class=\"node\"><title>9</title>\r\n",
       "<path fill=\"#ffffff\" stroke=\"black\" d=\"M382,-247.5C382,-247.5 309,-247.5 309,-247.5 303,-247.5 297,-241.5 297,-235.5 297,-235.5 297,-206.5 297,-206.5 297,-200.5 303,-194.5 309,-194.5 309,-194.5 382,-194.5 382,-194.5 388,-194.5 394,-200.5 394,-206.5 394,-206.5 394,-235.5 394,-235.5 394,-241.5 388,-247.5 382,-247.5\"/>\r\n",
       "<text text-anchor=\"start\" x=\"316.5\" y=\"-232.3\" font-family=\"Helvetica,sans-Serif\" font-size=\"14.00\">gini = 0.5</text>\r\n",
       "<text text-anchor=\"start\" x=\"306\" y=\"-217.3\" font-family=\"Helvetica,sans-Serif\" font-size=\"14.00\">samples = 6</text>\r\n",
       "<text text-anchor=\"start\" x=\"305\" y=\"-202.3\" font-family=\"Helvetica,sans-Serif\" font-size=\"14.00\">value = [3, 3]</text>\r\n",
       "</g>\r\n",
       "<!-- 8&#45;&gt;9 -->\r\n",
       "<g id=\"edge9\" class=\"edge\"><title>8&#45;&gt;9</title>\r\n",
       "<path fill=\"none\" stroke=\"black\" d=\"M389.25,-288.992C382.441,-278.566 374.807,-266.877 367.846,-256.218\"/>\r\n",
       "<polygon fill=\"black\" stroke=\"black\" points=\"370.588,-254.015 362.19,-247.556 364.727,-257.843 370.588,-254.015\"/>\r\n",
       "</g>\r\n",
       "<!-- 10 -->\r\n",
       "<g id=\"node11\" class=\"node\"><title>10</title>\r\n",
       "<path fill=\"#e58139\" stroke=\"black\" d=\"M505,-247.5C505,-247.5 424,-247.5 424,-247.5 418,-247.5 412,-241.5 412,-235.5 412,-235.5 412,-206.5 412,-206.5 412,-200.5 418,-194.5 424,-194.5 424,-194.5 505,-194.5 505,-194.5 511,-194.5 517,-200.5 517,-206.5 517,-206.5 517,-235.5 517,-235.5 517,-241.5 511,-247.5 505,-247.5\"/>\r\n",
       "<text text-anchor=\"start\" x=\"435.5\" y=\"-232.3\" font-family=\"Helvetica,sans-Serif\" font-size=\"14.00\">gini = 0.0</text>\r\n",
       "<text text-anchor=\"start\" x=\"421\" y=\"-217.3\" font-family=\"Helvetica,sans-Serif\" font-size=\"14.00\">samples = 14</text>\r\n",
       "<text text-anchor=\"start\" x=\"420\" y=\"-202.3\" font-family=\"Helvetica,sans-Serif\" font-size=\"14.00\">value = [14, 0]</text>\r\n",
       "</g>\r\n",
       "<!-- 8&#45;&gt;10 -->\r\n",
       "<g id=\"edge10\" class=\"edge\"><title>8&#45;&gt;10</title>\r\n",
       "<path fill=\"none\" stroke=\"black\" d=\"M426.902,-288.992C432.696,-278.67 439.183,-267.11 445.117,-256.538\"/>\r\n",
       "<polygon fill=\"black\" stroke=\"black\" points=\"448.315,-257.99 450.157,-247.556 442.211,-254.564 448.315,-257.99\"/>\r\n",
       "</g>\r\n",
       "<!-- 12 -->\r\n",
       "<g id=\"node13\" class=\"node\"><title>12</title>\r\n",
       "<path fill=\"#ffffff\" stroke=\"black\" d=\"M622,-347.5C622,-347.5 549,-347.5 549,-347.5 543,-347.5 537,-341.5 537,-335.5 537,-335.5 537,-306.5 537,-306.5 537,-300.5 543,-294.5 549,-294.5 549,-294.5 622,-294.5 622,-294.5 628,-294.5 634,-300.5 634,-306.5 634,-306.5 634,-335.5 634,-335.5 634,-341.5 628,-347.5 622,-347.5\"/>\r\n",
       "<text text-anchor=\"start\" x=\"556.5\" y=\"-332.3\" font-family=\"Helvetica,sans-Serif\" font-size=\"14.00\">gini = 0.5</text>\r\n",
       "<text text-anchor=\"start\" x=\"546\" y=\"-317.3\" font-family=\"Helvetica,sans-Serif\" font-size=\"14.00\">samples = 4</text>\r\n",
       "<text text-anchor=\"start\" x=\"545\" y=\"-302.3\" font-family=\"Helvetica,sans-Serif\" font-size=\"14.00\">value = [2, 2]</text>\r\n",
       "</g>\r\n",
       "<!-- 11&#45;&gt;12 -->\r\n",
       "<g id=\"edge12\" class=\"edge\"><title>11&#45;&gt;12</title>\r\n",
       "<path fill=\"none\" stroke=\"black\" d=\"M628.566,-388.992C621.864,-378.566 614.349,-366.877 607.497,-356.218\"/>\r\n",
       "<polygon fill=\"black\" stroke=\"black\" points=\"610.281,-354.076 601.929,-347.556 604.393,-357.861 610.281,-354.076\"/>\r\n",
       "</g>\r\n",
       "<!-- 13 -->\r\n",
       "<g id=\"node14\" class=\"node\"><title>13</title>\r\n",
       "<path fill=\"#e5833c\" stroke=\"black\" d=\"M745,-353C745,-353 664,-353 664,-353 658,-353 652,-347 652,-341 652,-341 652,-301 652,-301 652,-295 658,-289 664,-289 664,-289 745,-289 745,-289 751,-289 757,-295 757,-301 757,-301 757,-341 757,-341 757,-347 751,-353 745,-353\"/>\r\n",
       "<text text-anchor=\"start\" x=\"670\" y=\"-338.8\" font-family=\"Helvetica,sans-Serif\" font-size=\"14.00\">X</text>\r\n",
       "<text text-anchor=\"start\" x=\"680\" y=\"-338.8\" font-family=\"Helvetica,sans-Serif\" baseline-shift=\"sub\" font-size=\"14.00\">4</text>\r\n",
       "<text text-anchor=\"start\" x=\"687\" y=\"-338.8\" font-family=\"Helvetica,sans-Serif\" font-size=\"14.00\"> ≤ 0.401</text>\r\n",
       "<text text-anchor=\"start\" x=\"667\" y=\"-324.8\" font-family=\"Helvetica,sans-Serif\" font-size=\"14.00\">gini = 0.032</text>\r\n",
       "<text text-anchor=\"start\" x=\"661\" y=\"-310.8\" font-family=\"Helvetica,sans-Serif\" font-size=\"14.00\">samples = 61</text>\r\n",
       "<text text-anchor=\"start\" x=\"660\" y=\"-296.8\" font-family=\"Helvetica,sans-Serif\" font-size=\"14.00\">value = [60, 1]</text>\r\n",
       "</g>\r\n",
       "<!-- 11&#45;&gt;13 -->\r\n",
       "<g id=\"edge13\" class=\"edge\"><title>11&#45;&gt;13</title>\r\n",
       "<path fill=\"none\" stroke=\"black\" d=\"M666.219,-388.992C671.121,-380.413 676.512,-370.978 681.662,-361.966\"/>\r\n",
       "<polygon fill=\"black\" stroke=\"black\" points=\"684.782,-363.561 686.704,-353.142 678.704,-360.088 684.782,-363.561\"/>\r\n",
       "</g>\r\n",
       "<!-- 14 -->\r\n",
       "<g id=\"node15\" class=\"node\"><title>14</title>\r\n",
       "<path fill=\"#e58139\" stroke=\"black\" d=\"M628,-247.5C628,-247.5 547,-247.5 547,-247.5 541,-247.5 535,-241.5 535,-235.5 535,-235.5 535,-206.5 535,-206.5 535,-200.5 541,-194.5 547,-194.5 547,-194.5 628,-194.5 628,-194.5 634,-194.5 640,-200.5 640,-206.5 640,-206.5 640,-235.5 640,-235.5 640,-241.5 634,-247.5 628,-247.5\"/>\r\n",
       "<text text-anchor=\"start\" x=\"558.5\" y=\"-232.3\" font-family=\"Helvetica,sans-Serif\" font-size=\"14.00\">gini = 0.0</text>\r\n",
       "<text text-anchor=\"start\" x=\"544\" y=\"-217.3\" font-family=\"Helvetica,sans-Serif\" font-size=\"14.00\">samples = 52</text>\r\n",
       "<text text-anchor=\"start\" x=\"543\" y=\"-202.3\" font-family=\"Helvetica,sans-Serif\" font-size=\"14.00\">value = [52, 0]</text>\r\n",
       "</g>\r\n",
       "<!-- 13&#45;&gt;14 -->\r\n",
       "<g id=\"edge14\" class=\"edge\"><title>13&#45;&gt;14</title>\r\n",
       "<path fill=\"none\" stroke=\"black\" d=\"M667.48,-288.992C654.161,-277.836 639.116,-265.234 625.698,-253.995\"/>\r\n",
       "<polygon fill=\"black\" stroke=\"black\" points=\"627.925,-251.294 618.011,-247.556 623.43,-256.661 627.925,-251.294\"/>\r\n",
       "</g>\r\n",
       "<!-- 15 -->\r\n",
       "<g id=\"node16\" class=\"node\"><title>15</title>\r\n",
       "<path fill=\"#e89152\" stroke=\"black\" d=\"M743,-253C743,-253 670,-253 670,-253 664,-253 658,-247 658,-241 658,-241 658,-201 658,-201 658,-195 664,-189 670,-189 670,-189 743,-189 743,-189 749,-189 755,-195 755,-201 755,-201 755,-241 755,-241 755,-247 749,-253 743,-253\"/>\r\n",
       "<text text-anchor=\"start\" x=\"668.5\" y=\"-238.8\" font-family=\"Helvetica,sans-Serif\" font-size=\"14.00\">X</text>\r\n",
       "<text text-anchor=\"start\" x=\"678.5\" y=\"-238.8\" font-family=\"Helvetica,sans-Serif\" baseline-shift=\"sub\" font-size=\"14.00\">11</text>\r\n",
       "<text text-anchor=\"start\" x=\"692.5\" y=\"-238.8\" font-family=\"Helvetica,sans-Serif\" font-size=\"14.00\"> ≤ 0.375</text>\r\n",
       "<text text-anchor=\"start\" x=\"669\" y=\"-224.8\" font-family=\"Helvetica,sans-Serif\" font-size=\"14.00\">gini = 0.198</text>\r\n",
       "<text text-anchor=\"start\" x=\"667\" y=\"-210.8\" font-family=\"Helvetica,sans-Serif\" font-size=\"14.00\">samples = 9</text>\r\n",
       "<text text-anchor=\"start\" x=\"666\" y=\"-196.8\" font-family=\"Helvetica,sans-Serif\" font-size=\"14.00\">value = [8, 1]</text>\r\n",
       "</g>\r\n",
       "<!-- 13&#45;&gt;15 -->\r\n",
       "<g id=\"edge15\" class=\"edge\"><title>13&#45;&gt;15</title>\r\n",
       "<path fill=\"none\" stroke=\"black\" d=\"M705.133,-288.992C705.299,-280.859 705.48,-271.959 705.656,-263.378\"/>\r\n",
       "<polygon fill=\"black\" stroke=\"black\" points=\"709.16,-263.212 705.864,-253.142 702.161,-263.069 709.16,-263.212\"/>\r\n",
       "</g>\r\n",
       "<!-- 16 -->\r\n",
       "<g id=\"node17\" class=\"node\"><title>16</title>\r\n",
       "<path fill=\"#e58139\" stroke=\"black\" d=\"M685,-147.5C685,-147.5 612,-147.5 612,-147.5 606,-147.5 600,-141.5 600,-135.5 600,-135.5 600,-106.5 600,-106.5 600,-100.5 606,-94.5 612,-94.5 612,-94.5 685,-94.5 685,-94.5 691,-94.5 697,-100.5 697,-106.5 697,-106.5 697,-135.5 697,-135.5 697,-141.5 691,-147.5 685,-147.5\"/>\r\n",
       "<text text-anchor=\"start\" x=\"619.5\" y=\"-132.3\" font-family=\"Helvetica,sans-Serif\" font-size=\"14.00\">gini = 0.0</text>\r\n",
       "<text text-anchor=\"start\" x=\"609\" y=\"-117.3\" font-family=\"Helvetica,sans-Serif\" font-size=\"14.00\">samples = 5</text>\r\n",
       "<text text-anchor=\"start\" x=\"608\" y=\"-102.3\" font-family=\"Helvetica,sans-Serif\" font-size=\"14.00\">value = [5, 0]</text>\r\n",
       "</g>\r\n",
       "<!-- 15&#45;&gt;16 -->\r\n",
       "<g id=\"edge16\" class=\"edge\"><title>15&#45;&gt;16</title>\r\n",
       "<path fill=\"none\" stroke=\"black\" d=\"M688.148,-188.992C681.978,-178.566 675.06,-166.877 668.751,-156.218\"/>\r\n",
       "<polygon fill=\"black\" stroke=\"black\" points=\"671.731,-154.38 663.625,-147.556 665.706,-157.945 671.731,-154.38\"/>\r\n",
       "</g>\r\n",
       "<!-- 17 -->\r\n",
       "<g id=\"node18\" class=\"node\"><title>17</title>\r\n",
       "<path fill=\"#eeab7b\" stroke=\"black\" d=\"M800,-147.5C800,-147.5 727,-147.5 727,-147.5 721,-147.5 715,-141.5 715,-135.5 715,-135.5 715,-106.5 715,-106.5 715,-100.5 721,-94.5 727,-94.5 727,-94.5 800,-94.5 800,-94.5 806,-94.5 812,-100.5 812,-106.5 812,-106.5 812,-135.5 812,-135.5 812,-141.5 806,-147.5 800,-147.5\"/>\r\n",
       "<text text-anchor=\"start\" x=\"726\" y=\"-132.3\" font-family=\"Helvetica,sans-Serif\" font-size=\"14.00\">gini = 0.375</text>\r\n",
       "<text text-anchor=\"start\" x=\"724\" y=\"-117.3\" font-family=\"Helvetica,sans-Serif\" font-size=\"14.00\">samples = 4</text>\r\n",
       "<text text-anchor=\"start\" x=\"723\" y=\"-102.3\" font-family=\"Helvetica,sans-Serif\" font-size=\"14.00\">value = [3, 1]</text>\r\n",
       "</g>\r\n",
       "<!-- 15&#45;&gt;17 -->\r\n",
       "<g id=\"edge17\" class=\"edge\"><title>15&#45;&gt;17</title>\r\n",
       "<path fill=\"none\" stroke=\"black\" d=\"M724.535,-188.992C730.6,-178.566 737.398,-166.877 743.598,-156.218\"/>\r\n",
       "<polygon fill=\"black\" stroke=\"black\" points=\"746.633,-157.96 748.636,-147.556 740.582,-154.441 746.633,-157.96\"/>\r\n",
       "</g>\r\n",
       "<!-- 19 -->\r\n",
       "<g id=\"node20\" class=\"node\"><title>19</title>\r\n",
       "<path fill=\"#52a9e8\" stroke=\"black\" d=\"M1036,-453C1036,-453 955,-453 955,-453 949,-453 943,-447 943,-441 943,-441 943,-401 943,-401 943,-395 949,-389 955,-389 955,-389 1036,-389 1036,-389 1042,-389 1048,-395 1048,-401 1048,-401 1048,-441 1048,-441 1048,-447 1042,-453 1036,-453\"/>\r\n",
       "<text text-anchor=\"start\" x=\"961\" y=\"-438.8\" font-family=\"Helvetica,sans-Serif\" font-size=\"14.00\">X</text>\r\n",
       "<text text-anchor=\"start\" x=\"971\" y=\"-438.8\" font-family=\"Helvetica,sans-Serif\" baseline-shift=\"sub\" font-size=\"14.00\">7</text>\r\n",
       "<text text-anchor=\"start\" x=\"978\" y=\"-438.8\" font-family=\"Helvetica,sans-Serif\" font-size=\"14.00\"> ≤ 0.531</text>\r\n",
       "<text text-anchor=\"start\" x=\"958\" y=\"-424.8\" font-family=\"Helvetica,sans-Serif\" font-size=\"14.00\">gini = 0.198</text>\r\n",
       "<text text-anchor=\"start\" x=\"952\" y=\"-410.8\" font-family=\"Helvetica,sans-Serif\" font-size=\"14.00\">samples = 63</text>\r\n",
       "<text text-anchor=\"start\" x=\"951\" y=\"-396.8\" font-family=\"Helvetica,sans-Serif\" font-size=\"14.00\">value = [7, 56]</text>\r\n",
       "</g>\r\n",
       "<!-- 18&#45;&gt;19 -->\r\n",
       "<g id=\"edge19\" class=\"edge\"><title>18&#45;&gt;19</title>\r\n",
       "<path fill=\"none\" stroke=\"black\" d=\"M995.5,-488.992C995.5,-480.859 995.5,-471.959 995.5,-463.378\"/>\r\n",
       "<polygon fill=\"black\" stroke=\"black\" points=\"999,-463.142 995.5,-453.142 992,-463.142 999,-463.142\"/>\r\n",
       "</g>\r\n",
       "<!-- 28 -->\r\n",
       "<g id=\"node29\" class=\"node\"><title>28</title>\r\n",
       "<path fill=\"#daedfa\" stroke=\"black\" d=\"M1397,-453C1397,-453 1308,-453 1308,-453 1302,-453 1296,-447 1296,-441 1296,-441 1296,-401 1296,-401 1296,-395 1302,-389 1308,-389 1308,-389 1397,-389 1397,-389 1403,-389 1409,-395 1409,-401 1409,-401 1409,-441 1409,-441 1409,-447 1403,-453 1397,-453\"/>\r\n",
       "<text text-anchor=\"start\" x=\"1326\" y=\"-438.8\" font-family=\"Helvetica,sans-Serif\" font-size=\"14.00\">X</text>\r\n",
       "<text text-anchor=\"start\" x=\"1336\" y=\"-438.8\" font-family=\"Helvetica,sans-Serif\" baseline-shift=\"sub\" font-size=\"14.00\">1</text>\r\n",
       "<text text-anchor=\"start\" x=\"1343\" y=\"-438.8\" font-family=\"Helvetica,sans-Serif\" font-size=\"14.00\"> ≤ 0.5</text>\r\n",
       "<text text-anchor=\"start\" x=\"1315\" y=\"-424.8\" font-family=\"Helvetica,sans-Serif\" font-size=\"14.00\">gini = 0.495</text>\r\n",
       "<text text-anchor=\"start\" x=\"1309\" y=\"-410.8\" font-family=\"Helvetica,sans-Serif\" font-size=\"14.00\">samples = 49</text>\r\n",
       "<text text-anchor=\"start\" x=\"1304\" y=\"-396.8\" font-family=\"Helvetica,sans-Serif\" font-size=\"14.00\">value = [22, 27]</text>\r\n",
       "</g>\r\n",
       "<!-- 18&#45;&gt;28 -->\r\n",
       "<g id=\"edge28\" class=\"edge\"><title>18&#45;&gt;28</title>\r\n",
       "<path fill=\"none\" stroke=\"black\" d=\"M1052.07,-504.472C1115.69,-487.007 1218.89,-458.676 1286.24,-440.19\"/>\r\n",
       "<polygon fill=\"black\" stroke=\"black\" points=\"1287.19,-443.559 1295.9,-437.537 1285.33,-436.809 1287.19,-443.559\"/>\r\n",
       "</g>\r\n",
       "<!-- 20 -->\r\n",
       "<g id=\"node21\" class=\"node\"><title>20</title>\r\n",
       "<path fill=\"#fae6d7\" stroke=\"black\" d=\"M973,-353C973,-353 900,-353 900,-353 894,-353 888,-347 888,-341 888,-341 888,-301 888,-301 888,-295 894,-289 900,-289 900,-289 973,-289 973,-289 979,-289 985,-295 985,-301 985,-301 985,-341 985,-341 985,-347 979,-353 973,-353\"/>\r\n",
       "<text text-anchor=\"start\" x=\"906.5\" y=\"-338.8\" font-family=\"Helvetica,sans-Serif\" font-size=\"14.00\">X</text>\r\n",
       "<text text-anchor=\"start\" x=\"916.5\" y=\"-338.8\" font-family=\"Helvetica,sans-Serif\" baseline-shift=\"sub\" font-size=\"14.00\">11</text>\r\n",
       "<text text-anchor=\"start\" x=\"930.5\" y=\"-338.8\" font-family=\"Helvetica,sans-Serif\" font-size=\"14.00\"> ≤ 0.5</text>\r\n",
       "<text text-anchor=\"start\" x=\"899\" y=\"-324.8\" font-family=\"Helvetica,sans-Serif\" font-size=\"14.00\">gini = 0.494</text>\r\n",
       "<text text-anchor=\"start\" x=\"897\" y=\"-310.8\" font-family=\"Helvetica,sans-Serif\" font-size=\"14.00\">samples = 9</text>\r\n",
       "<text text-anchor=\"start\" x=\"896\" y=\"-296.8\" font-family=\"Helvetica,sans-Serif\" font-size=\"14.00\">value = [5, 4]</text>\r\n",
       "</g>\r\n",
       "<!-- 19&#45;&gt;20 -->\r\n",
       "<g id=\"edge20\" class=\"edge\"><title>19&#45;&gt;20</title>\r\n",
       "<path fill=\"none\" stroke=\"black\" d=\"M976.832,-388.992C971.667,-380.413 965.987,-370.978 960.561,-361.966\"/>\r\n",
       "<polygon fill=\"black\" stroke=\"black\" points=\"963.405,-359.904 955.249,-353.142 957.408,-363.515 963.405,-359.904\"/>\r\n",
       "</g>\r\n",
       "<!-- 23 -->\r\n",
       "<g id=\"node24\" class=\"node\"><title>23</title>\r\n",
       "<path fill=\"#41a1e6\" stroke=\"black\" d=\"M1096,-353C1096,-353 1015,-353 1015,-353 1009,-353 1003,-347 1003,-341 1003,-341 1003,-301 1003,-301 1003,-295 1009,-289 1015,-289 1015,-289 1096,-289 1096,-289 1102,-289 1108,-295 1108,-301 1108,-301 1108,-341 1108,-341 1108,-347 1102,-353 1096,-353\"/>\r\n",
       "<text text-anchor=\"start\" x=\"1025\" y=\"-338.8\" font-family=\"Helvetica,sans-Serif\" font-size=\"14.00\">X</text>\r\n",
       "<text text-anchor=\"start\" x=\"1035\" y=\"-338.8\" font-family=\"Helvetica,sans-Serif\" baseline-shift=\"sub\" font-size=\"14.00\">7</text>\r\n",
       "<text text-anchor=\"start\" x=\"1042\" y=\"-338.8\" font-family=\"Helvetica,sans-Serif\" font-size=\"14.00\"> ≤ 0.84</text>\r\n",
       "<text text-anchor=\"start\" x=\"1018\" y=\"-324.8\" font-family=\"Helvetica,sans-Serif\" font-size=\"14.00\">gini = 0.071</text>\r\n",
       "<text text-anchor=\"start\" x=\"1012\" y=\"-310.8\" font-family=\"Helvetica,sans-Serif\" font-size=\"14.00\">samples = 54</text>\r\n",
       "<text text-anchor=\"start\" x=\"1011\" y=\"-296.8\" font-family=\"Helvetica,sans-Serif\" font-size=\"14.00\">value = [2, 52]</text>\r\n",
       "</g>\r\n",
       "<!-- 19&#45;&gt;23 -->\r\n",
       "<g id=\"edge23\" class=\"edge\"><title>19&#45;&gt;23</title>\r\n",
       "<path fill=\"none\" stroke=\"black\" d=\"M1014.48,-388.992C1019.79,-380.323 1025.63,-370.782 1031.2,-361.685\"/>\r\n",
       "<polygon fill=\"black\" stroke=\"black\" points=\"1034.2,-363.499 1036.43,-353.142 1028.23,-359.843 1034.2,-363.499\"/>\r\n",
       "</g>\r\n",
       "<!-- 21 -->\r\n",
       "<g id=\"node22\" class=\"node\"><title>21</title>\r\n",
       "<path fill=\"#6ab6ec\" stroke=\"black\" d=\"M858,-247.5C858,-247.5 785,-247.5 785,-247.5 779,-247.5 773,-241.5 773,-235.5 773,-235.5 773,-206.5 773,-206.5 773,-200.5 779,-194.5 785,-194.5 785,-194.5 858,-194.5 858,-194.5 864,-194.5 870,-200.5 870,-206.5 870,-206.5 870,-235.5 870,-235.5 870,-241.5 864,-247.5 858,-247.5\"/>\r\n",
       "<text text-anchor=\"start\" x=\"788\" y=\"-232.3\" font-family=\"Helvetica,sans-Serif\" font-size=\"14.00\">gini = 0.32</text>\r\n",
       "<text text-anchor=\"start\" x=\"782\" y=\"-217.3\" font-family=\"Helvetica,sans-Serif\" font-size=\"14.00\">samples = 5</text>\r\n",
       "<text text-anchor=\"start\" x=\"781\" y=\"-202.3\" font-family=\"Helvetica,sans-Serif\" font-size=\"14.00\">value = [1, 4]</text>\r\n",
       "</g>\r\n",
       "<!-- 20&#45;&gt;21 -->\r\n",
       "<g id=\"edge21\" class=\"edge\"><title>20&#45;&gt;21</title>\r\n",
       "<path fill=\"none\" stroke=\"black\" d=\"M900.113,-288.992C887.144,-277.94 872.51,-265.47 859.415,-254.311\"/>\r\n",
       "<polygon fill=\"black\" stroke=\"black\" points=\"861.371,-251.379 851.49,-247.556 856.831,-256.706 861.371,-251.379\"/>\r\n",
       "</g>\r\n",
       "<!-- 22 -->\r\n",
       "<g id=\"node23\" class=\"node\"><title>22</title>\r\n",
       "<path fill=\"#e58139\" stroke=\"black\" d=\"M973,-247.5C973,-247.5 900,-247.5 900,-247.5 894,-247.5 888,-241.5 888,-235.5 888,-235.5 888,-206.5 888,-206.5 888,-200.5 894,-194.5 900,-194.5 900,-194.5 973,-194.5 973,-194.5 979,-194.5 985,-200.5 985,-206.5 985,-206.5 985,-235.5 985,-235.5 985,-241.5 979,-247.5 973,-247.5\"/>\r\n",
       "<text text-anchor=\"start\" x=\"907.5\" y=\"-232.3\" font-family=\"Helvetica,sans-Serif\" font-size=\"14.00\">gini = 0.0</text>\r\n",
       "<text text-anchor=\"start\" x=\"897\" y=\"-217.3\" font-family=\"Helvetica,sans-Serif\" font-size=\"14.00\">samples = 4</text>\r\n",
       "<text text-anchor=\"start\" x=\"896\" y=\"-202.3\" font-family=\"Helvetica,sans-Serif\" font-size=\"14.00\">value = [4, 0]</text>\r\n",
       "</g>\r\n",
       "<!-- 20&#45;&gt;22 -->\r\n",
       "<g id=\"edge22\" class=\"edge\"><title>20&#45;&gt;22</title>\r\n",
       "<path fill=\"none\" stroke=\"black\" d=\"M936.5,-288.992C936.5,-279.087 936.5,-268.042 936.5,-257.824\"/>\r\n",
       "<polygon fill=\"black\" stroke=\"black\" points=\"940,-257.556 936.5,-247.556 933,-257.556 940,-257.556\"/>\r\n",
       "</g>\r\n",
       "<!-- 24 -->\r\n",
       "<g id=\"node25\" class=\"node\"><title>24</title>\r\n",
       "<path fill=\"#399de5\" stroke=\"black\" d=\"M1096,-247.5C1096,-247.5 1015,-247.5 1015,-247.5 1009,-247.5 1003,-241.5 1003,-235.5 1003,-235.5 1003,-206.5 1003,-206.5 1003,-200.5 1009,-194.5 1015,-194.5 1015,-194.5 1096,-194.5 1096,-194.5 1102,-194.5 1108,-200.5 1108,-206.5 1108,-206.5 1108,-235.5 1108,-235.5 1108,-241.5 1102,-247.5 1096,-247.5\"/>\r\n",
       "<text text-anchor=\"start\" x=\"1026.5\" y=\"-232.3\" font-family=\"Helvetica,sans-Serif\" font-size=\"14.00\">gini = 0.0</text>\r\n",
       "<text text-anchor=\"start\" x=\"1012\" y=\"-217.3\" font-family=\"Helvetica,sans-Serif\" font-size=\"14.00\">samples = 44</text>\r\n",
       "<text text-anchor=\"start\" x=\"1011\" y=\"-202.3\" font-family=\"Helvetica,sans-Serif\" font-size=\"14.00\">value = [0, 44]</text>\r\n",
       "</g>\r\n",
       "<!-- 23&#45;&gt;24 -->\r\n",
       "<g id=\"edge24\" class=\"edge\"><title>23&#45;&gt;24</title>\r\n",
       "<path fill=\"none\" stroke=\"black\" d=\"M1055.5,-288.992C1055.5,-279.087 1055.5,-268.042 1055.5,-257.824\"/>\r\n",
       "<polygon fill=\"black\" stroke=\"black\" points=\"1059,-257.556 1055.5,-247.556 1052,-257.556 1059,-257.556\"/>\r\n",
       "</g>\r\n",
       "<!-- 25 -->\r\n",
       "<g id=\"node26\" class=\"node\"><title>25</title>\r\n",
       "<path fill=\"#6ab6ec\" stroke=\"black\" d=\"M1217,-253C1217,-253 1138,-253 1138,-253 1132,-253 1126,-247 1126,-241 1126,-241 1126,-201 1126,-201 1126,-195 1132,-189 1138,-189 1138,-189 1217,-189 1217,-189 1223,-189 1229,-195 1229,-201 1229,-201 1229,-241 1229,-241 1229,-247 1223,-253 1217,-253\"/>\r\n",
       "<text text-anchor=\"start\" x=\"1143\" y=\"-238.8\" font-family=\"Helvetica,sans-Serif\" font-size=\"14.00\">X</text>\r\n",
       "<text text-anchor=\"start\" x=\"1153\" y=\"-238.8\" font-family=\"Helvetica,sans-Serif\" baseline-shift=\"sub\" font-size=\"14.00\">4</text>\r\n",
       "<text text-anchor=\"start\" x=\"1160\" y=\"-238.8\" font-family=\"Helvetica,sans-Serif\" font-size=\"14.00\"> ≤ 0.226</text>\r\n",
       "<text text-anchor=\"start\" x=\"1144\" y=\"-224.8\" font-family=\"Helvetica,sans-Serif\" font-size=\"14.00\">gini = 0.32</text>\r\n",
       "<text text-anchor=\"start\" x=\"1134\" y=\"-210.8\" font-family=\"Helvetica,sans-Serif\" font-size=\"14.00\">samples = 10</text>\r\n",
       "<text text-anchor=\"start\" x=\"1137\" y=\"-196.8\" font-family=\"Helvetica,sans-Serif\" font-size=\"14.00\">value = [2, 8]</text>\r\n",
       "</g>\r\n",
       "<!-- 23&#45;&gt;25 -->\r\n",
       "<g id=\"edge25\" class=\"edge\"><title>23&#45;&gt;25</title>\r\n",
       "<path fill=\"none\" stroke=\"black\" d=\"M1094.1,-288.992C1105.78,-279.608 1118.74,-269.202 1130.89,-259.444\"/>\r\n",
       "<polygon fill=\"black\" stroke=\"black\" points=\"1133.13,-262.134 1138.73,-253.142 1128.74,-256.676 1133.13,-262.134\"/>\r\n",
       "</g>\r\n",
       "<!-- 26 -->\r\n",
       "<g id=\"node27\" class=\"node\"><title>26</title>\r\n",
       "<path fill=\"#399de5\" stroke=\"black\" d=\"M1156,-147.5C1156,-147.5 1083,-147.5 1083,-147.5 1077,-147.5 1071,-141.5 1071,-135.5 1071,-135.5 1071,-106.5 1071,-106.5 1071,-100.5 1077,-94.5 1083,-94.5 1083,-94.5 1156,-94.5 1156,-94.5 1162,-94.5 1168,-100.5 1168,-106.5 1168,-106.5 1168,-135.5 1168,-135.5 1168,-141.5 1162,-147.5 1156,-147.5\"/>\r\n",
       "<text text-anchor=\"start\" x=\"1090.5\" y=\"-132.3\" font-family=\"Helvetica,sans-Serif\" font-size=\"14.00\">gini = 0.0</text>\r\n",
       "<text text-anchor=\"start\" x=\"1080\" y=\"-117.3\" font-family=\"Helvetica,sans-Serif\" font-size=\"14.00\">samples = 5</text>\r\n",
       "<text text-anchor=\"start\" x=\"1079\" y=\"-102.3\" font-family=\"Helvetica,sans-Serif\" font-size=\"14.00\">value = [0, 5]</text>\r\n",
       "</g>\r\n",
       "<!-- 25&#45;&gt;26 -->\r\n",
       "<g id=\"edge26\" class=\"edge\"><title>25&#45;&gt;26</title>\r\n",
       "<path fill=\"none\" stroke=\"black\" d=\"M1159.15,-188.992C1152.98,-178.566 1146.06,-166.877 1139.75,-156.218\"/>\r\n",
       "<polygon fill=\"black\" stroke=\"black\" points=\"1142.73,-154.38 1134.63,-147.556 1136.71,-157.945 1142.73,-154.38\"/>\r\n",
       "</g>\r\n",
       "<!-- 27 -->\r\n",
       "<g id=\"node28\" class=\"node\"><title>27</title>\r\n",
       "<path fill=\"#bddef6\" stroke=\"black\" d=\"M1271,-147.5C1271,-147.5 1198,-147.5 1198,-147.5 1192,-147.5 1186,-141.5 1186,-135.5 1186,-135.5 1186,-106.5 1186,-106.5 1186,-100.5 1192,-94.5 1198,-94.5 1198,-94.5 1271,-94.5 1271,-94.5 1277,-94.5 1283,-100.5 1283,-106.5 1283,-106.5 1283,-135.5 1283,-135.5 1283,-141.5 1277,-147.5 1271,-147.5\"/>\r\n",
       "<text text-anchor=\"start\" x=\"1201\" y=\"-132.3\" font-family=\"Helvetica,sans-Serif\" font-size=\"14.00\">gini = 0.48</text>\r\n",
       "<text text-anchor=\"start\" x=\"1195\" y=\"-117.3\" font-family=\"Helvetica,sans-Serif\" font-size=\"14.00\">samples = 5</text>\r\n",
       "<text text-anchor=\"start\" x=\"1194\" y=\"-102.3\" font-family=\"Helvetica,sans-Serif\" font-size=\"14.00\">value = [2, 3]</text>\r\n",
       "</g>\r\n",
       "<!-- 25&#45;&gt;27 -->\r\n",
       "<g id=\"edge27\" class=\"edge\"><title>25&#45;&gt;27</title>\r\n",
       "<path fill=\"none\" stroke=\"black\" d=\"M1195.54,-188.992C1201.6,-178.566 1208.4,-166.877 1214.6,-156.218\"/>\r\n",
       "<polygon fill=\"black\" stroke=\"black\" points=\"1217.63,-157.96 1219.64,-147.556 1211.58,-154.441 1217.63,-157.96\"/>\r\n",
       "</g>\r\n",
       "<!-- 29 -->\r\n",
       "<g id=\"node30\" class=\"node\"><title>29</title>\r\n",
       "<path fill=\"#57ace9\" stroke=\"black\" d=\"M1393,-353C1393,-353 1312,-353 1312,-353 1306,-353 1300,-347 1300,-341 1300,-341 1300,-301 1300,-301 1300,-295 1306,-289 1312,-289 1312,-289 1393,-289 1393,-289 1399,-289 1405,-295 1405,-301 1405,-301 1405,-341 1405,-341 1405,-347 1399,-353 1393,-353\"/>\r\n",
       "<text text-anchor=\"start\" x=\"1318\" y=\"-338.8\" font-family=\"Helvetica,sans-Serif\" font-size=\"14.00\">X</text>\r\n",
       "<text text-anchor=\"start\" x=\"1328\" y=\"-338.8\" font-family=\"Helvetica,sans-Serif\" baseline-shift=\"sub\" font-size=\"14.00\">0</text>\r\n",
       "<text text-anchor=\"start\" x=\"1335\" y=\"-338.8\" font-family=\"Helvetica,sans-Serif\" font-size=\"14.00\"> ≤ 0.698</text>\r\n",
       "<text text-anchor=\"start\" x=\"1315\" y=\"-324.8\" font-family=\"Helvetica,sans-Serif\" font-size=\"14.00\">gini = 0.231</text>\r\n",
       "<text text-anchor=\"start\" x=\"1309\" y=\"-310.8\" font-family=\"Helvetica,sans-Serif\" font-size=\"14.00\">samples = 15</text>\r\n",
       "<text text-anchor=\"start\" x=\"1308\" y=\"-296.8\" font-family=\"Helvetica,sans-Serif\" font-size=\"14.00\">value = [2, 13]</text>\r\n",
       "</g>\r\n",
       "<!-- 28&#45;&gt;29 -->\r\n",
       "<g id=\"edge29\" class=\"edge\"><title>28&#45;&gt;29</title>\r\n",
       "<path fill=\"none\" stroke=\"black\" d=\"M1352.5,-388.992C1352.5,-380.859 1352.5,-371.959 1352.5,-363.378\"/>\r\n",
       "<polygon fill=\"black\" stroke=\"black\" points=\"1356,-363.142 1352.5,-353.142 1349,-363.142 1356,-363.142\"/>\r\n",
       "</g>\r\n",
       "<!-- 32 -->\r\n",
       "<g id=\"node33\" class=\"node\"><title>32</title>\r\n",
       "<path fill=\"#f7d9c4\" stroke=\"black\" d=\"M1582,-353C1582,-353 1493,-353 1493,-353 1487,-353 1481,-347 1481,-341 1481,-341 1481,-301 1481,-301 1481,-295 1487,-289 1493,-289 1493,-289 1582,-289 1582,-289 1588,-289 1594,-295 1594,-301 1594,-301 1594,-341 1594,-341 1594,-347 1588,-353 1582,-353\"/>\r\n",
       "<text text-anchor=\"start\" x=\"1503\" y=\"-338.8\" font-family=\"Helvetica,sans-Serif\" font-size=\"14.00\">X</text>\r\n",
       "<text text-anchor=\"start\" x=\"1513\" y=\"-338.8\" font-family=\"Helvetica,sans-Serif\" baseline-shift=\"sub\" font-size=\"14.00\">4</text>\r\n",
       "<text text-anchor=\"start\" x=\"1520\" y=\"-338.8\" font-family=\"Helvetica,sans-Serif\" font-size=\"14.00\"> ≤ 0.284</text>\r\n",
       "<text text-anchor=\"start\" x=\"1500\" y=\"-324.8\" font-family=\"Helvetica,sans-Serif\" font-size=\"14.00\">gini = 0.484</text>\r\n",
       "<text text-anchor=\"start\" x=\"1494\" y=\"-310.8\" font-family=\"Helvetica,sans-Serif\" font-size=\"14.00\">samples = 34</text>\r\n",
       "<text text-anchor=\"start\" x=\"1489\" y=\"-296.8\" font-family=\"Helvetica,sans-Serif\" font-size=\"14.00\">value = [20, 14]</text>\r\n",
       "</g>\r\n",
       "<!-- 28&#45;&gt;32 -->\r\n",
       "<g id=\"edge32\" class=\"edge\"><title>28&#45;&gt;32</title>\r\n",
       "<path fill=\"none\" stroke=\"black\" d=\"M1409.01,-390.064C1428.82,-379.571 1451.24,-367.696 1471.74,-356.837\"/>\r\n",
       "<polygon fill=\"black\" stroke=\"black\" points=\"1473.5,-359.864 1480.7,-352.09 1470.22,-353.678 1473.5,-359.864\"/>\r\n",
       "</g>\r\n",
       "<!-- 30 -->\r\n",
       "<g id=\"node31\" class=\"node\"><title>30</title>\r\n",
       "<path fill=\"#bddef6\" stroke=\"black\" d=\"M1332,-247.5C1332,-247.5 1259,-247.5 1259,-247.5 1253,-247.5 1247,-241.5 1247,-235.5 1247,-235.5 1247,-206.5 1247,-206.5 1247,-200.5 1253,-194.5 1259,-194.5 1259,-194.5 1332,-194.5 1332,-194.5 1338,-194.5 1344,-200.5 1344,-206.5 1344,-206.5 1344,-235.5 1344,-235.5 1344,-241.5 1338,-247.5 1332,-247.5\"/>\r\n",
       "<text text-anchor=\"start\" x=\"1262\" y=\"-232.3\" font-family=\"Helvetica,sans-Serif\" font-size=\"14.00\">gini = 0.48</text>\r\n",
       "<text text-anchor=\"start\" x=\"1256\" y=\"-217.3\" font-family=\"Helvetica,sans-Serif\" font-size=\"14.00\">samples = 5</text>\r\n",
       "<text text-anchor=\"start\" x=\"1255\" y=\"-202.3\" font-family=\"Helvetica,sans-Serif\" font-size=\"14.00\">value = [2, 3]</text>\r\n",
       "</g>\r\n",
       "<!-- 29&#45;&gt;30 -->\r\n",
       "<g id=\"edge30\" class=\"edge\"><title>29&#45;&gt;30</title>\r\n",
       "<path fill=\"none\" stroke=\"black\" d=\"M1334.46,-288.992C1328.4,-278.566 1321.6,-266.877 1315.4,-256.218\"/>\r\n",
       "<polygon fill=\"black\" stroke=\"black\" points=\"1318.42,-254.441 1310.36,-247.556 1312.37,-257.96 1318.42,-254.441\"/>\r\n",
       "</g>\r\n",
       "<!-- 31 -->\r\n",
       "<g id=\"node32\" class=\"node\"><title>31</title>\r\n",
       "<path fill=\"#399de5\" stroke=\"black\" d=\"M1455,-247.5C1455,-247.5 1374,-247.5 1374,-247.5 1368,-247.5 1362,-241.5 1362,-235.5 1362,-235.5 1362,-206.5 1362,-206.5 1362,-200.5 1368,-194.5 1374,-194.5 1374,-194.5 1455,-194.5 1455,-194.5 1461,-194.5 1467,-200.5 1467,-206.5 1467,-206.5 1467,-235.5 1467,-235.5 1467,-241.5 1461,-247.5 1455,-247.5\"/>\r\n",
       "<text text-anchor=\"start\" x=\"1385.5\" y=\"-232.3\" font-family=\"Helvetica,sans-Serif\" font-size=\"14.00\">gini = 0.0</text>\r\n",
       "<text text-anchor=\"start\" x=\"1371\" y=\"-217.3\" font-family=\"Helvetica,sans-Serif\" font-size=\"14.00\">samples = 10</text>\r\n",
       "<text text-anchor=\"start\" x=\"1370\" y=\"-202.3\" font-family=\"Helvetica,sans-Serif\" font-size=\"14.00\">value = [0, 10]</text>\r\n",
       "</g>\r\n",
       "<!-- 29&#45;&gt;31 -->\r\n",
       "<g id=\"edge31\" class=\"edge\"><title>29&#45;&gt;31</title>\r\n",
       "<path fill=\"none\" stroke=\"black\" d=\"M1372.12,-288.992C1378.71,-278.566 1386.11,-266.877 1392.85,-256.218\"/>\r\n",
       "<polygon fill=\"black\" stroke=\"black\" points=\"1395.94,-257.878 1398.33,-247.556 1390.03,-254.136 1395.94,-257.878\"/>\r\n",
       "</g>\r\n",
       "<!-- 33 -->\r\n",
       "<g id=\"node34\" class=\"node\"><title>33</title>\r\n",
       "<path fill=\"#a4d2f3\" stroke=\"black\" d=\"M1578,-253C1578,-253 1497,-253 1497,-253 1491,-253 1485,-247 1485,-241 1485,-241 1485,-201 1485,-201 1485,-195 1491,-189 1497,-189 1497,-189 1578,-189 1578,-189 1584,-189 1590,-195 1590,-201 1590,-201 1590,-241 1590,-241 1590,-247 1584,-253 1578,-253\"/>\r\n",
       "<text text-anchor=\"start\" x=\"1499.5\" y=\"-238.8\" font-family=\"Helvetica,sans-Serif\" font-size=\"14.00\">X</text>\r\n",
       "<text text-anchor=\"start\" x=\"1509.5\" y=\"-238.8\" font-family=\"Helvetica,sans-Serif\" baseline-shift=\"sub\" font-size=\"14.00\">11</text>\r\n",
       "<text text-anchor=\"start\" x=\"1523.5\" y=\"-238.8\" font-family=\"Helvetica,sans-Serif\" font-size=\"14.00\"> ≤ 0.125</text>\r\n",
       "<text text-anchor=\"start\" x=\"1500\" y=\"-224.8\" font-family=\"Helvetica,sans-Serif\" font-size=\"14.00\">gini = 0.455</text>\r\n",
       "<text text-anchor=\"start\" x=\"1494\" y=\"-210.8\" font-family=\"Helvetica,sans-Serif\" font-size=\"14.00\">samples = 20</text>\r\n",
       "<text text-anchor=\"start\" x=\"1493\" y=\"-196.8\" font-family=\"Helvetica,sans-Serif\" font-size=\"14.00\">value = [7, 13]</text>\r\n",
       "</g>\r\n",
       "<!-- 32&#45;&gt;33 -->\r\n",
       "<g id=\"edge33\" class=\"edge\"><title>32&#45;&gt;33</title>\r\n",
       "<path fill=\"none\" stroke=\"black\" d=\"M1537.5,-288.992C1537.5,-280.859 1537.5,-271.959 1537.5,-263.378\"/>\r\n",
       "<polygon fill=\"black\" stroke=\"black\" points=\"1541,-263.142 1537.5,-253.142 1534,-263.142 1541,-263.142\"/>\r\n",
       "</g>\r\n",
       "<!-- 40 -->\r\n",
       "<g id=\"node41\" class=\"node\"><title>40</title>\r\n",
       "<path fill=\"#e78b48\" stroke=\"black\" d=\"M1701,-253C1701,-253 1620,-253 1620,-253 1614,-253 1608,-247 1608,-241 1608,-241 1608,-201 1608,-201 1608,-195 1614,-189 1620,-189 1620,-189 1701,-189 1701,-189 1707,-189 1713,-195 1713,-201 1713,-201 1713,-241 1713,-241 1713,-247 1707,-253 1701,-253\"/>\r\n",
       "<text text-anchor=\"start\" x=\"1622.5\" y=\"-238.8\" font-family=\"Helvetica,sans-Serif\" font-size=\"14.00\">X</text>\r\n",
       "<text text-anchor=\"start\" x=\"1632.5\" y=\"-238.8\" font-family=\"Helvetica,sans-Serif\" baseline-shift=\"sub\" font-size=\"14.00\">11</text>\r\n",
       "<text text-anchor=\"start\" x=\"1646.5\" y=\"-238.8\" font-family=\"Helvetica,sans-Serif\" font-size=\"14.00\"> ≤ 0.125</text>\r\n",
       "<text text-anchor=\"start\" x=\"1623\" y=\"-224.8\" font-family=\"Helvetica,sans-Serif\" font-size=\"14.00\">gini = 0.133</text>\r\n",
       "<text text-anchor=\"start\" x=\"1617\" y=\"-210.8\" font-family=\"Helvetica,sans-Serif\" font-size=\"14.00\">samples = 14</text>\r\n",
       "<text text-anchor=\"start\" x=\"1616\" y=\"-196.8\" font-family=\"Helvetica,sans-Serif\" font-size=\"14.00\">value = [13, 1]</text>\r\n",
       "</g>\r\n",
       "<!-- 32&#45;&gt;40 -->\r\n",
       "<g id=\"edge40\" class=\"edge\"><title>32&#45;&gt;40</title>\r\n",
       "<path fill=\"none\" stroke=\"black\" d=\"M1576.42,-288.992C1588.2,-279.608 1601.26,-269.202 1613.5,-259.444\"/>\r\n",
       "<polygon fill=\"black\" stroke=\"black\" points=\"1615.77,-262.111 1621.41,-253.142 1611.41,-256.637 1615.77,-262.111\"/>\r\n",
       "</g>\r\n",
       "<!-- 34 -->\r\n",
       "<g id=\"node35\" class=\"node\"><title>34</title>\r\n",
       "<path fill=\"#4da7e8\" stroke=\"black\" d=\"M1460,-153C1460,-153 1379,-153 1379,-153 1373,-153 1367,-147 1367,-141 1367,-141 1367,-101 1367,-101 1367,-95 1373,-89 1379,-89 1379,-89 1460,-89 1460,-89 1466,-89 1472,-95 1472,-101 1472,-101 1472,-141 1472,-141 1472,-147 1466,-153 1460,-153\"/>\r\n",
       "<text text-anchor=\"start\" x=\"1385\" y=\"-138.8\" font-family=\"Helvetica,sans-Serif\" font-size=\"14.00\">X</text>\r\n",
       "<text text-anchor=\"start\" x=\"1395\" y=\"-138.8\" font-family=\"Helvetica,sans-Serif\" baseline-shift=\"sub\" font-size=\"14.00\">0</text>\r\n",
       "<text text-anchor=\"start\" x=\"1402\" y=\"-138.8\" font-family=\"Helvetica,sans-Serif\" font-size=\"14.00\"> ≤ 0.688</text>\r\n",
       "<text text-anchor=\"start\" x=\"1382\" y=\"-124.8\" font-family=\"Helvetica,sans-Serif\" font-size=\"14.00\">gini = 0.165</text>\r\n",
       "<text text-anchor=\"start\" x=\"1376\" y=\"-110.8\" font-family=\"Helvetica,sans-Serif\" font-size=\"14.00\">samples = 11</text>\r\n",
       "<text text-anchor=\"start\" x=\"1375\" y=\"-96.8\" font-family=\"Helvetica,sans-Serif\" font-size=\"14.00\">value = [1, 10]</text>\r\n",
       "</g>\r\n",
       "<!-- 33&#45;&gt;34 -->\r\n",
       "<g id=\"edge34\" class=\"edge\"><title>33&#45;&gt;34</title>\r\n",
       "<path fill=\"none\" stroke=\"black\" d=\"M1500.16,-188.992C1488.97,-179.698 1476.57,-169.4 1464.92,-159.723\"/>\r\n",
       "<polygon fill=\"black\" stroke=\"black\" points=\"1466.93,-156.839 1457,-153.142 1462.45,-162.224 1466.93,-156.839\"/>\r\n",
       "</g>\r\n",
       "<!-- 37 -->\r\n",
       "<g id=\"node38\" class=\"node\"><title>37</title>\r\n",
       "<path fill=\"#f2c09c\" stroke=\"black\" d=\"M1575,-153C1575,-153 1502,-153 1502,-153 1496,-153 1490,-147 1490,-141 1490,-141 1490,-101 1490,-101 1490,-95 1496,-89 1502,-89 1502,-89 1575,-89 1575,-89 1581,-89 1587,-95 1587,-101 1587,-101 1587,-141 1587,-141 1587,-147 1581,-153 1575,-153\"/>\r\n",
       "<text text-anchor=\"start\" x=\"1512\" y=\"-138.8\" font-family=\"Helvetica,sans-Serif\" font-size=\"14.00\">X</text>\r\n",
       "<text text-anchor=\"start\" x=\"1522\" y=\"-138.8\" font-family=\"Helvetica,sans-Serif\" baseline-shift=\"sub\" font-size=\"14.00\">5</text>\r\n",
       "<text text-anchor=\"start\" x=\"1529\" y=\"-138.8\" font-family=\"Helvetica,sans-Serif\" font-size=\"14.00\"> ≤ 0.5</text>\r\n",
       "<text text-anchor=\"start\" x=\"1501\" y=\"-124.8\" font-family=\"Helvetica,sans-Serif\" font-size=\"14.00\">gini = 0.444</text>\r\n",
       "<text text-anchor=\"start\" x=\"1499\" y=\"-110.8\" font-family=\"Helvetica,sans-Serif\" font-size=\"14.00\">samples = 9</text>\r\n",
       "<text text-anchor=\"start\" x=\"1498\" y=\"-96.8\" font-family=\"Helvetica,sans-Serif\" font-size=\"14.00\">value = [6, 3]</text>\r\n",
       "</g>\r\n",
       "<!-- 33&#45;&gt;37 -->\r\n",
       "<g id=\"edge37\" class=\"edge\"><title>33&#45;&gt;37</title>\r\n",
       "<path fill=\"none\" stroke=\"black\" d=\"M1537.82,-188.992C1537.9,-180.859 1537.99,-171.959 1538.08,-163.378\"/>\r\n",
       "<polygon fill=\"black\" stroke=\"black\" points=\"1541.58,-163.178 1538.18,-153.142 1534.58,-163.106 1541.58,-163.178\"/>\r\n",
       "</g>\r\n",
       "<!-- 35 -->\r\n",
       "<g id=\"node36\" class=\"node\"><title>35</title>\r\n",
       "<path fill=\"#399de5\" stroke=\"black\" d=\"M1342,-53C1342,-53 1269,-53 1269,-53 1263,-53 1257,-47 1257,-41 1257,-41 1257,-12 1257,-12 1257,-6 1263,-0 1269,-0 1269,-0 1342,-0 1342,-0 1348,-0 1354,-6 1354,-12 1354,-12 1354,-41 1354,-41 1354,-47 1348,-53 1342,-53\"/>\r\n",
       "<text text-anchor=\"start\" x=\"1276.5\" y=\"-37.8\" font-family=\"Helvetica,sans-Serif\" font-size=\"14.00\">gini = 0.0</text>\r\n",
       "<text text-anchor=\"start\" x=\"1266\" y=\"-22.8\" font-family=\"Helvetica,sans-Serif\" font-size=\"14.00\">samples = 7</text>\r\n",
       "<text text-anchor=\"start\" x=\"1265\" y=\"-7.8\" font-family=\"Helvetica,sans-Serif\" font-size=\"14.00\">value = [0, 7]</text>\r\n",
       "</g>\r\n",
       "<!-- 34&#45;&gt;35 -->\r\n",
       "<g id=\"edge35\" class=\"edge\"><title>34&#45;&gt;35</title>\r\n",
       "<path fill=\"none\" stroke=\"black\" d=\"M1381.22,-88.9415C1369.56,-79.4746 1356.71,-69.0523 1344.97,-59.5228\"/>\r\n",
       "<polygon fill=\"black\" stroke=\"black\" points=\"1347.01,-56.6738 1337.04,-53.0908 1342.6,-62.1095 1347.01,-56.6738\"/>\r\n",
       "</g>\r\n",
       "<!-- 36 -->\r\n",
       "<g id=\"node37\" class=\"node\"><title>36</title>\r\n",
       "<path fill=\"#7bbeee\" stroke=\"black\" d=\"M1457,-53C1457,-53 1384,-53 1384,-53 1378,-53 1372,-47 1372,-41 1372,-41 1372,-12 1372,-12 1372,-6 1378,-0 1384,-0 1384,-0 1457,-0 1457,-0 1463,-0 1469,-6 1469,-12 1469,-12 1469,-41 1469,-41 1469,-47 1463,-53 1457,-53\"/>\r\n",
       "<text text-anchor=\"start\" x=\"1383\" y=\"-37.8\" font-family=\"Helvetica,sans-Serif\" font-size=\"14.00\">gini = 0.375</text>\r\n",
       "<text text-anchor=\"start\" x=\"1381\" y=\"-22.8\" font-family=\"Helvetica,sans-Serif\" font-size=\"14.00\">samples = 4</text>\r\n",
       "<text text-anchor=\"start\" x=\"1380\" y=\"-7.8\" font-family=\"Helvetica,sans-Serif\" font-size=\"14.00\">value = [1, 3]</text>\r\n",
       "</g>\r\n",
       "<!-- 34&#45;&gt;36 -->\r\n",
       "<g id=\"edge36\" class=\"edge\"><title>34&#45;&gt;36</title>\r\n",
       "<path fill=\"none\" stroke=\"black\" d=\"M1419.84,-88.9415C1419.93,-80.6579 1420.02,-71.643 1420.11,-63.1346\"/>\r\n",
       "<polygon fill=\"black\" stroke=\"black\" points=\"1423.61,-63.1281 1420.22,-53.0908 1416.62,-63.0524 1423.61,-63.1281\"/>\r\n",
       "</g>\r\n",
       "<!-- 38 -->\r\n",
       "<g id=\"node39\" class=\"node\"><title>38</title>\r\n",
       "<path fill=\"#eca06a\" stroke=\"black\" d=\"M1574,-53C1574,-53 1501,-53 1501,-53 1495,-53 1489,-47 1489,-41 1489,-41 1489,-12 1489,-12 1489,-6 1495,-0 1501,-0 1501,-0 1574,-0 1574,-0 1580,-0 1586,-6 1586,-12 1586,-12 1586,-41 1586,-41 1586,-47 1580,-53 1574,-53\"/>\r\n",
       "<text text-anchor=\"start\" x=\"1504\" y=\"-37.8\" font-family=\"Helvetica,sans-Serif\" font-size=\"14.00\">gini = 0.32</text>\r\n",
       "<text text-anchor=\"start\" x=\"1498\" y=\"-22.8\" font-family=\"Helvetica,sans-Serif\" font-size=\"14.00\">samples = 5</text>\r\n",
       "<text text-anchor=\"start\" x=\"1497\" y=\"-7.8\" font-family=\"Helvetica,sans-Serif\" font-size=\"14.00\">value = [4, 1]</text>\r\n",
       "</g>\r\n",
       "<!-- 37&#45;&gt;38 -->\r\n",
       "<g id=\"edge38\" class=\"edge\"><title>37&#45;&gt;38</title>\r\n",
       "<path fill=\"none\" stroke=\"black\" d=\"M1538.16,-88.9415C1538.07,-80.6579 1537.98,-71.643 1537.89,-63.1346\"/>\r\n",
       "<polygon fill=\"black\" stroke=\"black\" points=\"1541.38,-63.0524 1537.78,-53.0908 1534.39,-63.1281 1541.38,-63.0524\"/>\r\n",
       "</g>\r\n",
       "<!-- 39 -->\r\n",
       "<g id=\"node40\" class=\"node\"><title>39</title>\r\n",
       "<path fill=\"#ffffff\" stroke=\"black\" d=\"M1689,-53C1689,-53 1616,-53 1616,-53 1610,-53 1604,-47 1604,-41 1604,-41 1604,-12 1604,-12 1604,-6 1610,-0 1616,-0 1616,-0 1689,-0 1689,-0 1695,-0 1701,-6 1701,-12 1701,-12 1701,-41 1701,-41 1701,-47 1695,-53 1689,-53\"/>\r\n",
       "<text text-anchor=\"start\" x=\"1623.5\" y=\"-37.8\" font-family=\"Helvetica,sans-Serif\" font-size=\"14.00\">gini = 0.5</text>\r\n",
       "<text text-anchor=\"start\" x=\"1613\" y=\"-22.8\" font-family=\"Helvetica,sans-Serif\" font-size=\"14.00\">samples = 4</text>\r\n",
       "<text text-anchor=\"start\" x=\"1612\" y=\"-7.8\" font-family=\"Helvetica,sans-Serif\" font-size=\"14.00\">value = [2, 2]</text>\r\n",
       "</g>\r\n",
       "<!-- 37&#45;&gt;39 -->\r\n",
       "<g id=\"edge39\" class=\"edge\"><title>37&#45;&gt;39</title>\r\n",
       "<path fill=\"none\" stroke=\"black\" d=\"M1576.78,-88.9415C1588.44,-79.4746 1601.29,-69.0523 1613.03,-59.5228\"/>\r\n",
       "<polygon fill=\"black\" stroke=\"black\" points=\"1615.4,-62.1095 1620.96,-53.0908 1610.99,-56.6738 1615.4,-62.1095\"/>\r\n",
       "</g>\r\n",
       "<!-- 41 -->\r\n",
       "<g id=\"node42\" class=\"node\"><title>41</title>\r\n",
       "<path fill=\"#e58139\" stroke=\"black\" d=\"M1700,-147.5C1700,-147.5 1619,-147.5 1619,-147.5 1613,-147.5 1607,-141.5 1607,-135.5 1607,-135.5 1607,-106.5 1607,-106.5 1607,-100.5 1613,-94.5 1619,-94.5 1619,-94.5 1700,-94.5 1700,-94.5 1706,-94.5 1712,-100.5 1712,-106.5 1712,-106.5 1712,-135.5 1712,-135.5 1712,-141.5 1706,-147.5 1700,-147.5\"/>\r\n",
       "<text text-anchor=\"start\" x=\"1630.5\" y=\"-132.3\" font-family=\"Helvetica,sans-Serif\" font-size=\"14.00\">gini = 0.0</text>\r\n",
       "<text text-anchor=\"start\" x=\"1616\" y=\"-117.3\" font-family=\"Helvetica,sans-Serif\" font-size=\"14.00\">samples = 10</text>\r\n",
       "<text text-anchor=\"start\" x=\"1615\" y=\"-102.3\" font-family=\"Helvetica,sans-Serif\" font-size=\"14.00\">value = [10, 0]</text>\r\n",
       "</g>\r\n",
       "<!-- 40&#45;&gt;41 -->\r\n",
       "<g id=\"edge41\" class=\"edge\"><title>40&#45;&gt;41</title>\r\n",
       "<path fill=\"none\" stroke=\"black\" d=\"M1660.18,-188.992C1660.08,-179.087 1659.97,-168.042 1659.87,-157.824\"/>\r\n",
       "<polygon fill=\"black\" stroke=\"black\" points=\"1663.36,-157.52 1659.76,-147.556 1656.36,-157.592 1663.36,-157.52\"/>\r\n",
       "</g>\r\n",
       "<!-- 42 -->\r\n",
       "<g id=\"node43\" class=\"node\"><title>42</title>\r\n",
       "<path fill=\"#eeab7b\" stroke=\"black\" d=\"M1815,-147.5C1815,-147.5 1742,-147.5 1742,-147.5 1736,-147.5 1730,-141.5 1730,-135.5 1730,-135.5 1730,-106.5 1730,-106.5 1730,-100.5 1736,-94.5 1742,-94.5 1742,-94.5 1815,-94.5 1815,-94.5 1821,-94.5 1827,-100.5 1827,-106.5 1827,-106.5 1827,-135.5 1827,-135.5 1827,-141.5 1821,-147.5 1815,-147.5\"/>\r\n",
       "<text text-anchor=\"start\" x=\"1741\" y=\"-132.3\" font-family=\"Helvetica,sans-Serif\" font-size=\"14.00\">gini = 0.375</text>\r\n",
       "<text text-anchor=\"start\" x=\"1739\" y=\"-117.3\" font-family=\"Helvetica,sans-Serif\" font-size=\"14.00\">samples = 4</text>\r\n",
       "<text text-anchor=\"start\" x=\"1738\" y=\"-102.3\" font-family=\"Helvetica,sans-Serif\" font-size=\"14.00\">value = [3, 1]</text>\r\n",
       "</g>\r\n",
       "<!-- 40&#45;&gt;42 -->\r\n",
       "<g id=\"edge42\" class=\"edge\"><title>40&#45;&gt;42</title>\r\n",
       "<path fill=\"none\" stroke=\"black\" d=\"M1697.84,-188.992C1711.27,-177.836 1726.44,-165.234 1739.98,-153.995\"/>\r\n",
       "<polygon fill=\"black\" stroke=\"black\" points=\"1742.27,-156.638 1747.73,-147.556 1737.8,-151.253 1742.27,-156.638\"/>\r\n",
       "</g>\r\n",
       "</g>\r\n",
       "</svg>\r\n"
      ],
      "text/plain": [
       "<graphviz.files.Source at 0x2b76cd91508>"
      ]
     },
     "execution_count": 53,
     "metadata": {},
     "output_type": "execute_result"
    }
   ],
   "source": [
    "!pip install graphviz\n",
    "import graphviz\n",
    "import os\n",
    "os.environ[\"PATH\"] += os.pathsep + r\"D:\\anaconda3\\Library\\bin\\graphviz\"\n",
    "#from sklearn.externals.six import StringIO  \n",
    "from IPython.display import Image  \n",
    "from sklearn.tree import export_graphviz\n",
    "from sklearn import tree\n",
    "import pydotplus\n",
    "dot_data = tree.export_graphviz(DTmodel, out_file=None,  \n",
    "                 filled=True, rounded=True,\n",
    "                 special_characters=True)\n",
    "#graph = pydotplus.graph_from_dot_data(dot_data.getvalue()) \n",
    "graph = graphviz.Source(dot_data)\n",
    "graph"
   ]
  },
  {
   "cell_type": "markdown",
   "metadata": {},
   "source": [
    "## 2.Logistic Regression"
   ]
  },
  {
   "cell_type": "code",
   "execution_count": 54,
   "metadata": {},
   "outputs": [
    {
     "name": "stderr",
     "output_type": "stream",
     "text": [
      "D:\\anaconda3\\lib\\site-packages\\sklearn\\utils\\validation.py:72: DataConversionWarning: A column-vector y was passed when a 1d array was expected. Please change the shape of y to (n_samples, ), for example using ravel().\n",
      "  return f(**kwargs)\n"
     ]
    },
    {
     "data": {
      "text/plain": [
       "RandomizedSearchCV(estimator=LogisticRegression(), n_iter=15, n_jobs=-1,\n",
       "                   param_distributions={'C': [0.0001, 0.001, 0.01, 0.1, 1, 10,\n",
       "                                              100, 1000, 10000],\n",
       "                                        'penalty': ['l1', 'l2']},\n",
       "                   scoring='roc_auc')"
      ]
     },
     "execution_count": 54,
     "metadata": {},
     "output_type": "execute_result"
    }
   ],
   "source": [
    "from sklearn.linear_model import LogisticRegression\n",
    "tuned_params = {'C': [0.0001, 0.001, 0.01, 0.1, 1, 10, 100, 1000, 10000], 'penalty': ['l1', 'l2']}\n",
    "model = RandomizedSearchCV(LogisticRegression(), tuned_params,n_iter=15, scoring = 'roc_auc', n_jobs=-1)\n",
    "model.fit(X_train, y_train)"
   ]
  },
  {
   "cell_type": "code",
   "execution_count": 55,
   "metadata": {},
   "outputs": [
    {
     "data": {
      "text/plain": [
       "LogisticRegression(C=1)"
      ]
     },
     "execution_count": 55,
     "metadata": {},
     "output_type": "execute_result"
    }
   ],
   "source": [
    "LRmodel = model.best_estimator_\n",
    "LRmodel"
   ]
  },
  {
   "cell_type": "code",
   "execution_count": 56,
   "metadata": {},
   "outputs": [
    {
     "name": "stdout",
     "output_type": "stream",
     "text": [
      "Accuracy on training set:  0.8447488584474886 \n",
      "\n",
      "Precision on training set:  0.8584905660377359 \n",
      "\n",
      "Recall on training set:  0.8272727272727273 \n",
      "\n",
      "F1 score on training set:  0.8425925925925927 \n",
      "\n",
      "Accuracy on testing set:  0.8532110091743119 \n",
      "\n",
      "Precision on testing set:  0.8793103448275862 \n",
      "\n",
      "Recall on testing set:  0.85 \n",
      "\n",
      "F1 score on testing set:  0.864406779661017 \n",
      "\n"
     ]
    }
   ],
   "source": [
    "LR_y_train_preds = model.predict(X_train)\n",
    "print(\"Accuracy on training set: \", accuracy_score(LR_y_train_preds, y_train),\"\\n\")\n",
    "\n",
    "print(\"Precision on training set: \", precision_score(LR_y_train_preds, y_train),\"\\n\")\n",
    "\n",
    "print(\"Recall on training set: \", recall_score(LR_y_train_preds, y_train),\"\\n\")\n",
    "\n",
    "print(\"F1 score on training set: \", f1_score(LR_y_train_preds, y_train),\"\\n\")\n",
    "\n",
    "LR_y_test_preds = model.predict(X_test)\n",
    "\n",
    "LR_accuracy =  accuracy_score(LR_y_test_preds, y_test)\n",
    "\n",
    "print(\"Accuracy on testing set: \", LR_accuracy,\"\\n\")\n",
    "\n",
    "print(\"Precision on testing set: \", precision_score(LR_y_test_preds, y_test),\"\\n\")\n",
    "\n",
    "print(\"Recall on testing set: \", recall_score(LR_y_test_preds, y_test),\"\\n\")\n",
    "\n",
    "print(\"F1 score on testing set: \", f1_score(LR_y_test_preds, y_test),\"\\n\")"
   ]
  },
  {
   "cell_type": "code",
   "execution_count": 57,
   "metadata": {},
   "outputs": [
    {
     "name": "stdout",
     "output_type": "stream",
     "text": [
      "              precision    recall  f1-score   support\n",
      "\n",
      "           0       0.86      0.83      0.85       113\n",
      "           1       0.83      0.86      0.84       106\n",
      "\n",
      "    accuracy                           0.84       219\n",
      "   macro avg       0.84      0.85      0.84       219\n",
      "weighted avg       0.85      0.84      0.84       219\n",
      "\n",
      "              precision    recall  f1-score   support\n",
      "\n",
      "           0       0.86      0.82      0.84        51\n",
      "           1       0.85      0.88      0.86        58\n",
      "\n",
      "    accuracy                           0.85       109\n",
      "   macro avg       0.85      0.85      0.85       109\n",
      "weighted avg       0.85      0.85      0.85       109\n",
      "\n"
     ]
    }
   ],
   "source": [
    "print(classification_report(y_train, LR_y_train_preds))\n",
    "print(classification_report(y_test,LR_y_test_preds))"
   ]
  },
  {
   "cell_type": "code",
   "execution_count": 58,
   "metadata": {},
   "outputs": [
    {
     "name": "stdout",
     "output_type": "stream",
     "text": [
      "[0.85454545 0.81651376 0.82568807]\n"
     ]
    },
    {
     "name": "stderr",
     "output_type": "stream",
     "text": [
      "D:\\anaconda3\\lib\\site-packages\\sklearn\\utils\\validation.py:72: DataConversionWarning: A column-vector y was passed when a 1d array was expected. Please change the shape of y to (n_samples, ), for example using ravel().\n",
      "  return f(**kwargs)\n",
      "D:\\anaconda3\\lib\\site-packages\\sklearn\\utils\\validation.py:72: DataConversionWarning: A column-vector y was passed when a 1d array was expected. Please change the shape of y to (n_samples, ), for example using ravel().\n",
      "  return f(**kwargs)\n",
      "D:\\anaconda3\\lib\\site-packages\\sklearn\\utils\\validation.py:72: DataConversionWarning: A column-vector y was passed when a 1d array was expected. Please change the shape of y to (n_samples, ), for example using ravel().\n",
      "  return f(**kwargs)\n"
     ]
    },
    {
     "data": {
      "text/plain": [
       "0.83224909646928"
      ]
     },
     "execution_count": 58,
     "metadata": {},
     "output_type": "execute_result"
    }
   ],
   "source": [
    "crossLR = cross_val_score(LRmodel,X,y,cv=cv,scoring = \"accuracy\")\n",
    "print(crossLR)\n",
    "np.mean(crossLR)"
   ]
  },
  {
   "cell_type": "code",
   "execution_count": 59,
   "metadata": {},
   "outputs": [
    {
     "data": {
      "text/plain": [
       "array([0.27315031, 0.5338828 , 0.07706248, 0.79399698, 0.6175609 ,\n",
       "       0.0578244 , 0.81853827, 0.11503432, 0.44716398, 0.35358194])"
      ]
     },
     "execution_count": 59,
     "metadata": {},
     "output_type": "execute_result"
    }
   ],
   "source": [
    "LRy_test_prob = model.predict_proba(X_test)[:,1]\n",
    "LRy_test_prob [:10]"
   ]
  },
  {
   "cell_type": "code",
   "execution_count": 60,
   "metadata": {},
   "outputs": [
    {
     "data": {
      "text/html": [
       "<div>\n",
       "<style scoped>\n",
       "    .dataframe tbody tr th:only-of-type {\n",
       "        vertical-align: middle;\n",
       "    }\n",
       "\n",
       "    .dataframe tbody tr th {\n",
       "        vertical-align: top;\n",
       "    }\n",
       "\n",
       "    .dataframe thead th {\n",
       "        text-align: right;\n",
       "    }\n",
       "</style>\n",
       "<table border=\"1\" class=\"dataframe\">\n",
       "  <thead>\n",
       "    <tr style=\"text-align: right;\">\n",
       "      <th></th>\n",
       "      <th>true</th>\n",
       "      <th>false</th>\n",
       "    </tr>\n",
       "  </thead>\n",
       "  <tbody>\n",
       "    <tr>\n",
       "      <th>positive</th>\n",
       "      <td>51</td>\n",
       "      <td>9</td>\n",
       "    </tr>\n",
       "    <tr>\n",
       "      <th>negative</th>\n",
       "      <td>42</td>\n",
       "      <td>7</td>\n",
       "    </tr>\n",
       "  </tbody>\n",
       "</table>\n",
       "</div>"
      ],
      "text/plain": [
       "         true false\n",
       "positive   51     9\n",
       "negative   42     7"
      ]
     },
     "execution_count": 60,
     "metadata": {},
     "output_type": "execute_result"
    }
   ],
   "source": [
    "ConfusionMatrixToDataFrame(y_test,LR_y_test_preds)"
   ]
  },
  {
   "cell_type": "code",
   "execution_count": 61,
   "metadata": {},
   "outputs": [],
   "source": [
    "# Calculate ROC curve from y_test and pred\n",
    "fpr, tpr, thresholds = roc_curve(y_test, LRy_test_prob)"
   ]
  },
  {
   "cell_type": "code",
   "execution_count": 62,
   "metadata": {},
   "outputs": [
    {
     "data": {
      "image/png": "[encoded data removed]",
      "text/plain": [
       "<Figure size 576x576 with 1 Axes>"
      ]
     },
     "metadata": {},
     "output_type": "display_data"
    }
   ],
   "source": [
    "# Plot the ROC curve\n",
    "fig = plt.figure(figsize=(8,8))\n",
    "plt.title('Receiver Operating Characteristic')\n",
    "\n",
    "# Plot ROC curve\n",
    "plt.plot(fpr, tpr, label='l1')\n",
    "plt.legend(loc='lower right')\n",
    "\n",
    "# Diagonal 45 degree line\n",
    "plt.plot([0,1],[0,1],'k--')\n",
    "\n",
    "# Axes limits and labels\n",
    "plt.xlim([-0.1,1.1])\n",
    "plt.ylim([-0.1,1.1])\n",
    "plt.ylabel('True Positive Rate')\n",
    "plt.xlabel('False Positive Rate')\n",
    "plt.show()"
   ]
  },
  {
   "cell_type": "code",
   "execution_count": 63,
   "metadata": {},
   "outputs": [
    {
     "name": "stdout",
     "output_type": "stream",
     "text": [
      "0.8514198782961461\n"
     ]
    }
   ],
   "source": [
    "# Calculate AUC for Train set\n",
    "print(roc_auc_score(y_test,LR_y_test_preds))"
   ]
  },
  {
   "cell_type": "code",
   "execution_count": 64,
   "metadata": {},
   "outputs": [
    {
     "name": "stdout",
     "output_type": "stream",
     "text": [
      "0.898580121703854\n"
     ]
    }
   ],
   "source": [
    "# Calculate AUC for Test set\n",
    "LR_auc = auc(fpr, tpr)\n",
    "print(LR_auc)"
   ]
  },
  {
   "cell_type": "markdown",
   "metadata": {},
   "source": [
    "### Feature Importance"
   ]
  },
  {
   "cell_type": "code",
   "execution_count": 65,
   "metadata": {},
   "outputs": [
    {
     "name": "stdout",
     "output_type": "stream",
     "text": [
      "The features in order of importance are:\n",
      "--------------------------------------------------\n",
      "num_major_vessels\n",
      "chest_pain_type\n",
      "sex\n",
      "st_depression\n",
      "max_heart_rate_achieved\n",
      "resting_blood_pressure\n",
      "thalassemia\n",
      "exercise_induced_angina\n",
      "cholesterol\n",
      "rest_ecg\n",
      "age\n",
      "st_slope\n",
      "fasting_blood_sugar\n"
     ]
    }
   ],
   "source": [
    "indices = np.argsort(-abs(LRmodel.coef_[0,:]))\n",
    "print(\"The features in order of importance are:\")\n",
    "print(50*'-')\n",
    "for feature in X.columns[indices]:\n",
    "    print(feature)"
   ]
  },
  {
   "cell_type": "markdown",
   "metadata": {},
   "source": [
    "## 3. Random Forest"
   ]
  },
  {
   "cell_type": "code",
   "execution_count": 66,
   "metadata": {},
   "outputs": [
    {
     "name": "stderr",
     "output_type": "stream",
     "text": [
      "D:\\anaconda3\\lib\\site-packages\\sklearn\\model_selection\\_search.py:765: DataConversionWarning: A column-vector y was passed when a 1d array was expected. Please change the shape of y to (n_samples,), for example using ravel().\n",
      "  self.best_estimator_.fit(X, y, **fit_params)\n"
     ]
    },
    {
     "data": {
      "text/plain": [
       "RandomizedSearchCV(estimator=RandomForestClassifier(), n_iter=15, n_jobs=-1,\n",
       "                   param_distributions={'max_depth': [3, 10, 15],\n",
       "                                        'max_features': ['auto', None],\n",
       "                                        'min_samples_leaf': [1, 2, 4],\n",
       "                                        'min_samples_split': [2, 5, 10],\n",
       "                                        'n_estimators': [3, 10, 15]},\n",
       "                   scoring='roc_auc')"
      ]
     },
     "execution_count": 66,
     "metadata": {},
     "output_type": "execute_result"
    }
   ],
   "source": [
    "from sklearn.ensemble import RandomForestClassifier\n",
    "tuned_params = {'n_estimators':[3,10,15],'max_depth':[3,10,15], 'max_features':['auto',None], 'min_samples_split': [2, 5, 10], 'min_samples_leaf': [1, 2, 4]}\n",
    "model = RandomizedSearchCV(RandomForestClassifier(), tuned_params, n_iter=15, scoring = 'roc_auc', n_jobs=-1)\n",
    "model.fit(X_train, y_train)"
   ]
  },
  {
   "cell_type": "code",
   "execution_count": 67,
   "metadata": {},
   "outputs": [
    {
     "data": {
      "text/plain": [
       "RandomForestClassifier(max_depth=3, max_features=None, min_samples_leaf=2,\n",
       "                       min_samples_split=10, n_estimators=15)"
      ]
     },
     "execution_count": 67,
     "metadata": {},
     "output_type": "execute_result"
    }
   ],
   "source": [
    "RFmodel = model.best_estimator_\n",
    "RFmodel"
   ]
  },
  {
   "cell_type": "code",
   "execution_count": 68,
   "metadata": {},
   "outputs": [
    {
     "name": "stdout",
     "output_type": "stream",
     "text": [
      "Accuracy on training set:  0.9269406392694064 \n",
      "\n",
      "Precision on training set:  0.9433962264150944 \n",
      "\n",
      "Recall on training set:  0.9090909090909091 \n",
      "\n",
      "F1 score on training set:  0.9259259259259259 \n",
      "\n",
      "Accuracy on testing set:  0.8440366972477065 \n",
      "\n",
      "Precision on testing set:  0.8103448275862069 \n",
      "\n",
      "Recall on testing set:  0.8867924528301887 \n",
      "\n",
      "F1 score on testing set:  0.8468468468468469 \n",
      "\n"
     ]
    }
   ],
   "source": [
    "RF_y_train_preds = model.predict(X_train)\n",
    "print(\"Accuracy on training set: \", accuracy_score(RF_y_train_preds, y_train),\"\\n\")\n",
    "\n",
    "print(\"Precision on training set: \", precision_score(RF_y_train_preds, y_train),\"\\n\")\n",
    "\n",
    "print(\"Recall on training set: \", recall_score(RF_y_train_preds, y_train),\"\\n\")\n",
    "\n",
    "print(\"F1 score on training set: \", f1_score(RF_y_train_preds, y_train),\"\\n\")\n",
    "\n",
    "RF_y_test_preds = model.predict(X_test)\n",
    "\n",
    "RF_accuracy = accuracy_score(RF_y_test_preds, y_test)\n",
    "\n",
    "print(\"Accuracy on testing set: \", RF_accuracy,\"\\n\")\n",
    "\n",
    "print(\"Precision on testing set: \", precision_score(RF_y_test_preds, y_test),\"\\n\")\n",
    "\n",
    "print(\"Recall on testing set: \", recall_score(RF_y_test_preds, y_test),\"\\n\")\n",
    "\n",
    "print(\"F1 score on testing set: \", f1_score(RF_y_test_preds, y_test),\"\\n\")"
   ]
  },
  {
   "cell_type": "code",
   "execution_count": 69,
   "metadata": {},
   "outputs": [
    {
     "name": "stdout",
     "output_type": "stream",
     "text": [
      "              precision    recall  f1-score   support\n",
      "\n",
      "           0       0.94      0.91      0.93       113\n",
      "           1       0.91      0.94      0.93       106\n",
      "\n",
      "    accuracy                           0.93       219\n",
      "   macro avg       0.93      0.93      0.93       219\n",
      "weighted avg       0.93      0.93      0.93       219\n",
      "\n",
      "              precision    recall  f1-score   support\n",
      "\n",
      "           0       0.80      0.88      0.84        51\n",
      "           1       0.89      0.81      0.85        58\n",
      "\n",
      "    accuracy                           0.84       109\n",
      "   macro avg       0.85      0.85      0.84       109\n",
      "weighted avg       0.85      0.84      0.84       109\n",
      "\n"
     ]
    }
   ],
   "source": [
    "print(classification_report(y_train, RF_y_train_preds))\n",
    "print(classification_report(y_test,RF_y_test_preds))"
   ]
  },
  {
   "cell_type": "code",
   "execution_count": 70,
   "metadata": {},
   "outputs": [
    {
     "name": "stdout",
     "output_type": "stream",
     "text": [
      "[0.82727273 0.79816514 0.79816514]\n"
     ]
    },
    {
     "name": "stderr",
     "output_type": "stream",
     "text": [
      "D:\\anaconda3\\lib\\site-packages\\sklearn\\model_selection\\_validation.py:531: DataConversionWarning: A column-vector y was passed when a 1d array was expected. Please change the shape of y to (n_samples,), for example using ravel().\n",
      "  estimator.fit(X_train, y_train, **fit_params)\n",
      "D:\\anaconda3\\lib\\site-packages\\sklearn\\model_selection\\_validation.py:531: DataConversionWarning: A column-vector y was passed when a 1d array was expected. Please change the shape of y to (n_samples,), for example using ravel().\n",
      "  estimator.fit(X_train, y_train, **fit_params)\n",
      "D:\\anaconda3\\lib\\site-packages\\sklearn\\model_selection\\_validation.py:531: DataConversionWarning: A column-vector y was passed when a 1d array was expected. Please change the shape of y to (n_samples,), for example using ravel().\n",
      "  estimator.fit(X_train, y_train, **fit_params)\n"
     ]
    },
    {
     "data": {
      "text/plain": [
       "0.807867667500695"
      ]
     },
     "execution_count": 70,
     "metadata": {},
     "output_type": "execute_result"
    }
   ],
   "source": [
    "crossRF = cross_val_score(RFmodel,X,y,cv=cv,scoring = \"accuracy\")\n",
    "print(crossRF)\n",
    "np.mean(crossRF)"
   ]
  },
  {
   "cell_type": "code",
   "execution_count": 71,
   "metadata": {},
   "outputs": [
    {
     "data": {
      "text/plain": [
       "array([0.70886924, 0.4736526 , 0.01822933, 0.82935797, 0.49547979,\n",
       "       0.01822933, 0.4278477 , 0.03809149, 0.34086973, 0.38723728])"
      ]
     },
     "execution_count": 71,
     "metadata": {},
     "output_type": "execute_result"
    }
   ],
   "source": [
    "RFy_test_prob = model.predict_proba(X_test)[:,1]\n",
    "RFy_test_prob [:10]"
   ]
  },
  {
   "cell_type": "code",
   "execution_count": 72,
   "metadata": {},
   "outputs": [
    {
     "data": {
      "text/html": [
       "<div>\n",
       "<style scoped>\n",
       "    .dataframe tbody tr th:only-of-type {\n",
       "        vertical-align: middle;\n",
       "    }\n",
       "\n",
       "    .dataframe tbody tr th {\n",
       "        vertical-align: top;\n",
       "    }\n",
       "\n",
       "    .dataframe thead th {\n",
       "        text-align: right;\n",
       "    }\n",
       "</style>\n",
       "<table border=\"1\" class=\"dataframe\">\n",
       "  <thead>\n",
       "    <tr style=\"text-align: right;\">\n",
       "      <th></th>\n",
       "      <th>true</th>\n",
       "      <th>false</th>\n",
       "    </tr>\n",
       "  </thead>\n",
       "  <tbody>\n",
       "    <tr>\n",
       "      <th>positive</th>\n",
       "      <td>47</td>\n",
       "      <td>6</td>\n",
       "    </tr>\n",
       "    <tr>\n",
       "      <th>negative</th>\n",
       "      <td>45</td>\n",
       "      <td>11</td>\n",
       "    </tr>\n",
       "  </tbody>\n",
       "</table>\n",
       "</div>"
      ],
      "text/plain": [
       "         true false\n",
       "positive   47     6\n",
       "negative   45    11"
      ]
     },
     "execution_count": 72,
     "metadata": {},
     "output_type": "execute_result"
    }
   ],
   "source": [
    "ConfusionMatrixToDataFrame(y_test,RF_y_test_preds)"
   ]
  },
  {
   "cell_type": "code",
   "execution_count": 73,
   "metadata": {},
   "outputs": [],
   "source": [
    "# Calculate ROC curve from y_test and pred\n",
    "fpr, tpr, thresholds = roc_curve(y_test, RFy_test_prob)"
   ]
  },
  {
   "cell_type": "code",
   "execution_count": 74,
   "metadata": {},
   "outputs": [
    {
     "data": {
      "image/png": "[encoded data removed]",
      "text/plain": [
       "<Figure size 576x576 with 1 Axes>"
      ]
     },
     "metadata": {},
     "output_type": "display_data"
    }
   ],
   "source": [
    "# Plot the ROC curve\n",
    "fig = plt.figure(figsize=(8,8))\n",
    "plt.title('Receiver Operating Characteristic')\n",
    "\n",
    "# Plot ROC curve\n",
    "plt.plot(fpr, tpr, label='l1')\n",
    "plt.legend(loc='lower right')\n",
    "\n",
    "# Diagonal 45 degree line\n",
    "plt.plot([0,1],[0,1],'k--')\n",
    "\n",
    "# Axes limits and labels\n",
    "plt.xlim([-0.1,1.1])\n",
    "plt.ylim([-0.1,1.1])\n",
    "plt.ylabel('True Positive Rate')\n",
    "plt.xlabel('False Positive Rate')\n",
    "plt.show()"
   ]
  },
  {
   "cell_type": "code",
   "execution_count": 75,
   "metadata": {},
   "outputs": [
    {
     "name": "stdout",
     "output_type": "stream",
     "text": [
      "0.8463488843813387\n"
     ]
    }
   ],
   "source": [
    "# Calculate AUC for Train set\n",
    "print(roc_auc_score(y_test,RF_y_test_preds))"
   ]
  },
  {
   "cell_type": "code",
   "execution_count": 76,
   "metadata": {},
   "outputs": [
    {
     "name": "stdout",
     "output_type": "stream",
     "text": [
      "0.9442190669371197\n"
     ]
    }
   ],
   "source": [
    "# Calculate AUC for Test set\n",
    "RF_auc = auc(fpr, tpr)\n",
    "print(RF_auc)"
   ]
  },
  {
   "cell_type": "markdown",
   "metadata": {},
   "source": [
    "## Feature Importance"
   ]
  },
  {
   "cell_type": "code",
   "execution_count": 77,
   "metadata": {},
   "outputs": [
    {
     "name": "stdout",
     "output_type": "stream",
     "text": [
      "The features in order of importance are:\n",
      "--------------------------------------------------\n",
      "num_major_vessels\n",
      "chest_pain_type\n",
      "thalassemia\n",
      "age\n",
      "st_depression\n",
      "cholesterol\n",
      "max_heart_rate_achieved\n",
      "sex\n",
      "resting_blood_pressure\n",
      "st_slope\n",
      "exercise_induced_angina\n",
      "fasting_blood_sugar\n",
      "rest_ecg\n"
     ]
    }
   ],
   "source": [
    "indices = np.argsort(-RFmodel.feature_importances_)\n",
    "print(\"The features in order of importance are:\")\n",
    "print(50*'-')\n",
    "for feature in X.columns[indices]:\n",
    "    print(feature)"
   ]
  },
  {
   "cell_type": "markdown",
   "metadata": {},
   "source": [
    "## 4. Support Vector Machine"
   ]
  },
  {
   "cell_type": "code",
   "execution_count": 78,
   "metadata": {},
   "outputs": [
    {
     "name": "stderr",
     "output_type": "stream",
     "text": [
      "D:\\anaconda3\\lib\\site-packages\\sklearn\\utils\\validation.py:72: DataConversionWarning: A column-vector y was passed when a 1d array was expected. Please change the shape of y to (n_samples, ), for example using ravel().\n",
      "  return f(**kwargs)\n"
     ]
    },
    {
     "data": {
      "text/plain": [
       "RandomizedSearchCV(estimator=SVC(), n_iter=9, n_jobs=-1,\n",
       "                   param_distributions={'C': [0.001, 1, 1000],\n",
       "                                        'kernel': ['poly', 'rbf', 'linear'],\n",
       "                                        'probability': [True]},\n",
       "                   scoring='roc_auc')"
      ]
     },
     "execution_count": 78,
     "metadata": {},
     "output_type": "execute_result"
    }
   ],
   "source": [
    "from sklearn import svm\n",
    "from sklearn.svm import SVC\n",
    "tuned_params = {'kernel':['poly','rbf','linear'], 'C':[0.001,1,1000],'probability':[True]}\n",
    "model = RandomizedSearchCV(svm.SVC(), tuned_params, n_iter=9, scoring = 'roc_auc', n_jobs=-1)\n",
    "model.fit(X_train, y_train)"
   ]
  },
  {
   "cell_type": "code",
   "execution_count": 79,
   "metadata": {},
   "outputs": [
    {
     "data": {
      "text/plain": [
       "SVC(C=1000, probability=True)"
      ]
     },
     "execution_count": 79,
     "metadata": {},
     "output_type": "execute_result"
    }
   ],
   "source": [
    "SVCmodel = model.best_estimator_\n",
    "SVCmodel"
   ]
  },
  {
   "cell_type": "code",
   "execution_count": 80,
   "metadata": {},
   "outputs": [
    {
     "name": "stdout",
     "output_type": "stream",
     "text": [
      "Accuracy on training set:  1.0 \n",
      "\n",
      "Precision on training set:  1.0 \n",
      "\n",
      "Recall on training set:  1.0 \n",
      "\n",
      "F1 score on training set:  1.0 \n",
      "\n",
      "Accuracy on testing set:  0.8165137614678899 \n",
      "\n",
      "Precision on testing set:  0.7758620689655172 \n",
      "\n",
      "Recall on testing set:  0.8653846153846154 \n",
      "\n",
      "F1 score on testing set:  0.8181818181818181 \n",
      "\n"
     ]
    }
   ],
   "source": [
    "SVC_y_train_preds = model.predict(X_train)\n",
    "print(\"Accuracy on training set: \", accuracy_score(SVC_y_train_preds, y_train),\"\\n\")\n",
    "\n",
    "print(\"Precision on training set: \", precision_score(SVC_y_train_preds, y_train),\"\\n\")\n",
    "\n",
    "print(\"Recall on training set: \", recall_score(SVC_y_train_preds, y_train),\"\\n\")\n",
    "\n",
    "print(\"F1 score on training set: \", f1_score(SVC_y_train_preds, y_train),\"\\n\")\n",
    "\n",
    "SVC_y_test_preds = model.predict(X_test)\n",
    "\n",
    "SVC_accuracy = accuracy_score(SVC_y_test_preds, y_test)\n",
    "\n",
    "print(\"Accuracy on testing set: \", SVC_accuracy ,\"\\n\")\n",
    "\n",
    "print(\"Precision on testing set: \", precision_score(SVC_y_test_preds, y_test),\"\\n\")\n",
    "\n",
    "print(\"Recall on testing set: \", recall_score(SVC_y_test_preds, y_test),\"\\n\")\n",
    "\n",
    "print(\"F1 score on testing set: \", f1_score(SVC_y_test_preds, y_test),\"\\n\")"
   ]
  },
  {
   "cell_type": "code",
   "execution_count": 81,
   "metadata": {},
   "outputs": [
    {
     "name": "stdout",
     "output_type": "stream",
     "text": [
      "              precision    recall  f1-score   support\n",
      "\n",
      "           0       1.00      1.00      1.00       113\n",
      "           1       1.00      1.00      1.00       106\n",
      "\n",
      "    accuracy                           1.00       219\n",
      "   macro avg       1.00      1.00      1.00       219\n",
      "weighted avg       1.00      1.00      1.00       219\n",
      "\n",
      "              precision    recall  f1-score   support\n",
      "\n",
      "           0       0.77      0.86      0.81        51\n",
      "           1       0.87      0.78      0.82        58\n",
      "\n",
      "    accuracy                           0.82       109\n",
      "   macro avg       0.82      0.82      0.82       109\n",
      "weighted avg       0.82      0.82      0.82       109\n",
      "\n"
     ]
    }
   ],
   "source": [
    "print(classification_report(y_train, SVC_y_train_preds))\n",
    "print(classification_report(y_test,SVC_y_test_preds))"
   ]
  },
  {
   "cell_type": "code",
   "execution_count": 82,
   "metadata": {},
   "outputs": [
    {
     "name": "stdout",
     "output_type": "stream",
     "text": [
      "[0.86363636 0.83486239 0.83486239]\n"
     ]
    },
    {
     "name": "stderr",
     "output_type": "stream",
     "text": [
      "D:\\anaconda3\\lib\\site-packages\\sklearn\\utils\\validation.py:72: DataConversionWarning: A column-vector y was passed when a 1d array was expected. Please change the shape of y to (n_samples, ), for example using ravel().\n",
      "  return f(**kwargs)\n",
      "D:\\anaconda3\\lib\\site-packages\\sklearn\\utils\\validation.py:72: DataConversionWarning: A column-vector y was passed when a 1d array was expected. Please change the shape of y to (n_samples, ), for example using ravel().\n",
      "  return f(**kwargs)\n",
      "D:\\anaconda3\\lib\\site-packages\\sklearn\\utils\\validation.py:72: DataConversionWarning: A column-vector y was passed when a 1d array was expected. Please change the shape of y to (n_samples, ), for example using ravel().\n",
      "  return f(**kwargs)\n"
     ]
    },
    {
     "data": {
      "text/plain": [
       "0.8444537114261884"
      ]
     },
     "execution_count": 82,
     "metadata": {},
     "output_type": "execute_result"
    }
   ],
   "source": [
    "crossSVC = cross_val_score(SVCmodel,X,y,cv=cv,scoring = \"accuracy\")\n",
    "print(crossSVC)\n",
    "np.mean(crossSVC)"
   ]
  },
  {
   "cell_type": "code",
   "execution_count": 83,
   "metadata": {},
   "outputs": [
    {
     "data": {
      "text/plain": [
       "array([0.82903913, 0.5131196 , 0.04040932, 0.78349246, 0.53703941,\n",
       "       0.01572871, 0.81174396, 0.11899896, 0.24781956, 0.07150981])"
      ]
     },
     "execution_count": 83,
     "metadata": {},
     "output_type": "execute_result"
    }
   ],
   "source": [
    "SVC_y_test_prob = model.predict_proba(X_test)[:,1]\n",
    "SVC_y_test_prob [:10]"
   ]
  },
  {
   "cell_type": "code",
   "execution_count": 84,
   "metadata": {},
   "outputs": [
    {
     "data": {
      "text/html": [
       "<div>\n",
       "<style scoped>\n",
       "    .dataframe tbody tr th:only-of-type {\n",
       "        vertical-align: middle;\n",
       "    }\n",
       "\n",
       "    .dataframe tbody tr th {\n",
       "        vertical-align: top;\n",
       "    }\n",
       "\n",
       "    .dataframe thead th {\n",
       "        text-align: right;\n",
       "    }\n",
       "</style>\n",
       "<table border=\"1\" class=\"dataframe\">\n",
       "  <thead>\n",
       "    <tr style=\"text-align: right;\">\n",
       "      <th></th>\n",
       "      <th>true</th>\n",
       "      <th>false</th>\n",
       "    </tr>\n",
       "  </thead>\n",
       "  <tbody>\n",
       "    <tr>\n",
       "      <th>positive</th>\n",
       "      <td>45</td>\n",
       "      <td>7</td>\n",
       "    </tr>\n",
       "    <tr>\n",
       "      <th>negative</th>\n",
       "      <td>44</td>\n",
       "      <td>13</td>\n",
       "    </tr>\n",
       "  </tbody>\n",
       "</table>\n",
       "</div>"
      ],
      "text/plain": [
       "         true false\n",
       "positive   45     7\n",
       "negative   44    13"
      ]
     },
     "execution_count": 84,
     "metadata": {},
     "output_type": "execute_result"
    }
   ],
   "source": [
    "ConfusionMatrixToDataFrame(y_test,SVC_y_test_preds)"
   ]
  },
  {
   "cell_type": "code",
   "execution_count": 85,
   "metadata": {},
   "outputs": [],
   "source": [
    "# Calculate ROC curve from y_test and pred\n",
    "fpr, tpr, thresholds = roc_curve(y_test, SVC_y_test_prob)"
   ]
  },
  {
   "cell_type": "code",
   "execution_count": 86,
   "metadata": {},
   "outputs": [
    {
     "data": {
      "image/png": "[encoded data removed]",
      "text/plain": [
       "<Figure size 576x576 with 1 Axes>"
      ]
     },
     "metadata": {},
     "output_type": "display_data"
    }
   ],
   "source": [
    "# Plot the ROC curve\n",
    "fig = plt.figure(figsize=(8,8))\n",
    "plt.title('Receiver Operating Characteristic')\n",
    "\n",
    "# Plot ROC curve\n",
    "plt.plot(fpr, tpr, label='l1')\n",
    "plt.legend(loc='lower right')\n",
    "\n",
    "# Diagonal 45 degree line\n",
    "plt.plot([0,1],[0,1],'k--')\n",
    "\n",
    "# Axes limits and labels\n",
    "plt.xlim([-0.1,1.1])\n",
    "plt.ylim([-0.1,1.1])\n",
    "plt.ylabel('True Positive Rate')\n",
    "plt.xlabel('False Positive Rate')\n",
    "plt.show()"
   ]
  },
  {
   "cell_type": "code",
   "execution_count": 87,
   "metadata": {},
   "outputs": [
    {
     "name": "stdout",
     "output_type": "stream",
     "text": [
      "0.8193035835023665\n"
     ]
    }
   ],
   "source": [
    "# Calculate AUC for Train set\n",
    "print(roc_auc_score(y_test,SVC_y_test_preds))"
   ]
  },
  {
   "cell_type": "code",
   "execution_count": 88,
   "metadata": {},
   "outputs": [
    {
     "name": "stdout",
     "output_type": "stream",
     "text": [
      "0.8904665314401622\n"
     ]
    }
   ],
   "source": [
    "# Calculate AUC for Test set\n",
    "SVC_auc= auc(fpr, tpr)\n",
    "print(SVC_auc)"
   ]
  },
  {
   "cell_type": "markdown",
   "metadata": {},
   "source": [
    "## Accuracy Report "
   ]
  },
  {
   "cell_type": "markdown",
   "metadata": {},
   "source": [
    "Below is a report on accuracy and AUC score of each model"
   ]
  },
  {
   "cell_type": "code",
   "execution_count": 89,
   "metadata": {},
   "outputs": [
    {
     "data": {
      "text/html": [
       "<div>\n",
       "<style scoped>\n",
       "    .dataframe tbody tr th:only-of-type {\n",
       "        vertical-align: middle;\n",
       "    }\n",
       "\n",
       "    .dataframe tbody tr th {\n",
       "        vertical-align: top;\n",
       "    }\n",
       "\n",
       "    .dataframe thead th {\n",
       "        text-align: right;\n",
       "    }\n",
       "</style>\n",
       "<table border=\"1\" class=\"dataframe\">\n",
       "  <thead>\n",
       "    <tr style=\"text-align: right;\">\n",
       "      <th>Algorithm</th>\n",
       "      <th>Accuracy Score</th>\n",
       "      <th>AUC SCORE</th>\n",
       "    </tr>\n",
       "  </thead>\n",
       "  <tbody>\n",
       "    <tr>\n",
       "      <th>Decision Tree</th>\n",
       "      <td>0.853211</td>\n",
       "      <td>0.927992</td>\n",
       "    </tr>\n",
       "    <tr>\n",
       "      <th>Logistic Regression</th>\n",
       "      <td>0.853211</td>\n",
       "      <td>0.898580</td>\n",
       "    </tr>\n",
       "    <tr>\n",
       "      <th>Random Forest</th>\n",
       "      <td>0.844037</td>\n",
       "      <td>0.944219</td>\n",
       "    </tr>\n",
       "    <tr>\n",
       "      <th>SVM</th>\n",
       "      <td>0.816514</td>\n",
       "      <td>0.890467</td>\n",
       "    </tr>\n",
       "  </tbody>\n",
       "</table>\n",
       "</div>"
      ],
      "text/plain": [
       "Algorithm            Accuracy Score  AUC SCORE\n",
       "Decision Tree              0.853211   0.927992\n",
       "Logistic Regression        0.853211   0.898580\n",
       "Random Forest              0.844037   0.944219\n",
       "SVM                        0.816514   0.890467"
      ]
     },
     "execution_count": 89,
     "metadata": {},
     "output_type": "execute_result"
    }
   ],
   "source": [
    "accuracyScore = [DT_accuracy, LR_accuracy, RF_accuracy, SVC_accuracy]\n",
    "aucScore = [DT_auc, LR_auc, RF_auc, SVC_auc]\n",
    "\n",
    "accuracyReport = pd.DataFrame(accuracyScore, index=['Decision Tree','Logistic Regression','Random Forest','SVM'])\n",
    "accuracyReport.columns = ['Accuracy Score']\n",
    "accuracyReport.insert(loc=1, column='AUC SCORE',value=aucScore)\n",
    "accuracyReport.columns.name = 'Algorithm'\n",
    "accuracyReport"
   ]
  },
  {
   "cell_type": "markdown",
   "metadata": {},
   "source": [
    "The accuracy report shows the performance of each algorithm on test data"
   ]
  },
  {
   "cell_type": "markdown",
   "metadata": {},
   "source": [
    "## Saving the winning model"
   ]
  },
  {
   "cell_type": "code",
   "execution_count": 90,
   "metadata": {},
   "outputs": [],
   "source": [
    "import joblib"
   ]
  },
  {
   "cell_type": "code",
   "execution_count": 91,
   "metadata": {},
   "outputs": [
    {
     "name": "stderr",
     "output_type": "stream",
     "text": [
      "D:\\anaconda3\\lib\\site-packages\\ipykernel_launcher.py:2: DataConversionWarning: A column-vector y was passed when a 1d array was expected. Please change the shape of y to (n_samples,), for example using ravel().\n",
      "  \n"
     ]
    }
   ],
   "source": [
    "win_model = RFmodel\n",
    "win_model.fit(X_train, y_train)\n",
    "with open('HeartDisease.pkl', 'wb') as pickle_file:\n",
    "      joblib.dump(win_model, 'HeartDisease.pkl')"
   ]
  }
 ],
 "metadata": {
  "kernelspec": {
   "display_name": "Python 3",
   "language": "python",
   "name": "python3"
  },
  "language_info": {
   "codemirror_mode": {
    "name": "ipython",
    "version": 3
   },
   "file_extension": ".py",
   "mimetype": "text/x-python",
   "name": "python",
   "nbconvert_exporter": "python",
   "pygments_lexer": "ipython3",
   "version": "3.7.6"
  }
 },
 "nbformat": 4,
 "nbformat_minor": 4
}
